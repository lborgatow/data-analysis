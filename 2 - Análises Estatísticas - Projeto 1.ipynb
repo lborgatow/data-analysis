{
  "cells": [
    {
      "cell_type": "markdown",
      "metadata": {
        "id": "9hTRUNYVtAyr"
      },
      "source": [
        "# **PROJETO ANÁLISE DOS DADOS DO COVID 19 NO ESTADO DE SÃO PAULO**\n",
        "\n",
        "Este projeto analisa os dados dos casos de COVID-19 no estado de São Paulo do período de fevereiro de 2020 a setembro de 2021."
      ]
    },
    {
      "cell_type": "markdown",
      "metadata": {
        "id": "Z6mVbjsitGrr"
      },
      "source": [
        "# **Importação dos Dados**"
      ]
    },
    {
      "cell_type": "code",
      "execution_count": 1,
      "metadata": {},
      "outputs": [],
      "source": [
        "import numpy as np\n",
        "import pandas as pd"
      ]
    },
    {
      "cell_type": "code",
      "execution_count": 2,
      "metadata": {
        "id": "H6OBjF-2ULM-"
      },
      "outputs": [],
      "source": [
        "pd.options.mode.chained_assignment = None  # default='warn'\n",
        "\n",
        "path = './dados/covid_sp_tratado.csv'\n",
        "covid = pd.read_csv(path, sep=';', encoding='utf-8')"
      ]
    },
    {
      "cell_type": "code",
      "execution_count": 3,
      "metadata": {
        "id": "n2hMBF3YUjUl"
      },
      "outputs": [
        {
          "data": {
            "text/html": [
              "<div>\n",
              "<style scoped>\n",
              "    .dataframe tbody tr th:only-of-type {\n",
              "        vertical-align: middle;\n",
              "    }\n",
              "\n",
              "    .dataframe tbody tr th {\n",
              "        vertical-align: top;\n",
              "    }\n",
              "\n",
              "    .dataframe thead th {\n",
              "        text-align: right;\n",
              "    }\n",
              "</style>\n",
              "<table border=\"1\" class=\"dataframe\">\n",
              "  <thead>\n",
              "    <tr style=\"text-align: right;\">\n",
              "      <th></th>\n",
              "      <th>indice</th>\n",
              "      <th>municipio</th>\n",
              "      <th>dia</th>\n",
              "      <th>mes</th>\n",
              "      <th>data</th>\n",
              "      <th>casos</th>\n",
              "      <th>casos_novos</th>\n",
              "      <th>casos_pc</th>\n",
              "      <th>casos_mm7d</th>\n",
              "      <th>obitos</th>\n",
              "      <th>obitos_novos</th>\n",
              "      <th>obitos_pc</th>\n",
              "      <th>obitos_mm7d</th>\n",
              "      <th>letalidade</th>\n",
              "      <th>pop</th>\n",
              "      <th>pop_60</th>\n",
              "      <th>area</th>\n",
              "      <th>semana_epidem</th>\n",
              "      <th>densidade</th>\n",
              "    </tr>\n",
              "  </thead>\n",
              "  <tbody>\n",
              "    <tr>\n",
              "      <th>0</th>\n",
              "      <td>1</td>\n",
              "      <td>Adamantina</td>\n",
              "      <td>25</td>\n",
              "      <td>2</td>\n",
              "      <td>2020-02-25</td>\n",
              "      <td>0</td>\n",
              "      <td>0</td>\n",
              "      <td>0.0</td>\n",
              "      <td>0.0</td>\n",
              "      <td>0</td>\n",
              "      <td>0</td>\n",
              "      <td>0.0</td>\n",
              "      <td>0.0</td>\n",
              "      <td>0.0</td>\n",
              "      <td>33894</td>\n",
              "      <td>7398</td>\n",
              "      <td>411.99</td>\n",
              "      <td>9</td>\n",
              "      <td>82.268987</td>\n",
              "    </tr>\n",
              "    <tr>\n",
              "      <th>1</th>\n",
              "      <td>2</td>\n",
              "      <td>Adolfo</td>\n",
              "      <td>25</td>\n",
              "      <td>2</td>\n",
              "      <td>2020-02-25</td>\n",
              "      <td>0</td>\n",
              "      <td>0</td>\n",
              "      <td>0.0</td>\n",
              "      <td>0.0</td>\n",
              "      <td>0</td>\n",
              "      <td>0</td>\n",
              "      <td>0.0</td>\n",
              "      <td>0.0</td>\n",
              "      <td>0.0</td>\n",
              "      <td>3447</td>\n",
              "      <td>761</td>\n",
              "      <td>211.06</td>\n",
              "      <td>9</td>\n",
              "      <td>16.331849</td>\n",
              "    </tr>\n",
              "    <tr>\n",
              "      <th>2</th>\n",
              "      <td>3</td>\n",
              "      <td>Aguaí</td>\n",
              "      <td>25</td>\n",
              "      <td>2</td>\n",
              "      <td>2020-02-25</td>\n",
              "      <td>0</td>\n",
              "      <td>0</td>\n",
              "      <td>0.0</td>\n",
              "      <td>0.0</td>\n",
              "      <td>0</td>\n",
              "      <td>0</td>\n",
              "      <td>0.0</td>\n",
              "      <td>0.0</td>\n",
              "      <td>0.0</td>\n",
              "      <td>35608</td>\n",
              "      <td>5245</td>\n",
              "      <td>474.55</td>\n",
              "      <td>9</td>\n",
              "      <td>75.035297</td>\n",
              "    </tr>\n",
              "    <tr>\n",
              "      <th>3</th>\n",
              "      <td>4</td>\n",
              "      <td>Águas da Prata</td>\n",
              "      <td>25</td>\n",
              "      <td>2</td>\n",
              "      <td>2020-02-25</td>\n",
              "      <td>0</td>\n",
              "      <td>0</td>\n",
              "      <td>0.0</td>\n",
              "      <td>0.0</td>\n",
              "      <td>0</td>\n",
              "      <td>0</td>\n",
              "      <td>0.0</td>\n",
              "      <td>0.0</td>\n",
              "      <td>0.0</td>\n",
              "      <td>7797</td>\n",
              "      <td>1729</td>\n",
              "      <td>142.67</td>\n",
              "      <td>9</td>\n",
              "      <td>54.650592</td>\n",
              "    </tr>\n",
              "    <tr>\n",
              "      <th>4</th>\n",
              "      <td>5</td>\n",
              "      <td>Águas de Lindóia</td>\n",
              "      <td>25</td>\n",
              "      <td>2</td>\n",
              "      <td>2020-02-25</td>\n",
              "      <td>0</td>\n",
              "      <td>0</td>\n",
              "      <td>0.0</td>\n",
              "      <td>0.0</td>\n",
              "      <td>0</td>\n",
              "      <td>0</td>\n",
              "      <td>0.0</td>\n",
              "      <td>0.0</td>\n",
              "      <td>0.0</td>\n",
              "      <td>18374</td>\n",
              "      <td>3275</td>\n",
              "      <td>60.13</td>\n",
              "      <td>9</td>\n",
              "      <td>305.571262</td>\n",
              "    </tr>\n",
              "  </tbody>\n",
              "</table>\n",
              "</div>"
            ],
            "text/plain": [
              "   indice         municipio  dia  mes        data  casos  casos_novos  \\\n",
              "0       1        Adamantina   25    2  2020-02-25      0            0   \n",
              "1       2            Adolfo   25    2  2020-02-25      0            0   \n",
              "2       3             Aguaí   25    2  2020-02-25      0            0   \n",
              "3       4    Águas da Prata   25    2  2020-02-25      0            0   \n",
              "4       5  Águas de Lindóia   25    2  2020-02-25      0            0   \n",
              "\n",
              "   casos_pc  casos_mm7d  obitos  obitos_novos  obitos_pc  obitos_mm7d  \\\n",
              "0       0.0         0.0       0             0        0.0          0.0   \n",
              "1       0.0         0.0       0             0        0.0          0.0   \n",
              "2       0.0         0.0       0             0        0.0          0.0   \n",
              "3       0.0         0.0       0             0        0.0          0.0   \n",
              "4       0.0         0.0       0             0        0.0          0.0   \n",
              "\n",
              "   letalidade    pop  pop_60    area  semana_epidem   densidade  \n",
              "0         0.0  33894    7398  411.99              9   82.268987  \n",
              "1         0.0   3447     761  211.06              9   16.331849  \n",
              "2         0.0  35608    5245  474.55              9   75.035297  \n",
              "3         0.0   7797    1729  142.67              9   54.650592  \n",
              "4         0.0  18374    3275   60.13              9  305.571262  "
            ]
          },
          "execution_count": 3,
          "metadata": {},
          "output_type": "execute_result"
        }
      ],
      "source": [
        "covid.head()"
      ]
    },
    {
      "cell_type": "code",
      "execution_count": 4,
      "metadata": {
        "id": "6NAXcJT9UpLs"
      },
      "outputs": [
        {
          "data": {
            "text/plain": [
              "(373455, 19)"
            ]
          },
          "execution_count": 4,
          "metadata": {},
          "output_type": "execute_result"
        }
      ],
      "source": [
        "covid.shape"
      ]
    },
    {
      "cell_type": "code",
      "execution_count": 5,
      "metadata": {
        "id": "WO5g4uk4Uvy9"
      },
      "outputs": [
        {
          "data": {
            "text/plain": [
              "indice             int64\n",
              "municipio         object\n",
              "dia                int64\n",
              "mes                int64\n",
              "data              object\n",
              "casos              int64\n",
              "casos_novos        int64\n",
              "casos_pc         float64\n",
              "casos_mm7d       float64\n",
              "obitos             int64\n",
              "obitos_novos       int64\n",
              "obitos_pc        float64\n",
              "obitos_mm7d      float64\n",
              "letalidade       float64\n",
              "pop                int64\n",
              "pop_60             int64\n",
              "area             float64\n",
              "semana_epidem      int64\n",
              "densidade        float64\n",
              "dtype: object"
            ]
          },
          "execution_count": 5,
          "metadata": {},
          "output_type": "execute_result"
        }
      ],
      "source": [
        "# Análise dos atributos\n",
        "\n",
        "covid.dtypes"
      ]
    },
    {
      "cell_type": "markdown",
      "metadata": {
        "id": "O5aAWE2_VH77"
      },
      "source": [
        "# **Filtrando duas cidades: São José do Rio Preto e Guarulhos**"
      ]
    },
    {
      "cell_type": "code",
      "execution_count": 6,
      "metadata": {
        "id": "K7OSaslPVTjj"
      },
      "outputs": [],
      "source": [
        "covid_sjrp = covid.loc[covid.municipio == 'São José do Rio Preto']\n",
        "covid_guarulhos = covid.loc[covid.municipio == 'Guarulhos']"
      ]
    },
    {
      "cell_type": "code",
      "execution_count": 7,
      "metadata": {
        "id": "jM6vEEZ0Vui0"
      },
      "outputs": [],
      "source": [
        "# Criação de uma coluna com a porcentagem de idosos\n",
        "\n",
        "covid_sjrp['porcentagem_idosos'] = 100 * covid_sjrp['pop_60'] / covid_sjrp['pop']\n",
        "covid_guarulhos['porcentagem_idosos'] = 100 * covid_guarulhos['pop_60'] / covid_guarulhos['pop']"
      ]
    },
    {
      "cell_type": "code",
      "execution_count": 8,
      "metadata": {
        "id": "Xmjbge6lWWhy"
      },
      "outputs": [
        {
          "data": {
            "text/html": [
              "<div>\n",
              "<style scoped>\n",
              "    .dataframe tbody tr th:only-of-type {\n",
              "        vertical-align: middle;\n",
              "    }\n",
              "\n",
              "    .dataframe tbody tr th {\n",
              "        vertical-align: top;\n",
              "    }\n",
              "\n",
              "    .dataframe thead th {\n",
              "        text-align: right;\n",
              "    }\n",
              "</style>\n",
              "<table border=\"1\" class=\"dataframe\">\n",
              "  <thead>\n",
              "    <tr style=\"text-align: right;\">\n",
              "      <th></th>\n",
              "      <th>indice</th>\n",
              "      <th>municipio</th>\n",
              "      <th>dia</th>\n",
              "      <th>mes</th>\n",
              "      <th>data</th>\n",
              "      <th>casos</th>\n",
              "      <th>casos_novos</th>\n",
              "      <th>casos_pc</th>\n",
              "      <th>casos_mm7d</th>\n",
              "      <th>obitos</th>\n",
              "      <th>obitos_novos</th>\n",
              "      <th>obitos_pc</th>\n",
              "      <th>obitos_mm7d</th>\n",
              "      <th>letalidade</th>\n",
              "      <th>pop</th>\n",
              "      <th>pop_60</th>\n",
              "      <th>area</th>\n",
              "      <th>semana_epidem</th>\n",
              "      <th>densidade</th>\n",
              "      <th>porcentagem_idosos</th>\n",
              "    </tr>\n",
              "  </thead>\n",
              "  <tbody>\n",
              "    <tr>\n",
              "      <th>556</th>\n",
              "      <td>557</td>\n",
              "      <td>São José do Rio Preto</td>\n",
              "      <td>25</td>\n",
              "      <td>2</td>\n",
              "      <td>2020-02-25</td>\n",
              "      <td>0</td>\n",
              "      <td>0</td>\n",
              "      <td>0.0</td>\n",
              "      <td>0.0</td>\n",
              "      <td>0</td>\n",
              "      <td>0</td>\n",
              "      <td>0.0</td>\n",
              "      <td>0.0</td>\n",
              "      <td>0.0</td>\n",
              "      <td>447924</td>\n",
              "      <td>79391</td>\n",
              "      <td>431.94</td>\n",
              "      <td>9</td>\n",
              "      <td>1037.00514</td>\n",
              "      <td>17.724212</td>\n",
              "    </tr>\n",
              "    <tr>\n",
              "      <th>1201</th>\n",
              "      <td>1202</td>\n",
              "      <td>São José do Rio Preto</td>\n",
              "      <td>26</td>\n",
              "      <td>2</td>\n",
              "      <td>2020-02-26</td>\n",
              "      <td>0</td>\n",
              "      <td>0</td>\n",
              "      <td>0.0</td>\n",
              "      <td>0.0</td>\n",
              "      <td>0</td>\n",
              "      <td>0</td>\n",
              "      <td>0.0</td>\n",
              "      <td>0.0</td>\n",
              "      <td>0.0</td>\n",
              "      <td>447924</td>\n",
              "      <td>79391</td>\n",
              "      <td>431.94</td>\n",
              "      <td>9</td>\n",
              "      <td>1037.00514</td>\n",
              "      <td>17.724212</td>\n",
              "    </tr>\n",
              "    <tr>\n",
              "      <th>1846</th>\n",
              "      <td>1847</td>\n",
              "      <td>São José do Rio Preto</td>\n",
              "      <td>27</td>\n",
              "      <td>2</td>\n",
              "      <td>2020-02-27</td>\n",
              "      <td>0</td>\n",
              "      <td>0</td>\n",
              "      <td>0.0</td>\n",
              "      <td>0.0</td>\n",
              "      <td>0</td>\n",
              "      <td>0</td>\n",
              "      <td>0.0</td>\n",
              "      <td>0.0</td>\n",
              "      <td>0.0</td>\n",
              "      <td>447924</td>\n",
              "      <td>79391</td>\n",
              "      <td>431.94</td>\n",
              "      <td>9</td>\n",
              "      <td>1037.00514</td>\n",
              "      <td>17.724212</td>\n",
              "    </tr>\n",
              "  </tbody>\n",
              "</table>\n",
              "</div>"
            ],
            "text/plain": [
              "      indice              municipio  dia  mes        data  casos  casos_novos  \\\n",
              "556      557  São José do Rio Preto   25    2  2020-02-25      0            0   \n",
              "1201    1202  São José do Rio Preto   26    2  2020-02-26      0            0   \n",
              "1846    1847  São José do Rio Preto   27    2  2020-02-27      0            0   \n",
              "\n",
              "      casos_pc  casos_mm7d  obitos  obitos_novos  obitos_pc  obitos_mm7d  \\\n",
              "556        0.0         0.0       0             0        0.0          0.0   \n",
              "1201       0.0         0.0       0             0        0.0          0.0   \n",
              "1846       0.0         0.0       0             0        0.0          0.0   \n",
              "\n",
              "      letalidade     pop  pop_60    area  semana_epidem   densidade  \\\n",
              "556          0.0  447924   79391  431.94              9  1037.00514   \n",
              "1201         0.0  447924   79391  431.94              9  1037.00514   \n",
              "1846         0.0  447924   79391  431.94              9  1037.00514   \n",
              "\n",
              "      porcentagem_idosos  \n",
              "556            17.724212  \n",
              "1201           17.724212  \n",
              "1846           17.724212  "
            ]
          },
          "execution_count": 8,
          "metadata": {},
          "output_type": "execute_result"
        }
      ],
      "source": [
        "covid_sjrp.head(3)"
      ]
    },
    {
      "cell_type": "code",
      "execution_count": 9,
      "metadata": {
        "id": "S7ZxSt37WZG5"
      },
      "outputs": [
        {
          "data": {
            "text/html": [
              "<div>\n",
              "<style scoped>\n",
              "    .dataframe tbody tr th:only-of-type {\n",
              "        vertical-align: middle;\n",
              "    }\n",
              "\n",
              "    .dataframe tbody tr th {\n",
              "        vertical-align: top;\n",
              "    }\n",
              "\n",
              "    .dataframe thead th {\n",
              "        text-align: right;\n",
              "    }\n",
              "</style>\n",
              "<table border=\"1\" class=\"dataframe\">\n",
              "  <thead>\n",
              "    <tr style=\"text-align: right;\">\n",
              "      <th></th>\n",
              "      <th>indice</th>\n",
              "      <th>municipio</th>\n",
              "      <th>dia</th>\n",
              "      <th>mes</th>\n",
              "      <th>data</th>\n",
              "      <th>casos</th>\n",
              "      <th>casos_novos</th>\n",
              "      <th>casos_pc</th>\n",
              "      <th>casos_mm7d</th>\n",
              "      <th>obitos</th>\n",
              "      <th>obitos_novos</th>\n",
              "      <th>obitos_pc</th>\n",
              "      <th>obitos_mm7d</th>\n",
              "      <th>letalidade</th>\n",
              "      <th>pop</th>\n",
              "      <th>pop_60</th>\n",
              "      <th>area</th>\n",
              "      <th>semana_epidem</th>\n",
              "      <th>densidade</th>\n",
              "      <th>porcentagem_idosos</th>\n",
              "    </tr>\n",
              "  </thead>\n",
              "  <tbody>\n",
              "    <tr>\n",
              "      <th>212</th>\n",
              "      <td>213</td>\n",
              "      <td>Guarulhos</td>\n",
              "      <td>25</td>\n",
              "      <td>2</td>\n",
              "      <td>2020-02-25</td>\n",
              "      <td>0</td>\n",
              "      <td>0</td>\n",
              "      <td>0.0</td>\n",
              "      <td>0.0</td>\n",
              "      <td>0</td>\n",
              "      <td>0</td>\n",
              "      <td>0.0</td>\n",
              "      <td>0.0</td>\n",
              "      <td>0.0</td>\n",
              "      <td>1351275</td>\n",
              "      <td>162662</td>\n",
              "      <td>318.68</td>\n",
              "      <td>9</td>\n",
              "      <td>4240.225304</td>\n",
              "      <td>12.037668</td>\n",
              "    </tr>\n",
              "    <tr>\n",
              "      <th>857</th>\n",
              "      <td>858</td>\n",
              "      <td>Guarulhos</td>\n",
              "      <td>26</td>\n",
              "      <td>2</td>\n",
              "      <td>2020-02-26</td>\n",
              "      <td>0</td>\n",
              "      <td>0</td>\n",
              "      <td>0.0</td>\n",
              "      <td>0.0</td>\n",
              "      <td>0</td>\n",
              "      <td>0</td>\n",
              "      <td>0.0</td>\n",
              "      <td>0.0</td>\n",
              "      <td>0.0</td>\n",
              "      <td>1351275</td>\n",
              "      <td>162662</td>\n",
              "      <td>318.68</td>\n",
              "      <td>9</td>\n",
              "      <td>4240.225304</td>\n",
              "      <td>12.037668</td>\n",
              "    </tr>\n",
              "    <tr>\n",
              "      <th>1502</th>\n",
              "      <td>1503</td>\n",
              "      <td>Guarulhos</td>\n",
              "      <td>27</td>\n",
              "      <td>2</td>\n",
              "      <td>2020-02-27</td>\n",
              "      <td>0</td>\n",
              "      <td>0</td>\n",
              "      <td>0.0</td>\n",
              "      <td>0.0</td>\n",
              "      <td>0</td>\n",
              "      <td>0</td>\n",
              "      <td>0.0</td>\n",
              "      <td>0.0</td>\n",
              "      <td>0.0</td>\n",
              "      <td>1351275</td>\n",
              "      <td>162662</td>\n",
              "      <td>318.68</td>\n",
              "      <td>9</td>\n",
              "      <td>4240.225304</td>\n",
              "      <td>12.037668</td>\n",
              "    </tr>\n",
              "  </tbody>\n",
              "</table>\n",
              "</div>"
            ],
            "text/plain": [
              "      indice  municipio  dia  mes        data  casos  casos_novos  casos_pc  \\\n",
              "212      213  Guarulhos   25    2  2020-02-25      0            0       0.0   \n",
              "857      858  Guarulhos   26    2  2020-02-26      0            0       0.0   \n",
              "1502    1503  Guarulhos   27    2  2020-02-27      0            0       0.0   \n",
              "\n",
              "      casos_mm7d  obitos  obitos_novos  obitos_pc  obitos_mm7d  letalidade  \\\n",
              "212          0.0       0             0        0.0          0.0         0.0   \n",
              "857          0.0       0             0        0.0          0.0         0.0   \n",
              "1502         0.0       0             0        0.0          0.0         0.0   \n",
              "\n",
              "          pop  pop_60    area  semana_epidem    densidade  porcentagem_idosos  \n",
              "212   1351275  162662  318.68              9  4240.225304           12.037668  \n",
              "857   1351275  162662  318.68              9  4240.225304           12.037668  \n",
              "1502  1351275  162662  318.68              9  4240.225304           12.037668  "
            ]
          },
          "execution_count": 9,
          "metadata": {},
          "output_type": "execute_result"
        }
      ],
      "source": [
        "covid_guarulhos.head(3)"
      ]
    },
    {
      "cell_type": "code",
      "execution_count": 10,
      "metadata": {
        "id": "VrDK4AGKWuIR"
      },
      "outputs": [
        {
          "data": {
            "text/plain": [
              "(579, 20)"
            ]
          },
          "execution_count": 10,
          "metadata": {},
          "output_type": "execute_result"
        }
      ],
      "source": [
        "covid_sjrp.shape"
      ]
    },
    {
      "cell_type": "code",
      "execution_count": 11,
      "metadata": {
        "id": "-p-TndmPW17A"
      },
      "outputs": [
        {
          "data": {
            "text/plain": [
              "(579, 20)"
            ]
          },
          "execution_count": 11,
          "metadata": {},
          "output_type": "execute_result"
        }
      ],
      "source": [
        "covid_guarulhos.shape"
      ]
    },
    {
      "cell_type": "markdown",
      "metadata": {
        "id": "K9xx4KN9AxbN"
      },
      "source": [
        "# **Medidas de Centralidade**"
      ]
    },
    {
      "cell_type": "markdown",
      "metadata": {
        "id": "xDyYzvIeC09f"
      },
      "source": [
        "## **Média**"
      ]
    },
    {
      "cell_type": "markdown",
      "metadata": {
        "id": "FC3g_srKA5qU"
      },
      "source": [
        "### **São José do Rio Preto**"
      ]
    },
    {
      "cell_type": "code",
      "execution_count": 12,
      "metadata": {
        "id": "idsKR-WaA4Ut"
      },
      "outputs": [
        {
          "data": {
            "text/plain": [
              "4.8117443868739205"
            ]
          },
          "execution_count": 12,
          "metadata": {},
          "output_type": "execute_result"
        }
      ],
      "source": [
        "# Calcula a MÉDIA dos valores da coluna desejada:\n",
        "# nome_tabela['nome_coluna'].mean()\n",
        "\n",
        "covid_sjrp['obitos_novos'].mean()"
      ]
    },
    {
      "cell_type": "code",
      "execution_count": 13,
      "metadata": {
        "id": "TcmZkK-xBbws"
      },
      "outputs": [
        {
          "data": {
            "text/plain": [
              "164.03454231433506"
            ]
          },
          "execution_count": 13,
          "metadata": {},
          "output_type": "execute_result"
        }
      ],
      "source": [
        "# Outra maneira:\n",
        "# nome_tabela.nome_coluna.mean()\n",
        "\n",
        "covid_sjrp.casos_novos.mean()"
      ]
    },
    {
      "cell_type": "markdown",
      "metadata": {
        "id": "K3HkC-VwBq0q"
      },
      "source": [
        "### **Guarulhos**"
      ]
    },
    {
      "cell_type": "code",
      "execution_count": 14,
      "metadata": {
        "id": "drIAE3LmBuu0"
      },
      "outputs": [
        {
          "data": {
            "text/plain": [
              "8.404"
            ]
          },
          "execution_count": 14,
          "metadata": {},
          "output_type": "execute_result"
        }
      ],
      "source": [
        "# Ver apenas a quantidade de casas decimais desejadas:\n",
        "# round(..., num_casas_decimais)\n",
        "\n",
        "round(covid_guarulhos['obitos_novos'].mean(), 3)"
      ]
    },
    {
      "cell_type": "code",
      "execution_count": 15,
      "metadata": {
        "id": "RNYWKywAB3_s"
      },
      "outputs": [
        {
          "data": {
            "text/plain": [
              "109.496"
            ]
          },
          "execution_count": 15,
          "metadata": {},
          "output_type": "execute_result"
        }
      ],
      "source": [
        "round(covid_guarulhos.casos_novos.mean(), 3)"
      ]
    },
    {
      "cell_type": "markdown",
      "metadata": {
        "id": "dXNU6X1rC5-H"
      },
      "source": [
        "## **Mediana**"
      ]
    },
    {
      "cell_type": "markdown",
      "metadata": {
        "id": "wGA8HbexC9L-"
      },
      "source": [
        "### **São José do Rio Preto**"
      ]
    },
    {
      "cell_type": "code",
      "execution_count": 16,
      "metadata": {
        "id": "hCAPu-EIC_Co"
      },
      "outputs": [
        {
          "data": {
            "text/plain": [
              "4.0"
            ]
          },
          "execution_count": 16,
          "metadata": {},
          "output_type": "execute_result"
        }
      ],
      "source": [
        "# Calcula a MEDIANA dos valores da coluna desejada:\n",
        "# nome_tabela['nome_coluna'].median()\n",
        "\n",
        "covid_sjrp['obitos_novos'].median()"
      ]
    },
    {
      "cell_type": "code",
      "execution_count": 17,
      "metadata": {
        "id": "BtzY4HZuDFBg"
      },
      "outputs": [
        {
          "data": {
            "text/plain": [
              "133.0"
            ]
          },
          "execution_count": 17,
          "metadata": {},
          "output_type": "execute_result"
        }
      ],
      "source": [
        "covid_sjrp['casos_novos'].median()"
      ]
    },
    {
      "cell_type": "markdown",
      "metadata": {
        "id": "TveM3UXHDNsX"
      },
      "source": [
        "### **Guarulhos**"
      ]
    },
    {
      "cell_type": "code",
      "execution_count": 18,
      "metadata": {
        "id": "x6mZJj1QDOu_"
      },
      "outputs": [
        {
          "data": {
            "text/plain": [
              "4.0"
            ]
          },
          "execution_count": 18,
          "metadata": {},
          "output_type": "execute_result"
        }
      ],
      "source": [
        "covid_guarulhos['obitos_novos'].median()"
      ]
    },
    {
      "cell_type": "code",
      "execution_count": 19,
      "metadata": {
        "id": "XxQiBg6_DYQP"
      },
      "outputs": [
        {
          "data": {
            "text/plain": [
              "87.0"
            ]
          },
          "execution_count": 19,
          "metadata": {},
          "output_type": "execute_result"
        }
      ],
      "source": [
        "covid_guarulhos['casos_novos'].median()"
      ]
    },
    {
      "cell_type": "markdown",
      "metadata": {
        "id": "PyUcGQtNDcro"
      },
      "source": [
        "## **Moda**"
      ]
    },
    {
      "cell_type": "code",
      "execution_count": 20,
      "metadata": {
        "id": "eWa_nLB0DiLf"
      },
      "outputs": [
        {
          "data": {
            "text/plain": [
              "0    0\n",
              "Name: obitos_novos, dtype: int64"
            ]
          },
          "execution_count": 20,
          "metadata": {},
          "output_type": "execute_result"
        }
      ],
      "source": [
        "# Calcula a MODA dos valores da coluna desejada:\n",
        "# nome_tabela['nome_coluna'].mode()\n",
        "\n",
        "covid_sjrp['obitos_novos'].mode()"
      ]
    },
    {
      "cell_type": "code",
      "execution_count": 21,
      "metadata": {
        "id": "uI8peMYKD1K-"
      },
      "outputs": [
        {
          "data": {
            "text/plain": [
              "0    25\n",
              "Name: dia, dtype: int64"
            ]
          },
          "execution_count": 21,
          "metadata": {},
          "output_type": "execute_result"
        }
      ],
      "source": [
        "covid_sjrp['dia'].mode()  # Dia 25 aparecerá mais pois é onde começa a análise no mês de fevereiro"
      ]
    },
    {
      "cell_type": "code",
      "execution_count": 22,
      "metadata": {
        "id": "ZJFZVESgD6m9"
      },
      "outputs": [
        {
          "data": {
            "text/plain": [
              "0    25\n",
              "Name: dia, dtype: int64"
            ]
          },
          "execution_count": 22,
          "metadata": {},
          "output_type": "execute_result"
        }
      ],
      "source": [
        "covid_guarulhos['dia'].mode()"
      ]
    },
    {
      "cell_type": "code",
      "execution_count": 23,
      "metadata": {
        "id": "QkMST6FlELQW"
      },
      "outputs": [
        {
          "data": {
            "text/plain": [
              "0    3\n",
              "1    5\n",
              "2    7\n",
              "3    8\n",
              "Name: mes, dtype: int64"
            ]
          },
          "execution_count": 23,
          "metadata": {},
          "output_type": "execute_result"
        }
      ],
      "source": [
        "covid_guarulhos.mes.mode()  # Meses com mais dias vão aparecer mais"
      ]
    },
    {
      "cell_type": "markdown",
      "metadata": {
        "id": "lsus1cF-EraW"
      },
      "source": [
        "# **Descrição Geral**"
      ]
    },
    {
      "cell_type": "code",
      "execution_count": 24,
      "metadata": {
        "id": "nJxTK-hUEvoE"
      },
      "outputs": [
        {
          "data": {
            "text/html": [
              "<div>\n",
              "<style scoped>\n",
              "    .dataframe tbody tr th:only-of-type {\n",
              "        vertical-align: middle;\n",
              "    }\n",
              "\n",
              "    .dataframe tbody tr th {\n",
              "        vertical-align: top;\n",
              "    }\n",
              "\n",
              "    .dataframe thead th {\n",
              "        text-align: right;\n",
              "    }\n",
              "</style>\n",
              "<table border=\"1\" class=\"dataframe\">\n",
              "  <thead>\n",
              "    <tr style=\"text-align: right;\">\n",
              "      <th></th>\n",
              "      <th>indice</th>\n",
              "      <th>dia</th>\n",
              "      <th>mes</th>\n",
              "      <th>casos</th>\n",
              "      <th>casos_novos</th>\n",
              "      <th>casos_pc</th>\n",
              "      <th>casos_mm7d</th>\n",
              "      <th>obitos</th>\n",
              "      <th>obitos_novos</th>\n",
              "      <th>obitos_pc</th>\n",
              "      <th>obitos_mm7d</th>\n",
              "      <th>letalidade</th>\n",
              "      <th>pop</th>\n",
              "      <th>pop_60</th>\n",
              "      <th>area</th>\n",
              "      <th>semana_epidem</th>\n",
              "      <th>densidade</th>\n",
              "      <th>porcentagem_idosos</th>\n",
              "    </tr>\n",
              "  </thead>\n",
              "  <tbody>\n",
              "    <tr>\n",
              "      <th>count</th>\n",
              "      <td>579.000000</td>\n",
              "      <td>579.000000</td>\n",
              "      <td>579.000000</td>\n",
              "      <td>579.000000</td>\n",
              "      <td>579.000000</td>\n",
              "      <td>579.000000</td>\n",
              "      <td>579.000000</td>\n",
              "      <td>579.000000</td>\n",
              "      <td>579.000000</td>\n",
              "      <td>579.000000</td>\n",
              "      <td>579.000000</td>\n",
              "      <td>579.000000</td>\n",
              "      <td>579.0</td>\n",
              "      <td>579.0</td>\n",
              "      <td>579.00</td>\n",
              "      <td>579.000000</td>\n",
              "      <td>579.00000</td>\n",
              "      <td>5.790000e+02</td>\n",
              "    </tr>\n",
              "    <tr>\n",
              "      <th>mean</th>\n",
              "      <td>186962.000000</td>\n",
              "      <td>15.737478</td>\n",
              "      <td>6.269430</td>\n",
              "      <td>38511.975820</td>\n",
              "      <td>164.034542</td>\n",
              "      <td>8597.881743</td>\n",
              "      <td>163.790279</td>\n",
              "      <td>1073.687392</td>\n",
              "      <td>4.811744</td>\n",
              "      <td>239.703028</td>\n",
              "      <td>4.800395</td>\n",
              "      <td>0.028114</td>\n",
              "      <td>447924.0</td>\n",
              "      <td>79391.0</td>\n",
              "      <td>431.94</td>\n",
              "      <td>25.792746</td>\n",
              "      <td>1037.00514</td>\n",
              "      <td>1.772421e+01</td>\n",
              "    </tr>\n",
              "    <tr>\n",
              "      <th>std</th>\n",
              "      <td>107900.229958</td>\n",
              "      <td>8.803909</td>\n",
              "      <td>3.024688</td>\n",
              "      <td>32311.125124</td>\n",
              "      <td>155.344150</td>\n",
              "      <td>7213.528439</td>\n",
              "      <td>111.510643</td>\n",
              "      <td>950.678612</td>\n",
              "      <td>4.906475</td>\n",
              "      <td>212.241053</td>\n",
              "      <td>4.169069</td>\n",
              "      <td>0.014622</td>\n",
              "      <td>0.0</td>\n",
              "      <td>0.0</td>\n",
              "      <td>0.00</td>\n",
              "      <td>13.389761</td>\n",
              "      <td>0.00000</td>\n",
              "      <td>3.555786e-15</td>\n",
              "    </tr>\n",
              "    <tr>\n",
              "      <th>min</th>\n",
              "      <td>557.000000</td>\n",
              "      <td>1.000000</td>\n",
              "      <td>1.000000</td>\n",
              "      <td>0.000000</td>\n",
              "      <td>0.000000</td>\n",
              "      <td>0.000000</td>\n",
              "      <td>0.000000</td>\n",
              "      <td>0.000000</td>\n",
              "      <td>0.000000</td>\n",
              "      <td>0.000000</td>\n",
              "      <td>0.000000</td>\n",
              "      <td>0.000000</td>\n",
              "      <td>447924.0</td>\n",
              "      <td>79391.0</td>\n",
              "      <td>431.94</td>\n",
              "      <td>1.000000</td>\n",
              "      <td>1037.00514</td>\n",
              "      <td>1.772421e+01</td>\n",
              "    </tr>\n",
              "    <tr>\n",
              "      <th>25%</th>\n",
              "      <td>93759.500000</td>\n",
              "      <td>8.000000</td>\n",
              "      <td>4.000000</td>\n",
              "      <td>5632.500000</td>\n",
              "      <td>34.000000</td>\n",
              "      <td>1257.467785</td>\n",
              "      <td>72.285714</td>\n",
              "      <td>166.500000</td>\n",
              "      <td>1.000000</td>\n",
              "      <td>37.171484</td>\n",
              "      <td>1.857143</td>\n",
              "      <td>0.025013</td>\n",
              "      <td>447924.0</td>\n",
              "      <td>79391.0</td>\n",
              "      <td>431.94</td>\n",
              "      <td>15.000000</td>\n",
              "      <td>1037.00514</td>\n",
              "      <td>1.772421e+01</td>\n",
              "    </tr>\n",
              "    <tr>\n",
              "      <th>50%</th>\n",
              "      <td>186962.000000</td>\n",
              "      <td>16.000000</td>\n",
              "      <td>6.000000</td>\n",
              "      <td>32475.000000</td>\n",
              "      <td>133.000000</td>\n",
              "      <td>7250.113859</td>\n",
              "      <td>173.428571</td>\n",
              "      <td>837.000000</td>\n",
              "      <td>4.000000</td>\n",
              "      <td>186.862057</td>\n",
              "      <td>3.857143</td>\n",
              "      <td>0.027486</td>\n",
              "      <td>447924.0</td>\n",
              "      <td>79391.0</td>\n",
              "      <td>431.94</td>\n",
              "      <td>25.000000</td>\n",
              "      <td>1037.00514</td>\n",
              "      <td>1.772421e+01</td>\n",
              "    </tr>\n",
              "    <tr>\n",
              "      <th>75%</th>\n",
              "      <td>280164.500000</td>\n",
              "      <td>23.000000</td>\n",
              "      <td>9.000000</td>\n",
              "      <td>65875.000000</td>\n",
              "      <td>243.500000</td>\n",
              "      <td>14706.735964</td>\n",
              "      <td>233.500000</td>\n",
              "      <td>1940.000000</td>\n",
              "      <td>7.000000</td>\n",
              "      <td>433.109188</td>\n",
              "      <td>6.714286</td>\n",
              "      <td>0.029538</td>\n",
              "      <td>447924.0</td>\n",
              "      <td>79391.0</td>\n",
              "      <td>431.94</td>\n",
              "      <td>36.000000</td>\n",
              "      <td>1037.00514</td>\n",
              "      <td>1.772421e+01</td>\n",
              "    </tr>\n",
              "    <tr>\n",
              "      <th>max</th>\n",
              "      <td>373367.000000</td>\n",
              "      <td>31.000000</td>\n",
              "      <td>12.000000</td>\n",
              "      <td>94976.000000</td>\n",
              "      <td>1040.000000</td>\n",
              "      <td>21203.597039</td>\n",
              "      <td>519.714286</td>\n",
              "      <td>2786.000000</td>\n",
              "      <td>31.000000</td>\n",
              "      <td>621.980515</td>\n",
              "      <td>20.428571</td>\n",
              "      <td>0.112676</td>\n",
              "      <td>447924.0</td>\n",
              "      <td>79391.0</td>\n",
              "      <td>431.94</td>\n",
              "      <td>53.000000</td>\n",
              "      <td>1037.00514</td>\n",
              "      <td>1.772421e+01</td>\n",
              "    </tr>\n",
              "  </tbody>\n",
              "</table>\n",
              "</div>"
            ],
            "text/plain": [
              "              indice         dia         mes         casos  casos_novos  \\\n",
              "count     579.000000  579.000000  579.000000    579.000000   579.000000   \n",
              "mean   186962.000000   15.737478    6.269430  38511.975820   164.034542   \n",
              "std    107900.229958    8.803909    3.024688  32311.125124   155.344150   \n",
              "min       557.000000    1.000000    1.000000      0.000000     0.000000   \n",
              "25%     93759.500000    8.000000    4.000000   5632.500000    34.000000   \n",
              "50%    186962.000000   16.000000    6.000000  32475.000000   133.000000   \n",
              "75%    280164.500000   23.000000    9.000000  65875.000000   243.500000   \n",
              "max    373367.000000   31.000000   12.000000  94976.000000  1040.000000   \n",
              "\n",
              "           casos_pc  casos_mm7d       obitos  obitos_novos   obitos_pc  \\\n",
              "count    579.000000  579.000000   579.000000    579.000000  579.000000   \n",
              "mean    8597.881743  163.790279  1073.687392      4.811744  239.703028   \n",
              "std     7213.528439  111.510643   950.678612      4.906475  212.241053   \n",
              "min        0.000000    0.000000     0.000000      0.000000    0.000000   \n",
              "25%     1257.467785   72.285714   166.500000      1.000000   37.171484   \n",
              "50%     7250.113859  173.428571   837.000000      4.000000  186.862057   \n",
              "75%    14706.735964  233.500000  1940.000000      7.000000  433.109188   \n",
              "max    21203.597039  519.714286  2786.000000     31.000000  621.980515   \n",
              "\n",
              "       obitos_mm7d  letalidade       pop   pop_60    area  semana_epidem  \\\n",
              "count   579.000000  579.000000     579.0    579.0  579.00     579.000000   \n",
              "mean      4.800395    0.028114  447924.0  79391.0  431.94      25.792746   \n",
              "std       4.169069    0.014622       0.0      0.0    0.00      13.389761   \n",
              "min       0.000000    0.000000  447924.0  79391.0  431.94       1.000000   \n",
              "25%       1.857143    0.025013  447924.0  79391.0  431.94      15.000000   \n",
              "50%       3.857143    0.027486  447924.0  79391.0  431.94      25.000000   \n",
              "75%       6.714286    0.029538  447924.0  79391.0  431.94      36.000000   \n",
              "max      20.428571    0.112676  447924.0  79391.0  431.94      53.000000   \n",
              "\n",
              "        densidade  porcentagem_idosos  \n",
              "count   579.00000        5.790000e+02  \n",
              "mean   1037.00514        1.772421e+01  \n",
              "std       0.00000        3.555786e-15  \n",
              "min    1037.00514        1.772421e+01  \n",
              "25%    1037.00514        1.772421e+01  \n",
              "50%    1037.00514        1.772421e+01  \n",
              "75%    1037.00514        1.772421e+01  \n",
              "max    1037.00514        1.772421e+01  "
            ]
          },
          "execution_count": 24,
          "metadata": {},
          "output_type": "execute_result"
        }
      ],
      "source": [
        "# Aprensenta uma visão geral de todas as colunas:\n",
        "# nome_tabela.describe()\n",
        "\n",
        "covid_sjrp.describe()"
      ]
    },
    {
      "cell_type": "code",
      "execution_count": 25,
      "metadata": {
        "id": "w0cYyMIBFPEy"
      },
      "outputs": [
        {
          "data": {
            "text/html": [
              "<div>\n",
              "<style scoped>\n",
              "    .dataframe tbody tr th:only-of-type {\n",
              "        vertical-align: middle;\n",
              "    }\n",
              "\n",
              "    .dataframe tbody tr th {\n",
              "        vertical-align: top;\n",
              "    }\n",
              "\n",
              "    .dataframe thead th {\n",
              "        text-align: right;\n",
              "    }\n",
              "</style>\n",
              "<table border=\"1\" class=\"dataframe\">\n",
              "  <thead>\n",
              "    <tr style=\"text-align: right;\">\n",
              "      <th></th>\n",
              "      <th>indice</th>\n",
              "      <th>dia</th>\n",
              "      <th>mes</th>\n",
              "      <th>casos</th>\n",
              "      <th>casos_novos</th>\n",
              "      <th>casos_pc</th>\n",
              "      <th>casos_mm7d</th>\n",
              "      <th>obitos</th>\n",
              "      <th>obitos_novos</th>\n",
              "      <th>obitos_pc</th>\n",
              "      <th>obitos_mm7d</th>\n",
              "      <th>letalidade</th>\n",
              "      <th>pop</th>\n",
              "      <th>pop_60</th>\n",
              "      <th>area</th>\n",
              "      <th>semana_epidem</th>\n",
              "      <th>densidade</th>\n",
              "      <th>porcentagem_idosos</th>\n",
              "    </tr>\n",
              "  </thead>\n",
              "  <tbody>\n",
              "    <tr>\n",
              "      <th>count</th>\n",
              "      <td>579.0</td>\n",
              "      <td>579.0</td>\n",
              "      <td>579.0</td>\n",
              "      <td>579.0</td>\n",
              "      <td>579.0</td>\n",
              "      <td>579.0</td>\n",
              "      <td>579.0</td>\n",
              "      <td>579.0</td>\n",
              "      <td>579.0</td>\n",
              "      <td>579.0</td>\n",
              "      <td>579.0</td>\n",
              "      <td>579.0</td>\n",
              "      <td>579.0</td>\n",
              "      <td>579.0</td>\n",
              "      <td>579.0</td>\n",
              "      <td>579.0</td>\n",
              "      <td>579.0</td>\n",
              "      <td>579.0</td>\n",
              "    </tr>\n",
              "    <tr>\n",
              "      <th>mean</th>\n",
              "      <td>186962.0</td>\n",
              "      <td>15.7</td>\n",
              "      <td>6.3</td>\n",
              "      <td>38512.0</td>\n",
              "      <td>164.0</td>\n",
              "      <td>8597.9</td>\n",
              "      <td>163.8</td>\n",
              "      <td>1073.7</td>\n",
              "      <td>4.8</td>\n",
              "      <td>239.7</td>\n",
              "      <td>4.8</td>\n",
              "      <td>0.0</td>\n",
              "      <td>447924.0</td>\n",
              "      <td>79391.0</td>\n",
              "      <td>431.9</td>\n",
              "      <td>25.8</td>\n",
              "      <td>1037.0</td>\n",
              "      <td>17.7</td>\n",
              "    </tr>\n",
              "    <tr>\n",
              "      <th>std</th>\n",
              "      <td>107900.2</td>\n",
              "      <td>8.8</td>\n",
              "      <td>3.0</td>\n",
              "      <td>32311.1</td>\n",
              "      <td>155.3</td>\n",
              "      <td>7213.5</td>\n",
              "      <td>111.5</td>\n",
              "      <td>950.7</td>\n",
              "      <td>4.9</td>\n",
              "      <td>212.2</td>\n",
              "      <td>4.2</td>\n",
              "      <td>0.0</td>\n",
              "      <td>0.0</td>\n",
              "      <td>0.0</td>\n",
              "      <td>0.0</td>\n",
              "      <td>13.4</td>\n",
              "      <td>0.0</td>\n",
              "      <td>0.0</td>\n",
              "    </tr>\n",
              "    <tr>\n",
              "      <th>min</th>\n",
              "      <td>557.0</td>\n",
              "      <td>1.0</td>\n",
              "      <td>1.0</td>\n",
              "      <td>0.0</td>\n",
              "      <td>0.0</td>\n",
              "      <td>0.0</td>\n",
              "      <td>0.0</td>\n",
              "      <td>0.0</td>\n",
              "      <td>0.0</td>\n",
              "      <td>0.0</td>\n",
              "      <td>0.0</td>\n",
              "      <td>0.0</td>\n",
              "      <td>447924.0</td>\n",
              "      <td>79391.0</td>\n",
              "      <td>431.9</td>\n",
              "      <td>1.0</td>\n",
              "      <td>1037.0</td>\n",
              "      <td>17.7</td>\n",
              "    </tr>\n",
              "    <tr>\n",
              "      <th>25%</th>\n",
              "      <td>93759.5</td>\n",
              "      <td>8.0</td>\n",
              "      <td>4.0</td>\n",
              "      <td>5632.5</td>\n",
              "      <td>34.0</td>\n",
              "      <td>1257.5</td>\n",
              "      <td>72.3</td>\n",
              "      <td>166.5</td>\n",
              "      <td>1.0</td>\n",
              "      <td>37.2</td>\n",
              "      <td>1.9</td>\n",
              "      <td>0.0</td>\n",
              "      <td>447924.0</td>\n",
              "      <td>79391.0</td>\n",
              "      <td>431.9</td>\n",
              "      <td>15.0</td>\n",
              "      <td>1037.0</td>\n",
              "      <td>17.7</td>\n",
              "    </tr>\n",
              "    <tr>\n",
              "      <th>50%</th>\n",
              "      <td>186962.0</td>\n",
              "      <td>16.0</td>\n",
              "      <td>6.0</td>\n",
              "      <td>32475.0</td>\n",
              "      <td>133.0</td>\n",
              "      <td>7250.1</td>\n",
              "      <td>173.4</td>\n",
              "      <td>837.0</td>\n",
              "      <td>4.0</td>\n",
              "      <td>186.9</td>\n",
              "      <td>3.9</td>\n",
              "      <td>0.0</td>\n",
              "      <td>447924.0</td>\n",
              "      <td>79391.0</td>\n",
              "      <td>431.9</td>\n",
              "      <td>25.0</td>\n",
              "      <td>1037.0</td>\n",
              "      <td>17.7</td>\n",
              "    </tr>\n",
              "    <tr>\n",
              "      <th>75%</th>\n",
              "      <td>280164.5</td>\n",
              "      <td>23.0</td>\n",
              "      <td>9.0</td>\n",
              "      <td>65875.0</td>\n",
              "      <td>243.5</td>\n",
              "      <td>14706.7</td>\n",
              "      <td>233.5</td>\n",
              "      <td>1940.0</td>\n",
              "      <td>7.0</td>\n",
              "      <td>433.1</td>\n",
              "      <td>6.7</td>\n",
              "      <td>0.0</td>\n",
              "      <td>447924.0</td>\n",
              "      <td>79391.0</td>\n",
              "      <td>431.9</td>\n",
              "      <td>36.0</td>\n",
              "      <td>1037.0</td>\n",
              "      <td>17.7</td>\n",
              "    </tr>\n",
              "    <tr>\n",
              "      <th>max</th>\n",
              "      <td>373367.0</td>\n",
              "      <td>31.0</td>\n",
              "      <td>12.0</td>\n",
              "      <td>94976.0</td>\n",
              "      <td>1040.0</td>\n",
              "      <td>21203.6</td>\n",
              "      <td>519.7</td>\n",
              "      <td>2786.0</td>\n",
              "      <td>31.0</td>\n",
              "      <td>622.0</td>\n",
              "      <td>20.4</td>\n",
              "      <td>0.1</td>\n",
              "      <td>447924.0</td>\n",
              "      <td>79391.0</td>\n",
              "      <td>431.9</td>\n",
              "      <td>53.0</td>\n",
              "      <td>1037.0</td>\n",
              "      <td>17.7</td>\n",
              "    </tr>\n",
              "  </tbody>\n",
              "</table>\n",
              "</div>"
            ],
            "text/plain": [
              "         indice    dia    mes    casos  casos_novos  casos_pc  casos_mm7d  \\\n",
              "count     579.0  579.0  579.0    579.0        579.0     579.0       579.0   \n",
              "mean   186962.0   15.7    6.3  38512.0        164.0    8597.9       163.8   \n",
              "std    107900.2    8.8    3.0  32311.1        155.3    7213.5       111.5   \n",
              "min       557.0    1.0    1.0      0.0          0.0       0.0         0.0   \n",
              "25%     93759.5    8.0    4.0   5632.5         34.0    1257.5        72.3   \n",
              "50%    186962.0   16.0    6.0  32475.0        133.0    7250.1       173.4   \n",
              "75%    280164.5   23.0    9.0  65875.0        243.5   14706.7       233.5   \n",
              "max    373367.0   31.0   12.0  94976.0       1040.0   21203.6       519.7   \n",
              "\n",
              "       obitos  obitos_novos  obitos_pc  obitos_mm7d  letalidade       pop  \\\n",
              "count   579.0         579.0      579.0        579.0       579.0     579.0   \n",
              "mean   1073.7           4.8      239.7          4.8         0.0  447924.0   \n",
              "std     950.7           4.9      212.2          4.2         0.0       0.0   \n",
              "min       0.0           0.0        0.0          0.0         0.0  447924.0   \n",
              "25%     166.5           1.0       37.2          1.9         0.0  447924.0   \n",
              "50%     837.0           4.0      186.9          3.9         0.0  447924.0   \n",
              "75%    1940.0           7.0      433.1          6.7         0.0  447924.0   \n",
              "max    2786.0          31.0      622.0         20.4         0.1  447924.0   \n",
              "\n",
              "        pop_60   area  semana_epidem  densidade  porcentagem_idosos  \n",
              "count    579.0  579.0          579.0      579.0               579.0  \n",
              "mean   79391.0  431.9           25.8     1037.0                17.7  \n",
              "std        0.0    0.0           13.4        0.0                 0.0  \n",
              "min    79391.0  431.9            1.0     1037.0                17.7  \n",
              "25%    79391.0  431.9           15.0     1037.0                17.7  \n",
              "50%    79391.0  431.9           25.0     1037.0                17.7  \n",
              "75%    79391.0  431.9           36.0     1037.0                17.7  \n",
              "max    79391.0  431.9           53.0     1037.0                17.7  "
            ]
          },
          "execution_count": 25,
          "metadata": {},
          "output_type": "execute_result"
        }
      ],
      "source": [
        "round(covid_sjrp.describe(), 1)"
      ]
    },
    {
      "cell_type": "code",
      "execution_count": 26,
      "metadata": {
        "id": "N-9PZCCcFYFS"
      },
      "outputs": [
        {
          "data": {
            "text/plain": [
              "count    579.0\n",
              "mean     109.5\n",
              "std      100.3\n",
              "min        0.0\n",
              "25%       27.5\n",
              "50%       87.0\n",
              "75%      161.0\n",
              "max      698.0\n",
              "Name: casos_novos, dtype: float64"
            ]
          },
          "execution_count": 26,
          "metadata": {},
          "output_type": "execute_result"
        }
      ],
      "source": [
        "# Apresenta uma visão geral de uma coluna específica:\n",
        "# nome_tabela['nome_coluna'].describe()\n",
        "\n",
        "round(covid_guarulhos['casos_novos'].describe(), 1)"
      ]
    },
    {
      "cell_type": "markdown",
      "metadata": {
        "id": "DJQld0eKF-SD"
      },
      "source": [
        "# **Distribuição de Frequências: Histograma**"
      ]
    },
    {
      "cell_type": "code",
      "execution_count": 27,
      "metadata": {
        "id": "X7UorPGoGIpp"
      },
      "outputs": [
        {
          "data": {
            "text/html": [
              "<div>\n",
              "<style scoped>\n",
              "    .dataframe tbody tr th:only-of-type {\n",
              "        vertical-align: middle;\n",
              "    }\n",
              "\n",
              "    .dataframe tbody tr th {\n",
              "        vertical-align: top;\n",
              "    }\n",
              "\n",
              "    .dataframe thead th {\n",
              "        text-align: right;\n",
              "    }\n",
              "</style>\n",
              "<table border=\"1\" class=\"dataframe\">\n",
              "  <thead>\n",
              "    <tr style=\"text-align: right;\">\n",
              "      <th></th>\n",
              "      <th>indice</th>\n",
              "      <th>municipio</th>\n",
              "      <th>dia</th>\n",
              "      <th>mes</th>\n",
              "      <th>data</th>\n",
              "      <th>casos</th>\n",
              "      <th>casos_novos</th>\n",
              "      <th>casos_pc</th>\n",
              "      <th>casos_mm7d</th>\n",
              "      <th>obitos</th>\n",
              "      <th>obitos_novos</th>\n",
              "      <th>obitos_pc</th>\n",
              "      <th>obitos_mm7d</th>\n",
              "      <th>letalidade</th>\n",
              "      <th>pop</th>\n",
              "      <th>pop_60</th>\n",
              "      <th>area</th>\n",
              "      <th>semana_epidem</th>\n",
              "      <th>densidade</th>\n",
              "      <th>porcentagem_idosos</th>\n",
              "    </tr>\n",
              "  </thead>\n",
              "  <tbody>\n",
              "    <tr>\n",
              "      <th>201151</th>\n",
              "      <td>201152</td>\n",
              "      <td>São José do Rio Preto</td>\n",
              "      <td>1</td>\n",
              "      <td>1</td>\n",
              "      <td>2021-01-01</td>\n",
              "      <td>36356</td>\n",
              "      <td>171</td>\n",
              "      <td>8116.555487</td>\n",
              "      <td>174.142857</td>\n",
              "      <td>922</td>\n",
              "      <td>5</td>\n",
              "      <td>205.838490</td>\n",
              "      <td>4.285714</td>\n",
              "      <td>0.025360</td>\n",
              "      <td>447924</td>\n",
              "      <td>79391</td>\n",
              "      <td>431.94</td>\n",
              "      <td>53</td>\n",
              "      <td>1037.00514</td>\n",
              "      <td>17.724212</td>\n",
              "    </tr>\n",
              "    <tr>\n",
              "      <th>201796</th>\n",
              "      <td>201797</td>\n",
              "      <td>São José do Rio Preto</td>\n",
              "      <td>2</td>\n",
              "      <td>1</td>\n",
              "      <td>2021-01-02</td>\n",
              "      <td>36368</td>\n",
              "      <td>12</td>\n",
              "      <td>8119.234513</td>\n",
              "      <td>173.571429</td>\n",
              "      <td>922</td>\n",
              "      <td>0</td>\n",
              "      <td>205.838490</td>\n",
              "      <td>4.142857</td>\n",
              "      <td>0.025352</td>\n",
              "      <td>447924</td>\n",
              "      <td>79391</td>\n",
              "      <td>431.94</td>\n",
              "      <td>53</td>\n",
              "      <td>1037.00514</td>\n",
              "      <td>17.724212</td>\n",
              "    </tr>\n",
              "    <tr>\n",
              "      <th>202441</th>\n",
              "      <td>202442</td>\n",
              "      <td>São José do Rio Preto</td>\n",
              "      <td>3</td>\n",
              "      <td>1</td>\n",
              "      <td>2021-01-03</td>\n",
              "      <td>36573</td>\n",
              "      <td>205</td>\n",
              "      <td>8165.001206</td>\n",
              "      <td>176.857143</td>\n",
              "      <td>928</td>\n",
              "      <td>6</td>\n",
              "      <td>207.178003</td>\n",
              "      <td>3.428571</td>\n",
              "      <td>0.025374</td>\n",
              "      <td>447924</td>\n",
              "      <td>79391</td>\n",
              "      <td>431.94</td>\n",
              "      <td>1</td>\n",
              "      <td>1037.00514</td>\n",
              "      <td>17.724212</td>\n",
              "    </tr>\n",
              "    <tr>\n",
              "      <th>203086</th>\n",
              "      <td>203087</td>\n",
              "      <td>São José do Rio Preto</td>\n",
              "      <td>4</td>\n",
              "      <td>1</td>\n",
              "      <td>2021-01-04</td>\n",
              "      <td>36669</td>\n",
              "      <td>96</td>\n",
              "      <td>8186.433413</td>\n",
              "      <td>186.142857</td>\n",
              "      <td>931</td>\n",
              "      <td>3</td>\n",
              "      <td>207.847760</td>\n",
              "      <td>3.571429</td>\n",
              "      <td>0.025389</td>\n",
              "      <td>447924</td>\n",
              "      <td>79391</td>\n",
              "      <td>431.94</td>\n",
              "      <td>1</td>\n",
              "      <td>1037.00514</td>\n",
              "      <td>17.724212</td>\n",
              "    </tr>\n",
              "    <tr>\n",
              "      <th>203731</th>\n",
              "      <td>203732</td>\n",
              "      <td>São José do Rio Preto</td>\n",
              "      <td>5</td>\n",
              "      <td>1</td>\n",
              "      <td>2021-01-05</td>\n",
              "      <td>37198</td>\n",
              "      <td>529</td>\n",
              "      <td>8304.533805</td>\n",
              "      <td>214.285714</td>\n",
              "      <td>935</td>\n",
              "      <td>4</td>\n",
              "      <td>208.740769</td>\n",
              "      <td>4.000000</td>\n",
              "      <td>0.025136</td>\n",
              "      <td>447924</td>\n",
              "      <td>79391</td>\n",
              "      <td>431.94</td>\n",
              "      <td>1</td>\n",
              "      <td>1037.00514</td>\n",
              "      <td>17.724212</td>\n",
              "    </tr>\n",
              "    <tr>\n",
              "      <th>...</th>\n",
              "      <td>...</td>\n",
              "      <td>...</td>\n",
              "      <td>...</td>\n",
              "      <td>...</td>\n",
              "      <td>...</td>\n",
              "      <td>...</td>\n",
              "      <td>...</td>\n",
              "      <td>...</td>\n",
              "      <td>...</td>\n",
              "      <td>...</td>\n",
              "      <td>...</td>\n",
              "      <td>...</td>\n",
              "      <td>...</td>\n",
              "      <td>...</td>\n",
              "      <td>...</td>\n",
              "      <td>...</td>\n",
              "      <td>...</td>\n",
              "      <td>...</td>\n",
              "      <td>...</td>\n",
              "      <td>...</td>\n",
              "    </tr>\n",
              "    <tr>\n",
              "      <th>370786</th>\n",
              "      <td>370787</td>\n",
              "      <td>São José do Rio Preto</td>\n",
              "      <td>21</td>\n",
              "      <td>9</td>\n",
              "      <td>2021-09-21</td>\n",
              "      <td>94775</td>\n",
              "      <td>16</td>\n",
              "      <td>21158.723355</td>\n",
              "      <td>182.714286</td>\n",
              "      <td>2778</td>\n",
              "      <td>5</td>\n",
              "      <td>620.194497</td>\n",
              "      <td>1.285714</td>\n",
              "      <td>0.029312</td>\n",
              "      <td>447924</td>\n",
              "      <td>79391</td>\n",
              "      <td>431.94</td>\n",
              "      <td>38</td>\n",
              "      <td>1037.00514</td>\n",
              "      <td>17.724212</td>\n",
              "    </tr>\n",
              "    <tr>\n",
              "      <th>371431</th>\n",
              "      <td>371432</td>\n",
              "      <td>São José do Rio Preto</td>\n",
              "      <td>22</td>\n",
              "      <td>9</td>\n",
              "      <td>2021-09-22</td>\n",
              "      <td>94813</td>\n",
              "      <td>38</td>\n",
              "      <td>21167.206937</td>\n",
              "      <td>184.000000</td>\n",
              "      <td>2781</td>\n",
              "      <td>3</td>\n",
              "      <td>620.864254</td>\n",
              "      <td>1.571429</td>\n",
              "      <td>0.029331</td>\n",
              "      <td>447924</td>\n",
              "      <td>79391</td>\n",
              "      <td>431.94</td>\n",
              "      <td>38</td>\n",
              "      <td>1037.00514</td>\n",
              "      <td>17.724212</td>\n",
              "    </tr>\n",
              "    <tr>\n",
              "      <th>372076</th>\n",
              "      <td>372077</td>\n",
              "      <td>São José do Rio Preto</td>\n",
              "      <td>23</td>\n",
              "      <td>9</td>\n",
              "      <td>2021-09-23</td>\n",
              "      <td>94864</td>\n",
              "      <td>51</td>\n",
              "      <td>21178.592797</td>\n",
              "      <td>146.142857</td>\n",
              "      <td>2782</td>\n",
              "      <td>1</td>\n",
              "      <td>621.087506</td>\n",
              "      <td>1.571429</td>\n",
              "      <td>0.029326</td>\n",
              "      <td>447924</td>\n",
              "      <td>79391</td>\n",
              "      <td>431.94</td>\n",
              "      <td>38</td>\n",
              "      <td>1037.00514</td>\n",
              "      <td>17.724212</td>\n",
              "    </tr>\n",
              "    <tr>\n",
              "      <th>372721</th>\n",
              "      <td>372722</td>\n",
              "      <td>São José do Rio Preto</td>\n",
              "      <td>24</td>\n",
              "      <td>9</td>\n",
              "      <td>2021-09-24</td>\n",
              "      <td>94908</td>\n",
              "      <td>44</td>\n",
              "      <td>21188.415892</td>\n",
              "      <td>26.571429</td>\n",
              "      <td>2783</td>\n",
              "      <td>1</td>\n",
              "      <td>621.310758</td>\n",
              "      <td>1.714286</td>\n",
              "      <td>0.029323</td>\n",
              "      <td>447924</td>\n",
              "      <td>79391</td>\n",
              "      <td>431.94</td>\n",
              "      <td>38</td>\n",
              "      <td>1037.00514</td>\n",
              "      <td>17.724212</td>\n",
              "    </tr>\n",
              "    <tr>\n",
              "      <th>373366</th>\n",
              "      <td>373367</td>\n",
              "      <td>São José do Rio Preto</td>\n",
              "      <td>25</td>\n",
              "      <td>9</td>\n",
              "      <td>2021-09-25</td>\n",
              "      <td>94976</td>\n",
              "      <td>68</td>\n",
              "      <td>21203.597039</td>\n",
              "      <td>33.714286</td>\n",
              "      <td>2786</td>\n",
              "      <td>3</td>\n",
              "      <td>621.980515</td>\n",
              "      <td>2.000000</td>\n",
              "      <td>0.029334</td>\n",
              "      <td>447924</td>\n",
              "      <td>79391</td>\n",
              "      <td>431.94</td>\n",
              "      <td>38</td>\n",
              "      <td>1037.00514</td>\n",
              "      <td>17.724212</td>\n",
              "    </tr>\n",
              "  </tbody>\n",
              "</table>\n",
              "<p>268 rows × 20 columns</p>\n",
              "</div>"
            ],
            "text/plain": [
              "        indice              municipio  dia  mes        data  casos  \\\n",
              "201151  201152  São José do Rio Preto    1    1  2021-01-01  36356   \n",
              "201796  201797  São José do Rio Preto    2    1  2021-01-02  36368   \n",
              "202441  202442  São José do Rio Preto    3    1  2021-01-03  36573   \n",
              "203086  203087  São José do Rio Preto    4    1  2021-01-04  36669   \n",
              "203731  203732  São José do Rio Preto    5    1  2021-01-05  37198   \n",
              "...        ...                    ...  ...  ...         ...    ...   \n",
              "370786  370787  São José do Rio Preto   21    9  2021-09-21  94775   \n",
              "371431  371432  São José do Rio Preto   22    9  2021-09-22  94813   \n",
              "372076  372077  São José do Rio Preto   23    9  2021-09-23  94864   \n",
              "372721  372722  São José do Rio Preto   24    9  2021-09-24  94908   \n",
              "373366  373367  São José do Rio Preto   25    9  2021-09-25  94976   \n",
              "\n",
              "        casos_novos      casos_pc  casos_mm7d  obitos  obitos_novos  \\\n",
              "201151          171   8116.555487  174.142857     922             5   \n",
              "201796           12   8119.234513  173.571429     922             0   \n",
              "202441          205   8165.001206  176.857143     928             6   \n",
              "203086           96   8186.433413  186.142857     931             3   \n",
              "203731          529   8304.533805  214.285714     935             4   \n",
              "...             ...           ...         ...     ...           ...   \n",
              "370786           16  21158.723355  182.714286    2778             5   \n",
              "371431           38  21167.206937  184.000000    2781             3   \n",
              "372076           51  21178.592797  146.142857    2782             1   \n",
              "372721           44  21188.415892   26.571429    2783             1   \n",
              "373366           68  21203.597039   33.714286    2786             3   \n",
              "\n",
              "         obitos_pc  obitos_mm7d  letalidade     pop  pop_60    area  \\\n",
              "201151  205.838490     4.285714    0.025360  447924   79391  431.94   \n",
              "201796  205.838490     4.142857    0.025352  447924   79391  431.94   \n",
              "202441  207.178003     3.428571    0.025374  447924   79391  431.94   \n",
              "203086  207.847760     3.571429    0.025389  447924   79391  431.94   \n",
              "203731  208.740769     4.000000    0.025136  447924   79391  431.94   \n",
              "...            ...          ...         ...     ...     ...     ...   \n",
              "370786  620.194497     1.285714    0.029312  447924   79391  431.94   \n",
              "371431  620.864254     1.571429    0.029331  447924   79391  431.94   \n",
              "372076  621.087506     1.571429    0.029326  447924   79391  431.94   \n",
              "372721  621.310758     1.714286    0.029323  447924   79391  431.94   \n",
              "373366  621.980515     2.000000    0.029334  447924   79391  431.94   \n",
              "\n",
              "        semana_epidem   densidade  porcentagem_idosos  \n",
              "201151             53  1037.00514           17.724212  \n",
              "201796             53  1037.00514           17.724212  \n",
              "202441              1  1037.00514           17.724212  \n",
              "203086              1  1037.00514           17.724212  \n",
              "203731              1  1037.00514           17.724212  \n",
              "...               ...         ...                 ...  \n",
              "370786             38  1037.00514           17.724212  \n",
              "371431             38  1037.00514           17.724212  \n",
              "372076             38  1037.00514           17.724212  \n",
              "372721             38  1037.00514           17.724212  \n",
              "373366             38  1037.00514           17.724212  \n",
              "\n",
              "[268 rows x 20 columns]"
            ]
          },
          "execution_count": 27,
          "metadata": {},
          "output_type": "execute_result"
        }
      ],
      "source": [
        "# Pega apenas as datas do ano de 2021\n",
        "covid_sjrp_2021 = covid_sjrp.loc[covid_sjrp.data > '2020-12-31']\n",
        "\n",
        "covid_sjrp_2021"
      ]
    },
    {
      "cell_type": "code",
      "execution_count": 28,
      "metadata": {
        "id": "SwyvOyYCGjmg"
      },
      "outputs": [
        {
          "data": {
            "text/plain": [
              "(268, 20)"
            ]
          },
          "execution_count": 28,
          "metadata": {},
          "output_type": "execute_result"
        }
      ],
      "source": [
        "covid_sjrp_2021.shape"
      ]
    },
    {
      "cell_type": "code",
      "execution_count": 29,
      "metadata": {
        "id": "jU83QV5_Grcg"
      },
      "outputs": [
        {
          "data": {
            "text/plain": [
              "0    2\n",
              "Name: obitos_novos, dtype: int64"
            ]
          },
          "execution_count": 29,
          "metadata": {},
          "output_type": "execute_result"
        }
      ],
      "source": [
        "covid_sjrp_2021.obitos_novos.mode()"
      ]
    },
    {
      "cell_type": "code",
      "execution_count": 30,
      "metadata": {
        "id": "C_543hBBGvNg"
      },
      "outputs": [
        {
          "data": {
            "text/plain": [
              "5.5"
            ]
          },
          "execution_count": 30,
          "metadata": {},
          "output_type": "execute_result"
        }
      ],
      "source": [
        "covid_sjrp_2021.obitos_novos.median()"
      ]
    },
    {
      "cell_type": "code",
      "execution_count": 31,
      "metadata": {
        "id": "G1P1Z4foGxbv"
      },
      "outputs": [
        {
          "data": {
            "text/plain": [
              "6.973880597014926"
            ]
          },
          "execution_count": 31,
          "metadata": {},
          "output_type": "execute_result"
        }
      ],
      "source": [
        "covid_sjrp_2021.obitos_novos.mean()"
      ]
    },
    {
      "cell_type": "code",
      "execution_count": 32,
      "metadata": {
        "id": "9f8LNyteHEbI"
      },
      "outputs": [],
      "source": [
        "# média = mediana = moda --> Distribuição simétrica\n",
        "# média = mediana (não existe moda) --> Distribuição uniforme (retangular)\n",
        "# média < mediana < moda --> Distribuição assimétrica à esquerda (Assimetria negativa)\n",
        "# moda < mediana < média --> Distribuição assimétrica à direita  (Assimetria positiva)"
      ]
    },
    {
      "cell_type": "code",
      "execution_count": 33,
      "metadata": {},
      "outputs": [
        {
          "data": {
            "image/png": "[encoded data removed]",
            "text/plain": [
              "<Figure size 640x480 with 1 Axes>"
            ]
          },
          "metadata": {},
          "output_type": "display_data"
        }
      ],
      "source": [
        "# Construir um histograma:\n",
        "\n",
        "import seaborn as sns\n",
        "import matplotlib.pyplot as plt\n",
        "\n",
        "# sns.histplot(nome_tabela, x=\"itens_eixo_x\", nbins=num_bins) --> Quanto menor o nbins, maior a faixa de valores(frequencia) \n",
        "# plt.title('titulo_grafico')\n",
        "# plt.show() --> Exibe o gráfico\n",
        "\n",
        "sns.histplot(covid_sjrp_2021, x='obitos_novos', bins=30)\n",
        "plt.title('Óbitos Novos de São José do Rio Preto em 2021')\n",
        "plt.show()"
      ]
    },
    {
      "cell_type": "code",
      "execution_count": 34,
      "metadata": {
        "id": "dL6roqhOKY9R"
      },
      "outputs": [
        {
          "data": {
            "image/png": "[encoded data removed]",
            "text/plain": [
              "<Figure size 640x480 with 1 Axes>"
            ]
          },
          "metadata": {},
          "output_type": "display_data"
        }
      ],
      "source": [
        "# Rio Preto 2021:\n",
        "\n",
        "sns.histplot(covid_sjrp_2021, x=\"casos_novos\", bins=30)\n",
        "plt.title('Casos Novos de São José do Rio Preto em 2021')\n",
        "plt.show()"
      ]
    },
    {
      "cell_type": "code",
      "execution_count": 35,
      "metadata": {
        "id": "DEsBy-c_KmF4"
      },
      "outputs": [
        {
          "data": {
            "image/png": "[encoded data removed]",
            "text/plain": [
              "<Figure size 640x480 with 1 Axes>"
            ]
          },
          "metadata": {},
          "output_type": "display_data"
        }
      ],
      "source": [
        "# Rio Preto geral:\n",
        "\n",
        "sns.histplot(covid_sjrp, x=\"casos_novos\", bins=30)\n",
        "plt.title('Casos Novos de São José do Rio Preto')\n",
        "plt.show()"
      ]
    },
    {
      "cell_type": "code",
      "execution_count": 36,
      "metadata": {
        "id": "K3-866pjKx9g"
      },
      "outputs": [
        {
          "data": {
            "image/png": "[encoded data removed]",
            "text/plain": [
              "<Figure size 640x480 with 1 Axes>"
            ]
          },
          "metadata": {},
          "output_type": "display_data"
        }
      ],
      "source": [
        "# Guarulhos geral:\n",
        "\n",
        "sns.histplot(covid_guarulhos, x=\"casos_novos\", bins=30)\n",
        "plt.title('Casos Novos de Guarulhos')\n",
        "plt.show()"
      ]
    },
    {
      "cell_type": "markdown",
      "metadata": {
        "id": "swc1hN0FwHDA"
      },
      "source": [
        "# **Medidas de Posição**"
      ]
    },
    {
      "cell_type": "code",
      "execution_count": 37,
      "metadata": {
        "id": "cvIMONPgwhMH"
      },
      "outputs": [
        {
          "data": {
            "text/plain": [
              "0"
            ]
          },
          "execution_count": 37,
          "metadata": {},
          "output_type": "execute_result"
        }
      ],
      "source": [
        "# Obter valor MÍNIMO:\n",
        "# nome_tabela['nome_coluna'].min()\n",
        "\n",
        "covid_sjrp['obitos_novos'].min()"
      ]
    },
    {
      "cell_type": "code",
      "execution_count": 38,
      "metadata": {
        "id": "nuCUiRidwoOm"
      },
      "outputs": [
        {
          "data": {
            "text/plain": [
              "0"
            ]
          },
          "execution_count": 38,
          "metadata": {},
          "output_type": "execute_result"
        }
      ],
      "source": [
        "covid_sjrp.casos_novos.min()"
      ]
    },
    {
      "cell_type": "code",
      "execution_count": 39,
      "metadata": {
        "id": "VuB68Egewr6n"
      },
      "outputs": [
        {
          "data": {
            "text/plain": [
              "77"
            ]
          },
          "execution_count": 39,
          "metadata": {},
          "output_type": "execute_result"
        }
      ],
      "source": [
        "# Obter valor MÁXIMO:\n",
        "# nome_tabela['nome_coluna'].max()\n",
        "\n",
        "covid_guarulhos['obitos_novos'].max()"
      ]
    },
    {
      "cell_type": "code",
      "execution_count": 40,
      "metadata": {
        "id": "zQQNXS0RwyUn"
      },
      "outputs": [
        {
          "data": {
            "text/plain": [
              "31"
            ]
          },
          "execution_count": 40,
          "metadata": {},
          "output_type": "execute_result"
        }
      ],
      "source": [
        "covid_sjrp.obitos_novos.max()"
      ]
    },
    {
      "cell_type": "code",
      "execution_count": 41,
      "metadata": {
        "id": "zsIinaISw6Df"
      },
      "outputs": [
        {
          "data": {
            "text/plain": [
              "698"
            ]
          },
          "execution_count": 41,
          "metadata": {},
          "output_type": "execute_result"
        }
      ],
      "source": [
        "covid_guarulhos['casos_novos'].max()"
      ]
    },
    {
      "cell_type": "code",
      "execution_count": 42,
      "metadata": {
        "id": "223NK_Jiw-Yn"
      },
      "outputs": [
        {
          "data": {
            "text/plain": [
              "1040"
            ]
          },
          "execution_count": 42,
          "metadata": {},
          "output_type": "execute_result"
        }
      ],
      "source": [
        "covid_sjrp['casos_novos'].max()"
      ]
    },
    {
      "cell_type": "code",
      "execution_count": 43,
      "metadata": {
        "id": "rQMmD4VSxPvX"
      },
      "outputs": [
        {
          "data": {
            "text/plain": [
              "34.0"
            ]
          },
          "execution_count": 43,
          "metadata": {},
          "output_type": "execute_result"
        }
      ],
      "source": [
        "# DIVIDE A QUANTIDADE DE DADOS, NÃO O VALOR:\n",
        "# Primeiro Quartil:\n",
        "# nome_tabela['nome_coluna'].quantile(q=0.25)\n",
        "\n",
        "covid_sjrp['casos_novos'].quantile(q=0.25)"
      ]
    },
    {
      "cell_type": "code",
      "execution_count": 44,
      "metadata": {
        "id": "9PqAwWgxxjhF"
      },
      "outputs": [
        {
          "data": {
            "text/plain": [
              "133.0"
            ]
          },
          "execution_count": 44,
          "metadata": {},
          "output_type": "execute_result"
        }
      ],
      "source": [
        "# Segundo Quartil:\n",
        "# nome_tabela['nome_coluna'].quantile(q=0.50)\n",
        "\n",
        "covid_sjrp['casos_novos'].quantile(q=0.5)"
      ]
    },
    {
      "cell_type": "code",
      "execution_count": 45,
      "metadata": {
        "id": "BzfXTTgqyB9O"
      },
      "outputs": [
        {
          "data": {
            "text/plain": [
              "243.5"
            ]
          },
          "execution_count": 45,
          "metadata": {},
          "output_type": "execute_result"
        }
      ],
      "source": [
        "# Terceiro Quartil:\n",
        "# nome_tabela['nome_coluna'].quantile(q=0.75)\n",
        "\n",
        "covid_sjrp['casos_novos'].quantile(q=0.75)"
      ]
    },
    {
      "cell_type": "code",
      "execution_count": 46,
      "metadata": {
        "id": "54BheaDayHY8"
      },
      "outputs": [
        {
          "data": {
            "text/plain": [
              "618.6600000000001"
            ]
          },
          "execution_count": 46,
          "metadata": {},
          "output_type": "execute_result"
        }
      ],
      "source": [
        "covid_sjrp['casos_novos'].quantile(q=0.99)"
      ]
    },
    {
      "cell_type": "code",
      "execution_count": 47,
      "metadata": {
        "id": "4LPQAH96yNhM"
      },
      "outputs": [
        {
          "data": {
            "text/plain": [
              "count     579.000000\n",
              "mean      164.034542\n",
              "std       155.344150\n",
              "min         0.000000\n",
              "25%        34.000000\n",
              "50%       133.000000\n",
              "75%       243.500000\n",
              "max      1040.000000\n",
              "Name: casos_novos, dtype: float64"
            ]
          },
          "execution_count": 47,
          "metadata": {},
          "output_type": "execute_result"
        }
      ],
      "source": [
        "covid_sjrp['casos_novos'].describe()"
      ]
    },
    {
      "cell_type": "code",
      "execution_count": 48,
      "metadata": {
        "id": "jIEbUtu9yW89"
      },
      "outputs": [
        {
          "data": {
            "text/plain": [
              "count    579.000000\n",
              "mean     109.495682\n",
              "std      100.261861\n",
              "min        0.000000\n",
              "25%       27.500000\n",
              "50%       87.000000\n",
              "75%      161.000000\n",
              "max      698.000000\n",
              "Name: casos_novos, dtype: float64"
            ]
          },
          "execution_count": 48,
          "metadata": {},
          "output_type": "execute_result"
        }
      ],
      "source": [
        "covid_guarulhos['casos_novos'].describe()"
      ]
    },
    {
      "cell_type": "code",
      "execution_count": 49,
      "metadata": {
        "id": "qU97cN09yahT"
      },
      "outputs": [
        {
          "data": {
            "text/plain": [
              "count    579.000000\n",
              "mean       4.811744\n",
              "std        4.906475\n",
              "min        0.000000\n",
              "25%        1.000000\n",
              "50%        4.000000\n",
              "75%        7.000000\n",
              "max       31.000000\n",
              "Name: obitos_novos, dtype: float64"
            ]
          },
          "execution_count": 49,
          "metadata": {},
          "output_type": "execute_result"
        }
      ],
      "source": [
        "covid_sjrp.obitos_novos.describe()  # min, 25%, 50%, 75%, max"
      ]
    },
    {
      "cell_type": "code",
      "execution_count": 50,
      "metadata": {
        "id": "5DLJtlWVyfej"
      },
      "outputs": [
        {
          "data": {
            "text/plain": [
              "count    579.000000\n",
              "mean       8.404145\n",
              "std       11.511197\n",
              "min        0.000000\n",
              "25%        0.000000\n",
              "50%        4.000000\n",
              "75%       12.000000\n",
              "max       77.000000\n",
              "Name: obitos_novos, dtype: float64"
            ]
          },
          "execution_count": 50,
          "metadata": {},
          "output_type": "execute_result"
        }
      ],
      "source": [
        "covid_guarulhos.obitos_novos.describe()"
      ]
    },
    {
      "cell_type": "markdown",
      "metadata": {
        "id": "SD045jhGzA3q"
      },
      "source": [
        "# **Gráfico BoxPlot e Outliers**"
      ]
    },
    {
      "cell_type": "markdown",
      "metadata": {
        "id": "5f8mnY0azICi"
      },
      "source": [
        "## **São José do Rio Preto**"
      ]
    },
    {
      "cell_type": "code",
      "execution_count": 51,
      "metadata": {
        "id": "_RFCfHpvzLFi"
      },
      "outputs": [
        {
          "data": {
            "image/png": "[encoded data removed]",
            "text/plain": [
              "<Figure size 640x480 with 1 Axes>"
            ]
          },
          "metadata": {},
          "output_type": "display_data"
        }
      ],
      "source": [
        "# Criar BoxPlot:\n",
        "# sns.boxplot(data=nome_tabela, y='nome_coluna', color='cor');\n",
        "\n",
        "sns.boxplot(data=covid_sjrp, y='casos_novos', color='r')\n",
        "plt.show()"
      ]
    },
    {
      "cell_type": "code",
      "execution_count": 52,
      "metadata": {
        "id": "ULLUqVDFzulw"
      },
      "outputs": [
        {
          "data": {
            "text/plain": [
              "557.75"
            ]
          },
          "execution_count": 52,
          "metadata": {},
          "output_type": "execute_result"
        }
      ],
      "source": [
        "# Outlier Superior:\n",
        "# outlier_sup = quartil_3 + 1.5 * interquartil --> interquartil = quartil_3 - quartil_1\n",
        "# ou seja, \n",
        "# outlier_sup = nome_tabela.nome_coluna.quantile(q=0.75) + 1.5 * (nome_tabela.nome_coluna.quantile(q=0.75) - nome_tabela.nome_coluna.quantile(q=0.25))\n",
        "\n",
        "outlier_sup = covid_sjrp.casos_novos.quantile(q=0.75) + 1.5 * (covid_sjrp.casos_novos.quantile(q=0.75) - \n",
        "                                                               covid_sjrp.casos_novos.quantile(q=0.25))\n",
        "outlier_sup"
      ]
    },
    {
      "cell_type": "code",
      "execution_count": 53,
      "metadata": {
        "id": "8N0SfkIW0FdR"
      },
      "outputs": [
        {
          "data": {
            "text/plain": [
              "-280.25"
            ]
          },
          "execution_count": 53,
          "metadata": {},
          "output_type": "execute_result"
        }
      ],
      "source": [
        "# Outlier Inferior:\n",
        "# outlier_inf = quartil_1 - 1.5 * interquartil\n",
        "# ou seja, \n",
        "# outlier_inf = nome_tabela.nome_coluna.quantile(q=0.25) + 1.5 * (nome_tabela.nome_coluna.quantile(q=0.75) - nome_tabela.nome_coluna.quantile(q=0.25))\n",
        "\n",
        "outlier_inf = covid_sjrp.casos_novos.quantile(q=0.25) - 1.5 * (covid_sjrp.casos_novos.quantile(q=0.75) - \n",
        "                                                               covid_sjrp.casos_novos.quantile(q=0.25))\n",
        "outlier_inf"
      ]
    },
    {
      "cell_type": "code",
      "execution_count": 54,
      "metadata": {
        "id": "F_pHswsM1cnF"
      },
      "outputs": [],
      "source": [
        "# Excluir Outliers (CASO SEJA NECESSÁRIO!!!):\n",
        "# nome_tabela = nome_tabela.loc[nome_tabela.nome_coluna <= outlier_sup]\n",
        "# nome_tabela = nome_tabela.loc[nome_tabela.nome_coluna >= outlier_inf]\n",
        "\n",
        "sem_outliers = covid_sjrp.loc[covid_sjrp.casos_novos <= outlier_sup]"
      ]
    },
    {
      "cell_type": "code",
      "execution_count": 55,
      "metadata": {
        "id": "xVuAq4bX1yT1"
      },
      "outputs": [
        {
          "data": {
            "text/html": [
              "<div>\n",
              "<style scoped>\n",
              "    .dataframe tbody tr th:only-of-type {\n",
              "        vertical-align: middle;\n",
              "    }\n",
              "\n",
              "    .dataframe tbody tr th {\n",
              "        vertical-align: top;\n",
              "    }\n",
              "\n",
              "    .dataframe thead th {\n",
              "        text-align: right;\n",
              "    }\n",
              "</style>\n",
              "<table border=\"1\" class=\"dataframe\">\n",
              "  <thead>\n",
              "    <tr style=\"text-align: right;\">\n",
              "      <th></th>\n",
              "      <th>indice</th>\n",
              "      <th>municipio</th>\n",
              "      <th>dia</th>\n",
              "      <th>mes</th>\n",
              "      <th>data</th>\n",
              "      <th>casos</th>\n",
              "      <th>casos_novos</th>\n",
              "      <th>casos_pc</th>\n",
              "      <th>casos_mm7d</th>\n",
              "      <th>obitos</th>\n",
              "      <th>obitos_novos</th>\n",
              "      <th>obitos_pc</th>\n",
              "      <th>obitos_mm7d</th>\n",
              "      <th>letalidade</th>\n",
              "      <th>pop</th>\n",
              "      <th>pop_60</th>\n",
              "      <th>area</th>\n",
              "      <th>semana_epidem</th>\n",
              "      <th>densidade</th>\n",
              "      <th>porcentagem_idosos</th>\n",
              "    </tr>\n",
              "  </thead>\n",
              "  <tbody>\n",
              "    <tr>\n",
              "      <th>556</th>\n",
              "      <td>557</td>\n",
              "      <td>São José do Rio Preto</td>\n",
              "      <td>25</td>\n",
              "      <td>2</td>\n",
              "      <td>2020-02-25</td>\n",
              "      <td>0</td>\n",
              "      <td>0</td>\n",
              "      <td>0.0</td>\n",
              "      <td>0.0</td>\n",
              "      <td>0</td>\n",
              "      <td>0</td>\n",
              "      <td>0.0</td>\n",
              "      <td>0.0</td>\n",
              "      <td>0.0</td>\n",
              "      <td>447924</td>\n",
              "      <td>79391</td>\n",
              "      <td>431.94</td>\n",
              "      <td>9</td>\n",
              "      <td>1037.00514</td>\n",
              "      <td>17.724212</td>\n",
              "    </tr>\n",
              "    <tr>\n",
              "      <th>1201</th>\n",
              "      <td>1202</td>\n",
              "      <td>São José do Rio Preto</td>\n",
              "      <td>26</td>\n",
              "      <td>2</td>\n",
              "      <td>2020-02-26</td>\n",
              "      <td>0</td>\n",
              "      <td>0</td>\n",
              "      <td>0.0</td>\n",
              "      <td>0.0</td>\n",
              "      <td>0</td>\n",
              "      <td>0</td>\n",
              "      <td>0.0</td>\n",
              "      <td>0.0</td>\n",
              "      <td>0.0</td>\n",
              "      <td>447924</td>\n",
              "      <td>79391</td>\n",
              "      <td>431.94</td>\n",
              "      <td>9</td>\n",
              "      <td>1037.00514</td>\n",
              "      <td>17.724212</td>\n",
              "    </tr>\n",
              "    <tr>\n",
              "      <th>1846</th>\n",
              "      <td>1847</td>\n",
              "      <td>São José do Rio Preto</td>\n",
              "      <td>27</td>\n",
              "      <td>2</td>\n",
              "      <td>2020-02-27</td>\n",
              "      <td>0</td>\n",
              "      <td>0</td>\n",
              "      <td>0.0</td>\n",
              "      <td>0.0</td>\n",
              "      <td>0</td>\n",
              "      <td>0</td>\n",
              "      <td>0.0</td>\n",
              "      <td>0.0</td>\n",
              "      <td>0.0</td>\n",
              "      <td>447924</td>\n",
              "      <td>79391</td>\n",
              "      <td>431.94</td>\n",
              "      <td>9</td>\n",
              "      <td>1037.00514</td>\n",
              "      <td>17.724212</td>\n",
              "    </tr>\n",
              "    <tr>\n",
              "      <th>2491</th>\n",
              "      <td>2492</td>\n",
              "      <td>São José do Rio Preto</td>\n",
              "      <td>28</td>\n",
              "      <td>2</td>\n",
              "      <td>2020-02-28</td>\n",
              "      <td>0</td>\n",
              "      <td>0</td>\n",
              "      <td>0.0</td>\n",
              "      <td>0.0</td>\n",
              "      <td>0</td>\n",
              "      <td>0</td>\n",
              "      <td>0.0</td>\n",
              "      <td>0.0</td>\n",
              "      <td>0.0</td>\n",
              "      <td>447924</td>\n",
              "      <td>79391</td>\n",
              "      <td>431.94</td>\n",
              "      <td>9</td>\n",
              "      <td>1037.00514</td>\n",
              "      <td>17.724212</td>\n",
              "    </tr>\n",
              "    <tr>\n",
              "      <th>3136</th>\n",
              "      <td>3137</td>\n",
              "      <td>São José do Rio Preto</td>\n",
              "      <td>29</td>\n",
              "      <td>2</td>\n",
              "      <td>2020-02-29</td>\n",
              "      <td>0</td>\n",
              "      <td>0</td>\n",
              "      <td>0.0</td>\n",
              "      <td>0.0</td>\n",
              "      <td>0</td>\n",
              "      <td>0</td>\n",
              "      <td>0.0</td>\n",
              "      <td>0.0</td>\n",
              "      <td>0.0</td>\n",
              "      <td>447924</td>\n",
              "      <td>79391</td>\n",
              "      <td>431.94</td>\n",
              "      <td>9</td>\n",
              "      <td>1037.00514</td>\n",
              "      <td>17.724212</td>\n",
              "    </tr>\n",
              "  </tbody>\n",
              "</table>\n",
              "</div>"
            ],
            "text/plain": [
              "      indice              municipio  dia  mes        data  casos  casos_novos  \\\n",
              "556      557  São José do Rio Preto   25    2  2020-02-25      0            0   \n",
              "1201    1202  São José do Rio Preto   26    2  2020-02-26      0            0   \n",
              "1846    1847  São José do Rio Preto   27    2  2020-02-27      0            0   \n",
              "2491    2492  São José do Rio Preto   28    2  2020-02-28      0            0   \n",
              "3136    3137  São José do Rio Preto   29    2  2020-02-29      0            0   \n",
              "\n",
              "      casos_pc  casos_mm7d  obitos  obitos_novos  obitos_pc  obitos_mm7d  \\\n",
              "556        0.0         0.0       0             0        0.0          0.0   \n",
              "1201       0.0         0.0       0             0        0.0          0.0   \n",
              "1846       0.0         0.0       0             0        0.0          0.0   \n",
              "2491       0.0         0.0       0             0        0.0          0.0   \n",
              "3136       0.0         0.0       0             0        0.0          0.0   \n",
              "\n",
              "      letalidade     pop  pop_60    area  semana_epidem   densidade  \\\n",
              "556          0.0  447924   79391  431.94              9  1037.00514   \n",
              "1201         0.0  447924   79391  431.94              9  1037.00514   \n",
              "1846         0.0  447924   79391  431.94              9  1037.00514   \n",
              "2491         0.0  447924   79391  431.94              9  1037.00514   \n",
              "3136         0.0  447924   79391  431.94              9  1037.00514   \n",
              "\n",
              "      porcentagem_idosos  \n",
              "556            17.724212  \n",
              "1201           17.724212  \n",
              "1846           17.724212  \n",
              "2491           17.724212  \n",
              "3136           17.724212  "
            ]
          },
          "execution_count": 55,
          "metadata": {},
          "output_type": "execute_result"
        }
      ],
      "source": [
        "sem_outliers.head()"
      ]
    },
    {
      "cell_type": "code",
      "execution_count": 56,
      "metadata": {
        "id": "ua4kkFN42sNq"
      },
      "outputs": [
        {
          "data": {
            "image/png": "[encoded data removed]",
            "text/plain": [
              "<Figure size 640x480 with 1 Axes>"
            ]
          },
          "metadata": {},
          "output_type": "display_data"
        }
      ],
      "source": [
        "sns.boxplot(sem_outliers, y='casos_novos', color='r');"
      ]
    },
    {
      "cell_type": "markdown",
      "metadata": {
        "id": "iIifhmPT3FhC"
      },
      "source": [
        "## **Guarulhos**"
      ]
    },
    {
      "cell_type": "code",
      "execution_count": 57,
      "metadata": {
        "id": "zq2D3cCL3GvA"
      },
      "outputs": [
        {
          "data": {
            "image/png": "[encoded data removed]",
            "text/plain": [
              "<Figure size 640x480 with 1 Axes>"
            ]
          },
          "metadata": {},
          "output_type": "display_data"
        }
      ],
      "source": [
        "sns.boxplot(covid_guarulhos, y='casos_novos', color='g');"
      ]
    },
    {
      "cell_type": "code",
      "execution_count": 58,
      "metadata": {
        "id": "eqMlrEjG3RAp"
      },
      "outputs": [
        {
          "data": {
            "text/plain": [
              "361.25"
            ]
          },
          "execution_count": 58,
          "metadata": {},
          "output_type": "execute_result"
        }
      ],
      "source": [
        "outlier_sup_2 = covid_guarulhos.casos_novos.quantile(q=0.75) + 1.5 * (covid_guarulhos.casos_novos.quantile(q=0.75) - \n",
        "                                                                      covid_guarulhos.casos_novos.quantile(q=0.25))\n",
        "outlier_sup_2"
      ]
    },
    {
      "cell_type": "code",
      "execution_count": 59,
      "metadata": {
        "id": "k4KbtTmF3m_J"
      },
      "outputs": [
        {
          "data": {
            "text/plain": [
              "-172.75"
            ]
          },
          "execution_count": 59,
          "metadata": {},
          "output_type": "execute_result"
        }
      ],
      "source": [
        "outlier_inf_2 = covid_guarulhos.casos_novos.quantile(q=0.25) - 1.5 * (covid_guarulhos.casos_novos.quantile(q=0.75) - \n",
        "                                                                      covid_guarulhos.casos_novos.quantile(q=0.25))\n",
        "outlier_inf_2"
      ]
    },
    {
      "cell_type": "code",
      "execution_count": 60,
      "metadata": {
        "id": "MPw2eFXi3zKA"
      },
      "outputs": [],
      "source": [
        "sem_outliers_2 = covid_guarulhos.loc[covid_guarulhos.casos_novos <= outlier_sup_2]"
      ]
    },
    {
      "cell_type": "code",
      "execution_count": 61,
      "metadata": {
        "id": "IQqVAmys4V2f"
      },
      "outputs": [
        {
          "data": {
            "text/html": [
              "<div>\n",
              "<style scoped>\n",
              "    .dataframe tbody tr th:only-of-type {\n",
              "        vertical-align: middle;\n",
              "    }\n",
              "\n",
              "    .dataframe tbody tr th {\n",
              "        vertical-align: top;\n",
              "    }\n",
              "\n",
              "    .dataframe thead th {\n",
              "        text-align: right;\n",
              "    }\n",
              "</style>\n",
              "<table border=\"1\" class=\"dataframe\">\n",
              "  <thead>\n",
              "    <tr style=\"text-align: right;\">\n",
              "      <th></th>\n",
              "      <th>indice</th>\n",
              "      <th>municipio</th>\n",
              "      <th>dia</th>\n",
              "      <th>mes</th>\n",
              "      <th>data</th>\n",
              "      <th>casos</th>\n",
              "      <th>casos_novos</th>\n",
              "      <th>casos_pc</th>\n",
              "      <th>casos_mm7d</th>\n",
              "      <th>obitos</th>\n",
              "      <th>obitos_novos</th>\n",
              "      <th>obitos_pc</th>\n",
              "      <th>obitos_mm7d</th>\n",
              "      <th>letalidade</th>\n",
              "      <th>pop</th>\n",
              "      <th>pop_60</th>\n",
              "      <th>area</th>\n",
              "      <th>semana_epidem</th>\n",
              "      <th>densidade</th>\n",
              "      <th>porcentagem_idosos</th>\n",
              "    </tr>\n",
              "  </thead>\n",
              "  <tbody>\n",
              "    <tr>\n",
              "      <th>212</th>\n",
              "      <td>213</td>\n",
              "      <td>Guarulhos</td>\n",
              "      <td>25</td>\n",
              "      <td>2</td>\n",
              "      <td>2020-02-25</td>\n",
              "      <td>0</td>\n",
              "      <td>0</td>\n",
              "      <td>0.0</td>\n",
              "      <td>0.0</td>\n",
              "      <td>0</td>\n",
              "      <td>0</td>\n",
              "      <td>0.0</td>\n",
              "      <td>0.0</td>\n",
              "      <td>0.0</td>\n",
              "      <td>1351275</td>\n",
              "      <td>162662</td>\n",
              "      <td>318.68</td>\n",
              "      <td>9</td>\n",
              "      <td>4240.225304</td>\n",
              "      <td>12.037668</td>\n",
              "    </tr>\n",
              "    <tr>\n",
              "      <th>857</th>\n",
              "      <td>858</td>\n",
              "      <td>Guarulhos</td>\n",
              "      <td>26</td>\n",
              "      <td>2</td>\n",
              "      <td>2020-02-26</td>\n",
              "      <td>0</td>\n",
              "      <td>0</td>\n",
              "      <td>0.0</td>\n",
              "      <td>0.0</td>\n",
              "      <td>0</td>\n",
              "      <td>0</td>\n",
              "      <td>0.0</td>\n",
              "      <td>0.0</td>\n",
              "      <td>0.0</td>\n",
              "      <td>1351275</td>\n",
              "      <td>162662</td>\n",
              "      <td>318.68</td>\n",
              "      <td>9</td>\n",
              "      <td>4240.225304</td>\n",
              "      <td>12.037668</td>\n",
              "    </tr>\n",
              "    <tr>\n",
              "      <th>1502</th>\n",
              "      <td>1503</td>\n",
              "      <td>Guarulhos</td>\n",
              "      <td>27</td>\n",
              "      <td>2</td>\n",
              "      <td>2020-02-27</td>\n",
              "      <td>0</td>\n",
              "      <td>0</td>\n",
              "      <td>0.0</td>\n",
              "      <td>0.0</td>\n",
              "      <td>0</td>\n",
              "      <td>0</td>\n",
              "      <td>0.0</td>\n",
              "      <td>0.0</td>\n",
              "      <td>0.0</td>\n",
              "      <td>1351275</td>\n",
              "      <td>162662</td>\n",
              "      <td>318.68</td>\n",
              "      <td>9</td>\n",
              "      <td>4240.225304</td>\n",
              "      <td>12.037668</td>\n",
              "    </tr>\n",
              "    <tr>\n",
              "      <th>2147</th>\n",
              "      <td>2148</td>\n",
              "      <td>Guarulhos</td>\n",
              "      <td>28</td>\n",
              "      <td>2</td>\n",
              "      <td>2020-02-28</td>\n",
              "      <td>0</td>\n",
              "      <td>0</td>\n",
              "      <td>0.0</td>\n",
              "      <td>0.0</td>\n",
              "      <td>0</td>\n",
              "      <td>0</td>\n",
              "      <td>0.0</td>\n",
              "      <td>0.0</td>\n",
              "      <td>0.0</td>\n",
              "      <td>1351275</td>\n",
              "      <td>162662</td>\n",
              "      <td>318.68</td>\n",
              "      <td>9</td>\n",
              "      <td>4240.225304</td>\n",
              "      <td>12.037668</td>\n",
              "    </tr>\n",
              "    <tr>\n",
              "      <th>2792</th>\n",
              "      <td>2793</td>\n",
              "      <td>Guarulhos</td>\n",
              "      <td>29</td>\n",
              "      <td>2</td>\n",
              "      <td>2020-02-29</td>\n",
              "      <td>0</td>\n",
              "      <td>0</td>\n",
              "      <td>0.0</td>\n",
              "      <td>0.0</td>\n",
              "      <td>0</td>\n",
              "      <td>0</td>\n",
              "      <td>0.0</td>\n",
              "      <td>0.0</td>\n",
              "      <td>0.0</td>\n",
              "      <td>1351275</td>\n",
              "      <td>162662</td>\n",
              "      <td>318.68</td>\n",
              "      <td>9</td>\n",
              "      <td>4240.225304</td>\n",
              "      <td>12.037668</td>\n",
              "    </tr>\n",
              "  </tbody>\n",
              "</table>\n",
              "</div>"
            ],
            "text/plain": [
              "      indice  municipio  dia  mes        data  casos  casos_novos  casos_pc  \\\n",
              "212      213  Guarulhos   25    2  2020-02-25      0            0       0.0   \n",
              "857      858  Guarulhos   26    2  2020-02-26      0            0       0.0   \n",
              "1502    1503  Guarulhos   27    2  2020-02-27      0            0       0.0   \n",
              "2147    2148  Guarulhos   28    2  2020-02-28      0            0       0.0   \n",
              "2792    2793  Guarulhos   29    2  2020-02-29      0            0       0.0   \n",
              "\n",
              "      casos_mm7d  obitos  obitos_novos  obitos_pc  obitos_mm7d  letalidade  \\\n",
              "212          0.0       0             0        0.0          0.0         0.0   \n",
              "857          0.0       0             0        0.0          0.0         0.0   \n",
              "1502         0.0       0             0        0.0          0.0         0.0   \n",
              "2147         0.0       0             0        0.0          0.0         0.0   \n",
              "2792         0.0       0             0        0.0          0.0         0.0   \n",
              "\n",
              "          pop  pop_60    area  semana_epidem    densidade  porcentagem_idosos  \n",
              "212   1351275  162662  318.68              9  4240.225304           12.037668  \n",
              "857   1351275  162662  318.68              9  4240.225304           12.037668  \n",
              "1502  1351275  162662  318.68              9  4240.225304           12.037668  \n",
              "2147  1351275  162662  318.68              9  4240.225304           12.037668  \n",
              "2792  1351275  162662  318.68              9  4240.225304           12.037668  "
            ]
          },
          "execution_count": 61,
          "metadata": {},
          "output_type": "execute_result"
        }
      ],
      "source": [
        "sem_outliers_2.head()"
      ]
    },
    {
      "cell_type": "code",
      "execution_count": 62,
      "metadata": {
        "id": "7Od3QJv-33xA"
      },
      "outputs": [
        {
          "data": {
            "image/png": "[encoded data removed]",
            "text/plain": [
              "<Figure size 640x480 with 1 Axes>"
            ]
          },
          "metadata": {},
          "output_type": "display_data"
        }
      ],
      "source": [
        "sns.boxplot(sem_outliers_2, y='casos_novos', color='g');"
      ]
    },
    {
      "cell_type": "markdown",
      "metadata": {
        "id": "ZguTv6FST_QJ"
      },
      "source": [
        "# **Medidas de Dispersão**"
      ]
    },
    {
      "cell_type": "code",
      "execution_count": 63,
      "metadata": {
        "id": "3oYppm2VUG-w"
      },
      "outputs": [],
      "source": [
        "# Variância:\n",
        "# nome_tabela['nome_coluna'].var()"
      ]
    },
    {
      "cell_type": "code",
      "execution_count": 64,
      "metadata": {
        "id": "mhVgYdfTUSlR"
      },
      "outputs": [
        {
          "data": {
            "text/plain": [
              "24.073495048735744"
            ]
          },
          "execution_count": 64,
          "metadata": {},
          "output_type": "execute_result"
        }
      ],
      "source": [
        "# Variância óbitos novos:\n",
        "\n",
        "covid_sjrp['obitos_novos'].var()"
      ]
    },
    {
      "cell_type": "code",
      "execution_count": 65,
      "metadata": {
        "id": "VFhEWyfsUY4A"
      },
      "outputs": [
        {
          "data": {
            "text/plain": [
              "132.50766444950426"
            ]
          },
          "execution_count": 65,
          "metadata": {},
          "output_type": "execute_result"
        }
      ],
      "source": [
        "covid_guarulhos['obitos_novos'].var()"
      ]
    },
    {
      "cell_type": "code",
      "execution_count": 66,
      "metadata": {
        "id": "bJEgBYukUcmQ"
      },
      "outputs": [
        {
          "data": {
            "text/plain": [
              "24131.805033137913"
            ]
          },
          "execution_count": 66,
          "metadata": {},
          "output_type": "execute_result"
        }
      ],
      "source": [
        "# Variância casos novos:\n",
        "\n",
        "covid_sjrp.casos_novos.var()"
      ]
    },
    {
      "cell_type": "code",
      "execution_count": 67,
      "metadata": {
        "id": "mkvYMn8XUfao"
      },
      "outputs": [
        {
          "data": {
            "text/plain": [
              "10052.440725269078"
            ]
          },
          "execution_count": 67,
          "metadata": {},
          "output_type": "execute_result"
        }
      ],
      "source": [
        "covid_guarulhos.casos_novos.var()"
      ]
    },
    {
      "cell_type": "code",
      "execution_count": 68,
      "metadata": {
        "id": "3EPTZc3CUft5"
      },
      "outputs": [],
      "source": [
        "# Desvio padrão:\n",
        "# nome_tabela['nome_coluna'].std()"
      ]
    },
    {
      "cell_type": "code",
      "execution_count": 69,
      "metadata": {
        "id": "Vd48pjAyUx7f"
      },
      "outputs": [
        {
          "data": {
            "text/plain": [
              "4.90647480873343"
            ]
          },
          "execution_count": 69,
          "metadata": {},
          "output_type": "execute_result"
        }
      ],
      "source": [
        "# Desvio padrão óbitos novos:\n",
        "\n",
        "covid_sjrp.obitos_novos.std()"
      ]
    },
    {
      "cell_type": "code",
      "execution_count": 70,
      "metadata": {
        "id": "ovSl5PopU-RY"
      },
      "outputs": [
        {
          "data": {
            "text/plain": [
              "11.511197350819083"
            ]
          },
          "execution_count": 70,
          "metadata": {},
          "output_type": "execute_result"
        }
      ],
      "source": [
        "covid_guarulhos.obitos_novos.std()"
      ]
    },
    {
      "cell_type": "code",
      "execution_count": 71,
      "metadata": {
        "id": "7A33dBArU-gH"
      },
      "outputs": [
        {
          "data": {
            "text/plain": [
              "155.34415030228178"
            ]
          },
          "execution_count": 71,
          "metadata": {},
          "output_type": "execute_result"
        }
      ],
      "source": [
        "# Desvio padrão casos novos:\n",
        "\n",
        "covid_sjrp.casos_novos.std()"
      ]
    },
    {
      "cell_type": "code",
      "execution_count": 72,
      "metadata": {
        "id": "UvEsXNFlVMXv"
      },
      "outputs": [
        {
          "data": {
            "text/plain": [
              "100.26186077102837"
            ]
          },
          "execution_count": 72,
          "metadata": {},
          "output_type": "execute_result"
        }
      ],
      "source": [
        "covid_guarulhos.casos_novos.std()"
      ]
    },
    {
      "cell_type": "code",
      "execution_count": 73,
      "metadata": {
        "id": "d_MYMrDoVPeX"
      },
      "outputs": [
        {
          "data": {
            "text/plain": [
              "count     579.000000\n",
              "mean      164.034542\n",
              "std       155.344150\n",
              "min         0.000000\n",
              "25%        34.000000\n",
              "50%       133.000000\n",
              "75%       243.500000\n",
              "max      1040.000000\n",
              "Name: casos_novos, dtype: float64"
            ]
          },
          "execution_count": 73,
          "metadata": {},
          "output_type": "execute_result"
        }
      ],
      "source": [
        "covid_sjrp.casos_novos.describe()  # std"
      ]
    },
    {
      "cell_type": "code",
      "execution_count": 74,
      "metadata": {
        "id": "4bBgiKOzVUdi"
      },
      "outputs": [
        {
          "data": {
            "text/plain": [
              "count    579.000000\n",
              "mean     109.495682\n",
              "std      100.261861\n",
              "min        0.000000\n",
              "25%       27.500000\n",
              "50%       87.000000\n",
              "75%      161.000000\n",
              "max      698.000000\n",
              "Name: casos_novos, dtype: float64"
            ]
          },
          "execution_count": 74,
          "metadata": {},
          "output_type": "execute_result"
        }
      ],
      "source": [
        "covid_guarulhos.casos_novos.describe()"
      ]
    },
    {
      "cell_type": "markdown",
      "metadata": {
        "id": "g1vOffzHrLZK"
      },
      "source": [
        "# **Testes de Normalidade**"
      ]
    },
    {
      "cell_type": "markdown",
      "metadata": {
        "id": "tzdkiEqvrP7Q"
      },
      "source": [
        "Existem testes de normalidade numéricos e testes gráficos:\n",
        "\n",
        "Histograma\n",
        "\n",
        "QQplot\n",
        "\n",
        "Shapiro-Wilk (limite de 5000 amostras)\n",
        "\n",
        "Kolmogorov_Smirnov"
      ]
    },
    {
      "cell_type": "markdown",
      "metadata": {
        "id": "0SzZ0qs3riEH"
      },
      "source": [
        "## **Histograma**"
      ]
    },
    {
      "cell_type": "code",
      "execution_count": 75,
      "metadata": {
        "id": "yBlOcw56rPGw"
      },
      "outputs": [
        {
          "data": {
            "image/png": "[encoded data removed]",
            "text/plain": [
              "<Figure size 640x480 with 1 Axes>"
            ]
          },
          "metadata": {},
          "output_type": "display_data"
        }
      ],
      "source": [
        "# sns.histplot(nome_tabela, x='nome_coluna', bins=num_bins, color=\"cor_grafico\", kde=False_True, stat=\"eixo_y\");\n",
        "\n",
        "sns.histplot(covid_sjrp, x='casos_novos', bins=32, color=\"orange\", kde=True, stat=\"count\",);"
      ]
    },
    {
      "cell_type": "markdown",
      "metadata": {
        "id": "JE3--Z26tS9s"
      },
      "source": [
        "## **QQPLOT**"
      ]
    },
    {
      "cell_type": "code",
      "execution_count": 76,
      "metadata": {
        "id": "gVXLRsAltbxb"
      },
      "outputs": [
        {
          "data": {
            "image/png": "[encoded data removed]",
            "text/plain": [
              "<Figure size 640x480 with 1 Axes>"
            ]
          },
          "metadata": {},
          "output_type": "display_data"
        }
      ],
      "source": [
        "import scipy.stats as stats\n",
        "\n",
        "# stats.probplot(nome_tabela['nome_coluna'], dist=\"tipo_distribuição\", plot=plt)\n",
        "# plt.title(\"titulo_grafico\")\n",
        "\n",
        "stats.probplot(covid_sjrp['casos_novos'], dist=\"norm\", plot=plt)\n",
        "plt.title(\"Análise Normalidade\")\n",
        "plt.show()\n",
        "\n",
        "# Eixo x --> Quantis de distribuições teóricas\n",
        "# Eixo y --> Quantis de distribuições empíricas\n",
        "# Quanto mais próximos (pontos azuis) da linha vermelha, mais normalidade"
      ]
    },
    {
      "cell_type": "markdown",
      "metadata": {
        "id": "UsFW01gzvBx4"
      },
      "source": [
        "## **Teste de Shapiro-Wilk**\n",
        "\n",
        "CRITÉRIOS:\n",
        "\n",
        "- Nível de significância de 0,05 ou 5% (mais utlizado)\n",
        "\n",
        "- Ho = Distribuição Normal --> p >= 0,05\n",
        "\n",
        "- Ha = Distribuição Não Normal --> p < 0,05"
      ]
    },
    {
      "cell_type": "code",
      "execution_count": 77,
      "metadata": {
        "id": "6LxXqym9vTpn"
      },
      "outputs": [
        {
          "data": {
            "text/plain": [
              "ShapiroResult(statistic=0.8849250078201294, pvalue=2.4392858330546945e-20)"
            ]
          },
          "execution_count": 77,
          "metadata": {},
          "output_type": "execute_result"
        }
      ],
      "source": [
        "# stats.shapiro(nome_tabela.nome_coluna)\n",
        "\n",
        "stats.shapiro(covid_sjrp.casos_novos,)\n",
        "\n",
        "# Retorna estatística de teste (W) e p-valor"
      ]
    },
    {
      "cell_type": "code",
      "execution_count": 78,
      "metadata": {
        "id": "MPzAOnyKvxwn"
      },
      "outputs": [
        {
          "name": "stdout",
          "output_type": "stream",
          "text": [
            "Estatística de teste (W) = 0.88\n",
            "p_valor = 2.4392858330546945e-20\n"
          ]
        }
      ],
      "source": [
        "estatistica, p = stats.shapiro(covid_sjrp.casos_novos)\n",
        "print(f'Estatística de teste (W) = {round(estatistica, 2)}')\n",
        "print(f'p_valor = {p}')"
      ]
    },
    {
      "cell_type": "markdown",
      "metadata": {
        "id": "0S16T4ZtwXnt"
      },
      "source": [
        "## **Teste Lillefors (Kolmogorov-Smirnov)**"
      ]
    },
    {
      "cell_type": "code",
      "execution_count": 79,
      "metadata": {
        "id": "ctSnFvVfwlU3"
      },
      "outputs": [
        {
          "name": "stdout",
          "output_type": "stream",
          "text": [
            "Estatística de teste (D) = 0.15\n",
            "p_valor = 0.0009999999999998899\n"
          ]
        }
      ],
      "source": [
        "from statsmodels.stats.diagnostic import lilliefors\n",
        "\n",
        "# estatistica_teste, p_valor = lilliefors(nome_tabela.nome_tabela, dist='tipo_distribuição')\n",
        "\n",
        "estatistica, p = lilliefors(covid_sjrp.casos_novos, dist='norm')\n",
        "print(f'Estatística de teste (D) = {round(estatistica, 2)}')\n",
        "print(f'p_valor = {p}')"
      ]
    },
    {
      "cell_type": "markdown",
      "metadata": {
        "id": "U_McoBR4xb51"
      },
      "source": [
        "# **Correlação Linear**"
      ]
    },
    {
      "cell_type": "markdown",
      "metadata": {
        "id": "yNt0JcpKHHgN"
      },
      "source": [
        "## **Gráfico Dispersão**"
      ]
    },
    {
      "cell_type": "code",
      "execution_count": 80,
      "metadata": {
        "id": "lZGr3MmBxip6"
      },
      "outputs": [
        {
          "data": {
            "image/png": "[encoded data removed]",
            "text/plain": [
              "<Figure size 640x480 with 1 Axes>"
            ]
          },
          "metadata": {},
          "output_type": "display_data"
        }
      ],
      "source": [
        "# plt.scatter(nome_tabela.nome_coluna_x, nome_tabela.nome_coluna_y)\n",
        "# plt.title('titulo_grafico')\n",
        "# plt.xlabel('nome_eixo_x')\n",
        "# plt.ylabel('nome_eixo_y')\n",
        "# plt.grid(True_False)\n",
        "\n",
        "plt.scatter(covid_sjrp.casos, covid_sjrp.obitos)\n",
        "plt.title('Correlação')\n",
        "plt.xlabel('Casos')\n",
        "plt.ylabel('Óbitos')\n",
        "plt.grid(False)\n",
        "\n",
        "plt.show()"
      ]
    },
    {
      "cell_type": "code",
      "execution_count": 81,
      "metadata": {
        "id": "23DNocohH8F8"
      },
      "outputs": [
        {
          "data": {
            "text/html": [
              "<div>\n",
              "<style scoped>\n",
              "    .dataframe tbody tr th:only-of-type {\n",
              "        vertical-align: middle;\n",
              "    }\n",
              "\n",
              "    .dataframe tbody tr th {\n",
              "        vertical-align: top;\n",
              "    }\n",
              "\n",
              "    .dataframe thead th {\n",
              "        text-align: right;\n",
              "    }\n",
              "</style>\n",
              "<table border=\"1\" class=\"dataframe\">\n",
              "  <thead>\n",
              "    <tr style=\"text-align: right;\">\n",
              "      <th></th>\n",
              "      <th>casos</th>\n",
              "      <th>casos_novos</th>\n",
              "      <th>obitos</th>\n",
              "      <th>obitos_novos</th>\n",
              "    </tr>\n",
              "  </thead>\n",
              "  <tbody>\n",
              "    <tr>\n",
              "      <th>556</th>\n",
              "      <td>0</td>\n",
              "      <td>0</td>\n",
              "      <td>0</td>\n",
              "      <td>0</td>\n",
              "    </tr>\n",
              "    <tr>\n",
              "      <th>1201</th>\n",
              "      <td>0</td>\n",
              "      <td>0</td>\n",
              "      <td>0</td>\n",
              "      <td>0</td>\n",
              "    </tr>\n",
              "    <tr>\n",
              "      <th>1846</th>\n",
              "      <td>0</td>\n",
              "      <td>0</td>\n",
              "      <td>0</td>\n",
              "      <td>0</td>\n",
              "    </tr>\n",
              "    <tr>\n",
              "      <th>2491</th>\n",
              "      <td>0</td>\n",
              "      <td>0</td>\n",
              "      <td>0</td>\n",
              "      <td>0</td>\n",
              "    </tr>\n",
              "    <tr>\n",
              "      <th>3136</th>\n",
              "      <td>0</td>\n",
              "      <td>0</td>\n",
              "      <td>0</td>\n",
              "      <td>0</td>\n",
              "    </tr>\n",
              "    <tr>\n",
              "      <th>...</th>\n",
              "      <td>...</td>\n",
              "      <td>...</td>\n",
              "      <td>...</td>\n",
              "      <td>...</td>\n",
              "    </tr>\n",
              "    <tr>\n",
              "      <th>370786</th>\n",
              "      <td>94775</td>\n",
              "      <td>16</td>\n",
              "      <td>2778</td>\n",
              "      <td>5</td>\n",
              "    </tr>\n",
              "    <tr>\n",
              "      <th>371431</th>\n",
              "      <td>94813</td>\n",
              "      <td>38</td>\n",
              "      <td>2781</td>\n",
              "      <td>3</td>\n",
              "    </tr>\n",
              "    <tr>\n",
              "      <th>372076</th>\n",
              "      <td>94864</td>\n",
              "      <td>51</td>\n",
              "      <td>2782</td>\n",
              "      <td>1</td>\n",
              "    </tr>\n",
              "    <tr>\n",
              "      <th>372721</th>\n",
              "      <td>94908</td>\n",
              "      <td>44</td>\n",
              "      <td>2783</td>\n",
              "      <td>1</td>\n",
              "    </tr>\n",
              "    <tr>\n",
              "      <th>373366</th>\n",
              "      <td>94976</td>\n",
              "      <td>68</td>\n",
              "      <td>2786</td>\n",
              "      <td>3</td>\n",
              "    </tr>\n",
              "  </tbody>\n",
              "</table>\n",
              "<p>579 rows × 4 columns</p>\n",
              "</div>"
            ],
            "text/plain": [
              "        casos  casos_novos  obitos  obitos_novos\n",
              "556         0            0       0             0\n",
              "1201        0            0       0             0\n",
              "1846        0            0       0             0\n",
              "2491        0            0       0             0\n",
              "3136        0            0       0             0\n",
              "...       ...          ...     ...           ...\n",
              "370786  94775           16    2778             5\n",
              "371431  94813           38    2781             3\n",
              "372076  94864           51    2782             1\n",
              "372721  94908           44    2783             1\n",
              "373366  94976           68    2786             3\n",
              "\n",
              "[579 rows x 4 columns]"
            ]
          },
          "execution_count": 81,
          "metadata": {},
          "output_type": "execute_result"
        }
      ],
      "source": [
        "# Cria um DataFrame apenas com as varáveis desejadas para a análise:\n",
        "\n",
        "df = covid_sjrp[['casos', 'casos_novos', 'obitos', 'obitos_novos']]\n",
        "df"
      ]
    },
    {
      "cell_type": "markdown",
      "metadata": {
        "id": "6LciozbQIZS8"
      },
      "source": [
        "### **Determinação da correlação:**\n",
        "\n",
        "method:\n",
        "\n",
        "- \"pearson\" para dados paramétricos (normalidade e homocedasticidade)\n",
        "\n",
        "- \"spearman\" (volume \"grande\" de dados não paramétricos: maior ou igual a 30)\n",
        "\n",
        "- \"kendall\" (volume \"pequeno\" de dados não paramétricos: menor que 30)"
      ]
    },
    {
      "cell_type": "markdown",
      "metadata": {
        "id": "sBbv2AvxKWYn"
      },
      "source": [
        "### **Normalidade**"
      ]
    },
    {
      "cell_type": "code",
      "execution_count": 82,
      "metadata": {
        "id": "pmjBZ28bI2d8"
      },
      "outputs": [
        {
          "data": {
            "image/png": "[encoded data removed]",
            "text/plain": [
              "<Figure size 640x480 with 1 Axes>"
            ]
          },
          "metadata": {},
          "output_type": "display_data"
        }
      ],
      "source": [
        "stats.probplot(covid_sjrp['obitos'], dist=\"norm\", plot=plt)\n",
        "plt.title(\"Análise Normalidade\")\n",
        "plt.show()"
      ]
    },
    {
      "cell_type": "code",
      "execution_count": 83,
      "metadata": {
        "id": "FsVlS3WqJTwh"
      },
      "outputs": [
        {
          "name": "stdout",
          "output_type": "stream",
          "text": [
            "9.772331143747076e-21\n"
          ]
        }
      ],
      "source": [
        "estatistica, p = stats.shapiro(covid_sjrp.obitos)\n",
        "\n",
        "print(p)"
      ]
    },
    {
      "cell_type": "markdown",
      "metadata": {
        "id": "0A9gtztuniyl"
      },
      "source": [
        "### **Correlação Linear**"
      ]
    },
    {
      "cell_type": "code",
      "execution_count": 84,
      "metadata": {
        "id": "7MZC4AFjKbXd"
      },
      "outputs": [
        {
          "data": {
            "text/html": [
              "<div>\n",
              "<style scoped>\n",
              "    .dataframe tbody tr th:only-of-type {\n",
              "        vertical-align: middle;\n",
              "    }\n",
              "\n",
              "    .dataframe tbody tr th {\n",
              "        vertical-align: top;\n",
              "    }\n",
              "\n",
              "    .dataframe thead th {\n",
              "        text-align: right;\n",
              "    }\n",
              "</style>\n",
              "<table border=\"1\" class=\"dataframe\">\n",
              "  <thead>\n",
              "    <tr style=\"text-align: right;\">\n",
              "      <th></th>\n",
              "      <th>casos</th>\n",
              "      <th>casos_novos</th>\n",
              "      <th>obitos</th>\n",
              "      <th>obitos_novos</th>\n",
              "    </tr>\n",
              "  </thead>\n",
              "  <tbody>\n",
              "    <tr>\n",
              "      <th>casos</th>\n",
              "      <td>1.000000</td>\n",
              "      <td>0.419272</td>\n",
              "      <td>0.999829</td>\n",
              "      <td>0.458497</td>\n",
              "    </tr>\n",
              "    <tr>\n",
              "      <th>casos_novos</th>\n",
              "      <td>0.419272</td>\n",
              "      <td>1.000000</td>\n",
              "      <td>0.418955</td>\n",
              "      <td>0.675925</td>\n",
              "    </tr>\n",
              "    <tr>\n",
              "      <th>obitos</th>\n",
              "      <td>0.999829</td>\n",
              "      <td>0.418955</td>\n",
              "      <td>1.000000</td>\n",
              "      <td>0.458785</td>\n",
              "    </tr>\n",
              "    <tr>\n",
              "      <th>obitos_novos</th>\n",
              "      <td>0.458497</td>\n",
              "      <td>0.675925</td>\n",
              "      <td>0.458785</td>\n",
              "      <td>1.000000</td>\n",
              "    </tr>\n",
              "  </tbody>\n",
              "</table>\n",
              "</div>"
            ],
            "text/plain": [
              "                 casos  casos_novos    obitos  obitos_novos\n",
              "casos         1.000000     0.419272  0.999829      0.458497\n",
              "casos_novos   0.419272     1.000000  0.418955      0.675925\n",
              "obitos        0.999829     0.418955  1.000000      0.458785\n",
              "obitos_novos  0.458497     0.675925  0.458785      1.000000"
            ]
          },
          "execution_count": 84,
          "metadata": {},
          "output_type": "execute_result"
        }
      ],
      "source": [
        "# nome_correlacao = df.corr(method='nome_metodo')\n",
        "\n",
        "correlacoes = df.corr(method='spearman')\n",
        "correlacoes"
      ]
    },
    {
      "cell_type": "code",
      "execution_count": 85,
      "metadata": {
        "id": "HDsc6LxGoEcc"
      },
      "outputs": [
        {
          "data": {
            "image/png": "[encoded data removed]",
            "text/plain": [
              "<Figure size 640x480 with 2 Axes>"
            ]
          },
          "metadata": {},
          "output_type": "display_data"
        }
      ],
      "source": [
        "# Mapa de calor:\n",
        "\n",
        "# plt.figure()\n",
        "# sns.heatmap(nome_correlacao, annot=True_False);  --> annot: Anotar valores no mapa\n",
        "\n",
        "plt.figure()\n",
        "sns.heatmap(correlacoes, annot=True);"
      ]
    },
    {
      "cell_type": "code",
      "execution_count": 86,
      "metadata": {
        "id": "ExDR5NQBor5z"
      },
      "outputs": [
        {
          "data": {
            "image/png": "[encoded data removed]",
            "text/plain": [
              "<Figure size 1000x1000 with 20 Axes>"
            ]
          },
          "metadata": {},
          "output_type": "display_data"
        }
      ],
      "source": [
        "# Criar gráficos de dispersões:\n",
        "# sns.pairplot(nome_tabela);\n",
        "\n",
        "sns.pairplot(df);"
      ]
    },
    {
      "cell_type": "markdown",
      "metadata": {
        "id": "mLUsNKHDp5fZ"
      },
      "source": [
        "# **Introdução à Regressão Linear Simples com Statsmodels**"
      ]
    },
    {
      "cell_type": "code",
      "execution_count": 87,
      "metadata": {
        "id": "bKHm4gdKrh7V"
      },
      "outputs": [
        {
          "name": "stdout",
          "output_type": "stream",
          "text": [
            "                            OLS Regression Results                            \n",
            "==============================================================================\n",
            "Dep. Variable:                 obitos   R-squared:                       0.991\n",
            "Model:                            OLS   Adj. R-squared:                  0.991\n",
            "Method:                 Least Squares   F-statistic:                 6.280e+04\n",
            "Date:                Sat, 07 Oct 2023   Prob (F-statistic):               0.00\n",
            "Time:                        19:47:39   Log-Likelihood:                -3431.0\n",
            "No. Observations:                 579   AIC:                             6866.\n",
            "Df Residuals:                     577   BIC:                             6875.\n",
            "Df Model:                           1                                         \n",
            "Covariance Type:            nonrobust                                         \n",
            "==============================================================================\n",
            "                 coef    std err          t      P>|t|      [0.025      0.975]\n",
            "------------------------------------------------------------------------------\n",
            "Intercept    -54.2671      5.873     -9.240      0.000     -65.802     -42.732\n",
            "casos          0.0293      0.000    250.608      0.000       0.029       0.030\n",
            "==============================================================================\n",
            "Omnibus:                      119.999   Durbin-Watson:                   0.002\n",
            "Prob(Omnibus):                  0.000   Jarque-Bera (JB):              195.292\n",
            "Skew:                          -1.370   Prob(JB):                     3.92e-43\n",
            "Kurtosis:                       3.767   Cond. No.                     7.82e+04\n",
            "==============================================================================\n",
            "\n",
            "Notes:\n",
            "[1] Standard Errors assume that the covariance matrix of the errors is correctly specified.\n",
            "[2] The condition number is large, 7.82e+04. This might indicate that there are\n",
            "strong multicollinearity or other numerical problems.\n"
          ]
        }
      ],
      "source": [
        "# Chamar regressão linear simples:\n",
        "\n",
        "import statsmodels.formula.api as smf\n",
        "import statsmodels.stats.api as sms\n",
        "\n",
        "# nome_regressao = smf.ols('variavel_dependente(y) ~ variavel_independente(x)', data=nome_tabela).fit()\n",
        "\n",
        "regressao = smf.ols('obitos ~ casos', data=covid_sjrp).fit()\n",
        "print(regressao.summary())  # Imprime um sumário"
      ]
    },
    {
      "cell_type": "code",
      "execution_count": 88,
      "metadata": {
        "id": "qEVOd2j1tNPa"
      },
      "outputs": [
        {
          "name": "stdout",
          "output_type": "stream",
          "text": [
            "           Coeficientes\n",
            "Intercept    -54.267056\n",
            "casos          0.029288\n"
          ]
        }
      ],
      "source": [
        "# Coeficientes:\n",
        "\n",
        "# nome_tabela_coef = pd.DataFrame(nome_regressao.params)\n",
        "# nome_tabela_coef.columns = ['nome_coluna']\n",
        "\n",
        "coefs = pd.DataFrame(regressao.params)\n",
        "coefs.columns = ['Coeficientes']\n",
        "print(coefs)"
      ]
    },
    {
      "cell_type": "markdown",
      "metadata": {
        "id": "-zjnmAFKttnh"
      },
      "source": [
        "## **Equação:**\n",
        "\n",
        "y = mx + b\n",
        "\n",
        "obitos = 0.029 * casos - 54.26 "
      ]
    },
    {
      "cell_type": "code",
      "execution_count": 89,
      "metadata": {
        "id": "9qRcfmFLuCdI"
      },
      "outputs": [
        {
          "data": {
            "image/png": "[encoded data removed]",
            "text/plain": [
              "<Figure size 640x480 with 1 Axes>"
            ]
          },
          "metadata": {},
          "output_type": "display_data"
        }
      ],
      "source": [
        "# Gráfico de dispersão:\n",
        "plt.scatter(y=covid_sjrp.obitos, x=covid_sjrp.casos, color='blue', s=2, alpha=0.5)  # Quanto maior o s, maior a bolinha\n",
        "\n",
        "# Limitações para o gráfico:\n",
        "x_plot = np.linspace(min(covid_sjrp.casos), max(covid_sjrp.casos), len(covid_sjrp.obitos))\n",
        "\n",
        "# Equação:\n",
        "plt.plot(x_plot, x_plot * regressao.params.iloc[1] + regressao.params.iloc[0], color='r')\n",
        "\n",
        "plt.title('Reta de regressão')\n",
        "plt.ylabel('Óbitos')\n",
        "plt.xlabel('Casos')\n",
        "plt.show()"
      ]
    }
  ],
  "metadata": {
    "colab": {
      "collapsed_sections": [],
      "name": "Seção 4 - Análises Estatísticas - Projeto 1",
      "provenance": []
    },
    "kernelspec": {
      "display_name": "Python 3",
      "name": "python3"
    },
    "language_info": {
      "codemirror_mode": {
        "name": "ipython",
        "version": 3
      },
      "file_extension": ".py",
      "mimetype": "text/x-python",
      "name": "python",
      "nbconvert_exporter": "python",
      "pygments_lexer": "ipython3",
      "version": "3.10.7"
    }
  },
  "nbformat": 4,
  "nbformat_minor": 0
}
