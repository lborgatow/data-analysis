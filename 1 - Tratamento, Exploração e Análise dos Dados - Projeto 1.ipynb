{
  "nbformat": 4,
  "nbformat_minor": 0,
  "metadata": {
    "colab": {
      "name": "Seção 3 - Tratamento, Exploração e Análise dos Dados - Projeto 1",
      "provenance": [],
      "collapsed_sections": []
    },
    "kernelspec": {
      "name": "python3",
      "display_name": "Python 3"
    },
    "language_info": {
      "name": "python"
    }
  },
  "cells": [
    {
      "cell_type": "code",
      "source": [
        "from google.colab import drive\n",
        "drive.mount('/content/drive')"
      ],
      "metadata": {
        "id": "UkFl3-qv0frj"
      },
      "execution_count": null,
      "outputs": []
    },
    {
      "cell_type": "markdown",
      "source": [
        "# **PROJETO ANÁLISE DOS DADOS DO COVID 19 NO ESTADO DE SÃO PAULO**"
      ],
      "metadata": {
        "id": "9hTRUNYVtAyr"
      }
    },
    {
      "cell_type": "markdown",
      "source": [
        "Este projeto analisa os dados dos casos de COVID-19 no estado de São Paulo do período de fevereiro de 2020 a setembro de 2021."
      ],
      "metadata": {
        "id": "-nUxsmNyT8kH"
      }
    },
    {
      "cell_type": "markdown",
      "source": [
        "Os dados estão disponíveis nos sites:\n",
        "\n",
        "https://www.seade.gov.br/coronavirus/#\n",
        "\n",
        "https://github.com/seade-R/dados-covid-sp\n",
        "\n",
        "https://www.seade.gov.br/"
      ],
      "metadata": {
        "id": "xeoOc9e9UHZQ"
      }
    },
    {
      "cell_type": "markdown",
      "source": [
        "## **Importação dos Dados**"
      ],
      "metadata": {
        "id": "Z6mVbjsitGrr"
      }
    },
    {
      "cell_type": "markdown",
      "source": [
        "### Importação de arquivos csv"
      ],
      "metadata": {
        "id": "CMcKTs_JtK5a"
      }
    },
    {
      "cell_type": "code",
      "source": [
        "# Importar bibliotecas necessárias\n",
        "\n",
        "import numpy as np\n",
        "import pandas as pd"
      ],
      "metadata": {
        "id": "anT-hPIHuDDi"
      },
      "execution_count": null,
      "outputs": []
    },
    {
      "cell_type": "code",
      "source": [
        "# Leitura de arquivo .csv:\n",
        "# variavel_tabela = pd.read_csv('caminho_arquivo', sep='separador_no_arquivo', encoding='tipo_encoding')\n",
        "\n",
        "# encoding: codificação de caracteres, normalmente utiliza-se o iso-8859-1, utf-8, latin-1)\n",
        "\n",
        "covid_sp = pd.read_csv('/content/drive/MyDrive/Udemy/Análise de Dados e Machine Learning/Seção 3/dados_covid_sp.csv',\n",
        "                       sep=';', encoding='utf-8')"
      ],
      "metadata": {
        "id": "V4SJxZmFuKwH"
      },
      "execution_count": null,
      "outputs": []
    },
    {
      "cell_type": "code",
      "source": [
        "# Exibir as informações do arquivo .csv:\n",
        "# variavel_tabela.head(linhas_exibidas)\n",
        "\n",
        "covid_sp.head(60)\n",
        "\n",
        "# objeto.método() --> Permite colocar parâmetros (entre os parênteses)"
      ],
      "metadata": {
        "id": "_7ardSqHvPHg"
      },
      "execution_count": null,
      "outputs": []
    },
    {
      "cell_type": "code",
      "source": [
        "# Quando passa do limite(60) de linhas exibidas, são exibidas as 5 primeiras e 5 ultimas linhas de acordo com \"linhas_exibidas\"\n",
        "\n",
        "covid_sp.head(61)"
      ],
      "metadata": {
        "id": "Hq1Eoy-bykmo"
      },
      "execution_count": null,
      "outputs": []
    },
    {
      "cell_type": "code",
      "source": [
        "# Verificar quantos registros (linhas) e variáveis (colunas) que o arquivo possui:\n",
        "# variavel_tabela.shape \n",
        "\n",
        "covid_sp.shape\n",
        "\n",
        "# objeto.atributo --> Não permite colocar parâmetros"
      ],
      "metadata": {
        "id": "zLq_9AzawWOq"
      },
      "execution_count": null,
      "outputs": []
    },
    {
      "cell_type": "markdown",
      "source": [
        "### Importação de arquivos Excel"
      ],
      "metadata": {
        "id": "crDgvhSTyvD_"
      }
    },
    {
      "cell_type": "code",
      "source": [
        "# Leitura de arquivo .xlsx:\n",
        "# variavel_tabela = pd.read_excel('caminho_arquivo')\n",
        "\n",
        "covid_sp_2 = pd.read_excel('/content/drive/MyDrive/Udemy/Análise de Dados e Machine Learning/Seção 3/dados_covid_sp.xlsx',)\n",
        "\n",
        "# Arquivos excel demoram mais que os csv para carregar!!!"
      ],
      "metadata": {
        "id": "wKJ_TiMEzmld"
      },
      "execution_count": null,
      "outputs": []
    },
    {
      "cell_type": "code",
      "source": [
        "covid_sp_2.head()"
      ],
      "metadata": {
        "id": "WCFgovpzz_7U"
      },
      "execution_count": null,
      "outputs": []
    },
    {
      "cell_type": "code",
      "source": [
        "covid_sp_2.shape"
      ],
      "metadata": {
        "id": "1dloArib0EKb"
      },
      "execution_count": null,
      "outputs": []
    },
    {
      "cell_type": "markdown",
      "source": [
        "### Importação através de uma url"
      ],
      "metadata": {
        "id": "eRICz1f73fC-"
      }
    },
    {
      "cell_type": "code",
      "source": [
        "import numpy as np\n",
        "import pandas as pd"
      ],
      "metadata": {
        "id": "JIM8VKpvfcNl"
      },
      "execution_count": null,
      "outputs": []
    },
    {
      "cell_type": "code",
      "source": [
        "# variavel_url = \"endereço_url\"\n",
        "\n",
        "url = \"https://archive.ics.uci.edu/ml/machine-learning-databases/iris/iris.data\""
      ],
      "metadata": {
        "id": "QD4R_hbf3icc"
      },
      "execution_count": null,
      "outputs": []
    },
    {
      "cell_type": "code",
      "source": [
        "# Se não existir nomes nas colunas, é possível nomeá-las:\n",
        "# variavel_colunas = ['nome_coluna_1', nome_coluna_2', ...]\n",
        "\n",
        "colnames = ['sepal-length', 'sepal-width', 'petal-length', 'petal-width', 'Class']"
      ],
      "metadata": {
        "id": "tHW6ZctgHVX5"
      },
      "execution_count": null,
      "outputs": []
    },
    {
      "cell_type": "code",
      "source": [
        "# variavel_tabela = pd.read_csv(variavel_url, names=variavel_colunas)\n",
        "\n",
        "iris = pd.read_csv(url, names=colnames)"
      ],
      "metadata": {
        "id": "wMr6sxxpH0yS"
      },
      "execution_count": null,
      "outputs": []
    },
    {
      "cell_type": "code",
      "source": [
        "iris.head()"
      ],
      "metadata": {
        "id": "mNM14eaGIOma"
      },
      "execution_count": null,
      "outputs": []
    },
    {
      "cell_type": "code",
      "source": [
        "type(iris)"
      ],
      "metadata": {
        "id": "qmqp8Ny4Ii95"
      },
      "execution_count": null,
      "outputs": []
    },
    {
      "cell_type": "code",
      "source": [
        "# Utilizar para consultas\n",
        "\n",
        "iris.shape"
      ],
      "metadata": {
        "id": "h_llKKn1I2Zv"
      },
      "execution_count": null,
      "outputs": []
    },
    {
      "cell_type": "code",
      "source": [
        "# Utilizar nos códigos (ex: for, while, funções, etc) \n",
        "\n",
        "len(iris)"
      ],
      "metadata": {
        "id": "NThVk9V5I7_W"
      },
      "execution_count": null,
      "outputs": []
    },
    {
      "cell_type": "markdown",
      "source": [
        "### Datasets das bibliotecas do Python"
      ],
      "metadata": {
        "id": "JHkCvaDdKUdE"
      }
    },
    {
      "cell_type": "markdown",
      "source": [
        "https://www.statsmodels.org/stable/datasets/index.html"
      ],
      "metadata": {
        "id": "9_9paT2eKgAz"
      }
    },
    {
      "cell_type": "code",
      "source": [
        "import statsmodels.api as sm"
      ],
      "metadata": {
        "id": "R3lxwD2NKZc0"
      },
      "execution_count": null,
      "outputs": []
    },
    {
      "cell_type": "code",
      "source": [
        "# Importar tabela de dados:\n",
        "# variavel = sm.datasets.nome_tabela.load_pandas().data\n",
        "\n",
        "cancer = sm.datasets.cancer.load_pandas().data\n",
        "cancer.head()"
      ],
      "metadata": {
        "id": "sZEGQzHFKtO9"
      },
      "execution_count": null,
      "outputs": []
    },
    {
      "cell_type": "code",
      "source": [
        "type(cancer)"
      ],
      "metadata": {
        "id": "b671lEABLlvL"
      },
      "execution_count": null,
      "outputs": []
    },
    {
      "cell_type": "code",
      "source": [
        "cancer.shape"
      ],
      "metadata": {
        "id": "zRctMDxvLn9Q"
      },
      "execution_count": null,
      "outputs": []
    },
    {
      "cell_type": "markdown",
      "source": [
        "https://scikit-learn.org/stable/datasets/toy_dataset.html"
      ],
      "metadata": {
        "id": "crbP0BkYLz8q"
      }
    },
    {
      "cell_type": "code",
      "source": [
        "import sklearn\n",
        "from sklearn import datasets"
      ],
      "metadata": {
        "id": "F7cnXE-dL5dZ"
      },
      "execution_count": null,
      "outputs": []
    },
    {
      "cell_type": "code",
      "source": [
        "# Importar tabela de dados:\n",
        "# variavel_dataset = datasets.load_nomeDataset()\n",
        "\n",
        "iris = datasets.load_iris()"
      ],
      "metadata": {
        "id": "PHAYpGrMMgB3"
      },
      "execution_count": null,
      "outputs": []
    },
    {
      "cell_type": "code",
      "source": [
        "# Imprime um dicionário com as informações\n",
        "\n",
        "iris"
      ],
      "metadata": {
        "id": "TP1XL2qBM78I"
      },
      "execution_count": null,
      "outputs": []
    },
    {
      "cell_type": "code",
      "source": [
        "# Imprime um array com os dados\n",
        "\n",
        "iris.data"
      ],
      "metadata": {
        "id": "XoIVROXqNC8e"
      },
      "execution_count": null,
      "outputs": []
    },
    {
      "cell_type": "code",
      "source": [
        "# Imprime os alvos (ex: classificações das plantas)\n",
        "\n",
        "iris.target"
      ],
      "metadata": {
        "id": "CicZ_eMONmIP"
      },
      "execution_count": null,
      "outputs": []
    },
    {
      "cell_type": "code",
      "source": [
        "# Imprime os nomes dos alvos (ex: nomes das classificações das plantas)\n",
        "\n",
        "iris.target_names\n",
        "\n",
        "#           0             1            2  \n",
        "# array(['setosa' , 'versicolor', 'virginica'], dtype='<U10')"
      ],
      "metadata": {
        "id": "eQznM42BNrOl"
      },
      "execution_count": null,
      "outputs": []
    },
    {
      "cell_type": "markdown",
      "source": [
        "## **Organização dos Dados**"
      ],
      "metadata": {
        "id": "5AcNmrFlOdfa"
      }
    },
    {
      "cell_type": "markdown",
      "source": [
        "### Renomeando variáveis (colunas)"
      ],
      "metadata": {
        "id": "EAEyQeJrOpJi"
      }
    },
    {
      "cell_type": "code",
      "source": [
        "import numpy as np\n",
        "import pandas as pd\n",
        "\n",
        "path = '/content/drive/MyDrive/Udemy/Análise de Dados e Machine Learning/Seção 3/dados_covid_sp.csv'\n",
        "covid_sp = pd.read_csv(path, sep=';', encoding='utf-8')"
      ],
      "metadata": {
        "id": "lu1D9udEUqTd"
      },
      "execution_count": null,
      "outputs": []
    },
    {
      "cell_type": "code",
      "source": [
        "covid_sp.head()"
      ],
      "metadata": {
        "id": "FAuu73S6Ujl4"
      },
      "execution_count": null,
      "outputs": []
    },
    {
      "cell_type": "code",
      "source": [
        "covid_sp.shape"
      ],
      "metadata": {
        "id": "cVRmvMUzSxD3"
      },
      "execution_count": null,
      "outputs": []
    },
    {
      "cell_type": "code",
      "source": [
        "# Sobrescrever tabela de dados:\n",
        "# nome_tabela = nome_tabela.rename(columns={'nome_atual': 'nome_novo'})\n",
        "\n",
        "covid_sp = covid_sp.rename(columns={'nome_munic': 'municipio'})"
      ],
      "metadata": {
        "id": "66vtunwOVOVv"
      },
      "execution_count": null,
      "outputs": []
    },
    {
      "cell_type": "code",
      "source": [
        "# Sem sobrescrever tabela de dados:\n",
        "# nome_tabela.rename(columns={'nome_atual': 'nome_novo'}, inplace=True)\n",
        "\n",
        "covid_sp.rename(columns={'datahora': 'data'}, inplace=True)"
      ],
      "metadata": {
        "id": "R3HA1Z4HWa1a"
      },
      "execution_count": null,
      "outputs": []
    },
    {
      "cell_type": "code",
      "source": [
        "# Alterar vários nomes de uma vez:\n",
        "# nome_tabela.rename(columns={'nome_1_atual': 'nome_1_novo', 'nome_2_atual': 'nome_2_novo', ...}, inplace=True)\n",
        "\n",
        "covid_sp.rename(columns={'map_leg': 'rotulo_mapa','map_leg_s':'codigo_mapa'}, inplace=True)"
      ],
      "metadata": {
        "id": "L45akvbyXbZY"
      },
      "execution_count": null,
      "outputs": []
    },
    {
      "cell_type": "markdown",
      "source": [
        "### Excluindo variáveis (colunas)"
      ],
      "metadata": {
        "id": "QSUBfma5YlNQ"
      }
    },
    {
      "cell_type": "code",
      "source": [
        "covid_sp.head()"
      ],
      "metadata": {
        "id": "cXNJZWRmUSgY"
      },
      "execution_count": null,
      "outputs": []
    },
    {
      "cell_type": "code",
      "source": [
        "covid_sp.shape"
      ],
      "metadata": {
        "id": "fZ70wNpqTS9N"
      },
      "execution_count": null,
      "outputs": []
    },
    {
      "cell_type": "code",
      "source": [
        "# Excluir por nome (sobrescrevendo):\n",
        "# nome_tabela_alterada = nome_tabela.drop(columns=['nome_coluna'])\n",
        "\n",
        "covid_sp_alterado = covid_sp.drop(columns=['cod_ra'])"
      ],
      "metadata": {
        "id": "rZuAqPbAYqmB"
      },
      "execution_count": null,
      "outputs": []
    },
    {
      "cell_type": "code",
      "source": [
        "# Excluir por número (sobrescrevendo):\n",
        "# nome_tabela_alterada = nome_tabela_alterada.drop(nome_tabela_alterada.columns[[num_coluna]], axis=0_ou_1)\n",
        "\n",
        "# axis = 0 (p/ linha) ou 1(p/ coluna)\n",
        "\n",
        "covid_sp_alterado = covid_sp_alterado.drop(covid_sp_alterado.columns[[1]], axis=1)"
      ],
      "metadata": {
        "id": "nHC6Q7KYZkR8"
      },
      "execution_count": null,
      "outputs": []
    },
    {
      "cell_type": "code",
      "source": [
        "# Excluir mais de uma variável (sem sobrescrever):\n",
        "# 1 --> nome_tabela_alterada.drop(columns=['nome_coluna_1', 'nome_coluna_2', ...], inplace=True)\n",
        "# 2 --> nome_tabela_alterada.drop(nome_tabela_alterada.columns[[num_coluna_a, num_coluna_b, num_coluna_c, ...]], axis=0_ou_1)\n",
        "\n",
        "covid_sp_alterado.drop(columns=['rotulo_mapa', 'codigo_mapa', 'cod_drs'], inplace=True)\n",
        "covid_sp_alterado.drop(covid_sp_alterado.columns[[13, 14, 18, 19]], axis=1, inplace=True)"
      ],
      "metadata": {
        "id": "hes5C296acbf"
      },
      "execution_count": null,
      "outputs": []
    },
    {
      "cell_type": "code",
      "source": [
        "covid_sp_alterado.head()"
      ],
      "metadata": {
        "id": "6mcrPoJdTzPF"
      },
      "execution_count": null,
      "outputs": []
    },
    {
      "cell_type": "code",
      "source": [
        "covid_sp_alterado.shape"
      ],
      "metadata": {
        "id": "eHDsgNAsTmbO"
      },
      "execution_count": null,
      "outputs": []
    },
    {
      "cell_type": "markdown",
      "source": [
        "### Criando e alterando valores das colunas (variáveis)"
      ],
      "metadata": {
        "id": "sOrAsvO4cAfX"
      }
    },
    {
      "cell_type": "code",
      "source": [
        "covid_sp_alterado.head()"
      ],
      "metadata": {
        "id": "Q6z3EdoYcXJN"
      },
      "execution_count": null,
      "outputs": []
    },
    {
      "cell_type": "code",
      "source": [
        "covid_sp_alterado.shape"
      ],
      "metadata": {
        "id": "cKy9I2fAUQ07"
      },
      "execution_count": null,
      "outputs": []
    },
    {
      "cell_type": "code",
      "source": [
        "# Exemplo de alteração de uma variável(coluna) inteira:\n",
        "# nome_tabela['nome_coluna'] = nome_tabela['nome_coluna']/100\n",
        "\n",
        "covid_sp_alterado['area'] = covid_sp_alterado['area']/100\n",
        "# ou \n",
        "# covid_sp_alterado['area'] = covid_sp_alterado.area/100"
      ],
      "metadata": {
        "id": "5uqpDeaVPtip"
      },
      "execution_count": null,
      "outputs": []
    },
    {
      "cell_type": "code",
      "source": [
        "# Exemplo de criação de nova variável(coluna):\n",
        "# nome_tabela['nova_coluna'] = nome_tabela['nome_coluna_a'] / ['nome_coluna_b']\n",
        "\n",
        "covid_sp_alterado['densidade'] = covid_sp_alterado['pop'] / covid_sp_alterado['area']"
      ],
      "metadata": {
        "id": "lBfPvgEoQnrX"
      },
      "execution_count": null,
      "outputs": []
    },
    {
      "cell_type": "code",
      "source": [
        "# Criação de uma coluna com índices (a partir do 1):\n",
        "# lista = list(range(1, num_registros + 1))\n",
        "# nome_tabela = pd.DataFrame(lista, columns=['indice'])\n",
        "\n",
        "lista = list(range(1, covid_sp_alterado.shape[0] + 1))\n",
        "df = pd.DataFrame(lista, columns=['indice'])\n",
        "df"
      ],
      "metadata": {
        "id": "uWfJd4WIU342"
      },
      "execution_count": null,
      "outputs": []
    },
    {
      "cell_type": "code",
      "source": [
        "# Juntar dois DataFrames:\n",
        "# nome_tabela = pd.concat([nome_tabela_a, nome_tabela_b], axis=0_ou_1)\n",
        "\n",
        "covid_sp_alterado = pd.concat([covid_sp_alterado, df], axis=1)  # axis=1 --> Juntar por coluna"
      ],
      "metadata": {
        "id": "buWaJqx-VzYI"
      },
      "execution_count": null,
      "outputs": []
    },
    {
      "cell_type": "code",
      "source": [
        "# Colocar a última coluna no começo:\n",
        "# nome_tabela = nome_tabela.reindex(columns=['nome_coluna'] + list(nome_tabela.columns[:-1]))\n",
        "\n",
        "covid_sp_alterado = covid_sp_alterado.reindex(columns=['indice'] + list(covid_sp_alterado.columns[:-1]))"
      ],
      "metadata": {
        "id": "pHYcHoVSWdhn"
      },
      "execution_count": null,
      "outputs": []
    },
    {
      "cell_type": "markdown",
      "source": [
        "### Contagem de Registros das Variáveis (Colunas)"
      ],
      "metadata": {
        "id": "fuZ3kp01blEA"
      }
    },
    {
      "cell_type": "code",
      "source": [
        "# Contagem em uma coluna:\n",
        "# nome_tabela['nome_coluna'].value_counts()\n",
        "\n",
        "covid_sp_alterado['semana_epidem'].value_counts()"
      ],
      "metadata": {
        "id": "YsxNCIXpbrHE"
      },
      "execution_count": null,
      "outputs": []
    },
    {
      "cell_type": "code",
      "source": [
        "# Reordenar por índice:\n",
        "# nome_tabela['nome_coluna'].value_counts().sort_index()\n",
        "\n",
        "covid_sp_alterado['semana_epidem'].value_counts().sort_index()"
      ],
      "metadata": {
        "id": "1qbR-ppwcjka"
      },
      "execution_count": null,
      "outputs": []
    },
    {
      "cell_type": "code",
      "source": [
        "# Contar utilizando a função Counter:\n",
        "# Counter(nome_tabela.nome_coluna)\n",
        "\n",
        "from collections import Counter\n",
        "\n",
        "Counter(covid_sp_alterado.semana_epidem)"
      ],
      "metadata": {
        "id": "E5_h10EMcwjB"
      },
      "execution_count": null,
      "outputs": []
    },
    {
      "cell_type": "code",
      "source": [
        "# Relacionando duas colunas:\n",
        "# nome_tabela.query('condição')['verificar_por'].value_counts()\n",
        "\n",
        "covid_sp_alterado.query('obitos_novos > 50')['municipio'].value_counts()\n",
        "# ou seja,\n",
        "# quantas vezes registrou óbitos novos (por dia) maiores que 50 em determinado município"
      ],
      "metadata": {
        "id": "ZHp8y7zodEJJ"
      },
      "execution_count": null,
      "outputs": []
    },
    {
      "cell_type": "markdown",
      "source": [
        "### Selecionar Variáveis (Colunas) por Índices"
      ],
      "metadata": {
        "id": "z1l3NoK1eGJX"
      }
    },
    {
      "cell_type": "code",
      "source": [
        "# x = nome_tabela.iloc[linhas, colunas]\n",
        "\n",
        "x = covid_sp_alterado.iloc[:, 5:13]\n",
        "x\n",
        "\n",
        "# OBS: [:, ...] --> Os ':' sozinhos representam pegar todas as linhas "
      ],
      "metadata": {
        "id": "EJeG4XZ6eK_O"
      },
      "execution_count": null,
      "outputs": []
    },
    {
      "cell_type": "code",
      "source": [
        "type(x)"
      ],
      "metadata": {
        "id": "SZpmk2nHe0Q3"
      },
      "execution_count": null,
      "outputs": []
    },
    {
      "cell_type": "code",
      "source": [
        "y = covid_sp_alterado.iloc[:, 1]  # Reconhece como uma Serie\n",
        "y"
      ],
      "metadata": {
        "id": "FVNg65TqfGl9"
      },
      "execution_count": null,
      "outputs": []
    },
    {
      "cell_type": "code",
      "source": [
        "type(y)"
      ],
      "metadata": {
        "id": "Vab3vXzWfLkM"
      },
      "execution_count": null,
      "outputs": []
    },
    {
      "cell_type": "code",
      "source": [
        "y = covid_sp_alterado.iloc[:, 1].values  # Reconhece como um array\n",
        "y"
      ],
      "metadata": {
        "id": "6vYXtoKVe3UG"
      },
      "execution_count": null,
      "outputs": []
    },
    {
      "cell_type": "code",
      "source": [
        "type(y)"
      ],
      "metadata": {
        "id": "AlRFR440e-61"
      },
      "execution_count": null,
      "outputs": []
    },
    {
      "cell_type": "code",
      "source": [
        "# Transforma o array em lista\n",
        "\n",
        "lista_y = list(y.flatten())\n",
        "lista_y"
      ],
      "metadata": {
        "id": "fzIESuvKfWwc"
      },
      "execution_count": null,
      "outputs": []
    },
    {
      "cell_type": "code",
      "source": [
        "# Criar um DataFrame utilizando uma lista:\n",
        "# df = pd.DataFrame(lista, columns=['nome_coluna_para_lista'])\n",
        "\n",
        "df = pd.DataFrame(lista_y, columns=['municipio_lista'])\n",
        "df"
      ],
      "metadata": {
        "id": "ga6nsaYXf9xL"
      },
      "execution_count": null,
      "outputs": []
    },
    {
      "cell_type": "markdown",
      "source": [
        "### Excluindo, Filtrando e Substituindo Registros (Linhas)"
      ],
      "metadata": {
        "id": "s4OB9io8ghYb"
      }
    },
    {
      "cell_type": "code",
      "source": [
        "# Excluindo linhas por índices (valores absolutos):\n",
        "# nome_tabela = nome_tabela.drop(nome_tabela.index[[num_variavel_a, num_variavel_b, ...]])\n",
        "\n",
        "covid_sp_alterado_2 = covid_sp_alterado.drop(covid_sp_alterado.index[[1, 3]])\n",
        "covid_sp_alterado_2"
      ],
      "metadata": {
        "id": "3RTBUaYYgnfa"
      },
      "execution_count": null,
      "outputs": []
    },
    {
      "cell_type": "code",
      "source": [
        "# Excluindo linhas por índices (intervalo de valores):\n",
        "# nome_tabela = nome_tabela.drop(nome_tabela.index[num_variavel_a:num_variavel_b])\n",
        "\n",
        "covid_sp_alterado_2 = covid_sp_alterado_2.drop(covid_sp_alterado.index[4:7])\n",
        "covid_sp_alterado_2"
      ],
      "metadata": {
        "id": "C4DxgsXThJrh"
      },
      "execution_count": null,
      "outputs": []
    },
    {
      "cell_type": "code",
      "source": [
        "# Reordenar(resetar) os índices(padrões):\n",
        "# nome_tabela = nome_tabela.reset_index(drop=True_False)\n",
        "\n",
        "covid_sp_alterado_2 = covid_sp_alterado_2.reset_index(drop=True)  # drop é para excluir índice anterior"
      ],
      "metadata": {
        "id": "6Y0caKE_hrrf"
      },
      "execution_count": null,
      "outputs": []
    },
    {
      "cell_type": "code",
      "source": [
        "# Localizar a quantidade de linhas com um valor específico:\n",
        "# variavel = nome_tabela.loc[nome_tabela.nome_coluna == 'valor_específico']\n",
        "\n",
        "ignorado = covid_sp_alterado.loc[covid_sp_alterado.municipio == 'Ignorado']\n",
        "ignorado"
      ],
      "metadata": {
        "id": "lxdH0ngliaMu"
      },
      "execution_count": null,
      "outputs": []
    },
    {
      "cell_type": "code",
      "source": [
        "ignorado.shape  # (x, y)\n",
        "                # x --> Quantidade de linhas em que 'Ignorado' aparece"
      ],
      "metadata": {
        "id": "S8Hh23dci44t"
      },
      "execution_count": null,
      "outputs": []
    },
    {
      "cell_type": "code",
      "source": [
        "# Localizar a quantidade de linhas que não possuem um valor específico:\n",
        "# Também serve para excluir esse valor específico da tabela:\n",
        "# variavel_ou_nome_tabela = nome_tabela.loc[nome_tabela.nome_coluna != 'valor_específico']\n",
        "\n",
        "covid_sp_alterado = covid_sp_alterado.loc[covid_sp_alterado.municipio != 'Ignorado']\n",
        "covid_sp_alterado"
      ],
      "metadata": {
        "id": "bR4WUt6-jVjs"
      },
      "execution_count": null,
      "outputs": []
    },
    {
      "cell_type": "code",
      "source": [
        "# Exemplo --> Análise de Guarulhos\n",
        "\n",
        "guarulhos = covid_sp_alterado.loc[covid_sp_alterado.municipio == 'Guarulhos']\n",
        "guarulhos"
      ],
      "metadata": {
        "id": "q43i2wiGjra8"
      },
      "execution_count": null,
      "outputs": []
    },
    {
      "cell_type": "code",
      "source": [
        "guarulhos.drop(columns=['data', 'municipio'], inplace=True)\n",
        "guarulhos"
      ],
      "metadata": {
        "id": "fDb-w3IQkUJi"
      },
      "execution_count": null,
      "outputs": []
    },
    {
      "cell_type": "code",
      "source": [
        "# Realizar substituições nos valores de uma coluna em uma tabela (utilizando dicionário):\n",
        "# nome_tabela['nome_coluna'] = nome_tabela['nome_coluna'].replace({valor_atual_1: valor_novo_1, valor_atual_2: valor_novo_2, ...})\n",
        "\n",
        "guarulhos['semana_epidem'] = guarulhos['semana_epidem'].replace({9: 'nove', 10: 'dez'})\n",
        "guarulhos.head(10)"
      ],
      "metadata": {
        "id": "y2equh4kkk2h"
      },
      "execution_count": null,
      "outputs": []
    },
    {
      "cell_type": "code",
      "source": [
        "# Realizar substituições nos valores de uma coluna em uma tabela (utilizando lista):\n",
        "# nome_tabela['nome_coluna'] = nome_tabela['nome_coluna'].replace([valor_atual_1, valor_atual_2, ...], [valor_novo_1, valor_novo_2, ...])\n",
        "\n",
        "guarulhos['semana_epidem'] = guarulhos['semana_epidem'].replace([11, 12, 13], ['onze', 'doze', 'treze'])\n",
        "guarulhos.head(30)"
      ],
      "metadata": {
        "id": "49Z_tnejlf2P"
      },
      "execution_count": null,
      "outputs": []
    },
    {
      "cell_type": "code",
      "source": [
        "# Python utiliza o sistema inglês (com . entre os números ao invés de , ), portanto:\n",
        "# nome_tabela['nome_coluna'] = nome_tabela['nome_coluna'].apply(lambda x: x.replace(',', '.'))\n",
        "\n",
        "guarulhos['casos_pc'] = guarulhos['casos_pc'].apply(lambda x: x.replace(',', '.'))\n",
        "guarulhos.head(10)"
      ],
      "metadata": {
        "id": "LLAxzxwvl7Km"
      },
      "execution_count": null,
      "outputs": []
    },
    {
      "cell_type": "code",
      "source": [
        "guarulhos.shape"
      ],
      "metadata": {
        "id": "6Dy8MR8NmpTF"
      },
      "execution_count": null,
      "outputs": []
    },
    {
      "cell_type": "code",
      "source": [
        "# Criar coluna com datas:\n",
        "# data = np.array('data_início', dtype = np.datetime64())\n",
        "\n",
        "import datetime\n",
        "\n",
        "data = np.array('2020-02-25', dtype = np.datetime64()) \n",
        "data"
      ],
      "metadata": {
        "id": "EA13sw8umsrt"
      },
      "execution_count": null,
      "outputs": []
    },
    {
      "cell_type": "code",
      "source": [
        "# Criar um array com a data_início até a data final de acordo com num_datas:\n",
        "# data = data + np.arange(num_datas)\n",
        "\n",
        "data = data + np.arange(guarulhos.shape[0])\n",
        "data"
      ],
      "metadata": {
        "id": "KQ4JG5OSnRe7"
      },
      "execution_count": null,
      "outputs": []
    },
    {
      "cell_type": "code",
      "source": [
        "# Trasformar o array das datas em DataFrame:\n",
        "\n",
        "data = pd.DataFrame(data)\n",
        "data"
      ],
      "metadata": {
        "id": "Ds9jV1Ysn1dm"
      },
      "execution_count": null,
      "outputs": []
    },
    {
      "cell_type": "code",
      "source": [
        "# Nomear a coluna das datas:\n",
        "# data.columns = ['nome_coluna']\n",
        "\n",
        "data.columns = ['data']\n",
        "data.head()"
      ],
      "metadata": {
        "id": "o6R9GOpcoYwa"
      },
      "execution_count": null,
      "outputs": []
    },
    {
      "cell_type": "code",
      "source": [
        "# Não ficará correta, pois os índices de 'guarulhos' não estão resetados\n",
        "\n",
        "guarulhos_2 = pd.concat([data, guarulhos], axis=1)\n",
        "guarulhos_2.head()"
      ],
      "metadata": {
        "id": "5KTTDq8Yop_a"
      },
      "execution_count": null,
      "outputs": []
    },
    {
      "cell_type": "code",
      "source": [
        "guarulhos = guarulhos.reset_index(drop=True)"
      ],
      "metadata": {
        "id": "hDbNDo3MpBvx"
      },
      "execution_count": null,
      "outputs": []
    },
    {
      "cell_type": "code",
      "source": [
        "# Agora sim!\n",
        "\n",
        "guarulhos_2 = pd.concat([data, guarulhos], axis=1)\n",
        "guarulhos_2.head()"
      ],
      "metadata": {
        "id": "sSPYCNcXpVT4"
      },
      "execution_count": null,
      "outputs": []
    },
    {
      "cell_type": "code",
      "source": [
        "guarulhos_2.shape"
      ],
      "metadata": {
        "id": "NAUToIjDpmVH"
      },
      "execution_count": null,
      "outputs": []
    },
    {
      "cell_type": "markdown",
      "source": [
        "### Valores Missing (NAN)"
      ],
      "metadata": {
        "id": "_CucySRZpjt_"
      }
    },
    {
      "cell_type": "code",
      "source": [
        "# RELAÇÃO DA QUANTIDADE\n",
        "\n",
        "# Quantidade de valores ausentes em cada coluna:\n",
        "# nome_tabela.isnull().sum()\n",
        "\n",
        "covid_sp_alterado.isnull().sum()"
      ],
      "metadata": {
        "id": "iMXhBTfXpyLf"
      },
      "execution_count": null,
      "outputs": []
    },
    {
      "cell_type": "code",
      "source": [
        "# RELAÇÃO DA QUANTIDADE\n",
        "\n",
        "# Quantidade de valores ausentes em uma coluna específica:\n",
        "# nome_tabela['nome_coluna'].isnull().sum()\n",
        "\n",
        "covid_sp_alterado['casos'].isnull().sum()  "
      ],
      "metadata": {
        "id": "eYBzejg62HsN"
      },
      "execution_count": null,
      "outputs": []
    },
    {
      "cell_type": "code",
      "source": [
        "# RELAÇÃO DA QUANTIDADE\n",
        "\n",
        "covid_sp.isnull().sum()"
      ],
      "metadata": {
        "id": "oHg8R1Fe2WKU"
      },
      "execution_count": null,
      "outputs": []
    },
    {
      "cell_type": "code",
      "source": [
        "# Excluir todos os VALORES MISSING:\n",
        "# nome_tabela = nome_tabela.dropna()\n",
        "\n",
        "covid_sp_2 = covid_sp.dropna()\n",
        "covid_sp_2.isnull().sum()"
      ],
      "metadata": {
        "id": "Fe41vdYY2jJs"
      },
      "execution_count": null,
      "outputs": []
    },
    {
      "cell_type": "code",
      "source": [
        "# Preencher os VALORES MISSING pela MEDIANA:\n",
        "# nome_tabela['nome_coluna'].fillna(nome_tabela['nome_coluna'].median, inplace=True)\n",
        "\n",
        "covid_sp['obitos_novos'].fillna(covid_sp['obitos_novos'].median, inplace=True)"
      ],
      "metadata": {
        "id": "Uwh_UiKd2wzz"
      },
      "execution_count": null,
      "outputs": []
    },
    {
      "cell_type": "code",
      "source": [
        "# Preencher os VALORES MISSING pela MÉDIA:\n",
        "# nome_tabela['nome_coluna'].fillna(nome_tabela['nome_coluna'].mean, inplace=True)\n",
        "\n",
        "covid_sp['obitos_novos'].fillna(covid_sp['obitos_novos'].mean, inplace=True)"
      ],
      "metadata": {
        "id": "Wms3ZtEr3TBi"
      },
      "execution_count": null,
      "outputs": []
    },
    {
      "cell_type": "code",
      "source": [
        "# Preencher os VALORES MISSING por QUALQUER OUTRO VALOR:\n",
        "# nome_tabela['nome_coluna'].fillna(qualquer_valor, inplace=True)\n",
        "\n",
        "covid_sp['obitos_novos'].fillna(10, inplace=True)"
      ],
      "metadata": {
        "id": "xnKLSDuw3Xdy"
      },
      "execution_count": null,
      "outputs": []
    },
    {
      "cell_type": "markdown",
      "source": [
        "### Classificação e alteração da tipagem dos atributos"
      ],
      "metadata": {
        "id": "iAKJxEST3uWR"
      }
    },
    {
      "cell_type": "markdown",
      "source": [
        "Análise dos tipos de atributos:\n",
        "\n",
        "- object: strings\n",
        "\n",
        "- int64: inteiros\n",
        "\n",
        "- float64: reais\n",
        "\n",
        "- complex: complexos"
      ],
      "metadata": {
        "id": "DtCOc2sv3845"
      }
    },
    {
      "cell_type": "code",
      "source": [
        "# Verificar tipos das colunas de uma tabelas:\n",
        "# nome_tabela.dtypes\n",
        "\n",
        "covid_sp_alterado.dtypes"
      ],
      "metadata": {
        "id": "XoXeL8fk4KVN"
      },
      "execution_count": null,
      "outputs": []
    },
    {
      "cell_type": "code",
      "source": [
        "# Transformar uma variável(coluna) em outro tipo:\n",
        "# nome_tabela['nome_coluna'] = nome_tabela['nome_coluna'].astype(tipo_atributo)\n",
        "\n",
        "covid_sp_alterado['casos_pc'] = covid_sp_alterado['casos_pc'].astype(float)\n",
        "\n",
        "# Resultará em erro, pois 'casos_pc' está escrito com \",\" entre os números"
      ],
      "metadata": {
        "id": "5TEq3nE54cLp"
      },
      "execution_count": null,
      "outputs": []
    },
    {
      "cell_type": "code",
      "source": [
        "covid_sp_alterado['casos_pc'] = covid_sp_alterado['casos_pc'].apply(lambda x: x.replace(',', '.'))"
      ],
      "metadata": {
        "id": "cfbfxi4Q5MBn"
      },
      "execution_count": null,
      "outputs": []
    },
    {
      "cell_type": "code",
      "source": [
        "# Agora sim!\n",
        "\n",
        "covid_sp_alterado['casos_pc'] = covid_sp_alterado['casos_pc'].astype(float)\n",
        "covid_sp_alterado.dtypes"
      ],
      "metadata": {
        "id": "Tly1j26m5iX_"
      },
      "execution_count": null,
      "outputs": []
    },
    {
      "cell_type": "code",
      "source": [
        "# Realizar o tratamento em todas as variáveis necessárias\n",
        "\n",
        "covid_sp_alterado['casos_mm7d'] = covid_sp_alterado['casos_mm7d'].apply(lambda x: x.replace(',', '.'))\n",
        "covid_sp_alterado['obitos_pc'] = covid_sp_alterado['obitos_pc'].apply(lambda x: x.replace(',', '.'))\n",
        "covid_sp_alterado['obitos_mm7d'] = covid_sp_alterado['obitos_mm7d'].apply(lambda x: x.replace(',', '.'))\n",
        "covid_sp_alterado['letalidade'] = covid_sp_alterado['letalidade'].apply(lambda x: x.replace(',', '.'))\n",
        "covid_sp_alterado.head(1)"
      ],
      "metadata": {
        "id": "8d9-yk_X5rEn"
      },
      "execution_count": null,
      "outputs": []
    },
    {
      "cell_type": "code",
      "source": [
        "# Mudar a tipagem das variáveis necessárias\n",
        "\n",
        "covid_sp_alterado['casos_mm7d'] = covid_sp_alterado['casos_mm7d'].astype(float)\n",
        "covid_sp_alterado['obitos_pc'] = covid_sp_alterado['obitos_pc'].astype(float)\n",
        "covid_sp_alterado['obitos_mm7d'] = covid_sp_alterado['obitos_mm7d'].astype(float)\n",
        "covid_sp_alterado['letalidade'] = covid_sp_alterado['letalidade'].astype(float)\n",
        "covid_sp_alterado.dtypes"
      ],
      "metadata": {
        "id": "zhudXWVi6Ylj"
      },
      "execution_count": null,
      "outputs": []
    },
    {
      "cell_type": "code",
      "source": [
        "# Tipagem para data --> 'datetime64[D]'\n",
        "\n",
        "covid_sp_alterado['data'] = covid_sp_alterado['data'].astype('datetime64[D]')\n",
        "covid_sp_alterado.dtypes"
      ],
      "metadata": {
        "id": "dWc56BBo63A0"
      },
      "execution_count": null,
      "outputs": []
    },
    {
      "cell_type": "markdown",
      "source": [
        "## Salvando (Exportando) o DataFrame Tratado"
      ],
      "metadata": {
        "id": "aczgXzeY7Qlc"
      }
    },
    {
      "cell_type": "code",
      "source": [
        "# nome_tabela.to_csv('nome_arquivo.csv', sep='separador_no_arquivo', encoding='tipo_encoding', index=True_False)\n",
        "\n",
        "# index --> Se criará uma coluna com os índices padrões na tabela (não é necessário, pois o Python já faz isso quando abre o arquivo)\n",
        "\n",
        "covid_sp_alterado.to_csv('covid_sp_tratado.csv', sep=';', encoding='utf-8', index=False)"
      ],
      "metadata": {
        "id": "OgpfxN2M7VzZ"
      },
      "execution_count": null,
      "outputs": []
    },
    {
      "cell_type": "markdown",
      "source": [
        "# Exercício Desafio"
      ],
      "metadata": {
        "id": "1BsGrTxc9OvW"
      }
    },
    {
      "cell_type": "markdown",
      "source": [
        "Transformar o dataset \"iris\" em um DataFrame"
      ],
      "metadata": {
        "id": "BCXyb75S9i0H"
      }
    },
    {
      "cell_type": "code",
      "source": [
        "import sklearn\n",
        "from sklearn import datasets\n",
        "\n",
        "iris = datasets.load_iris()"
      ],
      "metadata": {
        "id": "hrmY8HRu9TOG"
      },
      "execution_count": null,
      "outputs": []
    },
    {
      "cell_type": "code",
      "source": [
        "iris.data"
      ],
      "metadata": {
        "id": "XnYr1u7b9YEd"
      },
      "execution_count": null,
      "outputs": []
    },
    {
      "cell_type": "code",
      "source": [
        "iris.target"
      ],
      "metadata": {
        "id": "WRdPSYLz-BJs"
      },
      "execution_count": null,
      "outputs": []
    },
    {
      "cell_type": "code",
      "source": [
        "iris.feature_names"
      ],
      "metadata": {
        "id": "dWxd04jx-ChM"
      },
      "execution_count": null,
      "outputs": []
    },
    {
      "cell_type": "code",
      "source": [
        "iris.target_names"
      ],
      "metadata": {
        "id": "0vHxEKKP-G6c"
      },
      "execution_count": null,
      "outputs": []
    },
    {
      "cell_type": "code",
      "source": [
        "# Maneira 1\n",
        "\n",
        "import numpy as np\n",
        "import pandas as pd\n",
        "\n",
        "iris_data = pd.DataFrame(iris.data)\n",
        "\n",
        "iris_data.rename(\n",
        "    columns={0: 'sepal-length(cm)', 1: 'sepal-width(cm)', 2: 'petal-length(cm)', 3: 'petal-width(cm)'},\n",
        "    inplace=True\n",
        ")\n",
        "\n",
        "iris_target = pd.DataFrame(iris.target)\n",
        "iris_target.rename(\n",
        "    columns={0: 'classification'},\n",
        "    inplace=True\n",
        ")\n",
        "\n",
        "iris_df = pd.concat([iris_data, iris_target], axis=1)\n",
        "iris_df['classification'] = iris_df['classification'].replace({0: 'setosa', 1: 'versicolor', 2: 'virginica'})"
      ],
      "metadata": {
        "id": "ctQIvQ7M-fVL"
      },
      "execution_count": null,
      "outputs": []
    },
    {
      "cell_type": "code",
      "source": [
        "iris_df.head()"
      ],
      "metadata": {
        "id": "G05aGK0tFUD_"
      },
      "execution_count": null,
      "outputs": []
    },
    {
      "cell_type": "code",
      "source": [
        "iris_df['classification'].value_counts()"
      ],
      "metadata": {
        "id": "FVMHtjmXFX6N"
      },
      "execution_count": null,
      "outputs": []
    },
    {
      "cell_type": "code",
      "source": [
        "# Maneira 2 (melhor)\n",
        "\n",
        "import numpy as np\n",
        "import pandas as pd\n",
        "\n",
        "dados = pd.DataFrame(iris.data)\n",
        "classes = pd.DataFrame(iris.target)\n",
        "\n",
        "iris_df_2 = pd.concat([dados, classes], axis=1)\n",
        "\n",
        "colnames = iris.feature_names\n",
        "colnames.append('classification')\n",
        "\n",
        "iris_df_2.columns = colnames\n",
        "\n",
        "nomes = iris.target_names\n",
        "\n",
        "iris_df_2['classification'] = iris_df_2['classification'].replace({0: nomes[0],\n",
        "                                                                   1: nomes[1],\n",
        "                                                                   2: nomes[2]})"
      ],
      "metadata": {
        "id": "RAvkwnb_C-Ka"
      },
      "execution_count": null,
      "outputs": []
    },
    {
      "cell_type": "code",
      "source": [
        "iris_df_2.head()"
      ],
      "metadata": {
        "id": "34rg5d6xFQDn"
      },
      "execution_count": null,
      "outputs": []
    },
    {
      "cell_type": "code",
      "source": [
        "iris_df_2['classification'].value_counts()"
      ],
      "metadata": {
        "id": "8SG7LHKEE5lQ"
      },
      "execution_count": null,
      "outputs": []
    }
  ]
}