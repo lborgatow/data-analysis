{
  "nbformat": 4,
  "nbformat_minor": 0,
  "metadata": {
    "colab": {
      "name": "Seção 4 - Análises Estatísticas - Projeto 1",
      "provenance": [],
      "collapsed_sections": []
    },
    "kernelspec": {
      "name": "python3",
      "display_name": "Python 3"
    },
    "language_info": {
      "name": "python"
    }
  },
  "cells": [
    {
      "cell_type": "code",
      "source": [
        "from google.colab import drive\n",
        "drive.mount('/content/drive')"
      ],
      "metadata": {
        "id": "UkFl3-qv0frj"
      },
      "execution_count": null,
      "outputs": []
    },
    {
      "cell_type": "markdown",
      "source": [
        "# **PROJETO ANÁLISE DOS DADOS DO COVID 19 NO ESTADO DE SÃO PAULO**"
      ],
      "metadata": {
        "id": "9hTRUNYVtAyr"
      }
    },
    {
      "cell_type": "markdown",
      "source": [
        "Este projeto analisa os dados dos casos de COVID-19 no estado de São Paulo do período de fevereiro de 2020 a setembro de 2021."
      ],
      "metadata": {
        "id": "-nUxsmNyT8kH"
      }
    },
    {
      "cell_type": "markdown",
      "source": [
        "## **Importação dos Dados**"
      ],
      "metadata": {
        "id": "Z6mVbjsitGrr"
      }
    },
    {
      "cell_type": "code",
      "source": [
        "import numpy as np\n",
        "import pandas as pd\n",
        "\n",
        "path = '/content/drive/MyDrive/Udemy/Análise de Dados e Machine Learning/Seção 4/covid_sp_tratado.csv'\n",
        "covid = pd.read_csv(path, sep=';', encoding='utf-8')"
      ],
      "metadata": {
        "id": "H6OBjF-2ULM-"
      },
      "execution_count": null,
      "outputs": []
    },
    {
      "cell_type": "code",
      "source": [
        "covid.head()"
      ],
      "metadata": {
        "id": "n2hMBF3YUjUl"
      },
      "execution_count": null,
      "outputs": []
    },
    {
      "cell_type": "code",
      "source": [
        "covid.shape"
      ],
      "metadata": {
        "id": "6NAXcJT9UpLs"
      },
      "execution_count": null,
      "outputs": []
    },
    {
      "cell_type": "code",
      "source": [
        "# Análise dos atributos\n",
        "\n",
        "covid.dtypes"
      ],
      "metadata": {
        "id": "WO5g4uk4Uvy9"
      },
      "execution_count": null,
      "outputs": []
    },
    {
      "cell_type": "markdown",
      "source": [
        "## **Filtrando duas cidades: São José do Rio Preto e Guarulhos**"
      ],
      "metadata": {
        "id": "O5aAWE2_VH77"
      }
    },
    {
      "cell_type": "code",
      "source": [
        "covid_sjrp = covid.loc[covid.municipio == 'São José do Rio Preto']\n",
        "covid_guarulhos = covid.loc[covid.municipio == 'Guarulhos']"
      ],
      "metadata": {
        "id": "K7OSaslPVTjj"
      },
      "execution_count": null,
      "outputs": []
    },
    {
      "cell_type": "code",
      "source": [
        "# Criação de uma coluna com a porcentagem de idosos\n",
        "\n",
        "covid_sjrp['porcentagem_idosos'] = 100 * covid_sjrp['pop_60'] / covid_sjrp['pop']\n",
        "covid_guarulhos['porcentagem_idosos'] = 100 * covid_guarulhos['pop_60'] / covid_guarulhos['pop']"
      ],
      "metadata": {
        "id": "jM6vEEZ0Vui0"
      },
      "execution_count": null,
      "outputs": []
    },
    {
      "cell_type": "code",
      "source": [
        "covid_sjrp.head(3)"
      ],
      "metadata": {
        "id": "Xmjbge6lWWhy"
      },
      "execution_count": null,
      "outputs": []
    },
    {
      "cell_type": "code",
      "source": [
        "covid_guarulhos.head(3)"
      ],
      "metadata": {
        "id": "S7ZxSt37WZG5"
      },
      "execution_count": null,
      "outputs": []
    },
    {
      "cell_type": "code",
      "source": [
        "covid_sjrp.shape"
      ],
      "metadata": {
        "id": "VrDK4AGKWuIR"
      },
      "execution_count": null,
      "outputs": []
    },
    {
      "cell_type": "code",
      "source": [
        "covid_guarulhos.shape"
      ],
      "metadata": {
        "id": "-p-TndmPW17A"
      },
      "execution_count": null,
      "outputs": []
    },
    {
      "cell_type": "markdown",
      "source": [
        "## **Medidas de Centralidade**"
      ],
      "metadata": {
        "id": "K9xx4KN9AxbN"
      }
    },
    {
      "cell_type": "markdown",
      "source": [
        "### Média"
      ],
      "metadata": {
        "id": "xDyYzvIeC09f"
      }
    },
    {
      "cell_type": "markdown",
      "source": [
        "São José do Rio Preto"
      ],
      "metadata": {
        "id": "FC3g_srKA5qU"
      }
    },
    {
      "cell_type": "code",
      "source": [
        "# Calcula a MÉDIA dos valores da coluna desejada:\n",
        "# nome_tabela['nome_coluna'].mean()\n",
        "\n",
        "covid_sjrp['obitos_novos'].mean()"
      ],
      "metadata": {
        "id": "idsKR-WaA4Ut"
      },
      "execution_count": null,
      "outputs": []
    },
    {
      "cell_type": "code",
      "source": [
        "# Outra maneira:\n",
        "# nome_tabela.nome_coluna.mean()\n",
        "\n",
        "covid_sjrp.casos_novos.mean()"
      ],
      "metadata": {
        "id": "TcmZkK-xBbws"
      },
      "execution_count": null,
      "outputs": []
    },
    {
      "cell_type": "markdown",
      "source": [
        "Guarulhos"
      ],
      "metadata": {
        "id": "K3HkC-VwBq0q"
      }
    },
    {
      "cell_type": "code",
      "source": [
        "# Ver apenas a quantidade de casas decimais desejadas:\n",
        "# round(..., num_casas_decimais)\n",
        "\n",
        "round(covid_guarulhos['obitos_novos'].mean(), 3)"
      ],
      "metadata": {
        "id": "drIAE3LmBuu0"
      },
      "execution_count": null,
      "outputs": []
    },
    {
      "cell_type": "code",
      "source": [
        "round(covid_guarulhos.casos_novos.mean(), 3)"
      ],
      "metadata": {
        "id": "RNYWKywAB3_s"
      },
      "execution_count": null,
      "outputs": []
    },
    {
      "cell_type": "markdown",
      "source": [
        "### Mediana"
      ],
      "metadata": {
        "id": "dXNU6X1rC5-H"
      }
    },
    {
      "cell_type": "markdown",
      "source": [
        "São José do Rio Preto"
      ],
      "metadata": {
        "id": "wGA8HbexC9L-"
      }
    },
    {
      "cell_type": "code",
      "source": [
        "# Calcula a MEDIANA dos valores da coluna desejada:\n",
        "# nome_tabela['nome_coluna'].median()\n",
        "\n",
        "covid_sjrp['obitos_novos'].median()"
      ],
      "metadata": {
        "id": "hCAPu-EIC_Co"
      },
      "execution_count": null,
      "outputs": []
    },
    {
      "cell_type": "code",
      "source": [
        "covid_sjrp['casos_novos'].median()"
      ],
      "metadata": {
        "id": "BtzY4HZuDFBg"
      },
      "execution_count": null,
      "outputs": []
    },
    {
      "cell_type": "markdown",
      "source": [
        "Guarulhos"
      ],
      "metadata": {
        "id": "TveM3UXHDNsX"
      }
    },
    {
      "cell_type": "code",
      "source": [
        "covid_guarulhos['obitos_novos'].median()"
      ],
      "metadata": {
        "id": "x6mZJj1QDOu_"
      },
      "execution_count": null,
      "outputs": []
    },
    {
      "cell_type": "code",
      "source": [
        "covid_guarulhos['casos_novos'].median()"
      ],
      "metadata": {
        "id": "XxQiBg6_DYQP"
      },
      "execution_count": null,
      "outputs": []
    },
    {
      "cell_type": "markdown",
      "source": [
        "### Moda"
      ],
      "metadata": {
        "id": "PyUcGQtNDcro"
      }
    },
    {
      "cell_type": "code",
      "source": [
        "# Calcula a MODA dos valores da coluna desejada:\n",
        "# nome_tabela['nome_coluna'].mode()\n",
        "\n",
        "covid_sjrp['obitos_novos'].mode()"
      ],
      "metadata": {
        "id": "eWa_nLB0DiLf"
      },
      "execution_count": null,
      "outputs": []
    },
    {
      "cell_type": "code",
      "source": [
        "covid_sjrp['dia'].mode()  # Dia 25 aparecerá mais pois é onde começa a análise no mês de fevereiro"
      ],
      "metadata": {
        "id": "uI8peMYKD1K-"
      },
      "execution_count": null,
      "outputs": []
    },
    {
      "cell_type": "code",
      "source": [
        "covid_guarulhos['dia'].mode()"
      ],
      "metadata": {
        "id": "ZJFZVESgD6m9"
      },
      "execution_count": null,
      "outputs": []
    },
    {
      "cell_type": "code",
      "source": [
        "covid_guarulhos.mes.mode()  # Meses com mais dias vão aparecer mais"
      ],
      "metadata": {
        "id": "QkMST6FlELQW"
      },
      "execution_count": null,
      "outputs": []
    },
    {
      "cell_type": "markdown",
      "source": [
        "### Descrição Geral"
      ],
      "metadata": {
        "id": "lsus1cF-EraW"
      }
    },
    {
      "cell_type": "code",
      "source": [
        "# Aprensenta uma visão geral de todas as colunas:\n",
        "# nome_tabela.describe()\n",
        "\n",
        "covid_sjrp.describe()"
      ],
      "metadata": {
        "id": "nJxTK-hUEvoE"
      },
      "execution_count": null,
      "outputs": []
    },
    {
      "cell_type": "code",
      "source": [
        "round(covid_sjrp.describe(), 1)"
      ],
      "metadata": {
        "id": "w0cYyMIBFPEy"
      },
      "execution_count": null,
      "outputs": []
    },
    {
      "cell_type": "code",
      "source": [
        "# Apresenta uma visão geral de uma coluna específica:\n",
        "# nome_tabela['nome_coluna'].describe()\n",
        "\n",
        "round(covid_guarulhos['casos_novos'].describe(), 1)"
      ],
      "metadata": {
        "id": "N-9PZCCcFYFS"
      },
      "execution_count": null,
      "outputs": []
    },
    {
      "cell_type": "markdown",
      "source": [
        "### Distribuição de Frequências: Histograma"
      ],
      "metadata": {
        "id": "DJQld0eKF-SD"
      }
    },
    {
      "cell_type": "code",
      "source": [
        "# Pega apenas as datas do ano de 2021\n",
        "covid_sjrp_2021 = covid_sjrp.loc[covid_sjrp.data > '2020-12-31']\n",
        "\n",
        "covid_sjrp_2021"
      ],
      "metadata": {
        "id": "X7UorPGoGIpp"
      },
      "execution_count": null,
      "outputs": []
    },
    {
      "cell_type": "code",
      "source": [
        "covid_sjrp_2021.shape"
      ],
      "metadata": {
        "id": "SwyvOyYCGjmg"
      },
      "execution_count": null,
      "outputs": []
    },
    {
      "cell_type": "code",
      "source": [
        "covid_sjrp_2021.obitos_novos.mode()"
      ],
      "metadata": {
        "id": "jU83QV5_Grcg"
      },
      "execution_count": null,
      "outputs": []
    },
    {
      "cell_type": "code",
      "source": [
        "covid_sjrp_2021.obitos_novos.median()"
      ],
      "metadata": {
        "id": "C_543hBBGvNg"
      },
      "execution_count": null,
      "outputs": []
    },
    {
      "cell_type": "code",
      "source": [
        "covid_sjrp_2021.obitos_novos.mean()"
      ],
      "metadata": {
        "id": "G1P1Z4foGxbv"
      },
      "execution_count": null,
      "outputs": []
    },
    {
      "cell_type": "code",
      "source": [
        "# média = mediana = moda --> Distribuição simétrica\n",
        "# média = mediana (não existe moda) --> Distribuição uniforme (retangular)\n",
        "# média < mediana < moda --> Distribuição assimétrica à esquerda (Assimetria negativa)\n",
        "# moda < mediana < média --> Distribuição assimétrica à direita  (Assimetria positiva)"
      ],
      "metadata": {
        "id": "9f8LNyteHEbI"
      },
      "execution_count": null,
      "outputs": []
    },
    {
      "cell_type": "code",
      "source": [
        "# Construir um histograma:\n",
        "\n",
        "import plotly.express as px\n",
        "\n",
        "# nome_grafico = px.histogram(nome_tabela, x = \"itens_eixo_x\", nbins=num_bins) --> Quanto menor o nbins, maior a faixa de valores(frequencia) \n",
        "# nome_grafico.update_layout(width=largura, height=altura, title_text='titulo_grafico') --> Layout gráfico\n",
        "# nome_grafico.show() --> Exibe o gráfico\n",
        "\n",
        "grafico = px.histogram(covid_sjrp_2021, x = \"obitos_novos\", nbins=30)\n",
        "grafico.update_layout(width=400, height=400, title_text='Óbitos Novos de São José do Rio Preto em 2021')\n",
        "grafico.show()"
      ],
      "metadata": {
        "id": "dFma5Li_H6mm"
      },
      "execution_count": null,
      "outputs": []
    },
    {
      "cell_type": "code",
      "source": [
        "# Rio Preto 2021:\n",
        "\n",
        "grafico = px.histogram(covid_sjrp_2021, x = \"casos_novos\", nbins=30)\n",
        "grafico.update_layout(width=400, height=400, title_text='Casos Novos de São José do Rio Preto em 2021')\n",
        "grafico.show()"
      ],
      "metadata": {
        "id": "dL6roqhOKY9R"
      },
      "execution_count": null,
      "outputs": []
    },
    {
      "cell_type": "code",
      "source": [
        "# Rio Preto geral:\n",
        "\n",
        "grafico = px.histogram(covid_sjrp, x = \"casos_novos\", nbins=30)\n",
        "grafico.update_layout(width=400, height=400, title_text='Casos Novos de São José do Rio Preto')\n",
        "grafico.show()"
      ],
      "metadata": {
        "id": "DEsBy-c_KmF4"
      },
      "execution_count": null,
      "outputs": []
    },
    {
      "cell_type": "code",
      "source": [
        "# Guarulhos geral:\n",
        "\n",
        "grafico = px.histogram(covid_guarulhos, x = \"casos_novos\", nbins=30)\n",
        "grafico.update_layout(width=400, height=400, title_text='Casos Novos de Guarulhos')\n",
        "grafico.show()"
      ],
      "metadata": {
        "id": "K3-866pjKx9g"
      },
      "execution_count": null,
      "outputs": []
    },
    {
      "cell_type": "markdown",
      "source": [
        "## **Medidas de Posição**"
      ],
      "metadata": {
        "id": "swc1hN0FwHDA"
      }
    },
    {
      "cell_type": "code",
      "source": [
        "# Obter valor MÍNIMO:\n",
        "# nome_tabela['nome_coluna'].min()\n",
        "\n",
        "covid_sjrp['obitos_novos'].min()"
      ],
      "metadata": {
        "id": "cvIMONPgwhMH"
      },
      "execution_count": null,
      "outputs": []
    },
    {
      "cell_type": "code",
      "source": [
        "covid_sjrp.casos_novos.min()"
      ],
      "metadata": {
        "id": "nuCUiRidwoOm"
      },
      "execution_count": null,
      "outputs": []
    },
    {
      "cell_type": "code",
      "source": [
        "# Obter valor MÁXIMO:\n",
        "# nome_tabela['nome_coluna'].max()\n",
        "\n",
        "covid_guarulhos['obitos_novos'].max()"
      ],
      "metadata": {
        "id": "VuB68Egewr6n"
      },
      "execution_count": null,
      "outputs": []
    },
    {
      "cell_type": "code",
      "source": [
        "covid_sjrp.obitos_novos.max()"
      ],
      "metadata": {
        "id": "zQQNXS0RwyUn"
      },
      "execution_count": null,
      "outputs": []
    },
    {
      "cell_type": "code",
      "source": [
        "covid_guarulhos['casos_novos'].max()"
      ],
      "metadata": {
        "id": "zsIinaISw6Df"
      },
      "execution_count": null,
      "outputs": []
    },
    {
      "cell_type": "code",
      "source": [
        "covid_sjrp['casos_novos'].max()"
      ],
      "metadata": {
        "id": "223NK_Jiw-Yn"
      },
      "execution_count": null,
      "outputs": []
    },
    {
      "cell_type": "code",
      "source": [
        "# DIVIDE A QUANTIDADE DE DADOS, NÃO O VALOR:\n",
        "# Primeiro Quartil:\n",
        "# nome_tabela['nome_coluna'].quantile(q=0.25)\n",
        "\n",
        "covid_sjrp['casos_novos'].quantile(q=0.25)"
      ],
      "metadata": {
        "id": "rQMmD4VSxPvX"
      },
      "execution_count": null,
      "outputs": []
    },
    {
      "cell_type": "code",
      "source": [
        "# Segundo Quartil:\n",
        "# nome_tabela['nome_coluna'].quantile(q=0.50)\n",
        "\n",
        "covid_sjrp['casos_novos'].quantile(q=0.5)"
      ],
      "metadata": {
        "id": "9PqAwWgxxjhF"
      },
      "execution_count": null,
      "outputs": []
    },
    {
      "cell_type": "code",
      "source": [
        "# Terceiro Quartil:\n",
        "# nome_tabela['nome_coluna'].quantile(q=0.75)\n",
        "\n",
        "covid_sjrp['casos_novos'].quantile(q=0.75)"
      ],
      "metadata": {
        "id": "BzfXTTgqyB9O"
      },
      "execution_count": null,
      "outputs": []
    },
    {
      "cell_type": "code",
      "source": [
        "covid_sjrp['casos_novos'].quantile(q=0.99)"
      ],
      "metadata": {
        "id": "54BheaDayHY8"
      },
      "execution_count": null,
      "outputs": []
    },
    {
      "cell_type": "code",
      "source": [
        "covid_sjrp['casos_novos'].describe()"
      ],
      "metadata": {
        "id": "4LPQAH96yNhM"
      },
      "execution_count": null,
      "outputs": []
    },
    {
      "cell_type": "code",
      "source": [
        "covid_guarulhos['casos_novos'].describe()"
      ],
      "metadata": {
        "id": "jIEbUtu9yW89"
      },
      "execution_count": null,
      "outputs": []
    },
    {
      "cell_type": "code",
      "source": [
        "covid_sjrp.obitos_novos.describe()  # min, 25%, 50%, 75%, max"
      ],
      "metadata": {
        "id": "qU97cN09yahT"
      },
      "execution_count": null,
      "outputs": []
    },
    {
      "cell_type": "code",
      "source": [
        "covid_guarulhos.obitos_novos.describe()"
      ],
      "metadata": {
        "id": "5DLJtlWVyfej"
      },
      "execution_count": null,
      "outputs": []
    },
    {
      "cell_type": "markdown",
      "source": [
        "## **Gráfico BoxPlot e Outliers**"
      ],
      "metadata": {
        "id": "SD045jhGzA3q"
      }
    },
    {
      "cell_type": "markdown",
      "source": [
        "São José do Rio Preto"
      ],
      "metadata": {
        "id": "5f8mnY0azICi"
      }
    },
    {
      "cell_type": "code",
      "source": [
        "# Criar BoxPlot:\n",
        "\n",
        "import plotly.express as px\n",
        "\n",
        "# nome_grafico = px.box(nome_tabela, y='nome_coluna')\n",
        "\n",
        "grafico = px.box(covid_sjrp, y='casos_novos')\n",
        "grafico.show()"
      ],
      "metadata": {
        "id": "_RFCfHpvzLFi"
      },
      "execution_count": null,
      "outputs": []
    },
    {
      "cell_type": "code",
      "source": [
        "# Outlier Superior:\n",
        "# outlier_sup = quartil_3 + 1.5 * interquartil --> interquartil = quartil_3 - quartil_1\n",
        "# ou seja, \n",
        "# outlier_sup = nome_tabela.nome_coluna.quantile(q=0.75) + 1.5 * (nome_tabela.nome_coluna.quantile(q=0.75) - nome_tabela.nome_coluna.quantile(q=0.25))\n",
        "\n",
        "outlier_sup = covid_sjrp.casos_novos.quantile(q=0.75) + 1.5 * (covid_sjrp.casos_novos.quantile(q=0.75) - \n",
        "                                                               covid_sjrp.casos_novos.quantile(q=0.25))\n",
        "outlier_sup"
      ],
      "metadata": {
        "id": "ULLUqVDFzulw"
      },
      "execution_count": null,
      "outputs": []
    },
    {
      "cell_type": "code",
      "source": [
        "# Outlier Inferior:\n",
        "# outlier_inf = quartil_1 - 1.5 * interquartil\n",
        "# ou seja, \n",
        "# outlier_inf = nome_tabela.nome_coluna.quantile(q=0.25) + 1.5 * (nome_tabela.nome_coluna.quantile(q=0.75) - nome_tabela.nome_coluna.quantile(q=0.25))\n",
        "\n",
        "outlier_inf = covid_sjrp.casos_novos.quantile(q=0.25) - 1.5 * (covid_sjrp.casos_novos.quantile(q=0.75) - \n",
        "                                                               covid_sjrp.casos_novos.quantile(q=0.25))\n",
        "outlier_inf"
      ],
      "metadata": {
        "id": "8N0SfkIW0FdR"
      },
      "execution_count": null,
      "outputs": []
    },
    {
      "cell_type": "code",
      "source": [
        "# Excluir Outliers (CASO SEJA NECESSÁRIO!!!):\n",
        "# nome_tabela = nome_tabela.loc[nome_tabela.nome_coluna <= outlier_sup]\n",
        "# nome_tabela = nome_tabela.loc[nome_tabela.nome_coluna >= outlier_inf]\n",
        "\n",
        "sem_outliers = covid_sjrp.loc[covid_sjrp.casos_novos <= outlier_sup]"
      ],
      "metadata": {
        "id": "F_pHswsM1cnF"
      },
      "execution_count": null,
      "outputs": []
    },
    {
      "cell_type": "code",
      "source": [
        "sem_outliers.head()"
      ],
      "metadata": {
        "id": "xVuAq4bX1yT1"
      },
      "execution_count": null,
      "outputs": []
    },
    {
      "cell_type": "code",
      "source": [
        "grafico = px.box(sem_outliers, y='casos_novos')\n",
        "grafico.show()"
      ],
      "metadata": {
        "id": "ua4kkFN42sNq"
      },
      "execution_count": null,
      "outputs": []
    },
    {
      "cell_type": "markdown",
      "source": [
        "Guarulhos"
      ],
      "metadata": {
        "id": "iIifhmPT3FhC"
      }
    },
    {
      "cell_type": "code",
      "source": [
        "grafico = px.box(covid_guarulhos, y='casos_novos')\n",
        "grafico.show()"
      ],
      "metadata": {
        "id": "zq2D3cCL3GvA"
      },
      "execution_count": null,
      "outputs": []
    },
    {
      "cell_type": "code",
      "source": [
        "outlier_sup_2 = covid_guarulhos.casos_novos.quantile(q=0.75) + 1.5 * (covid_guarulhos.casos_novos.quantile(q=0.75) - \n",
        "                                                                      covid_guarulhos.casos_novos.quantile(q=0.25))\n",
        "outlier_sup_2"
      ],
      "metadata": {
        "id": "eqMlrEjG3RAp"
      },
      "execution_count": null,
      "outputs": []
    },
    {
      "cell_type": "code",
      "source": [
        "outlier_inf_2 = covid_guarulhos.casos_novos.quantile(q=0.25) - 1.5 * (covid_guarulhos.casos_novos.quantile(q=0.75) - \n",
        "                                                                      covid_guarulhos.casos_novos.quantile(q=0.25))\n",
        "outlier_inf_2"
      ],
      "metadata": {
        "id": "k4KbtTmF3m_J"
      },
      "execution_count": null,
      "outputs": []
    },
    {
      "cell_type": "code",
      "source": [
        "sem_outliers_2 = covid_guarulhos.loc[covid_guarulhos.casos_novos <= outlier_sup_2]"
      ],
      "metadata": {
        "id": "MPw2eFXi3zKA"
      },
      "execution_count": null,
      "outputs": []
    },
    {
      "cell_type": "code",
      "source": [
        "sem_outliers_2.head()"
      ],
      "metadata": {
        "id": "IQqVAmys4V2f"
      },
      "execution_count": null,
      "outputs": []
    },
    {
      "cell_type": "code",
      "source": [
        "grafico = px.box(sem_outliers_2, y='casos_novos')\n",
        "grafico.show()"
      ],
      "metadata": {
        "id": "7Od3QJv-33xA"
      },
      "execution_count": null,
      "outputs": []
    },
    {
      "cell_type": "markdown",
      "source": [
        "## **Medidas de Dispersão**"
      ],
      "metadata": {
        "id": "ZguTv6FST_QJ"
      }
    },
    {
      "cell_type": "code",
      "source": [
        "# Variância:\n",
        "# nome_tabela['nome_coluna'].var()"
      ],
      "metadata": {
        "id": "3oYppm2VUG-w"
      },
      "execution_count": null,
      "outputs": []
    },
    {
      "cell_type": "code",
      "source": [
        "# Variância óbitos novos:\n",
        "\n",
        "covid_sjrp['obitos_novos'].var()"
      ],
      "metadata": {
        "id": "mhVgYdfTUSlR"
      },
      "execution_count": null,
      "outputs": []
    },
    {
      "cell_type": "code",
      "source": [
        "covid_guarulhos['obitos_novos'].var()"
      ],
      "metadata": {
        "id": "VFhEWyfsUY4A"
      },
      "execution_count": null,
      "outputs": []
    },
    {
      "cell_type": "code",
      "source": [
        "# Variância casos novos:\n",
        "\n",
        "covid_sjrp.casos_novos.var()"
      ],
      "metadata": {
        "id": "bJEgBYukUcmQ"
      },
      "execution_count": null,
      "outputs": []
    },
    {
      "cell_type": "code",
      "source": [
        "covid_guarulhos.casos_novos.var()"
      ],
      "metadata": {
        "id": "mkvYMn8XUfao"
      },
      "execution_count": null,
      "outputs": []
    },
    {
      "cell_type": "code",
      "source": [
        "# Desvio padrão:\n",
        "# nome_tabela['nome_coluna'].std()"
      ],
      "metadata": {
        "id": "3EPTZc3CUft5"
      },
      "execution_count": null,
      "outputs": []
    },
    {
      "cell_type": "code",
      "source": [
        "# Desvio padrão óbitos novos:\n",
        "\n",
        "covid_sjrp.obitos_novos.std()"
      ],
      "metadata": {
        "id": "Vd48pjAyUx7f"
      },
      "execution_count": null,
      "outputs": []
    },
    {
      "cell_type": "code",
      "source": [
        "covid_guarulhos.obitos_novos.std()"
      ],
      "metadata": {
        "id": "ovSl5PopU-RY"
      },
      "execution_count": null,
      "outputs": []
    },
    {
      "cell_type": "code",
      "source": [
        "# Desvio padrão casos novos:\n",
        "\n",
        "covid_sjrp.casos_novos.std()"
      ],
      "metadata": {
        "id": "7A33dBArU-gH"
      },
      "execution_count": null,
      "outputs": []
    },
    {
      "cell_type": "code",
      "source": [
        "covid_guarulhos.casos_novos.std()"
      ],
      "metadata": {
        "id": "UvEsXNFlVMXv"
      },
      "execution_count": null,
      "outputs": []
    },
    {
      "cell_type": "code",
      "source": [
        "covid_sjrp.casos_novos.describe()  # std"
      ],
      "metadata": {
        "id": "d_MYMrDoVPeX"
      },
      "execution_count": null,
      "outputs": []
    },
    {
      "cell_type": "code",
      "source": [
        "covid_guarulhos.casos_novos.describe()"
      ],
      "metadata": {
        "id": "4bBgiKOzVUdi"
      },
      "execution_count": null,
      "outputs": []
    },
    {
      "cell_type": "markdown",
      "source": [
        "## **Testes de Normalidade**"
      ],
      "metadata": {
        "id": "g1vOffzHrLZK"
      }
    },
    {
      "cell_type": "markdown",
      "source": [
        "Existem testes de normalidade numéricos e testes gráficos:\n",
        "\n",
        "Shapiro-Wilk (limite de 5000 amostras)\n",
        "\n",
        "Kolmogorov_Smirnov\n",
        "\n",
        "Histograma\n",
        "\n",
        "QQplot"
      ],
      "metadata": {
        "id": "tzdkiEqvrP7Q"
      }
    },
    {
      "cell_type": "markdown",
      "source": [
        "### Histograma"
      ],
      "metadata": {
        "id": "0SzZ0qs3riEH"
      }
    },
    {
      "cell_type": "code",
      "source": [
        "import seaborn as sns\n",
        "\n",
        "# sns.histplot(nome_tabela, x='nome_coluna', bins=num_bins, color=\"cor_grafico\", kde=False_True, stat=\"eixo_y\");\n",
        "\n",
        "sns.histplot(covid_sjrp, x='casos_novos', bins=32, color=\"orange\", kde=True, stat=\"count\",);"
      ],
      "metadata": {
        "id": "yBlOcw56rPGw"
      },
      "execution_count": null,
      "outputs": []
    },
    {
      "cell_type": "markdown",
      "source": [
        "### QQPLOT"
      ],
      "metadata": {
        "id": "JE3--Z26tS9s"
      }
    },
    {
      "cell_type": "code",
      "source": [
        "import scipy.stats as stats\n",
        "import matplotlib.pyplot as plt\n",
        "\n",
        "# stats.probplot(nome_tabela['nome_coluna'], dist=\"tipo_distribuição\", plot=plt)\n",
        "# plt.title(\"titulo_grafico\")\n",
        "\n",
        "stats.probplot(covid_sjrp['casos_novos'], dist=\"norm\", plot=plt)\n",
        "plt.title(\"Análise Normalidade\")\n",
        "plt.show()\n",
        "\n",
        "# Eixo x --> Quantis de distribuições teóricas\n",
        "# Eixo y --> Quantis de distribuições empíricas\n",
        "# Quanto mais próximos (pontos azuis) da linha vermelha, mais normalidade"
      ],
      "metadata": {
        "id": "gVXLRsAltbxb"
      },
      "execution_count": null,
      "outputs": []
    },
    {
      "cell_type": "markdown",
      "source": [
        "### Teste de Shapiro-Wilk"
      ],
      "metadata": {
        "id": "UsFW01gzvBx4"
      }
    },
    {
      "cell_type": "markdown",
      "source": [
        "CRITÉRIOS:\n",
        "\n",
        "NÍVEL DE SIGNIFICÂNCIA DE 0,05 ou 5% (MAIS UTILIZADO)\n",
        "\n",
        "QUANDO p > 0,05 (distribuição normal)"
      ],
      "metadata": {
        "id": "ErvRiEddvFj_"
      }
    },
    {
      "cell_type": "code",
      "source": [
        "import scipy.stats as stats\n",
        "\n",
        "# stats.shapiro(nome_tabela.nome_coluna)\n",
        "\n",
        "stats.shapiro(covid_sjrp.casos_novos,)\n",
        "\n",
        "# Retorna estatística de teste (W) e p-valor"
      ],
      "metadata": {
        "id": "6LxXqym9vTpn"
      },
      "execution_count": null,
      "outputs": []
    },
    {
      "cell_type": "code",
      "source": [
        "estatistica, p = stats.shapiro(covid_sjrp.casos_novos)\n",
        "print(f'Estatística de teste (W) = {round(estatistica, 2)}')\n",
        "print(f'p_valor = {p}')"
      ],
      "metadata": {
        "id": "MPzAOnyKvxwn"
      },
      "execution_count": null,
      "outputs": []
    },
    {
      "cell_type": "markdown",
      "source": [
        "### Teste Lillefors (Kolmogorov-Smirnov)"
      ],
      "metadata": {
        "id": "0S16T4ZtwXnt"
      }
    },
    {
      "cell_type": "code",
      "source": [
        "import statsmodels\n",
        "from statsmodels.stats.diagnostic import lilliefors\n",
        "\n",
        "# statsmodels.stats.diagnostic.lilliefors(nome_tabela.nome_tabela, dist='tipo_distribuição')\n",
        "\n",
        "estatistica, p = statsmodels.stats.diagnostic.lilliefors(covid_sjrp.casos_novos, dist='norm')\n",
        "print(f'Estatística de teste (D) = {round(estatistica, 2)}')\n",
        "print(f'p_valor = {p}')"
      ],
      "metadata": {
        "id": "ctSnFvVfwlU3"
      },
      "execution_count": null,
      "outputs": []
    },
    {
      "cell_type": "markdown",
      "source": [
        "## **Correlação Linear**"
      ],
      "metadata": {
        "id": "U_McoBR4xb51"
      }
    },
    {
      "cell_type": "markdown",
      "source": [
        "### Gráfico Dispersão"
      ],
      "metadata": {
        "id": "yNt0JcpKHHgN"
      }
    },
    {
      "cell_type": "code",
      "source": [
        "import matplotlib.pyplot as plt\n",
        "\n",
        "# plt.scatter(nome_tabela.nome_coluna_x, nome_tabela.nome_coluna_y)\n",
        "# plt.title('titulo_grafico')\n",
        "# plt.xlabel('nome_eixo_x')\n",
        "# plt.ylabel('nome_eixo_y')\n",
        "# plt.grid(True_False)\n",
        "\n",
        "plt.scatter(covid_sjrp.casos, covid_sjrp.obitos)\n",
        "plt.title('Correlação')\n",
        "plt.xlabel('Casos')\n",
        "plt.ylabel('Óbitos')\n",
        "plt.grid(False)\n",
        "\n",
        "plt.show()"
      ],
      "metadata": {
        "id": "lZGr3MmBxip6"
      },
      "execution_count": null,
      "outputs": []
    },
    {
      "cell_type": "code",
      "source": [
        "# Cria um DataFrame apenas com as varáveis desejadas para a análise:\n",
        "\n",
        "df = covid_sjrp[['casos', 'casos_novos', 'obitos', 'obitos_novos']]\n",
        "df"
      ],
      "metadata": {
        "id": "23DNocohH8F8"
      },
      "execution_count": null,
      "outputs": []
    },
    {
      "cell_type": "markdown",
      "source": [
        "**Determinação da correlação:**\n",
        "\n",
        "method:\n",
        "\n",
        "- \"pearson\" para dados paramétricos (normalidade e homocedasticidade)\n",
        "\n",
        "- \"spearman\" (volume \"grande\" de dados não paramétricos: maior ou igual a 30)\n",
        "\n",
        "- \"kendall\" (volume \"pequeno\" de dados não paramétricos: menor que 30)"
      ],
      "metadata": {
        "id": "6LciozbQIZS8"
      }
    },
    {
      "cell_type": "markdown",
      "source": [
        "Normalidade"
      ],
      "metadata": {
        "id": "sBbv2AvxKWYn"
      }
    },
    {
      "cell_type": "code",
      "source": [
        "import scipy.stats as stats\n",
        "import matplotlib.pyplot as plt\n",
        "\n",
        "stats.probplot(covid_sjrp['obitos'], dist=\"norm\", plot=plt)\n",
        "plt.title(\"Análise Normalidade\")\n",
        "plt.show()"
      ],
      "metadata": {
        "id": "pmjBZ28bI2d8"
      },
      "execution_count": null,
      "outputs": []
    },
    {
      "cell_type": "code",
      "source": [
        "estatistica, p = stats.shapiro(covid_sjrp.obitos)\n",
        "\n",
        "print(p)"
      ],
      "metadata": {
        "id": "FsVlS3WqJTwh"
      },
      "execution_count": null,
      "outputs": []
    },
    {
      "cell_type": "markdown",
      "source": [
        "Correlação Linear"
      ],
      "metadata": {
        "id": "0A9gtztuniyl"
      }
    },
    {
      "cell_type": "code",
      "source": [
        "# nome_correlacao = df.corr(method='nome_metodo')\n",
        "\n",
        "correlacoes = df.corr(method='spearman')\n",
        "correlacoes"
      ],
      "metadata": {
        "id": "7MZC4AFjKbXd"
      },
      "execution_count": null,
      "outputs": []
    },
    {
      "cell_type": "code",
      "source": [
        "import seaborn as sns\n",
        "\n",
        "# Mapa de calor:\n",
        "\n",
        "# plt.figure()\n",
        "# sns.heatmap(nome_correlacao, annot=True_False);  --> annot: Anotar valores no mapa\n",
        "\n",
        "plt.figure()\n",
        "sns.heatmap(correlacoes, annot=True);"
      ],
      "metadata": {
        "id": "HDsc6LxGoEcc"
      },
      "execution_count": null,
      "outputs": []
    },
    {
      "cell_type": "code",
      "source": [
        "# Criar gráficos de dispersões:\n",
        "# sns.pairplot(nome_tabela);\n",
        "\n",
        "sns.pairplot(df);"
      ],
      "metadata": {
        "id": "ExDR5NQBor5z"
      },
      "execution_count": null,
      "outputs": []
    },
    {
      "cell_type": "markdown",
      "source": [
        "## **Introdução à Regressão Linear Simples com Statsmodels**"
      ],
      "metadata": {
        "id": "mLUsNKHDp5fZ"
      }
    },
    {
      "cell_type": "code",
      "source": [
        "# Chamar regressão linear simples:\n",
        "\n",
        "import statsmodels.formula.api as smf\n",
        "import statsmodels.stats.api as sms\n",
        "\n",
        "# nome_regressao = smf.ols('variavel_dependente(y) ~ variavel_independente(x)', data=nome_tabela).fit()\n",
        "\n",
        "regressao = smf.ols('obitos ~ casos', data=covid_sjrp).fit()\n",
        "print(regressao.summary())  # Imprime um sumário"
      ],
      "metadata": {
        "id": "bKHm4gdKrh7V"
      },
      "execution_count": null,
      "outputs": []
    },
    {
      "cell_type": "code",
      "source": [
        "# Coeficientes:\n",
        "\n",
        "# nome_tabela_coef = pd.DataFrame(nome_regressao.params)\n",
        "# nome_tabela_coef.columns = ['nome_coluna']\n",
        "\n",
        "coefs = pd.DataFrame(regressao.params)\n",
        "coefs.columns = ['Coeficientes']\n",
        "print(coefs)"
      ],
      "metadata": {
        "id": "qEVOd2j1tNPa"
      },
      "execution_count": null,
      "outputs": []
    },
    {
      "cell_type": "markdown",
      "source": [
        "Equação:\n",
        "\n",
        "obitos = -54.2 + 0.029 * casos"
      ],
      "metadata": {
        "id": "-zjnmAFKttnh"
      }
    },
    {
      "cell_type": "code",
      "source": [
        "import matplotlib.pyplot as plt\n",
        "\n",
        "# Gráfico de dispersão:\n",
        "plt.scatter(y=covid_sjrp.obitos, x=covid_sjrp.casos, color='blue', s=2, alpha=0.5)  # Quanto maior o s, maior a bolinha\n",
        "\n",
        "# Limitações para o gráfico:\n",
        "x_plot = np.linspace(min(covid_sjrp.casos), max(covid_sjrp.casos), len(covid_sjrp.obitos))\n",
        "\n",
        "# Equação:\n",
        "plt.plot(x_plot, regressao.params[0] + x_plot*regressao.params[1], color='r')\n",
        "\n",
        "plt.title('Reta de regressão')\n",
        "plt.ylabel('Óbitos')\n",
        "plt.xlabel('Casos')\n",
        "plt.show()"
      ],
      "metadata": {
        "id": "9qRcfmFLuCdI"
      },
      "execution_count": null,
      "outputs": []
    }
  ]
}