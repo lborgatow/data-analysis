{
  "nbformat": 4,
  "nbformat_minor": 0,
  "metadata": {
    "colab": {
      "name": "Seção 6 - COVID-19 Mundial - Projeto 3",
      "provenance": [],
      "collapsed_sections": []
    },
    "kernelspec": {
      "name": "python3",
      "display_name": "Python 3"
    },
    "language_info": {
      "name": "python"
    }
  },
  "cells": [
    {
      "cell_type": "code",
      "source": [
        "from google.colab import drive\n",
        "drive.mount('/content/drive')"
      ],
      "metadata": {
        "id": "UkFl3-qv0frj"
      },
      "execution_count": null,
      "outputs": []
    },
    {
      "cell_type": "markdown",
      "metadata": {
        "id": "J32nr6MuQaYC"
      },
      "source": [
        "# **PROJETO 3: COVID 19 MUNDIAL**"
      ]
    },
    {
      "cell_type": "markdown",
      "metadata": {
        "id": "COVU0SF3V3eK"
      },
      "source": [
        "Este projeto analisa e implementa um algoritmo de Machine Learning para análise e previsão da evolução do Covid19 no período de 03/01/2020 a 12/08/2022.\n",
        "\n",
        "Os dados foram retirados em 13/08/2022 da Organização Mundial da Saúde:\n",
        "\n",
        "(https://covid19.who.int/table) "
      ]
    },
    {
      "cell_type": "markdown",
      "source": [
        "## **ANÁLISE E EXPLORAÇÃO DOS DADOS**"
      ],
      "metadata": {
        "id": "vufU-ecgRyrv"
      }
    },
    {
      "cell_type": "code",
      "execution_count": null,
      "metadata": {
        "id": "3TgqzQzUQrxP"
      },
      "outputs": [],
      "source": [
        "import numpy as np\n",
        "import pandas as pd\n",
        "\n",
        "path = '/content/drive/MyDrive/Udemy/Análise de Dados e Machine Learning/Seção 6/covid19_mundial.csv'\n",
        "covid_mundial = pd.read_csv(path, sep=',')"
      ]
    },
    {
      "cell_type": "code",
      "source": [
        "covid_mundial"
      ],
      "metadata": {
        "id": "wJW8HIkLR7Bf"
      },
      "execution_count": null,
      "outputs": []
    },
    {
      "cell_type": "code",
      "source": [
        "# Número de mortes acumuladas por país:\n",
        "\n",
        "mortes_total = covid_mundial.groupby('Country').Cumulative_deaths.max()\n",
        "\n",
        "# .groupby('Country') --> Agrupa por país\n",
        "# .Cumulative_deaths.max()  --> Retorna o valor máximo das mortes acumuladas"
      ],
      "metadata": {
        "id": "M2Vo_FhrSLcv"
      },
      "execution_count": null,
      "outputs": []
    },
    {
      "cell_type": "code",
      "source": [
        "mortes_total.sort_values(ascending=False).head(20)\n",
        "\n",
        "# ascending=False --> Ordem DECRESCENTE\n",
        "# ascending=True --> Ordem CRESCENTE"
      ],
      "metadata": {
        "id": "KW9YbPibS0um"
      },
      "execution_count": null,
      "outputs": []
    },
    {
      "cell_type": "code",
      "source": [
        "# Casos acumulados por país:\n",
        "\n",
        "casos_total = covid_mundial.groupby('Country').Cumulative_cases.max()\n",
        "casos_total.sort_values(ascending=False).head(20)"
      ],
      "metadata": {
        "id": "lJubVAvBUa6Y"
      },
      "execution_count": null,
      "outputs": []
    },
    {
      "cell_type": "code",
      "source": [
        "covid_brasil = covid_mundial.loc[covid_mundial.Country == 'Brazil']"
      ],
      "metadata": {
        "id": "zdGXhyrpUrd5"
      },
      "execution_count": null,
      "outputs": []
    },
    {
      "cell_type": "code",
      "source": [
        "covid_brasil"
      ],
      "metadata": {
        "id": "Gg16BDEPVFeo"
      },
      "execution_count": null,
      "outputs": []
    },
    {
      "cell_type": "code",
      "source": [
        "covid_brasil.shape"
      ],
      "metadata": {
        "id": "cMVORXMnVK_Q"
      },
      "execution_count": null,
      "outputs": []
    },
    {
      "cell_type": "code",
      "source": [
        "# Análise dos tipos de variáveis:\n",
        "\n",
        "covid_brasil.dtypes"
      ],
      "metadata": {
        "id": "YCBdzDq9VNyh"
      },
      "execution_count": null,
      "outputs": []
    },
    {
      "cell_type": "code",
      "source": [
        "# Análise dos valores missing:\n",
        "\n",
        "covid_brasil.isnull().sum()"
      ],
      "metadata": {
        "id": "0utnebFSVUJa"
      },
      "execution_count": null,
      "outputs": []
    },
    {
      "cell_type": "code",
      "source": [
        "covid_mundial.isnull().sum()"
      ],
      "metadata": {
        "id": "U2KjaGHNVdTw"
      },
      "execution_count": null,
      "outputs": []
    },
    {
      "cell_type": "markdown",
      "source": [
        "### **Análise de Valores Negativos**"
      ],
      "metadata": {
        "id": "i8w0kIbUVg-h"
      }
    },
    {
      "cell_type": "code",
      "source": [
        "covid_mundial.loc[covid_mundial.New_cases < 0, :]"
      ],
      "metadata": {
        "id": "TIMT-NhMVghA"
      },
      "execution_count": null,
      "outputs": []
    },
    {
      "cell_type": "code",
      "source": [
        "# Contagem para cada variável:\n",
        "\n",
        "covid_mundial.loc[covid_mundial.New_cases < 0, :].count()"
      ],
      "metadata": {
        "id": "vBntm6zeV2Nf"
      },
      "execution_count": null,
      "outputs": []
    },
    {
      "cell_type": "code",
      "source": [
        "covid_mundial.loc[covid_mundial.New_deaths < 0, :].count()"
      ],
      "metadata": {
        "id": "vIknPXmZWAF_"
      },
      "execution_count": null,
      "outputs": []
    },
    {
      "cell_type": "code",
      "source": [
        "covid_brasil.loc[covid_brasil.New_cases < 0, :].count()"
      ],
      "metadata": {
        "id": "B2umKAWGWKj-"
      },
      "execution_count": null,
      "outputs": []
    },
    {
      "cell_type": "code",
      "source": [
        "covid_brasil.loc[covid_brasil.New_deaths < 0, :].count()"
      ],
      "metadata": {
        "id": "XHsIppo5WO7G"
      },
      "execution_count": null,
      "outputs": []
    },
    {
      "cell_type": "code",
      "source": [
        "# Criação de um DataFrame com a soma de todos os países por data:\n",
        "\n",
        "covid_mundial_sum = covid_mundial.groupby('Date_reported').agg({'New_cases': 'sum', \n",
        "                                                                'Cumulative_cases': 'sum', \n",
        "                                                                'New_deaths': 'sum', \n",
        "                                                                'Cumulative_deaths': 'sum'})\n",
        "\n",
        "# Soma todos os new_cases de cada país na data x e coloca na variável new_cases da nova tabela; o mesmo com as outras variáveis"
      ],
      "metadata": {
        "id": "Y6TNZiDTWTo2"
      },
      "execution_count": null,
      "outputs": []
    },
    {
      "cell_type": "code",
      "source": [
        "covid_mundial_sum"
      ],
      "metadata": {
        "id": "LLdeQQuQW-Lc"
      },
      "execution_count": null,
      "outputs": []
    },
    {
      "cell_type": "markdown",
      "source": [
        "## **ANÁLISES ESTATÍSTICAS**"
      ],
      "metadata": {
        "id": "NLw8sKztXdXT"
      }
    },
    {
      "cell_type": "code",
      "source": [
        "covid_brasil.describe()"
      ],
      "metadata": {
        "id": "6gqjPefIXsjr"
      },
      "execution_count": null,
      "outputs": []
    },
    {
      "cell_type": "code",
      "source": [
        "covid_brasil.New_cases.mode()"
      ],
      "metadata": {
        "id": "S_npO5sBXxQg"
      },
      "execution_count": null,
      "outputs": []
    },
    {
      "cell_type": "code",
      "source": [
        "covid_brasil.New_deaths.mode()"
      ],
      "metadata": {
        "id": "Mj3D6jCiYji6"
      },
      "execution_count": null,
      "outputs": []
    },
    {
      "cell_type": "markdown",
      "source": [
        "### **Análise dos Outliers**"
      ],
      "metadata": {
        "id": "WioJXiI7Yl8x"
      }
    },
    {
      "cell_type": "code",
      "source": [
        "import plotly.express as px"
      ],
      "metadata": {
        "id": "tKxs31a4X1k7"
      },
      "execution_count": null,
      "outputs": []
    },
    {
      "cell_type": "code",
      "source": [
        "px.box(covid_brasil, y='Cumulative_cases')"
      ],
      "metadata": {
        "id": "D4HEeFKJY2PR"
      },
      "execution_count": null,
      "outputs": []
    },
    {
      "cell_type": "code",
      "source": [
        "px.box(covid_brasil, y='Cumulative_deaths')"
      ],
      "metadata": {
        "id": "gsdkcFOZZAM4"
      },
      "execution_count": null,
      "outputs": []
    },
    {
      "cell_type": "markdown",
      "source": [
        "### **Análise de Normalidade**"
      ],
      "metadata": {
        "id": "Hs8KJFYTZKT3"
      }
    },
    {
      "cell_type": "code",
      "source": [
        "import seaborn as sns"
      ],
      "metadata": {
        "id": "TJbZ0_r8ZNRX"
      },
      "execution_count": null,
      "outputs": []
    },
    {
      "cell_type": "code",
      "source": [
        "sns.histplot(covid_brasil, x='Cumulative_cases', bins=20, color='brown', kde=True, stat='count',);"
      ],
      "metadata": {
        "id": "hWAfFrohZPxv"
      },
      "execution_count": null,
      "outputs": []
    },
    {
      "cell_type": "code",
      "source": [
        "sns.histplot(covid_brasil, x='Cumulative_deaths', bins=20, color='brown', kde=True, stat='count',);"
      ],
      "metadata": {
        "id": "cnMHs2_rZlgn"
      },
      "execution_count": null,
      "outputs": []
    },
    {
      "cell_type": "code",
      "source": [
        "import scipy.stats as stats\n",
        "import matplotlib.pyplot as plt"
      ],
      "metadata": {
        "id": "i8UahaBYZrRX"
      },
      "execution_count": null,
      "outputs": []
    },
    {
      "cell_type": "code",
      "source": [
        "stats.probplot(covid_brasil['Cumulative_cases'], dist='norm', plot=plt)\n",
        "plt.title('Análise Normalidade')\n",
        "plt.show()"
      ],
      "metadata": {
        "id": "4cDb782ZZwr2"
      },
      "execution_count": null,
      "outputs": []
    },
    {
      "cell_type": "code",
      "source": [
        "stats.probplot(covid_brasil['Cumulative_deaths'], dist='norm', plot=plt)\n",
        "plt.title('Análise Normalidade')\n",
        "plt.show()"
      ],
      "metadata": {
        "id": "uwXRqWi2aAMl"
      },
      "execution_count": null,
      "outputs": []
    },
    {
      "cell_type": "code",
      "source": [
        "import statsmodels\n",
        "from statsmodels.stats.diagnostic import lilliefors"
      ],
      "metadata": {
        "id": "-Ff1ax1EaDTF"
      },
      "execution_count": null,
      "outputs": []
    },
    {
      "cell_type": "code",
      "source": [
        "estatistica, p = statsmodels.stats.diagnostic.lilliefors(covid_brasil.Cumulative_cases, dist='norm',)\n",
        "print(f'Estatística do teste (D) = {estatistica}')\n",
        "print(f'p_valor = {p}')"
      ],
      "metadata": {
        "id": "7BAL7yxKa40U"
      },
      "execution_count": null,
      "outputs": []
    },
    {
      "cell_type": "code",
      "source": [
        "estatistica, p = statsmodels.stats.diagnostic.lilliefors(covid_brasil.Cumulative_deaths, dist='norm',)\n",
        "print(f'Estatística do teste (D) = {estatistica}')\n",
        "print(f'p_valor = {p}')"
      ],
      "metadata": {
        "id": "8Gk0XqRBblGE"
      },
      "execution_count": null,
      "outputs": []
    },
    {
      "cell_type": "markdown",
      "source": [
        "### **Gráfico de dispersão em função das datas**"
      ],
      "metadata": {
        "id": "_ls3JdjFb4Lq"
      }
    },
    {
      "cell_type": "code",
      "source": [
        "import plotly.express as px"
      ],
      "metadata": {
        "id": "UATROrbAcnUD"
      },
      "execution_count": null,
      "outputs": []
    },
    {
      "cell_type": "code",
      "source": [
        "disp = px.scatter(x=covid_brasil.Date_reported, y=covid_brasil.Cumulative_cases)\n",
        "disp.update_layout(width=900, height=400, title_text='Número de Casos Acumulados no Brasil')\n",
        "disp.update_xaxes(title='Datas')\n",
        "disp.update_yaxes(title='Casos')\n",
        "disp.show()"
      ],
      "metadata": {
        "id": "Xnf3fSb2clbY"
      },
      "execution_count": null,
      "outputs": []
    },
    {
      "cell_type": "code",
      "source": [
        "disp = px.scatter(x=covid_brasil.Date_reported, y=covid_brasil.Cumulative_deaths)\n",
        "disp.update_layout(width=900, height=400, title_text='Número de Mortes Acumuladas no Brasil')\n",
        "disp.update_xaxes(title='Datas')\n",
        "disp.update_yaxes(title='Mortes')\n",
        "disp.show()"
      ],
      "metadata": {
        "id": "oXk7BzPZdRvf"
      },
      "execution_count": null,
      "outputs": []
    },
    {
      "cell_type": "code",
      "source": [
        "plt.subplots(figsize=(10,5))\n",
        "plt.stackplot(covid_brasil['Date_reported'], covid_brasil['Cumulative_cases'], covid_brasil['Cumulative_deaths'],\n",
        "              labels=['Cumulative_cases', 'Cumulatives_deaths'])\n",
        "plt.legend(loc = 'upper left')  # Adiciona legenda no gráfico na posição especificada\n",
        "plt.title('Comparação da evolução dos casos e das mortes no Brasil');"
      ],
      "metadata": {
        "id": "Q3xDwLdwdiUG"
      },
      "execution_count": null,
      "outputs": []
    },
    {
      "cell_type": "markdown",
      "source": [
        "### **Correlação Linear**"
      ],
      "metadata": {
        "id": "i8E-su9Veei8"
      }
    },
    {
      "cell_type": "code",
      "source": [
        "correlacoes = covid_brasil.corr(method='spearman')\n",
        "correlacoes"
      ],
      "metadata": {
        "id": "D0R1iAouehn-"
      },
      "execution_count": null,
      "outputs": []
    },
    {
      "cell_type": "code",
      "source": [
        "plt.figure()\n",
        "sns.heatmap(correlacoes, annot=True);"
      ],
      "metadata": {
        "id": "M125BXEKe0Wc"
      },
      "execution_count": null,
      "outputs": []
    },
    {
      "cell_type": "markdown",
      "source": [
        "## **MACHINE LEARNING**"
      ],
      "metadata": {
        "id": "538TkHWRfTyD"
      }
    },
    {
      "cell_type": "markdown",
      "source": [
        "### **Regressão Linear Simples**"
      ],
      "metadata": {
        "id": "79MJR1kDff8T"
      }
    },
    {
      "cell_type": "code",
      "source": [
        "covid_brasil"
      ],
      "metadata": {
        "id": "_vvcpXfZsdwW"
      },
      "execution_count": null,
      "outputs": []
    },
    {
      "cell_type": "code",
      "source": [
        "covid_brasil.shape"
      ],
      "metadata": {
        "id": "KKD6qkMKtXKr"
      },
      "execution_count": null,
      "outputs": []
    },
    {
      "cell_type": "code",
      "source": [
        "import plotly.express as px\n",
        "\n",
        "disp = px.scatter(x=covid_brasil.New_cases, y=covid_brasil.New_deaths)\n",
        "disp.update_layout(width=900, height=400, title_text='Número de mortes em função do número de casos')\n",
        "disp.update_xaxes(title='Novos Casos')\n",
        "disp.update_yaxes(title='Novas Mortes')\n",
        "disp.show()"
      ],
      "metadata": {
        "id": "qnqRetMUtby6"
      },
      "execution_count": null,
      "outputs": []
    },
    {
      "cell_type": "code",
      "source": [
        "# variavel_x_y = nome_tabela.iloc[:, indice_coluna].values\n",
        "\n",
        "x = covid_brasil.iloc[:, 4].values  # Novos casos  (índice 4)\n",
        "y = covid_brasil.iloc[:, 6].values  # Novas mortes (índice 6)"
      ],
      "metadata": {
        "id": "lHD5BfjkuCtj"
      },
      "execution_count": null,
      "outputs": []
    },
    {
      "cell_type": "code",
      "source": [
        "x"
      ],
      "metadata": {
        "id": "nix9X2F4ubxa"
      },
      "execution_count": null,
      "outputs": []
    },
    {
      "cell_type": "code",
      "source": [
        "y"
      ],
      "metadata": {
        "id": "412fjXcgucPD"
      },
      "execution_count": null,
      "outputs": []
    },
    {
      "cell_type": "code",
      "source": [
        "# Transoformar em matriz:\n",
        "x = x.reshape(-1, 1)"
      ],
      "metadata": {
        "id": "OL3pGgI2uhUI"
      },
      "execution_count": null,
      "outputs": []
    },
    {
      "cell_type": "code",
      "source": [
        "x"
      ],
      "metadata": {
        "id": "Ew9vhFMium-4"
      },
      "execution_count": null,
      "outputs": []
    },
    {
      "cell_type": "markdown",
      "source": [
        "**Separando base de dados em teste e treinamento**"
      ],
      "metadata": {
        "id": "4VNbh2lZu220"
      }
    },
    {
      "cell_type": "code",
      "source": [
        "from sklearn.model_selection import train_test_split\n",
        "\n",
        "# x_treinamento, x_teste, y_treinamento, y_teste = train_test_split(variavel_x, variavel_y, \n",
        "#                                                                  test_size = tamanho_teste,\n",
        "#                                                                  random_state = semente_aleatória)\n",
        "\n",
        "# Sem o random_state, o resultado não se repetirá\n",
        "\n",
        "x_treinamento, x_teste, y_treinamento, y_teste = train_test_split(x, y, \n",
        "                                                                  test_size = 0.25,  # 25% para teste e 75% para treinamento\n",
        "                                                                  random_state = 2)"
      ],
      "metadata": {
        "id": "IpUg8-2Vuz34"
      },
      "execution_count": null,
      "outputs": []
    },
    {
      "cell_type": "code",
      "source": [
        "x_treinamento"
      ],
      "metadata": {
        "id": "x1EC6SVrvTQo"
      },
      "execution_count": null,
      "outputs": []
    },
    {
      "cell_type": "code",
      "source": [
        "x_treinamento.size"
      ],
      "metadata": {
        "id": "abEyf9IYwlyk"
      },
      "execution_count": null,
      "outputs": []
    },
    {
      "cell_type": "code",
      "source": [
        "x_teste"
      ],
      "metadata": {
        "id": "gJr7GoufvUzy"
      },
      "execution_count": null,
      "outputs": []
    },
    {
      "cell_type": "code",
      "source": [
        "x_teste.size"
      ],
      "metadata": {
        "id": "nDZS99nxwrlE"
      },
      "execution_count": null,
      "outputs": []
    },
    {
      "cell_type": "code",
      "source": [
        "y_treinamento"
      ],
      "metadata": {
        "id": "IkJrwfkIvWCe"
      },
      "execution_count": null,
      "outputs": []
    },
    {
      "cell_type": "code",
      "source": [
        "y_treinamento.size"
      ],
      "metadata": {
        "id": "9jiecchJwpZk"
      },
      "execution_count": null,
      "outputs": []
    },
    {
      "cell_type": "code",
      "source": [
        "y_teste"
      ],
      "metadata": {
        "id": "1F6Rnj-IvWye"
      },
      "execution_count": null,
      "outputs": []
    },
    {
      "cell_type": "code",
      "source": [
        "y_teste.size"
      ],
      "metadata": {
        "id": "aR3ylxiswjEG"
      },
      "execution_count": null,
      "outputs": []
    },
    {
      "cell_type": "markdown",
      "source": [
        "**Criação do modelo de regressão linear**"
      ],
      "metadata": {
        "id": "ykRgWvxAwy_z"
      }
    },
    {
      "cell_type": "code",
      "source": [
        "from sklearn.linear_model import LinearRegression\n",
        "\n",
        "regressor = LinearRegression()\n",
        "regressor.fit(x_treinamento, y_treinamento)\n",
        "score = regressor.score(x_treinamento, y_treinamento)\n",
        "\n",
        "# Score --> Coeficiente de determinação"
      ],
      "metadata": {
        "id": "sRnt02XGw2gy"
      },
      "execution_count": null,
      "outputs": []
    },
    {
      "cell_type": "code",
      "source": [
        "# Gráfico com dados de treinamento:\n",
        "\n",
        "import matplotlib.pyplot as plt\n",
        "\n",
        "plt.scatter(x_treinamento, y_treinamento)\n",
        "plt.plot(x_treinamento, regressor.predict(x_treinamento), color='red');"
      ],
      "metadata": {
        "id": "4pT5pak3w2m8"
      },
      "execution_count": null,
      "outputs": []
    },
    {
      "cell_type": "code",
      "source": [
        "score"
      ],
      "metadata": {
        "id": "SN335kUTx1xy"
      },
      "execution_count": null,
      "outputs": []
    },
    {
      "cell_type": "code",
      "source": [
        "previsoes = regressor.predict(x_teste)"
      ],
      "metadata": {
        "id": "EegmGEDmyFU5"
      },
      "execution_count": null,
      "outputs": []
    },
    {
      "cell_type": "code",
      "source": [
        "# Gráfico com os dados de teste:\n",
        "\n",
        "plt.scatter(x_teste, y_teste)\n",
        "plt.plot(x_teste, regressor.predict(x_teste), color='red');"
      ],
      "metadata": {
        "id": "-Evg8wIAyI_A"
      },
      "execution_count": null,
      "outputs": []
    },
    {
      "cell_type": "code",
      "source": [
        "previsao = regressor.predict(np.array(80000).reshape(-1,1))\n",
        "previsao\n",
        "\n",
        "# Tendo 80000 casos, a previsão é ter 1218 mortes."
      ],
      "metadata": {
        "id": "PSI7ZHvGyXuw"
      },
      "execution_count": null,
      "outputs": []
    },
    {
      "cell_type": "code",
      "source": [
        "# Coeficiente linear:\n",
        "\n",
        "regressor.intercept_"
      ],
      "metadata": {
        "id": "iVKW_IrWytQ3"
      },
      "execution_count": null,
      "outputs": []
    },
    {
      "cell_type": "code",
      "source": [
        "# Coeficiente angular:\n",
        "\n",
        "regressor.coef_"
      ],
      "metadata": {
        "id": "TY0fOn5CyzFP"
      },
      "execution_count": null,
      "outputs": []
    },
    {
      "cell_type": "markdown",
      "source": [
        "Equação: mortes = 313.06751 + 0.0113*casos"
      ],
      "metadata": {
        "id": "HhlngGpNy3v5"
      }
    },
    {
      "cell_type": "markdown",
      "source": [
        "**Métricas de Desempenho**"
      ],
      "metadata": {
        "id": "M7d-ocFbzGxD"
      }
    },
    {
      "cell_type": "code",
      "source": [
        "# Coeficiente de Determinação (R^2):\n",
        "\n",
        "regressor.score(x_teste, y_teste)"
      ],
      "metadata": {
        "id": "SPLunh_QzFa-"
      },
      "execution_count": null,
      "outputs": []
    },
    {
      "cell_type": "code",
      "source": [
        "from sklearn.metrics import mean_absolute_error, mean_squared_error\n",
        "\n",
        "print(f'Erro Médio Absoluto (MAE): {mean_absolute_error(y_teste, previsoes)}')\n",
        "print(f'Erro Quadrático Médio (MSE): {mean_squared_error(y_teste, previsoes)}')\n",
        "print(f'Raiz do Erro Quadrático Médio (RMSE): {np.sqrt(mean_squared_error(y_teste, previsoes))}')\n",
        "\n",
        "# Quanto menores os resultados, melhor o algoritmo"
      ],
      "metadata": {
        "id": "V8EHQJ6czeLG"
      },
      "execution_count": null,
      "outputs": []
    },
    {
      "cell_type": "markdown",
      "source": [
        "### **Regressão Polinomial**"
      ],
      "metadata": {
        "id": "zfDfKQsd0Hbc"
      }
    },
    {
      "cell_type": "code",
      "source": [
        "covid_brasil"
      ],
      "metadata": {
        "id": "Gen6DsRc0M6c"
      },
      "execution_count": null,
      "outputs": []
    },
    {
      "cell_type": "code",
      "source": [
        "import plotly.express as px\n",
        "\n",
        "disp = px.scatter(x=covid_brasil.Date_reported, y=covid_brasil.Cumulative_cases)\n",
        "disp.update_layout(width=900, height=400, title_text='Número de Casos Acumulados no Brasil')\n",
        "disp.update_xaxes(title='Datas')\n",
        "disp.update_yaxes(title='Casos')\n",
        "disp.show()"
      ],
      "metadata": {
        "id": "ZaKLis8E2BrS"
      },
      "execution_count": null,
      "outputs": []
    },
    {
      "cell_type": "code",
      "source": [
        "x = covid_brasil.iloc[:, 0].values  #     Datas        (índice 0)\n",
        "y = covid_brasil.iloc[:, 5].values  # Casos Acumulados (índice 5)"
      ],
      "metadata": {
        "id": "p16aNqrS0dID"
      },
      "execution_count": null,
      "outputs": []
    },
    {
      "cell_type": "code",
      "source": [
        "x"
      ],
      "metadata": {
        "id": "21RjsbfT0h2c"
      },
      "execution_count": null,
      "outputs": []
    },
    {
      "cell_type": "code",
      "source": [
        "# Transformar as datas em sequência numérica (1,2,3,4,...) e em matriz:\n",
        "\n",
        "x = np.arange(1, len(x) + 1).reshape(-1,1)\n",
        "x"
      ],
      "metadata": {
        "id": "S-X9hDI60il8"
      },
      "execution_count": null,
      "outputs": []
    },
    {
      "cell_type": "code",
      "source": [
        "y"
      ],
      "metadata": {
        "id": "dsWGsHec1B8i"
      },
      "execution_count": null,
      "outputs": []
    },
    {
      "cell_type": "markdown",
      "source": [
        "**Separando base de dados em teste e treinamento**"
      ],
      "metadata": {
        "id": "aFl_vFTK2PZh"
      }
    },
    {
      "cell_type": "code",
      "source": [
        "from sklearn.model_selection import train_test_split\n",
        "\n",
        "x_treinamento, x_teste, y_treinamento, y_teste = train_test_split(x, y, \n",
        "                                                                  test_size = 0.25,\n",
        "                                                                  shuffle = True,\n",
        "                                                                  random_state = 2,)"
      ],
      "metadata": {
        "id": "BXRwQo2S2PZw"
      },
      "execution_count": null,
      "outputs": []
    },
    {
      "cell_type": "code",
      "source": [
        "x_treinamento.size"
      ],
      "metadata": {
        "id": "8cleINQy2s_e"
      },
      "execution_count": null,
      "outputs": []
    },
    {
      "cell_type": "code",
      "source": [
        "x_teste.size"
      ],
      "metadata": {
        "id": "xYLCanNt2vW2"
      },
      "execution_count": null,
      "outputs": []
    },
    {
      "cell_type": "code",
      "source": [
        "y_treinamento.size"
      ],
      "metadata": {
        "id": "CqOcAPn_2yc4"
      },
      "execution_count": null,
      "outputs": []
    },
    {
      "cell_type": "code",
      "source": [
        "y_teste.size"
      ],
      "metadata": {
        "id": "wzTq_8dj2zlW"
      },
      "execution_count": null,
      "outputs": []
    },
    {
      "cell_type": "code",
      "source": [
        "from sklearn.preprocessing import PolynomialFeatures\n",
        "\n",
        "poly = PolynomialFeatures(degree=2)  # De grau 2\n",
        "x_treinamento_poly = poly.fit_transform(x_treinamento)\n",
        "x_teste_poly = poly.transform(x_teste)"
      ],
      "metadata": {
        "id": "1eNDi0SZ21fW"
      },
      "execution_count": null,
      "outputs": []
    },
    {
      "cell_type": "code",
      "source": [
        "from sklearn.linear_model import LinearRegression\n",
        "\n",
        "regressor = LinearRegression()\n",
        "regressor.fit(x_treinamento_poly, y_treinamento)\n",
        "score = regressor.score(x_treinamento_poly, y_treinamento)"
      ],
      "metadata": {
        "id": "0-AZqvHZ3Kyd"
      },
      "execution_count": null,
      "outputs": []
    },
    {
      "cell_type": "code",
      "source": [
        "y_treinamento.size"
      ],
      "metadata": {
        "id": "Q_FD5yAH3iC0"
      },
      "execution_count": null,
      "outputs": []
    },
    {
      "cell_type": "code",
      "source": [
        "previsoes = regressor.predict(x_teste_poly)"
      ],
      "metadata": {
        "id": "NR5YFT1G3kVd"
      },
      "execution_count": null,
      "outputs": []
    },
    {
      "cell_type": "code",
      "source": [
        "previsoes.size"
      ],
      "metadata": {
        "id": "Ly3MrjCK3nxG"
      },
      "execution_count": null,
      "outputs": []
    },
    {
      "cell_type": "code",
      "source": [
        "# Criação de uma sequência para previsão:\n",
        "\n",
        "forecast = np.arange(len(x) + 20).reshape(-1,1)  # + 20 é uma previsão de 20 dias a mais"
      ],
      "metadata": {
        "id": "Ux0vP4Ly3q8t"
      },
      "execution_count": null,
      "outputs": []
    },
    {
      "cell_type": "code",
      "source": [
        "forecast.shape"
      ],
      "metadata": {
        "id": "lGxjeC2j3917"
      },
      "execution_count": null,
      "outputs": []
    },
    {
      "cell_type": "code",
      "source": [
        "x_train_total = poly.transform(forecast)\n",
        "x_train_total.shape"
      ],
      "metadata": {
        "id": "bFpaxQqx4CmT"
      },
      "execution_count": null,
      "outputs": []
    },
    {
      "cell_type": "code",
      "source": [
        "x_train_total"
      ],
      "metadata": {
        "id": "upMNLqec4Oib"
      },
      "execution_count": null,
      "outputs": []
    },
    {
      "cell_type": "code",
      "source": [
        "previsao_total = regressor.predict(x_train_total)\n",
        "len(previsao_total)"
      ],
      "metadata": {
        "id": "4LKEC4Y24TXT"
      },
      "execution_count": null,
      "outputs": []
    },
    {
      "cell_type": "code",
      "source": [
        "previsao_total"
      ],
      "metadata": {
        "id": "HbCuFcK14Znj"
      },
      "execution_count": null,
      "outputs": []
    },
    {
      "cell_type": "code",
      "source": [
        "plt.subplots(figsize=(10,5))\n",
        "plt.plot(forecast[:-20], y, color='red')\n",
        "plt.plot(forecast, previsao_total, linestyle='dashed')\n",
        "plt.title('Casos de COVID-19 no Brasil')\n",
        "plt.xlabel('A partir de 03/01/2020')\n",
        "plt.ylabel('Número de Casos')\n",
        "plt.legend(['Casos Acumulados', 'Previsão']);"
      ],
      "metadata": {
        "id": "zRhthpVT4b37"
      },
      "execution_count": null,
      "outputs": []
    },
    {
      "cell_type": "code",
      "source": [
        "previsao_total[950]"
      ],
      "metadata": {
        "id": "kxb2cqpd5lXA"
      },
      "execution_count": null,
      "outputs": []
    },
    {
      "cell_type": "markdown",
      "source": [
        "**Métricas de Desempenho**"
      ],
      "metadata": {
        "id": "mY4ki9O75nNQ"
      }
    },
    {
      "cell_type": "code",
      "source": [
        "# Coeficiente de Determinação (R^2)\n",
        "\n",
        "score"
      ],
      "metadata": {
        "id": "gygmIiZ56d2e"
      },
      "execution_count": null,
      "outputs": []
    },
    {
      "cell_type": "code",
      "source": [
        "poly_teste_pred = regressor.predict(x_teste_poly)"
      ],
      "metadata": {
        "id": "jHX_leX05qDZ"
      },
      "execution_count": null,
      "outputs": []
    },
    {
      "cell_type": "code",
      "source": [
        "from sklearn.metrics import mean_absolute_error, mean_squared_error\n",
        "\n",
        "print(f'Erro Médio Absoluto (MAE): {mean_absolute_error(poly_teste_pred, y_teste)}')\n",
        "print(f'Erro Quadrático Médio (MSE): {mean_squared_error(poly_teste_pred, y_teste)}')\n",
        "print(f'Raiz do Erro Quadrático Médio (RMSE): {np.sqrt(mean_squared_error(poly_teste_pred, y_teste))}')"
      ],
      "metadata": {
        "id": "91_InuMs6W1v"
      },
      "execution_count": null,
      "outputs": []
    }
  ]
}