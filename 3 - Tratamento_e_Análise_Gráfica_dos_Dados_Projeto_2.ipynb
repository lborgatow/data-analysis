{
  "nbformat": 4,
  "nbformat_minor": 0,
  "metadata": {
    "colab": {
      "name": "Seção 5 - Tratamento e Análise Gráfica dos Dados - Projeto 2",
      "provenance": [],
      "collapsed_sections": []
    },
    "kernelspec": {
      "name": "python3",
      "display_name": "Python 3"
    },
    "language_info": {
      "name": "python"
    }
  },
  "cells": [
    {
      "cell_type": "code",
      "source": [
        "from google.colab import drive\n",
        "drive.mount('/content/drive')"
      ],
      "metadata": {
        "id": "UkFl3-qv0frj"
      },
      "execution_count": null,
      "outputs": []
    },
    {
      "cell_type": "markdown",
      "source": [
        "# **PROJETO ANÁLISE DOS DADOS SOBRE A SÍNDROME RESPIRATÓRIA AGUDA GRAVE (SRAG)**"
      ],
      "metadata": {
        "id": "vzOPCcMkNooQ"
      }
    },
    {
      "cell_type": "markdown",
      "source": [
        "Este projeto analisa os dados referentes aos casos de síndrome respiratória aguda no estado de São Paulo do período de fevereiro de 2020 a setembro de 2021."
      ],
      "metadata": {
        "id": "-nUxsmNyT8kH"
      }
    },
    {
      "cell_type": "markdown",
      "source": [
        "Os dados estão disponíveis nos sites:\n",
        "\n",
        "https://www.seade.gov.br/coronavirus/#\n",
        "\n",
        "https://github.com/seade-R/dados-covid-sp\n",
        "\n",
        "https://www.seade.gov.br/"
      ],
      "metadata": {
        "id": "xeoOc9e9UHZQ"
      }
    },
    {
      "cell_type": "markdown",
      "source": [
        "## **Importação dos Dados**"
      ],
      "metadata": {
        "id": "Z6mVbjsitGrr"
      }
    },
    {
      "cell_type": "code",
      "source": [
        "import numpy as np\n",
        "import pandas as pd\n",
        "\n",
        "path = '/content/drive/MyDrive/Udemy/Análise de Dados e Machine Learning/Seção 5/SRAG_2020.csv'\n",
        "srag_sp = pd.read_csv(path, sep=';', encoding='utf-8')\n"
      ],
      "metadata": {
        "id": "EiZ1pgfjOyrO"
      },
      "execution_count": null,
      "outputs": []
    },
    {
      "cell_type": "code",
      "source": [
        "srag_sp.head()"
      ],
      "metadata": {
        "id": "FwwCSP7cQSPC"
      },
      "execution_count": null,
      "outputs": []
    },
    {
      "cell_type": "code",
      "source": [
        "srag_sp.shape"
      ],
      "metadata": {
        "id": "-Z-fiV9_Qy8q"
      },
      "execution_count": null,
      "outputs": []
    },
    {
      "cell_type": "markdown",
      "source": [
        "## **Tratamento dos Dados**"
      ],
      "metadata": {
        "id": "zPu0vruXQ3NZ"
      }
    },
    {
      "cell_type": "markdown",
      "source": [
        "**EXCLUINDO VARIÁVEIS**"
      ],
      "metadata": {
        "id": "fcsgvE9CQ7JJ"
      }
    },
    {
      "cell_type": "code",
      "source": [
        "# Excluir váriáveis da variável no índice 50 até o índice 132\n",
        "\n",
        "lista = list(range(50, 133))"
      ],
      "metadata": {
        "id": "4smNNwd3RBRf"
      },
      "execution_count": null,
      "outputs": []
    },
    {
      "cell_type": "code",
      "source": [
        "srag_mod = srag_sp.drop(srag_sp.columns[lista], axis=1)"
      ],
      "metadata": {
        "id": "RVv51obTRfl2"
      },
      "execution_count": null,
      "outputs": []
    },
    {
      "cell_type": "code",
      "source": [
        "srag_mod.head(2)"
      ],
      "metadata": {
        "id": "heu1BdSpRqLG"
      },
      "execution_count": null,
      "outputs": []
    },
    {
      "cell_type": "code",
      "source": [
        "srag_mod.shape"
      ],
      "metadata": {
        "id": "Vv75GjJURyH2"
      },
      "execution_count": null,
      "outputs": []
    },
    {
      "cell_type": "code",
      "source": [
        "# Excluindo variáveis específicas\n",
        "\n",
        "srag_mod.drop(columns=['COD_IDADE', 'ID_PAIS', 'CO_PAIS', 'SG_UF', 'ID_RG_RESI', 'CO_RG_RESI', 'CO_MUN_RES'], inplace=True)"
      ],
      "metadata": {
        "id": "w-bTCOwHR0-H"
      },
      "execution_count": null,
      "outputs": []
    },
    {
      "cell_type": "markdown",
      "source": [
        "**RENOMEANDO VARIÁVEIS**"
      ],
      "metadata": {
        "id": "sUXJMp5nSezV"
      }
    },
    {
      "cell_type": "code",
      "source": [
        "srag_mod = srag_mod.rename(columns={'DT_NOTIFIC': 'DATA', 'CS_SEXO': 'SEXO', \n",
        "                                    'NU_IDADE_N': 'IDADE', 'CS_RACA': 'RACA'})"
      ],
      "metadata": {
        "id": "bVFJanLoSSXG"
      },
      "execution_count": null,
      "outputs": []
    },
    {
      "cell_type": "code",
      "source": [
        "srag_mod.head()"
      ],
      "metadata": {
        "id": "ksJ90HECS8dc"
      },
      "execution_count": null,
      "outputs": []
    },
    {
      "cell_type": "markdown",
      "source": [
        "**ANALISANDO OS TIPOS DE VARIÁVEIS**"
      ],
      "metadata": {
        "id": "Vu040-cgTAWT"
      }
    },
    {
      "cell_type": "code",
      "source": [
        "srag_mod.dtypes"
      ],
      "metadata": {
        "id": "dtcNOm7WTEvs"
      },
      "execution_count": null,
      "outputs": []
    },
    {
      "cell_type": "code",
      "source": [
        "srag_mod['DATA'] = srag_mod['DATA'].astype('datetime64[D]')"
      ],
      "metadata": {
        "id": "ZwJsJ3_LTWXj"
      },
      "execution_count": null,
      "outputs": []
    },
    {
      "cell_type": "markdown",
      "source": [
        "**ANALISANDO VALORES MISSING (NAN)**"
      ],
      "metadata": {
        "id": "iPcLYWevTmmM"
      }
    },
    {
      "cell_type": "code",
      "source": [
        "srag_mod.isnull().sum()"
      ],
      "metadata": {
        "id": "9meT8Dz_T1Ya"
      },
      "execution_count": null,
      "outputs": []
    },
    {
      "cell_type": "markdown",
      "source": [
        "**Contagem das classificações de RAÇAS**"
      ],
      "metadata": {
        "id": "zSprf6fIT-DC"
      }
    },
    {
      "cell_type": "code",
      "source": [
        "srag_mod['RACA'].value_counts().sort_index()"
      ],
      "metadata": {
        "id": "pKrQ7D7wUG05"
      },
      "execution_count": null,
      "outputs": []
    },
    {
      "cell_type": "code",
      "source": [
        "# Preenchendo valores missing com o número 9 (ignorado)\n",
        "\n",
        "srag_mod['RACA'].fillna(9, inplace=True)"
      ],
      "metadata": {
        "id": "8z7q4D6mUgJZ"
      },
      "execution_count": null,
      "outputs": []
    },
    {
      "cell_type": "markdown",
      "source": [
        "**Contagem das classificações de CS_ZONA**"
      ],
      "metadata": {
        "id": "fzkNI8N8U1go"
      }
    },
    {
      "cell_type": "code",
      "source": [
        "srag_mod['CS_ZONA'].value_counts().sort_index()"
      ],
      "metadata": {
        "id": "oIn5tdOmUszY"
      },
      "execution_count": null,
      "outputs": []
    },
    {
      "cell_type": "code",
      "source": [
        "srag_mod['CS_ZONA'].fillna(9, inplace=True)"
      ],
      "metadata": {
        "id": "FJ-RU-9dVANX"
      },
      "execution_count": null,
      "outputs": []
    },
    {
      "cell_type": "markdown",
      "source": [
        "**Substituindo as classificações numéricas por palavras**"
      ],
      "metadata": {
        "id": "14OHd1qIVSxP"
      }
    },
    {
      "cell_type": "code",
      "source": [
        "srag_mod['RACA'] = srag_mod['RACA'].replace({1: 'branca',\n",
        "                                             2: 'preta',\n",
        "                                             3: 'amarela',\n",
        "                                             4: 'parda',\n",
        "                                             5: 'indígena',\n",
        "                                             9: 'ignorado'})"
      ],
      "metadata": {
        "id": "zLkqAumgVdx_"
      },
      "execution_count": null,
      "outputs": []
    },
    {
      "cell_type": "code",
      "source": [
        "srag_mod['RACA'].value_counts().sort_index()"
      ],
      "metadata": {
        "id": "UqybZq2FWTP9"
      },
      "execution_count": null,
      "outputs": []
    },
    {
      "cell_type": "code",
      "source": [
        "srag_mod['CS_ZONA'] = srag_mod['CS_ZONA'].replace({1: 'urbana', \n",
        "                                                   2: 'rural',\n",
        "                                                   3: 'periurbana',\n",
        "                                                   9: 'ignorado'})"
      ],
      "metadata": {
        "id": "q--sJhSVWX2V"
      },
      "execution_count": null,
      "outputs": []
    },
    {
      "cell_type": "code",
      "source": [
        "srag_mod['CS_ZONA'].value_counts().sort_index()"
      ],
      "metadata": {
        "id": "c6l5S2umWm3E"
      },
      "execution_count": null,
      "outputs": []
    },
    {
      "cell_type": "markdown",
      "source": [
        "## **Gráfico de Barras**"
      ],
      "metadata": {
        "id": "eNIKi5NiXWp7"
      }
    },
    {
      "cell_type": "markdown",
      "source": [
        "### **Matplotlib**"
      ],
      "metadata": {
        "id": "DEBP8_vAYyl4"
      }
    },
    {
      "cell_type": "code",
      "source": [
        "import matplotlib.pyplot as plt"
      ],
      "metadata": {
        "id": "EItdOclDyx4s"
      },
      "execution_count": null,
      "outputs": []
    },
    {
      "cell_type": "code",
      "source": [
        "graf_barras = srag_mod['SEXO'].value_counts()\n",
        "graf_barras"
      ],
      "metadata": {
        "id": "WGqmJVkQXeGT"
      },
      "execution_count": null,
      "outputs": []
    },
    {
      "cell_type": "code",
      "source": [
        "graf_barras.index"
      ],
      "metadata": {
        "id": "DPfCcBeiXoSC"
      },
      "execution_count": null,
      "outputs": []
    },
    {
      "cell_type": "code",
      "source": [
        "# Criar gráfico de barras (vertical):\n",
        "\n",
        "# plt.bar(eixo_x, eixo_y, color='cor_barra')\n",
        "\n",
        "plt.bar(graf_barras.index, graf_barras, color='red')\n",
        "plt.title('Análise da Distribuição por Sexo')\n",
        "plt.ylabel('Quantidade')\n",
        "plt.xlabel('Sexo')\n",
        "plt.show()"
      ],
      "metadata": {
        "id": "OWw7-I02XrWC"
      },
      "execution_count": null,
      "outputs": []
    },
    {
      "cell_type": "code",
      "source": [
        "# Criar gráfico de barras (horizontal):\n",
        "\n",
        "# plt.bar(eixo_y, eixo_x, color='cor_barra')\n",
        "\n",
        "plt.barh(graf_barras.index, graf_barras, color='red')\n",
        "plt.title('Análise da Distribuição por Sexo')\n",
        "plt.ylabel('Sexo')\n",
        "plt.xlabel('Quantidade')\n",
        "plt.show()"
      ],
      "metadata": {
        "id": "2D6hdRI7Yc94"
      },
      "execution_count": null,
      "outputs": []
    },
    {
      "cell_type": "markdown",
      "source": [
        "### **Seaborn**"
      ],
      "metadata": {
        "id": "0hK5_afgY2t3"
      }
    },
    {
      "cell_type": "code",
      "source": [
        "import seaborn as sns"
      ],
      "metadata": {
        "id": "wcSusGvaY4aY"
      },
      "execution_count": null,
      "outputs": []
    },
    {
      "cell_type": "code",
      "source": [
        "# Criar gráfico de barras (vertical):\n",
        "\n",
        "sns.countplot(x='SEXO', data=srag_mod);"
      ],
      "metadata": {
        "id": "N9f4-H8dY9d4"
      },
      "execution_count": null,
      "outputs": []
    },
    {
      "cell_type": "code",
      "source": [
        "# Criar gráfico de barras (horizontal):\n",
        "\n",
        "sns.countplot(y='SEXO', data=srag_mod);"
      ],
      "metadata": {
        "id": "dXgu8caLZNmO"
      },
      "execution_count": null,
      "outputs": []
    },
    {
      "cell_type": "code",
      "source": [
        "# fig, ax = plt.subplots(figsize=(tamanho_gráfico))\n",
        "# sns.countplot(x_ou_y = 'nome_coluna', data=nome_tabela)\n",
        "# ax.set_title(\"título_gráfico\", fontdict={'fontsize': tamanho_fonte})\n",
        "# ax.set_xlabel(\"título_eixo_x\", fontdict={'fontsize': tamanho_fonte})\n",
        "# ax.set_ylabel(\"título_eixo_y\", fontdict={'fontsize': tamanho_fonte});\n",
        "\n",
        "fig, ax = plt.subplots(figsize=(8, 6))\n",
        "sns.countplot(x='RACA', data=srag_mod)\n",
        "ax.set_title(\"Análise da Distribuição por Raça\", fontdict={'fontsize': 20})\n",
        "ax.set_xlabel(\"Raça\", fontdict={'fontsize': 15})\n",
        "ax.set_ylabel(\"Quantidade\", fontdict={'fontsize': 15});"
      ],
      "metadata": {
        "id": "3KmrqVV3ZuMG"
      },
      "execution_count": null,
      "outputs": []
    },
    {
      "cell_type": "markdown",
      "source": [
        "## **Box Plot**"
      ],
      "metadata": {
        "id": "mLN-GIkCbeCh"
      }
    },
    {
      "cell_type": "markdown",
      "source": [
        "### **Plotly**"
      ],
      "metadata": {
        "id": "3-YAFIuHbhmK"
      }
    },
    {
      "cell_type": "code",
      "source": [
        "import plotly.express as px"
      ],
      "metadata": {
        "id": "dsfI7atubj-p"
      },
      "execution_count": null,
      "outputs": []
    },
    {
      "cell_type": "markdown",
      "source": [
        "Box Plot para idade em anos"
      ],
      "metadata": {
        "id": "OjZwNOVfbupo"
      }
    },
    {
      "cell_type": "code",
      "source": [
        "srag_mod['TP_IDADE'].value_counts().sort_index()"
      ],
      "metadata": {
        "id": "ScRwuBQ-buGR"
      },
      "execution_count": null,
      "outputs": []
    },
    {
      "cell_type": "code",
      "source": [
        "srag_mod['IDADE'].value_counts().sort_index()"
      ],
      "metadata": {
        "id": "YCmijPvlccoo"
      },
      "execution_count": null,
      "outputs": []
    },
    {
      "cell_type": "code",
      "source": [
        "srag_mod.IDADE.describe()"
      ],
      "metadata": {
        "id": "tBBIsD-1dC0Y"
      },
      "execution_count": null,
      "outputs": []
    },
    {
      "cell_type": "code",
      "source": [
        "srag_mod.IDADE.mode()\n",
        "\n",
        "# Distribuição assimétrica p/ esquerda:    \n",
        "#   média   --> 54   #   \n",
        "#   mediana --> 57   # Tendência de distribuição simétrica, pois são valores próximos\n",
        "#   moda    --> 59   #"
      ],
      "metadata": {
        "id": "O82zl3fmdNZ_"
      },
      "execution_count": null,
      "outputs": []
    },
    {
      "cell_type": "code",
      "source": [
        "# Quando o tipo de idade (TP_IDADE) for igual a 1 (Dias) ou 2 (Mêses),\n",
        "# substitui o valor da variável 'IDADE' (na mesma linha) por 0. \n",
        "\n",
        "srag_mod.loc[srag_mod['TP_IDADE'] == 1, 'IDADE'] = 0\n",
        "srag_mod.loc[srag_mod['TP_IDADE'] == 2, 'IDADE'] = 0"
      ],
      "metadata": {
        "id": "AOVlVIqAdKvW"
      },
      "execution_count": null,
      "outputs": []
    },
    {
      "cell_type": "code",
      "source": [
        "srag_mod['IDADE'].value_counts().sort_index()"
      ],
      "metadata": {
        "id": "ymwPLCVRev6t"
      },
      "execution_count": null,
      "outputs": []
    },
    {
      "cell_type": "code",
      "source": [
        "# Criar Box Plot:\n",
        "\n",
        "box = px.box(srag_mod, y='IDADE')\n",
        "box.show()"
      ],
      "metadata": {
        "id": "imWhcsroe2vG"
      },
      "execution_count": null,
      "outputs": []
    },
    {
      "cell_type": "code",
      "source": [
        "# Excluir outliers considerados erros:\n",
        "\n",
        "srag_sem_outliers = srag_mod.loc[srag_mod.IDADE < 118]"
      ],
      "metadata": {
        "id": "qbYDr2xRfbrR"
      },
      "execution_count": null,
      "outputs": []
    },
    {
      "cell_type": "code",
      "source": [
        "srag_sem_outliers.IDADE.describe()"
      ],
      "metadata": {
        "id": "-nWZPgWMfrFx"
      },
      "execution_count": null,
      "outputs": []
    },
    {
      "cell_type": "code",
      "source": [
        "# Criar Box Plot sem outliers:\n",
        "\n",
        "box = px.box(srag_sem_outliers, y='IDADE')\n",
        "box.show()"
      ],
      "metadata": {
        "id": "tGUqGdOefy7Z"
      },
      "execution_count": null,
      "outputs": []
    },
    {
      "cell_type": "code",
      "source": [
        "# Criar Box Plots de acordo com algo específico:\n",
        "\n",
        "box = px.box(srag_mod, x='SEXO', y='IDADE')\n",
        "box.show()"
      ],
      "metadata": {
        "id": "AuBF-Q-Zf9zD"
      },
      "execution_count": null,
      "outputs": []
    },
    {
      "cell_type": "code",
      "source": [
        "box = px.box(srag_mod, x='RACA', y='IDADE')\n",
        "box.show()"
      ],
      "metadata": {
        "id": "qGHHX_iFgZJo"
      },
      "execution_count": null,
      "outputs": []
    },
    {
      "cell_type": "markdown",
      "source": [
        "### **Seaborn**"
      ],
      "metadata": {
        "id": "KFir4hcYbkdD"
      }
    },
    {
      "cell_type": "code",
      "source": [
        "import seaborn as sns"
      ],
      "metadata": {
        "id": "eTQxhDS8bm6K"
      },
      "execution_count": null,
      "outputs": []
    },
    {
      "cell_type": "code",
      "source": [
        "# sns.boxplot(x_ou_y='nome_coluna', data='nome_tabela', color='cor_bloxplot')\n",
        "\n",
        "sns.boxplot(y='IDADE', data=srag_mod, color='red');"
      ],
      "metadata": {
        "id": "UUQEYBUIg4lO"
      },
      "execution_count": null,
      "outputs": []
    },
    {
      "cell_type": "code",
      "source": [
        "sns.boxplot(x='IDADE', data=srag_mod, color='green');"
      ],
      "metadata": {
        "id": "PQjN7MHFhETW"
      },
      "execution_count": null,
      "outputs": []
    },
    {
      "cell_type": "code",
      "source": [
        "sns.boxplot(x='SEXO', y='IDADE', data=srag_mod);"
      ],
      "metadata": {
        "id": "pBYNd_tWhLOu"
      },
      "execution_count": null,
      "outputs": []
    },
    {
      "cell_type": "code",
      "source": [
        "sns.boxplot(x='CS_ZONA', y='IDADE', data=srag_mod);"
      ],
      "metadata": {
        "id": "ytT1tUnwhTBl"
      },
      "execution_count": null,
      "outputs": []
    },
    {
      "cell_type": "code",
      "source": [
        "sns.boxplot(x='CS_ZONA', y='IDADE', hue='SEXO', data=srag_mod);\n",
        "\n",
        "# hue --> relaciona as colunas x e y com uma terceira variável"
      ],
      "metadata": {
        "id": "B8jTtY_9hd_1"
      },
      "execution_count": null,
      "outputs": []
    },
    {
      "cell_type": "code",
      "source": [
        "fig, ax = plt.subplots(figsize=(16, 14))\n",
        "sns.boxplot(x='CS_ZONA', y='IDADE', hue='RACA', data=srag_mod);"
      ],
      "metadata": {
        "id": "HDui--MJiGs0"
      },
      "execution_count": null,
      "outputs": []
    },
    {
      "cell_type": "markdown",
      "source": [
        "### **Matplotlib**"
      ],
      "metadata": {
        "id": "hDcsAhlgbmi5"
      }
    },
    {
      "cell_type": "code",
      "source": [
        "import matplotlib.pyplot as plt"
      ],
      "metadata": {
        "id": "_Y5YHbZPbpc7"
      },
      "execution_count": null,
      "outputs": []
    },
    {
      "cell_type": "code",
      "source": [
        "# plt.boxplot(nome_tabela.nome_coluna)\n",
        "\n",
        "plt.boxplot(srag_mod.IDADE)\n",
        "plt.show()"
      ],
      "metadata": {
        "id": "GOHH_w82iTNL"
      },
      "execution_count": null,
      "outputs": []
    },
    {
      "cell_type": "code",
      "source": [
        "# Box Plot na vertical:\n",
        "\n",
        "plt.boxplot(srag_sem_outliers.IDADE)\n",
        "plt.title('Box Plot da idade')\n",
        "plt.ylabel('Idade')\n",
        "plt.show()"
      ],
      "metadata": {
        "id": "UX-ec3lsipy7"
      },
      "execution_count": null,
      "outputs": []
    },
    {
      "cell_type": "code",
      "source": [
        "# Box Plot na horizontal:\n",
        "\n",
        "plt.boxplot(srag_sem_outliers.IDADE, vert=False)\n",
        "plt.title('Box Plot da idade')\n",
        "plt.ylabel('Idade')\n",
        "plt.show()"
      ],
      "metadata": {
        "id": "2F1dYEM0i48K"
      },
      "execution_count": null,
      "outputs": []
    },
    {
      "cell_type": "markdown",
      "source": [
        "## **Histograma**"
      ],
      "metadata": {
        "id": "wvfTJoELSQtk"
      }
    },
    {
      "cell_type": "markdown",
      "source": [
        "### **Plotly**"
      ],
      "metadata": {
        "id": "cSH8Juf8SWjr"
      }
    },
    {
      "cell_type": "code",
      "source": [
        "import plotly.express as px"
      ],
      "metadata": {
        "id": "xMNm3JELSY29"
      },
      "execution_count": null,
      "outputs": []
    },
    {
      "cell_type": "code",
      "source": [
        "# nome_histograma = px.histogram(nome_tabela, x='nome_coluna', nbins=num_bins)\n",
        "# nome_histograma.update_layout(width=largura, height=altura, title_text='título_histograma')\n",
        "\n",
        "hist1 = px.histogram(srag_mod, x='IDADE', nbins=60)\n",
        "hist1.update_layout(width=800, height=500, title_text='Distribuição das idades')\n",
        "hist1.show()"
      ],
      "metadata": {
        "id": "JRqynfklSclj"
      },
      "execution_count": null,
      "outputs": []
    },
    {
      "cell_type": "markdown",
      "source": [
        "### **Análise da Normalidade - Gráfico QQPlot**"
      ],
      "metadata": {
        "id": "LIwYoYgwVGkV"
      }
    },
    {
      "cell_type": "code",
      "source": [
        "srag_mod.IDADE.describe()"
      ],
      "metadata": {
        "id": "sWy7p_otVPcV"
      },
      "execution_count": null,
      "outputs": []
    },
    {
      "cell_type": "code",
      "source": [
        "srag_mod.IDADE.mode()"
      ],
      "metadata": {
        "id": "kZR5cKRJVTMn"
      },
      "execution_count": null,
      "outputs": []
    },
    {
      "cell_type": "code",
      "source": [
        "import scipy.stats as stats\n",
        "import matplotlib.pyplot as plt"
      ],
      "metadata": {
        "id": "gq9_C5QdVVvM"
      },
      "execution_count": null,
      "outputs": []
    },
    {
      "cell_type": "code",
      "source": [
        "stats.probplot(srag_mod['IDADE'], dist='norm', plot=plt)\n",
        "plt.title(\"Análise Normalidade\")\n",
        "plt.show()"
      ],
      "metadata": {
        "id": "p7UhFCxDVfNM"
      },
      "execution_count": null,
      "outputs": []
    },
    {
      "cell_type": "markdown",
      "source": [
        "Teste de Shapiro-Wilk"
      ],
      "metadata": {
        "id": "PtwGRZisYlri"
      }
    },
    {
      "cell_type": "markdown",
      "source": [
        "CRITÉRIOS:\n",
        "\n",
        "NÍVEL DE SIGNIFICÂNCIA DE 0,05 ou 5% (MAIS UTILIZADO)\n",
        "\n",
        "QUANDO p > 0,05 (distribuição normal)"
      ],
      "metadata": {
        "id": "IslsH4B0Yn8w"
      }
    },
    {
      "cell_type": "code",
      "source": [
        "stats.shapiro(srag_mod.IDADE)"
      ],
      "metadata": {
        "id": "4LZYkf9QY0Rv"
      },
      "execution_count": null,
      "outputs": []
    },
    {
      "cell_type": "markdown",
      "source": [
        "O teste de Shapiro_Wilk não se aplica a dados maiores que 5000."
      ],
      "metadata": {
        "id": "x6yt0-PLY5KW"
      }
    },
    {
      "cell_type": "markdown",
      "source": [
        "Teste Lilliefors (Kolmogorov-Smirnov)"
      ],
      "metadata": {
        "id": "pgDWA6OaZAE2"
      }
    },
    {
      "cell_type": "code",
      "source": [
        "import statsmodels\n",
        "from statsmodels.stats.diagnostic import lilliefors"
      ],
      "metadata": {
        "id": "hScIhrLpZEaO"
      },
      "execution_count": null,
      "outputs": []
    },
    {
      "cell_type": "code",
      "source": [
        "estatistica, p = statsmodels.stats.diagnostic.lilliefors(srag_mod.IDADE, dist='norm')\n",
        "print(f'Estatística do teste (D) = {round(estatistica, 2)}')\n",
        "print(f'p_valor = {p}')"
      ],
      "metadata": {
        "id": "3J5ViHvxZN7V"
      },
      "execution_count": null,
      "outputs": []
    },
    {
      "cell_type": "markdown",
      "source": [
        "### **Seaborn**"
      ],
      "metadata": {
        "id": "yUWmehdKZvfE"
      }
    },
    {
      "cell_type": "code",
      "source": [
        "import seaborn as sns\n",
        "import matplotlib.pyplot as plt"
      ],
      "metadata": {
        "id": "Q4YUTvwsZz7n"
      },
      "execution_count": null,
      "outputs": []
    },
    {
      "cell_type": "code",
      "source": [
        "fig, ax = plt.subplots(figsize=(8,6))\n",
        "sns.histplot(srag_mod, x='IDADE', bins=20, color='orange', kde=True, stat='count')\n",
        "ax.set_title('DIstribuição SRAG por idade', fontdict={'fontsize': 20});\n",
        "# ax.set_xlabel('Idade', fontdict={'fontsize':15})\n",
        "# ax.set_ylabel('Quantidade', fontdict={'fontsize':15});"
      ],
      "metadata": {
        "id": "mfq7Io2DZ3gs"
      },
      "execution_count": null,
      "outputs": []
    },
    {
      "cell_type": "markdown",
      "source": [
        "### **Matplotlib**"
      ],
      "metadata": {
        "id": "9LeNx0qAbg5x"
      }
    },
    {
      "cell_type": "code",
      "source": [
        "import matplotlib.pyplot as plt"
      ],
      "metadata": {
        "id": "4VYQbFXRbNqQ"
      },
      "execution_count": null,
      "outputs": []
    },
    {
      "cell_type": "code",
      "source": [
        "# plt.hist(nome_tabela.nome_coluna, color='cor_barras', density=True_False, bins=num_bins)\n",
        "# plt.title('título_histograma', fontsize=tamanho_fonte)\n",
        "# plt.xlabel('nome_eixo_x')\n",
        "# plt.ylabel('nome_eixo_y')\n",
        "\n",
        "# fig, ax = plt.subplots(figsize=(16,14))\n",
        "plt.hist(srag_mod.IDADE, color='red', density=False, bins=20)\n",
        "plt.title('Distribuição SRAG por idade', fontsize=20)\n",
        "plt.xlabel('Idade')\n",
        "plt.ylabel('Quantidade')\n",
        "plt.show()"
      ],
      "metadata": {
        "id": "IyV-GV-XblyQ"
      },
      "execution_count": null,
      "outputs": []
    },
    {
      "cell_type": "markdown",
      "source": [
        "## **Gráfico de Dispersão**"
      ],
      "metadata": {
        "id": "ADU6m6EvcnYZ"
      }
    },
    {
      "cell_type": "code",
      "source": [
        "srag_mod.head(2)"
      ],
      "metadata": {
        "id": "pQel7_phdQi3"
      },
      "execution_count": null,
      "outputs": []
    },
    {
      "cell_type": "code",
      "source": [
        "srag_sjrp = srag_mod.loc[srag_mod.ID_MN_RESI == 'SAO JOSE DO RIO PRETO']\n",
        "srag_sjrp"
      ],
      "metadata": {
        "id": "vmaDAsrQdUPG"
      },
      "execution_count": null,
      "outputs": []
    },
    {
      "cell_type": "code",
      "source": [
        "srag_sjrp.shape"
      ],
      "metadata": {
        "id": "RCbbaQFvdxis"
      },
      "execution_count": null,
      "outputs": []
    },
    {
      "cell_type": "markdown",
      "source": [
        "### **Matplotlib**"
      ],
      "metadata": {
        "id": "eaD8l141d7p8"
      }
    },
    {
      "cell_type": "code",
      "source": [
        "import matplotlib.pyplot as plt"
      ],
      "metadata": {
        "id": "ZCgWSEY_d9mO"
      },
      "execution_count": null,
      "outputs": []
    },
    {
      "cell_type": "code",
      "source": [
        "# plt.scatter(nome_tabela.nome_coluna_x, nome_tabela.nome_coluna_y)\n",
        "# plt.title('título_gráfico')\n",
        "# plt.xlabel('nome_eixo_x')\n",
        "# plt.ylabel('nome_eixo_y')\n",
        "# plt.grid(True_False)\n",
        "\n",
        "plt.scatter(srag_sjrp.DATA, srag_sjrp.IDADE)\n",
        "plt.title('Gráfico de Dispersão')\n",
        "plt.xlabel('Data')\n",
        "plt.ylabel('Idade')\n",
        "plt.grid(False)\n",
        "plt.show()"
      ],
      "metadata": {
        "id": "5Nzn2FOOd_jr"
      },
      "execution_count": null,
      "outputs": []
    },
    {
      "cell_type": "markdown",
      "source": [
        "### **Seaborn**"
      ],
      "metadata": {
        "id": "QQW8AojafujI"
      }
    },
    {
      "cell_type": "code",
      "source": [
        "import seaborn as sns"
      ],
      "metadata": {
        "id": "vGCYSNPHfwlP"
      },
      "execution_count": null,
      "outputs": []
    },
    {
      "cell_type": "code",
      "source": [
        "# Criar gráfico de dispersão:\n",
        "\n",
        "# fig, ax = plt.subplots(figsize=tamanho_gráfico)\n",
        "# sns.scatterplot(x='nome_coluna_x', y='nome_coluna_y', data=nome_tabela, color='cor_pontos')\n",
        "# ax.set_title('título_gráfico', fontdict={'fontsize': tamanho_fonte})\n",
        "# ax.set_xlabel('nome_eixo_x', fontdict={'fontsize': tamanho_fonte})\n",
        "# ax.set_ylabel('nome_eixo_y', fontdict={'fontsize': tamanho_fonte});\n",
        "\n",
        "fig, ax = plt.subplots(figsize=(8,6))\n",
        "sns.scatterplot(x='DATA', y='IDADE', data=srag_sjrp, color='brown')\n",
        "ax.set_title('Gráfico de dispersão da Idade em função da Data', fontdict={'fontsize': 20})\n",
        "ax.set_xlabel('Datas', fontdict={'fontsize': 12})\n",
        "ax.set_ylabel('Idade', fontdict={'fontsize': 12});"
      ],
      "metadata": {
        "id": "dxMJtrzhfzzJ"
      },
      "execution_count": null,
      "outputs": []
    },
    {
      "cell_type": "markdown",
      "source": [
        "### **Plotly**"
      ],
      "metadata": {
        "id": "0lFJVb0wK38A"
      }
    },
    {
      "cell_type": "code",
      "source": [
        "import plotly.express as px"
      ],
      "metadata": {
        "id": "p-lW753kK6Rl"
      },
      "execution_count": null,
      "outputs": []
    },
    {
      "cell_type": "code",
      "source": [
        "# nome_grafico = px.scatter(x=nome_tabela.nome_coluna_x, y=nome_tabela.nome_coluna_y, color='cor_pontos' OU  nome_tabela['nome_coluna']) --> Cria uma legenda para os valores da 'nome_coluna'\n",
        "# nome_grafico.update_layout(width=largura, height=altura, title_text='tútulo_gráfico')\n",
        "# nome_grafico.update_xaxes(title='nome_eixo_x')\n",
        "# nome_grafico.update_yaxes(title='nome_eixo_y')\n",
        "# nome_grafico.show()\n",
        "\n",
        "disp = px.scatter(x=srag_sjrp.DATA, y=srag_sjrp.IDADE, color=srag_sjrp['SEXO'])\n",
        "disp.update_layout(width=800, height=500, title_text='Gráfico de dispersão da Idade em função da Data')\n",
        "disp.update_xaxes(title='Datas')\n",
        "disp.update_yaxes(title='Idade')\n",
        "disp.show()"
      ],
      "metadata": {
        "id": "WzMN7aSSK8nV"
      },
      "execution_count": null,
      "outputs": []
    },
    {
      "cell_type": "markdown",
      "source": [
        "## **Gráfico de Setores (Pizza)**"
      ],
      "metadata": {
        "id": "Pnv3_IcrMs6C"
      }
    },
    {
      "cell_type": "markdown",
      "source": [
        "### **Plotly**"
      ],
      "metadata": {
        "id": "mou6KW6DM2Vx"
      }
    },
    {
      "cell_type": "code",
      "source": [
        "import plotly.express as px"
      ],
      "metadata": {
        "id": "04UHUhLrM1zy"
      },
      "execution_count": null,
      "outputs": []
    },
    {
      "cell_type": "code",
      "source": [
        "srag_mod['SEXO'].value_counts()"
      ],
      "metadata": {
        "id": "f_RcnX67OF7X"
      },
      "execution_count": null,
      "outputs": []
    },
    {
      "cell_type": "code",
      "source": [
        "# nome_grafico = px.pie(nome_tabela, 'nome_coluna')\n",
        "# nome_grafico.update_layout(title_text='título_gráfico')\n",
        "\n",
        "pizza = px.pie(srag_mod, 'SEXO')\n",
        "pizza.update_layout(title_text='Gráfico de setores')\n",
        "pizza.show()"
      ],
      "metadata": {
        "id": "xqJi3wBqOMeB"
      },
      "execution_count": null,
      "outputs": []
    },
    {
      "cell_type": "code",
      "source": [
        "srag_mod['RACA'].value_counts()"
      ],
      "metadata": {
        "id": "x3ssbQvvOXNF"
      },
      "execution_count": null,
      "outputs": []
    },
    {
      "cell_type": "code",
      "source": [
        "pizza = px.pie(srag_mod, 'RACA')\n",
        "pizza.update_layout(title_text='Gráfico de setores')\n",
        "pizza.show()"
      ],
      "metadata": {
        "id": "zqPDJAe-OyC9"
      },
      "execution_count": null,
      "outputs": []
    },
    {
      "cell_type": "code",
      "source": [
        "srag_mod['CS_ZONA'].value_counts()"
      ],
      "metadata": {
        "id": "121qVlxAPV27"
      },
      "execution_count": null,
      "outputs": []
    },
    {
      "cell_type": "code",
      "source": [
        "pizza = px.pie(srag_mod, 'CS_ZONA')\n",
        "pizza.update_layout(title_text='Gráfico de setores')\n",
        "pizza.show()"
      ],
      "metadata": {
        "id": "LIBnISXFPYUz"
      },
      "execution_count": null,
      "outputs": []
    },
    {
      "cell_type": "markdown",
      "source": [
        "### **Matplotlib**"
      ],
      "metadata": {
        "id": "8hm3mBvrM74Z"
      }
    },
    {
      "cell_type": "code",
      "source": [
        "import matplotlib.pyplot as plt"
      ],
      "metadata": {
        "id": "oqjsa7WxM-Og"
      },
      "execution_count": null,
      "outputs": []
    },
    {
      "cell_type": "code",
      "source": [
        "contagem = srag_mod['SEXO'].value_counts()\n",
        "contagem"
      ],
      "metadata": {
        "id": "8HcKtqZcPqKi"
      },
      "execution_count": null,
      "outputs": []
    },
    {
      "cell_type": "code",
      "source": [
        "contagem.index"
      ],
      "metadata": {
        "id": "X_vppw6qPuvi"
      },
      "execution_count": null,
      "outputs": []
    },
    {
      "cell_type": "code",
      "source": [
        "plt.figure(figsize=(8 ,8))\n",
        "plt.pie(contagem, labels=contagem.index, autopct= '% .2f %%')\n",
        "plt.show()"
      ],
      "metadata": {
        "id": "8Wxm2BxZPhSU"
      },
      "execution_count": null,
      "outputs": []
    },
    {
      "cell_type": "code",
      "source": [
        "contagem2 = srag_mod['RACA'].value_counts()\n",
        "contagem2"
      ],
      "metadata": {
        "id": "2_bJHa2rQROx"
      },
      "execution_count": null,
      "outputs": []
    },
    {
      "cell_type": "code",
      "source": [
        "contagem2.index"
      ],
      "metadata": {
        "id": "FiK16bCSQT1Z"
      },
      "execution_count": null,
      "outputs": []
    },
    {
      "cell_type": "code",
      "source": [
        "plt.figure(figsize=(8 ,8))\n",
        "plt.pie(contagem2, labels=contagem2.index, autopct= '% .2f %%')\n",
        "plt.show()"
      ],
      "metadata": {
        "id": "qlJGB0iCQWNM"
      },
      "execution_count": null,
      "outputs": []
    },
    {
      "cell_type": "code",
      "source": [
        "contagem3 = srag_mod['CS_ZONA'].value_counts()\n",
        "contagem3"
      ],
      "metadata": {
        "id": "Q0zrkZfuQaCh"
      },
      "execution_count": null,
      "outputs": []
    },
    {
      "cell_type": "code",
      "source": [
        "contagem3.index"
      ],
      "metadata": {
        "id": "hhaVyLg7ibdj"
      },
      "execution_count": null,
      "outputs": []
    },
    {
      "cell_type": "code",
      "source": [
        "plt.figure(figsize=(8 ,8))\n",
        "plt.pie(contagem3, labels=contagem3.index, autopct= '% .2f %%')\n",
        "plt.show()"
      ],
      "metadata": {
        "id": "yCM_ocpnic1d"
      },
      "execution_count": null,
      "outputs": []
    },
    {
      "cell_type": "markdown",
      "source": [
        "## **Gráfico de Bolhas**"
      ],
      "metadata": {
        "id": "ZhqX4FvcNEG4"
      }
    },
    {
      "cell_type": "markdown",
      "source": [
        "### **Plotly**"
      ],
      "metadata": {
        "id": "9TFUAveUNHOA"
      }
    },
    {
      "cell_type": "code",
      "source": [
        "import plotly.express as px"
      ],
      "metadata": {
        "id": "26AxJXo0NJXn"
      },
      "execution_count": null,
      "outputs": []
    },
    {
      "cell_type": "code",
      "source": [
        "srag_mirassol = srag_mod.loc[srag_mod.ID_MN_RESI == 'MIRASSOL']\n",
        "srag_mirassol.head(3)"
      ],
      "metadata": {
        "id": "UT0ba_xRjYDo"
      },
      "execution_count": null,
      "outputs": []
    },
    {
      "cell_type": "code",
      "source": [
        "srag_mirassol.shape"
      ],
      "metadata": {
        "id": "yYDv2JQ6jrCw"
      },
      "execution_count": null,
      "outputs": []
    },
    {
      "cell_type": "code",
      "source": [
        "# bolhas = px.scatter(nome_tabela, x='nome_coluna_x', y='nome_coluna_y', color='nome_coluna_cor', size='nome_coluna_tamanho')\n",
        "\n",
        "bolhas = px.scatter(srag_mirassol, x='DATA', y='CS_ZONA', color='SEXO', size='IDADE')\n",
        "bolhas.show()\n",
        "\n",
        "# Diferença entre gráfico de dispersão e bolha:\n",
        "# size='IDADE' --> Quanto maior for a idade, maior a bolha"
      ],
      "metadata": {
        "id": "nYfz9gHEj0bi"
      },
      "execution_count": null,
      "outputs": []
    },
    {
      "cell_type": "code",
      "source": [
        "bolhas2 = px.scatter(srag_mirassol, x='DATA', y='RACA', color='SEXO', size='IDADE')\n",
        "bolhas2.show()"
      ],
      "metadata": {
        "id": "Ap49BO7xkmSN"
      },
      "execution_count": null,
      "outputs": []
    },
    {
      "cell_type": "markdown",
      "source": [
        "### **Seaborn**"
      ],
      "metadata": {
        "id": "1AldZz62NKZf"
      }
    },
    {
      "cell_type": "code",
      "source": [
        "import seaborn as sns\n",
        "import matplotlib.pyplot as plt"
      ],
      "metadata": {
        "id": "RkcoOAJaNMJh"
      },
      "execution_count": null,
      "outputs": []
    },
    {
      "cell_type": "code",
      "source": [
        "fig, ax = plt.subplots(figsize=(10,8))\n",
        "sns.scatterplot(x='DATA', y='RACA', data=srag_mirassol, color='brown', size='IDADE')\n",
        "ax.set_title('Gráfico de bolhas', fontdict={'fontsize': 18})\n",
        "ax.set_xlabel('Datas', fontdict={'fontsize': 12})\n",
        "ax.set_ylabel('Idade', fontdict={'fontsize': 12});"
      ],
      "metadata": {
        "id": "wybFhSvPk1Yv"
      },
      "execution_count": null,
      "outputs": []
    },
    {
      "cell_type": "markdown",
      "source": [
        "## **Gráfico de Linhas**"
      ],
      "metadata": {
        "id": "Tc2A65ZfNNWv"
      }
    },
    {
      "cell_type": "markdown",
      "source": [
        "### **Matplotlib**"
      ],
      "metadata": {
        "id": "R1k32V-ENUdB"
      }
    },
    {
      "cell_type": "code",
      "source": [
        "import matplotlib.pyplot as plt"
      ],
      "metadata": {
        "id": "itwDmTD0NYvC"
      },
      "execution_count": null,
      "outputs": []
    },
    {
      "cell_type": "code",
      "source": [
        "plt.subplots(figsize=(8,6))\n",
        "y = [4, 9, 6, 4, 0, 3, 5.1, 6, 8.4, 12.3]\n",
        "x = range(len(y))\n",
        "plt.plot(x, y, color='red', marker='o')  # marker='o' --> Tipo de marcador entre as linhas\n",
        "plt.title('Gráfico de Linhas')\n",
        "plt.show()"
      ],
      "metadata": {
        "id": "qgTUWyw8ojKn"
      },
      "execution_count": null,
      "outputs": []
    },
    {
      "cell_type": "code",
      "source": [
        "plt.subplots(figsize=(8,6))\n",
        "n = [1, 5, 8, 0, 3, 1, 6.5, 4, 12.3, 15.8]  # y\n",
        "m = range(len(n))                           # x\n",
        "plt.plot(m, n, color='blue', marker='o')\n",
        "plt.show()"
      ],
      "metadata": {
        "id": "MUnajioKooGO"
      },
      "execution_count": null,
      "outputs": []
    },
    {
      "cell_type": "code",
      "source": [
        "# Mesclar 2 ou + gráficos de linhas:\n",
        "\n",
        "plt.subplots(figsize=(8,6))\n",
        "plt.title('Gráfico de Linhas')\n",
        "plt.plot(x, y)\n",
        "plt.plot(n, m)\n",
        "plt.show()"
      ],
      "metadata": {
        "id": "umauSH3Dp4ra"
      },
      "execution_count": null,
      "outputs": []
    },
    {
      "cell_type": "markdown",
      "source": [
        "### **Plotly**"
      ],
      "metadata": {
        "id": "D8gUu5IMNY-A"
      }
    },
    {
      "cell_type": "code",
      "source": [
        "import plotly.express as px"
      ],
      "metadata": {
        "id": "AuxpzfofNb84"
      },
      "execution_count": null,
      "outputs": []
    },
    {
      "cell_type": "code",
      "source": [
        "y = [4, 9, 6, 4, 0, 3, 5.1, 6, 8.4, 12.3]"
      ],
      "metadata": {
        "id": "3kvJs7MRqYkq"
      },
      "execution_count": null,
      "outputs": []
    },
    {
      "cell_type": "code",
      "source": [
        "type(y)"
      ],
      "metadata": {
        "id": "GNDahmjjqboy"
      },
      "execution_count": null,
      "outputs": []
    },
    {
      "cell_type": "code",
      "source": [
        "x = list(range(len(y)))\n",
        "print(x)"
      ],
      "metadata": {
        "id": "alYf2fCsqeMS"
      },
      "execution_count": null,
      "outputs": []
    },
    {
      "cell_type": "code",
      "source": [
        "linha = px.line(x, y)\n",
        "linha.show()\n",
        "\n",
        "# Não funciona corretamente!!! Deve ser DataFrame, Array ou Dicionário!!!"
      ],
      "metadata": {
        "id": "itTTHRAOqj5i"
      },
      "execution_count": null,
      "outputs": []
    },
    {
      "cell_type": "code",
      "source": [
        "df = pd.DataFrame(x, columns=['eixo_x'])\n",
        "df"
      ],
      "metadata": {
        "id": "iCXwv_m1q4Qh"
      },
      "execution_count": null,
      "outputs": []
    },
    {
      "cell_type": "code",
      "source": [
        "df = pd.concat([df, pd.DataFrame(y, columns=['eixo_y'])], axis=1)\n",
        "df"
      ],
      "metadata": {
        "id": "efGGMx4drJXX"
      },
      "execution_count": null,
      "outputs": []
    },
    {
      "cell_type": "code",
      "source": [
        "linha = px.line(df, 'eixo_x', 'eixo_y')\n",
        "linha.show()"
      ],
      "metadata": {
        "id": "Q6U2IhyRra7w"
      },
      "execution_count": null,
      "outputs": []
    },
    {
      "cell_type": "markdown",
      "source": [
        "### **Seaborn**"
      ],
      "metadata": {
        "id": "hCY42l6vNcQQ"
      }
    },
    {
      "cell_type": "code",
      "source": [
        "import seaborn as sns\n",
        "import matplotlib.pyplot as plt"
      ],
      "metadata": {
        "id": "a2ZxdNMxNeKX"
      },
      "execution_count": null,
      "outputs": []
    },
    {
      "cell_type": "code",
      "source": [
        "fig, ax = plt.subplots(figsize=(8,6))\n",
        "sns.lineplot(x, y)  # Com listas\n",
        "ax.set_title('Gráfico de Linhas', fontdict={'fontsize': 18})\n",
        "ax.set_xlabel('Eixo x', fontdict={'fontsize': 12})\n",
        "ax.set_ylabel('Eixo y', fontdict={'fontsize': 12});"
      ],
      "metadata": {
        "id": "6OZ81vYMrvFg"
      },
      "execution_count": null,
      "outputs": []
    },
    {
      "cell_type": "code",
      "source": [
        "fig, ax = plt.subplots(figsize=(8,6))\n",
        "sns.lineplot(df.eixo_x,df.eixo_y)  # Com DataFrames\n",
        "ax.set_title(\"Gráfico de Linhas\", fontdict={'fontsize':18})\n",
        "ax.set_xlabel('Eixo x', fontdict={'fontsize':12})\n",
        "ax.set_ylabel('Eixo y', fontdict={'fontsize':12});"
      ],
      "metadata": {
        "id": "y8fplkJ1zYN3"
      },
      "execution_count": null,
      "outputs": []
    }
  ]
}