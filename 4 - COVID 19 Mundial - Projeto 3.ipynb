{
  "cells": [
    {
      "cell_type": "markdown",
      "metadata": {
        "id": "J32nr6MuQaYC"
      },
      "source": [
        "# **PROJETO 3: COVID 19 MUNDIAL**\n",
        "\n",
        "Este projeto analisa e implementa um algoritmo de Machine Learning para análise e previsão da evolução do Covid19 no período de 03/01/2020 a 31/12/2020.\n",
        "\n",
        "Os dados foram retirados em 13/08/2022 da Organização Mundial da Saúde:\n",
        "\n",
        "https://covid19.who.int/table"
      ]
    },
    {
      "cell_type": "markdown",
      "metadata": {
        "id": "vufU-ecgRyrv"
      },
      "source": [
        "# **Análise e Exploração dos Dados**"
      ]
    },
    {
      "cell_type": "code",
      "execution_count": 1,
      "metadata": {},
      "outputs": [],
      "source": [
        "import numpy as np\n",
        "import pandas as pd"
      ]
    },
    {
      "cell_type": "code",
      "execution_count": 2,
      "metadata": {
        "id": "3TgqzQzUQrxP"
      },
      "outputs": [
        {
          "data": {
            "text/html": [
              "<div>\n",
              "<style scoped>\n",
              "    .dataframe tbody tr th:only-of-type {\n",
              "        vertical-align: middle;\n",
              "    }\n",
              "\n",
              "    .dataframe tbody tr th {\n",
              "        vertical-align: top;\n",
              "    }\n",
              "\n",
              "    .dataframe thead th {\n",
              "        text-align: right;\n",
              "    }\n",
              "</style>\n",
              "<table border=\"1\" class=\"dataframe\">\n",
              "  <thead>\n",
              "    <tr style=\"text-align: right;\">\n",
              "      <th></th>\n",
              "      <th>Date_reported</th>\n",
              "      <th>Country_code</th>\n",
              "      <th>Country</th>\n",
              "      <th>WHO_region</th>\n",
              "      <th>New_cases</th>\n",
              "      <th>Cumulative_cases</th>\n",
              "      <th>New_deaths</th>\n",
              "      <th>Cumulative_deaths</th>\n",
              "    </tr>\n",
              "  </thead>\n",
              "  <tbody>\n",
              "    <tr>\n",
              "      <th>0</th>\n",
              "      <td>2020-01-03</td>\n",
              "      <td>AF</td>\n",
              "      <td>Afghanistan</td>\n",
              "      <td>EMRO</td>\n",
              "      <td>0</td>\n",
              "      <td>0</td>\n",
              "      <td>0</td>\n",
              "      <td>0</td>\n",
              "    </tr>\n",
              "    <tr>\n",
              "      <th>1</th>\n",
              "      <td>2020-01-04</td>\n",
              "      <td>AF</td>\n",
              "      <td>Afghanistan</td>\n",
              "      <td>EMRO</td>\n",
              "      <td>0</td>\n",
              "      <td>0</td>\n",
              "      <td>0</td>\n",
              "      <td>0</td>\n",
              "    </tr>\n",
              "    <tr>\n",
              "      <th>2</th>\n",
              "      <td>2020-01-05</td>\n",
              "      <td>AF</td>\n",
              "      <td>Afghanistan</td>\n",
              "      <td>EMRO</td>\n",
              "      <td>0</td>\n",
              "      <td>0</td>\n",
              "      <td>0</td>\n",
              "      <td>0</td>\n",
              "    </tr>\n",
              "    <tr>\n",
              "      <th>3</th>\n",
              "      <td>2020-01-06</td>\n",
              "      <td>AF</td>\n",
              "      <td>Afghanistan</td>\n",
              "      <td>EMRO</td>\n",
              "      <td>0</td>\n",
              "      <td>0</td>\n",
              "      <td>0</td>\n",
              "      <td>0</td>\n",
              "    </tr>\n",
              "    <tr>\n",
              "      <th>4</th>\n",
              "      <td>2020-01-07</td>\n",
              "      <td>AF</td>\n",
              "      <td>Afghanistan</td>\n",
              "      <td>EMRO</td>\n",
              "      <td>0</td>\n",
              "      <td>0</td>\n",
              "      <td>0</td>\n",
              "      <td>0</td>\n",
              "    </tr>\n",
              "    <tr>\n",
              "      <th>...</th>\n",
              "      <td>...</td>\n",
              "      <td>...</td>\n",
              "      <td>...</td>\n",
              "      <td>...</td>\n",
              "      <td>...</td>\n",
              "      <td>...</td>\n",
              "      <td>...</td>\n",
              "      <td>...</td>\n",
              "    </tr>\n",
              "    <tr>\n",
              "      <th>225856</th>\n",
              "      <td>2022-08-08</td>\n",
              "      <td>ZW</td>\n",
              "      <td>Zimbabwe</td>\n",
              "      <td>AFRO</td>\n",
              "      <td>10</td>\n",
              "      <td>256487</td>\n",
              "      <td>0</td>\n",
              "      <td>5584</td>\n",
              "    </tr>\n",
              "    <tr>\n",
              "      <th>225857</th>\n",
              "      <td>2022-08-09</td>\n",
              "      <td>ZW</td>\n",
              "      <td>Zimbabwe</td>\n",
              "      <td>AFRO</td>\n",
              "      <td>3</td>\n",
              "      <td>256490</td>\n",
              "      <td>2</td>\n",
              "      <td>5586</td>\n",
              "    </tr>\n",
              "    <tr>\n",
              "      <th>225858</th>\n",
              "      <td>2022-08-10</td>\n",
              "      <td>ZW</td>\n",
              "      <td>Zimbabwe</td>\n",
              "      <td>AFRO</td>\n",
              "      <td>2</td>\n",
              "      <td>256492</td>\n",
              "      <td>1</td>\n",
              "      <td>5587</td>\n",
              "    </tr>\n",
              "    <tr>\n",
              "      <th>225859</th>\n",
              "      <td>2022-08-11</td>\n",
              "      <td>ZW</td>\n",
              "      <td>Zimbabwe</td>\n",
              "      <td>AFRO</td>\n",
              "      <td>21</td>\n",
              "      <td>256513</td>\n",
              "      <td>0</td>\n",
              "      <td>5587</td>\n",
              "    </tr>\n",
              "    <tr>\n",
              "      <th>225860</th>\n",
              "      <td>2022-08-12</td>\n",
              "      <td>ZW</td>\n",
              "      <td>Zimbabwe</td>\n",
              "      <td>AFRO</td>\n",
              "      <td>9</td>\n",
              "      <td>256522</td>\n",
              "      <td>0</td>\n",
              "      <td>5587</td>\n",
              "    </tr>\n",
              "  </tbody>\n",
              "</table>\n",
              "<p>225861 rows × 8 columns</p>\n",
              "</div>"
            ],
            "text/plain": [
              "       Date_reported Country_code      Country WHO_region  New_cases  \\\n",
              "0         2020-01-03           AF  Afghanistan       EMRO          0   \n",
              "1         2020-01-04           AF  Afghanistan       EMRO          0   \n",
              "2         2020-01-05           AF  Afghanistan       EMRO          0   \n",
              "3         2020-01-06           AF  Afghanistan       EMRO          0   \n",
              "4         2020-01-07           AF  Afghanistan       EMRO          0   \n",
              "...              ...          ...          ...        ...        ...   \n",
              "225856    2022-08-08           ZW     Zimbabwe       AFRO         10   \n",
              "225857    2022-08-09           ZW     Zimbabwe       AFRO          3   \n",
              "225858    2022-08-10           ZW     Zimbabwe       AFRO          2   \n",
              "225859    2022-08-11           ZW     Zimbabwe       AFRO         21   \n",
              "225860    2022-08-12           ZW     Zimbabwe       AFRO          9   \n",
              "\n",
              "        Cumulative_cases  New_deaths  Cumulative_deaths  \n",
              "0                      0           0                  0  \n",
              "1                      0           0                  0  \n",
              "2                      0           0                  0  \n",
              "3                      0           0                  0  \n",
              "4                      0           0                  0  \n",
              "...                  ...         ...                ...  \n",
              "225856            256487           0               5584  \n",
              "225857            256490           2               5586  \n",
              "225858            256492           1               5587  \n",
              "225859            256513           0               5587  \n",
              "225860            256522           0               5587  \n",
              "\n",
              "[225861 rows x 8 columns]"
            ]
          },
          "execution_count": 2,
          "metadata": {},
          "output_type": "execute_result"
        }
      ],
      "source": [
        "path = './dados/covid19_mundial.csv'\n",
        "covid_mundial = pd.read_csv(path, sep=',')\n",
        "covid_mundial"
      ]
    },
    {
      "cell_type": "code",
      "execution_count": 3,
      "metadata": {},
      "outputs": [
        {
          "data": {
            "text/plain": [
              "Date_reported        object\n",
              "Country_code         object\n",
              "Country              object\n",
              "WHO_region           object\n",
              "New_cases             int64\n",
              "Cumulative_cases      int64\n",
              "New_deaths            int64\n",
              "Cumulative_deaths     int64\n",
              "dtype: object"
            ]
          },
          "execution_count": 3,
          "metadata": {},
          "output_type": "execute_result"
        }
      ],
      "source": [
        "# Análise dos tipos de variáveis:\n",
        "\n",
        "covid_mundial.dtypes"
      ]
    },
    {
      "cell_type": "code",
      "execution_count": 4,
      "metadata": {},
      "outputs": [
        {
          "data": {
            "text/plain": [
              "Date_reported        datetime64[ns]\n",
              "Country_code                 object\n",
              "Country                      object\n",
              "WHO_region                   object\n",
              "New_cases                     int64\n",
              "Cumulative_cases              int64\n",
              "New_deaths                    int64\n",
              "Cumulative_deaths             int64\n",
              "dtype: object"
            ]
          },
          "execution_count": 4,
          "metadata": {},
          "output_type": "execute_result"
        }
      ],
      "source": [
        "covid_mundial['Date_reported'] = pd.to_datetime(covid_mundial['Date_reported'])\n",
        "covid_mundial.dtypes"
      ]
    },
    {
      "cell_type": "code",
      "execution_count": 5,
      "metadata": {},
      "outputs": [
        {
          "data": {
            "text/plain": [
              "0       2020-02-26\n",
              "1       2020-02-27\n",
              "2       2020-02-28\n",
              "3       2020-02-29\n",
              "4       2020-03-01\n",
              "           ...    \n",
              "45499   2020-08-31\n",
              "45500   2020-09-01\n",
              "45501   2020-09-02\n",
              "45502   2020-09-03\n",
              "45503   2020-09-04\n",
              "Name: Date_reported, Length: 45504, dtype: datetime64[ns]"
            ]
          },
          "execution_count": 5,
          "metadata": {},
          "output_type": "execute_result"
        }
      ],
      "source": [
        "# Filtrando datas:\n",
        "\n",
        "covid_mundial = covid_mundial.loc[(covid_mundial['Date_reported'] >= '2020-02-26') &\n",
        "                                  (covid_mundial['Date_reported'] <= '2020-09-04')].reset_index(drop=True)\n",
        "covid_mundial['Date_reported']"
      ]
    },
    {
      "cell_type": "code",
      "execution_count": 6,
      "metadata": {
        "id": "M2Vo_FhrSLcv"
      },
      "outputs": [],
      "source": [
        "# Número de mortes acumuladas por país:\n",
        "\n",
        "mortes_total = covid_mundial.groupby('Country').Cumulative_deaths.max()\n",
        "\n",
        "# .groupby('Country') --> Agrupa por país\n",
        "# .Cumulative_deaths.max()  --> Retorna o valor máximo das mortes acumuladas"
      ]
    },
    {
      "cell_type": "code",
      "execution_count": 7,
      "metadata": {
        "id": "KW9YbPibS0um"
      },
      "outputs": [
        {
          "data": {
            "text/plain": [
              "Country\n",
              "United States of America      191840\n",
              "Brazil                        123780\n",
              "Mexico                         85087\n",
              "Peru                           74677\n",
              "India                          68472\n",
              "The United Kingdom             41705\n",
              "Italy                          35507\n",
              "Spain                          31270\n",
              "France                         30539\n",
              "Iran (Islamic Republic of)     21926\n",
              "Colombia                       20348\n",
              "Argentina                      19351\n",
              "Russian Federation             17649\n",
              "South Africa                   17049\n",
              "Chile                          11422\n",
              "Belgium                        10021\n",
              "Germany                         9540\n",
              "Canada                          9097\n",
              "Indonesia                       7832\n",
              "Iraq                            7275\n",
              "Name: Cumulative_deaths, dtype: int64"
            ]
          },
          "execution_count": 7,
          "metadata": {},
          "output_type": "execute_result"
        }
      ],
      "source": [
        "mortes_total.sort_values(ascending=False).head(20)\n",
        "\n",
        "# ascending=False --> Ordem DECRESCENTE\n",
        "# ascending=True --> Ordem CRESCENTE"
      ]
    },
    {
      "cell_type": "code",
      "execution_count": 8,
      "metadata": {
        "id": "lJubVAvBUa6Y"
      },
      "outputs": [
        {
          "data": {
            "text/plain": [
              "Country\n",
              "United States of America      6174610\n",
              "Brazil                        3997865\n",
              "India                         3936747\n",
              "Russian Federation            1015105\n",
              "Mexico                         681305\n",
              "Peru                           663437\n",
              "Colombia                       633339\n",
              "South Africa                   633015\n",
              "Türkiye                        530683\n",
              "Spain                          519661\n",
              "Argentina                      509315\n",
              "Chile                          416501\n",
              "Iran (Islamic Republic of)     380746\n",
              "The United Kingdom             346238\n",
              "France                         323715\n",
              "Bangladesh                     321615\n",
              "Saudi Arabia                   318319\n",
              "Pakistan                       297512\n",
              "Italy                          272912\n",
              "Germany                        248919\n",
              "Name: Cumulative_cases, dtype: int64"
            ]
          },
          "execution_count": 8,
          "metadata": {},
          "output_type": "execute_result"
        }
      ],
      "source": [
        "# Casos acumulados por país:\n",
        "\n",
        "casos_total = covid_mundial.groupby('Country').Cumulative_cases.max()\n",
        "casos_total.sort_values(ascending=False).head(20)"
      ]
    },
    {
      "cell_type": "code",
      "execution_count": 9,
      "metadata": {
        "id": "zdGXhyrpUrd5"
      },
      "outputs": [
        {
          "data": {
            "text/html": [
              "<div>\n",
              "<style scoped>\n",
              "    .dataframe tbody tr th:only-of-type {\n",
              "        vertical-align: middle;\n",
              "    }\n",
              "\n",
              "    .dataframe tbody tr th {\n",
              "        vertical-align: top;\n",
              "    }\n",
              "\n",
              "    .dataframe thead th {\n",
              "        text-align: right;\n",
              "    }\n",
              "</style>\n",
              "<table border=\"1\" class=\"dataframe\">\n",
              "  <thead>\n",
              "    <tr style=\"text-align: right;\">\n",
              "      <th></th>\n",
              "      <th>Date_reported</th>\n",
              "      <th>Country_code</th>\n",
              "      <th>Country</th>\n",
              "      <th>WHO_region</th>\n",
              "      <th>New_cases</th>\n",
              "      <th>Cumulative_cases</th>\n",
              "      <th>New_deaths</th>\n",
              "      <th>Cumulative_deaths</th>\n",
              "    </tr>\n",
              "  </thead>\n",
              "  <tbody>\n",
              "    <tr>\n",
              "      <th>5376</th>\n",
              "      <td>2020-02-26</td>\n",
              "      <td>BR</td>\n",
              "      <td>Brazil</td>\n",
              "      <td>AMRO</td>\n",
              "      <td>0</td>\n",
              "      <td>0</td>\n",
              "      <td>0</td>\n",
              "      <td>0</td>\n",
              "    </tr>\n",
              "    <tr>\n",
              "      <th>5377</th>\n",
              "      <td>2020-02-27</td>\n",
              "      <td>BR</td>\n",
              "      <td>Brazil</td>\n",
              "      <td>AMRO</td>\n",
              "      <td>1</td>\n",
              "      <td>1</td>\n",
              "      <td>0</td>\n",
              "      <td>0</td>\n",
              "    </tr>\n",
              "    <tr>\n",
              "      <th>5378</th>\n",
              "      <td>2020-02-28</td>\n",
              "      <td>BR</td>\n",
              "      <td>Brazil</td>\n",
              "      <td>AMRO</td>\n",
              "      <td>0</td>\n",
              "      <td>1</td>\n",
              "      <td>0</td>\n",
              "      <td>0</td>\n",
              "    </tr>\n",
              "    <tr>\n",
              "      <th>5379</th>\n",
              "      <td>2020-02-29</td>\n",
              "      <td>BR</td>\n",
              "      <td>Brazil</td>\n",
              "      <td>AMRO</td>\n",
              "      <td>0</td>\n",
              "      <td>1</td>\n",
              "      <td>0</td>\n",
              "      <td>0</td>\n",
              "    </tr>\n",
              "    <tr>\n",
              "      <th>5380</th>\n",
              "      <td>2020-03-01</td>\n",
              "      <td>BR</td>\n",
              "      <td>Brazil</td>\n",
              "      <td>AMRO</td>\n",
              "      <td>0</td>\n",
              "      <td>1</td>\n",
              "      <td>0</td>\n",
              "      <td>0</td>\n",
              "    </tr>\n",
              "    <tr>\n",
              "      <th>...</th>\n",
              "      <td>...</td>\n",
              "      <td>...</td>\n",
              "      <td>...</td>\n",
              "      <td>...</td>\n",
              "      <td>...</td>\n",
              "      <td>...</td>\n",
              "      <td>...</td>\n",
              "      <td>...</td>\n",
              "    </tr>\n",
              "    <tr>\n",
              "      <th>5563</th>\n",
              "      <td>2020-08-31</td>\n",
              "      <td>BR</td>\n",
              "      <td>Brazil</td>\n",
              "      <td>AMRO</td>\n",
              "      <td>41350</td>\n",
              "      <td>3846153</td>\n",
              "      <td>958</td>\n",
              "      <td>120462</td>\n",
              "    </tr>\n",
              "    <tr>\n",
              "      <th>5564</th>\n",
              "      <td>2020-09-01</td>\n",
              "      <td>BR</td>\n",
              "      <td>Brazil</td>\n",
              "      <td>AMRO</td>\n",
              "      <td>16158</td>\n",
              "      <td>3862311</td>\n",
              "      <td>366</td>\n",
              "      <td>120828</td>\n",
              "    </tr>\n",
              "    <tr>\n",
              "      <th>5565</th>\n",
              "      <td>2020-09-02</td>\n",
              "      <td>BR</td>\n",
              "      <td>Brazil</td>\n",
              "      <td>AMRO</td>\n",
              "      <td>45961</td>\n",
              "      <td>3908272</td>\n",
              "      <td>553</td>\n",
              "      <td>121381</td>\n",
              "    </tr>\n",
              "    <tr>\n",
              "      <th>5566</th>\n",
              "      <td>2020-09-03</td>\n",
              "      <td>BR</td>\n",
              "      <td>Brazil</td>\n",
              "      <td>AMRO</td>\n",
              "      <td>42659</td>\n",
              "      <td>3950931</td>\n",
              "      <td>1215</td>\n",
              "      <td>122596</td>\n",
              "    </tr>\n",
              "    <tr>\n",
              "      <th>5567</th>\n",
              "      <td>2020-09-04</td>\n",
              "      <td>BR</td>\n",
              "      <td>Brazil</td>\n",
              "      <td>AMRO</td>\n",
              "      <td>46934</td>\n",
              "      <td>3997865</td>\n",
              "      <td>1184</td>\n",
              "      <td>123780</td>\n",
              "    </tr>\n",
              "  </tbody>\n",
              "</table>\n",
              "<p>192 rows × 8 columns</p>\n",
              "</div>"
            ],
            "text/plain": [
              "     Date_reported Country_code Country WHO_region  New_cases  \\\n",
              "5376    2020-02-26           BR  Brazil       AMRO          0   \n",
              "5377    2020-02-27           BR  Brazil       AMRO          1   \n",
              "5378    2020-02-28           BR  Brazil       AMRO          0   \n",
              "5379    2020-02-29           BR  Brazil       AMRO          0   \n",
              "5380    2020-03-01           BR  Brazil       AMRO          0   \n",
              "...            ...          ...     ...        ...        ...   \n",
              "5563    2020-08-31           BR  Brazil       AMRO      41350   \n",
              "5564    2020-09-01           BR  Brazil       AMRO      16158   \n",
              "5565    2020-09-02           BR  Brazil       AMRO      45961   \n",
              "5566    2020-09-03           BR  Brazil       AMRO      42659   \n",
              "5567    2020-09-04           BR  Brazil       AMRO      46934   \n",
              "\n",
              "      Cumulative_cases  New_deaths  Cumulative_deaths  \n",
              "5376                 0           0                  0  \n",
              "5377                 1           0                  0  \n",
              "5378                 1           0                  0  \n",
              "5379                 1           0                  0  \n",
              "5380                 1           0                  0  \n",
              "...                ...         ...                ...  \n",
              "5563           3846153         958             120462  \n",
              "5564           3862311         366             120828  \n",
              "5565           3908272         553             121381  \n",
              "5566           3950931        1215             122596  \n",
              "5567           3997865        1184             123780  \n",
              "\n",
              "[192 rows x 8 columns]"
            ]
          },
          "execution_count": 9,
          "metadata": {},
          "output_type": "execute_result"
        }
      ],
      "source": [
        "covid_brasil = covid_mundial.loc[covid_mundial.Country == 'Brazil']\n",
        "covid_brasil"
      ]
    },
    {
      "cell_type": "code",
      "execution_count": 10,
      "metadata": {
        "id": "cMVORXMnVK_Q"
      },
      "outputs": [
        {
          "data": {
            "text/plain": [
              "(192, 8)"
            ]
          },
          "execution_count": 10,
          "metadata": {},
          "output_type": "execute_result"
        }
      ],
      "source": [
        "covid_brasil.shape"
      ]
    },
    {
      "cell_type": "code",
      "execution_count": 11,
      "metadata": {
        "id": "0utnebFSVUJa"
      },
      "outputs": [
        {
          "data": {
            "text/plain": [
              "Date_reported        0\n",
              "Country_code         0\n",
              "Country              0\n",
              "WHO_region           0\n",
              "New_cases            0\n",
              "Cumulative_cases     0\n",
              "New_deaths           0\n",
              "Cumulative_deaths    0\n",
              "dtype: int64"
            ]
          },
          "execution_count": 11,
          "metadata": {},
          "output_type": "execute_result"
        }
      ],
      "source": [
        "# Análise dos valores missing:\n",
        "\n",
        "covid_brasil.isnull().sum()"
      ]
    },
    {
      "cell_type": "code",
      "execution_count": 12,
      "metadata": {
        "id": "U2KjaGHNVdTw"
      },
      "outputs": [
        {
          "data": {
            "text/plain": [
              "Date_reported          0\n",
              "Country_code         192\n",
              "Country                0\n",
              "WHO_region             0\n",
              "New_cases              0\n",
              "Cumulative_cases       0\n",
              "New_deaths             0\n",
              "Cumulative_deaths      0\n",
              "dtype: int64"
            ]
          },
          "execution_count": 12,
          "metadata": {},
          "output_type": "execute_result"
        }
      ],
      "source": [
        "covid_mundial.isnull().sum()"
      ]
    },
    {
      "cell_type": "markdown",
      "metadata": {
        "id": "i8w0kIbUVg-h"
      },
      "source": [
        "## **Análise de Valores Negativos**"
      ]
    },
    {
      "cell_type": "code",
      "execution_count": 13,
      "metadata": {
        "id": "TIMT-NhMVghA"
      },
      "outputs": [
        {
          "data": {
            "text/html": [
              "<div>\n",
              "<style scoped>\n",
              "    .dataframe tbody tr th:only-of-type {\n",
              "        vertical-align: middle;\n",
              "    }\n",
              "\n",
              "    .dataframe tbody tr th {\n",
              "        vertical-align: top;\n",
              "    }\n",
              "\n",
              "    .dataframe thead th {\n",
              "        text-align: right;\n",
              "    }\n",
              "</style>\n",
              "<table border=\"1\" class=\"dataframe\">\n",
              "  <thead>\n",
              "    <tr style=\"text-align: right;\">\n",
              "      <th></th>\n",
              "      <th>Date_reported</th>\n",
              "      <th>Country_code</th>\n",
              "      <th>Country</th>\n",
              "      <th>WHO_region</th>\n",
              "      <th>New_cases</th>\n",
              "      <th>Cumulative_cases</th>\n",
              "      <th>New_deaths</th>\n",
              "      <th>Cumulative_deaths</th>\n",
              "    </tr>\n",
              "  </thead>\n",
              "  <tbody>\n",
              "    <tr>\n",
              "      <th>20</th>\n",
              "      <td>2020-03-17</td>\n",
              "      <td>AF</td>\n",
              "      <td>Afghanistan</td>\n",
              "      <td>EMRO</td>\n",
              "      <td>-1</td>\n",
              "      <td>24</td>\n",
              "      <td>0</td>\n",
              "      <td>0</td>\n",
              "    </tr>\n",
              "    <tr>\n",
              "      <th>1942</th>\n",
              "      <td>2020-03-19</td>\n",
              "      <td>AW</td>\n",
              "      <td>Aruba</td>\n",
              "      <td>AMRO</td>\n",
              "      <td>-4</td>\n",
              "      <td>4</td>\n",
              "      <td>0</td>\n",
              "      <td>0</td>\n",
              "    </tr>\n",
              "    <tr>\n",
              "      <th>4247</th>\n",
              "      <td>2020-03-20</td>\n",
              "      <td>BM</td>\n",
              "      <td>Bermuda</td>\n",
              "      <td>AMRO</td>\n",
              "      <td>-4</td>\n",
              "      <td>2</td>\n",
              "      <td>0</td>\n",
              "      <td>0</td>\n",
              "    </tr>\n",
              "    <tr>\n",
              "      <th>4439</th>\n",
              "      <td>2020-03-20</td>\n",
              "      <td>BT</td>\n",
              "      <td>Bhutan</td>\n",
              "      <td>SEARO</td>\n",
              "      <td>-1</td>\n",
              "      <td>1</td>\n",
              "      <td>0</td>\n",
              "      <td>0</td>\n",
              "    </tr>\n",
              "    <tr>\n",
              "      <th>7313</th>\n",
              "      <td>2020-03-14</td>\n",
              "      <td>KY</td>\n",
              "      <td>Cayman Islands</td>\n",
              "      <td>AMRO</td>\n",
              "      <td>-4</td>\n",
              "      <td>1</td>\n",
              "      <td>0</td>\n",
              "      <td>0</td>\n",
              "    </tr>\n",
              "    <tr>\n",
              "      <th>8290</th>\n",
              "      <td>2020-03-31</td>\n",
              "      <td>CO</td>\n",
              "      <td>Colombia</td>\n",
              "      <td>AMRO</td>\n",
              "      <td>-90</td>\n",
              "      <td>702</td>\n",
              "      <td>4</td>\n",
              "      <td>10</td>\n",
              "    </tr>\n",
              "    <tr>\n",
              "      <th>9810</th>\n",
              "      <td>2020-03-15</td>\n",
              "      <td>CW</td>\n",
              "      <td>Curaçao</td>\n",
              "      <td>AMRO</td>\n",
              "      <td>-4</td>\n",
              "      <td>1</td>\n",
              "      <td>0</td>\n",
              "      <td>0</td>\n",
              "    </tr>\n",
              "    <tr>\n",
              "      <th>9914</th>\n",
              "      <td>2020-06-27</td>\n",
              "      <td>CW</td>\n",
              "      <td>Curaçao</td>\n",
              "      <td>AMRO</td>\n",
              "      <td>-1</td>\n",
              "      <td>23</td>\n",
              "      <td>0</td>\n",
              "      <td>1</td>\n",
              "    </tr>\n",
              "    <tr>\n",
              "      <th>11591</th>\n",
              "      <td>2020-05-07</td>\n",
              "      <td>EC</td>\n",
              "      <td>Ecuador</td>\n",
              "      <td>AMRO</td>\n",
              "      <td>-2461</td>\n",
              "      <td>29420</td>\n",
              "      <td>49</td>\n",
              "      <td>1618</td>\n",
              "    </tr>\n",
              "    <tr>\n",
              "      <th>11593</th>\n",
              "      <td>2020-05-09</td>\n",
              "      <td>EC</td>\n",
              "      <td>Ecuador</td>\n",
              "      <td>AMRO</td>\n",
              "      <td>-1480</td>\n",
              "      <td>28818</td>\n",
              "      <td>50</td>\n",
              "      <td>1704</td>\n",
              "    </tr>\n",
              "    <tr>\n",
              "      <th>11596</th>\n",
              "      <td>2020-05-12</td>\n",
              "      <td>EC</td>\n",
              "      <td>Ecuador</td>\n",
              "      <td>AMRO</td>\n",
              "      <td>-50</td>\n",
              "      <td>29509</td>\n",
              "      <td>18</td>\n",
              "      <td>2145</td>\n",
              "    </tr>\n",
              "    <tr>\n",
              "      <th>16146</th>\n",
              "      <td>2020-03-15</td>\n",
              "      <td>GP</td>\n",
              "      <td>Guadeloupe</td>\n",
              "      <td>AMRO</td>\n",
              "      <td>-4</td>\n",
              "      <td>1</td>\n",
              "      <td>0</td>\n",
              "      <td>0</td>\n",
              "    </tr>\n",
              "    <tr>\n",
              "      <th>16546</th>\n",
              "      <td>2020-03-31</td>\n",
              "      <td>GT</td>\n",
              "      <td>Guatemala</td>\n",
              "      <td>AMRO</td>\n",
              "      <td>-43</td>\n",
              "      <td>36</td>\n",
              "      <td>0</td>\n",
              "      <td>1</td>\n",
              "    </tr>\n",
              "    <tr>\n",
              "      <th>17934</th>\n",
              "      <td>2020-05-14</td>\n",
              "      <td>HN</td>\n",
              "      <td>Honduras</td>\n",
              "      <td>AMRO</td>\n",
              "      <td>-20</td>\n",
              "      <td>2080</td>\n",
              "      <td>5</td>\n",
              "      <td>121</td>\n",
              "    </tr>\n",
              "    <tr>\n",
              "      <th>18437</th>\n",
              "      <td>2020-03-02</td>\n",
              "      <td>IN</td>\n",
              "      <td>India</td>\n",
              "      <td>SEARO</td>\n",
              "      <td>-2</td>\n",
              "      <td>5</td>\n",
              "      <td>0</td>\n",
              "      <td>0</td>\n",
              "    </tr>\n",
              "    <tr>\n",
              "      <th>18636</th>\n",
              "      <td>2020-03-09</td>\n",
              "      <td>ID</td>\n",
              "      <td>Indonesia</td>\n",
              "      <td>SEARO</td>\n",
              "      <td>-4</td>\n",
              "      <td>6</td>\n",
              "      <td>0</td>\n",
              "      <td>0</td>\n",
              "    </tr>\n",
              "    <tr>\n",
              "      <th>23254</th>\n",
              "      <td>2020-03-19</td>\n",
              "      <td>LT</td>\n",
              "      <td>Lithuania</td>\n",
              "      <td>EURO</td>\n",
              "      <td>-26</td>\n",
              "      <td>1</td>\n",
              "      <td>0</td>\n",
              "      <td>0</td>\n",
              "    </tr>\n",
              "    <tr>\n",
              "      <th>24203</th>\n",
              "      <td>2020-03-08</td>\n",
              "      <td>MV</td>\n",
              "      <td>Maldives</td>\n",
              "      <td>SEARO</td>\n",
              "      <td>-4</td>\n",
              "      <td>2</td>\n",
              "      <td>0</td>\n",
              "      <td>0</td>\n",
              "    </tr>\n",
              "    <tr>\n",
              "      <th>24209</th>\n",
              "      <td>2020-03-14</td>\n",
              "      <td>MV</td>\n",
              "      <td>Maldives</td>\n",
              "      <td>SEARO</td>\n",
              "      <td>-3</td>\n",
              "      <td>9</td>\n",
              "      <td>0</td>\n",
              "      <td>0</td>\n",
              "    </tr>\n",
              "    <tr>\n",
              "      <th>24224</th>\n",
              "      <td>2020-03-29</td>\n",
              "      <td>MV</td>\n",
              "      <td>Maldives</td>\n",
              "      <td>SEARO</td>\n",
              "      <td>-1</td>\n",
              "      <td>16</td>\n",
              "      <td>0</td>\n",
              "      <td>0</td>\n",
              "    </tr>\n",
              "    <tr>\n",
              "      <th>24971</th>\n",
              "      <td>2020-03-08</td>\n",
              "      <td>MQ</td>\n",
              "      <td>Martinique</td>\n",
              "      <td>AMRO</td>\n",
              "      <td>-4</td>\n",
              "      <td>2</td>\n",
              "      <td>0</td>\n",
              "      <td>0</td>\n",
              "    </tr>\n",
              "    <tr>\n",
              "      <th>26518</th>\n",
              "      <td>2020-03-19</td>\n",
              "      <td>ME</td>\n",
              "      <td>Montenegro</td>\n",
              "      <td>EURO</td>\n",
              "      <td>-6</td>\n",
              "      <td>2</td>\n",
              "      <td>0</td>\n",
              "      <td>0</td>\n",
              "    </tr>\n",
              "    <tr>\n",
              "      <th>26710</th>\n",
              "      <td>2020-03-19</td>\n",
              "      <td>MS</td>\n",
              "      <td>Montserrat</td>\n",
              "      <td>AMRO</td>\n",
              "      <td>-4</td>\n",
              "      <td>1</td>\n",
              "      <td>0</td>\n",
              "      <td>0</td>\n",
              "    </tr>\n",
              "    <tr>\n",
              "      <th>27866</th>\n",
              "      <td>2020-03-23</td>\n",
              "      <td>NP</td>\n",
              "      <td>Nepal</td>\n",
              "      <td>SEARO</td>\n",
              "      <td>-3</td>\n",
              "      <td>2</td>\n",
              "      <td>0</td>\n",
              "      <td>0</td>\n",
              "    </tr>\n",
              "    <tr>\n",
              "      <th>30144</th>\n",
              "      <td>2020-02-26</td>\n",
              "      <td>OM</td>\n",
              "      <td>Oman</td>\n",
              "      <td>EMRO</td>\n",
              "      <td>-4</td>\n",
              "      <td>4</td>\n",
              "      <td>0</td>\n",
              "      <td>0</td>\n",
              "    </tr>\n",
              "    <tr>\n",
              "      <th>32264</th>\n",
              "      <td>2020-03-05</td>\n",
              "      <td>PT</td>\n",
              "      <td>Portugal</td>\n",
              "      <td>EURO</td>\n",
              "      <td>-2</td>\n",
              "      <td>2</td>\n",
              "      <td>0</td>\n",
              "      <td>0</td>\n",
              "    </tr>\n",
              "    <tr>\n",
              "      <th>32265</th>\n",
              "      <td>2020-03-06</td>\n",
              "      <td>PT</td>\n",
              "      <td>Portugal</td>\n",
              "      <td>EURO</td>\n",
              "      <td>-1</td>\n",
              "      <td>1</td>\n",
              "      <td>0</td>\n",
              "      <td>0</td>\n",
              "    </tr>\n",
              "    <tr>\n",
              "      <th>32466</th>\n",
              "      <td>2020-03-15</td>\n",
              "      <td>PR</td>\n",
              "      <td>Puerto Rico</td>\n",
              "      <td>AMRO</td>\n",
              "      <td>-4</td>\n",
              "      <td>3</td>\n",
              "      <td>0</td>\n",
              "      <td>0</td>\n",
              "    </tr>\n",
              "    <tr>\n",
              "      <th>32507</th>\n",
              "      <td>2020-04-25</td>\n",
              "      <td>PR</td>\n",
              "      <td>Puerto Rico</td>\n",
              "      <td>AMRO</td>\n",
              "      <td>-140</td>\n",
              "      <td>1276</td>\n",
              "      <td>8</td>\n",
              "      <td>77</td>\n",
              "    </tr>\n",
              "    <tr>\n",
              "      <th>34951</th>\n",
              "      <td>2020-03-04</td>\n",
              "      <td>MF</td>\n",
              "      <td>Saint Martin</td>\n",
              "      <td>AMRO</td>\n",
              "      <td>-4</td>\n",
              "      <td>2</td>\n",
              "      <td>0</td>\n",
              "      <td>0</td>\n",
              "    </tr>\n",
              "    <tr>\n",
              "      <th>37463</th>\n",
              "      <td>2020-03-20</td>\n",
              "      <td>SX</td>\n",
              "      <td>Sint Maarten</td>\n",
              "      <td>AMRO</td>\n",
              "      <td>-4</td>\n",
              "      <td>1</td>\n",
              "      <td>0</td>\n",
              "      <td>0</td>\n",
              "    </tr>\n",
              "    <tr>\n",
              "      <th>37541</th>\n",
              "      <td>2020-06-06</td>\n",
              "      <td>SX</td>\n",
              "      <td>Sint Maarten</td>\n",
              "      <td>AMRO</td>\n",
              "      <td>-1</td>\n",
              "      <td>77</td>\n",
              "      <td>0</td>\n",
              "      <td>15</td>\n",
              "    </tr>\n",
              "    <tr>\n",
              "      <th>38990</th>\n",
              "      <td>2020-03-11</td>\n",
              "      <td>LK</td>\n",
              "      <td>Sri Lanka</td>\n",
              "      <td>SEARO</td>\n",
              "      <td>-3</td>\n",
              "      <td>2</td>\n",
              "      <td>0</td>\n",
              "      <td>0</td>\n",
              "    </tr>\n",
              "    <tr>\n",
              "      <th>38993</th>\n",
              "      <td>2020-03-14</td>\n",
              "      <td>LK</td>\n",
              "      <td>Sri Lanka</td>\n",
              "      <td>SEARO</td>\n",
              "      <td>-1</td>\n",
              "      <td>6</td>\n",
              "      <td>0</td>\n",
              "      <td>0</td>\n",
              "    </tr>\n",
              "    <tr>\n",
              "      <th>40322</th>\n",
              "      <td>2020-02-28</td>\n",
              "      <td>TH</td>\n",
              "      <td>Thailand</td>\n",
              "      <td>SEARO</td>\n",
              "      <td>-3</td>\n",
              "      <td>41</td>\n",
              "      <td>0</td>\n",
              "      <td>0</td>\n",
              "    </tr>\n",
              "    <tr>\n",
              "      <th>40325</th>\n",
              "      <td>2020-03-02</td>\n",
              "      <td>TH</td>\n",
              "      <td>Thailand</td>\n",
              "      <td>SEARO</td>\n",
              "      <td>-3</td>\n",
              "      <td>43</td>\n",
              "      <td>0</td>\n",
              "      <td>1</td>\n",
              "    </tr>\n",
              "    <tr>\n",
              "      <th>40333</th>\n",
              "      <td>2020-03-10</td>\n",
              "      <td>TH</td>\n",
              "      <td>Thailand</td>\n",
              "      <td>SEARO</td>\n",
              "      <td>-1</td>\n",
              "      <td>53</td>\n",
              "      <td>0</td>\n",
              "      <td>1</td>\n",
              "    </tr>\n",
              "    <tr>\n",
              "      <th>41489</th>\n",
              "      <td>2020-03-14</td>\n",
              "      <td>TT</td>\n",
              "      <td>Trinidad and Tobago</td>\n",
              "      <td>AMRO</td>\n",
              "      <td>-4</td>\n",
              "      <td>1</td>\n",
              "      <td>0</td>\n",
              "      <td>0</td>\n",
              "    </tr>\n",
              "    <tr>\n",
              "      <th>43605</th>\n",
              "      <td>2020-03-18</td>\n",
              "      <td>VI</td>\n",
              "      <td>United States Virgin Islands</td>\n",
              "      <td>AMRO</td>\n",
              "      <td>-4</td>\n",
              "      <td>2</td>\n",
              "      <td>0</td>\n",
              "      <td>0</td>\n",
              "    </tr>\n",
              "    <tr>\n",
              "      <th>43825</th>\n",
              "      <td>2020-04-15</td>\n",
              "      <td>UY</td>\n",
              "      <td>Uruguay</td>\n",
              "      <td>AMRO</td>\n",
              "      <td>-29</td>\n",
              "      <td>483</td>\n",
              "      <td>1</td>\n",
              "      <td>8</td>\n",
              "    </tr>\n",
              "  </tbody>\n",
              "</table>\n",
              "</div>"
            ],
            "text/plain": [
              "      Date_reported Country_code                       Country WHO_region  \\\n",
              "20       2020-03-17           AF                   Afghanistan       EMRO   \n",
              "1942     2020-03-19           AW                         Aruba       AMRO   \n",
              "4247     2020-03-20           BM                       Bermuda       AMRO   \n",
              "4439     2020-03-20           BT                        Bhutan      SEARO   \n",
              "7313     2020-03-14           KY                Cayman Islands       AMRO   \n",
              "8290     2020-03-31           CO                      Colombia       AMRO   \n",
              "9810     2020-03-15           CW                       Curaçao       AMRO   \n",
              "9914     2020-06-27           CW                       Curaçao       AMRO   \n",
              "11591    2020-05-07           EC                       Ecuador       AMRO   \n",
              "11593    2020-05-09           EC                       Ecuador       AMRO   \n",
              "11596    2020-05-12           EC                       Ecuador       AMRO   \n",
              "16146    2020-03-15           GP                    Guadeloupe       AMRO   \n",
              "16546    2020-03-31           GT                     Guatemala       AMRO   \n",
              "17934    2020-05-14           HN                      Honduras       AMRO   \n",
              "18437    2020-03-02           IN                         India      SEARO   \n",
              "18636    2020-03-09           ID                     Indonesia      SEARO   \n",
              "23254    2020-03-19           LT                     Lithuania       EURO   \n",
              "24203    2020-03-08           MV                      Maldives      SEARO   \n",
              "24209    2020-03-14           MV                      Maldives      SEARO   \n",
              "24224    2020-03-29           MV                      Maldives      SEARO   \n",
              "24971    2020-03-08           MQ                    Martinique       AMRO   \n",
              "26518    2020-03-19           ME                    Montenegro       EURO   \n",
              "26710    2020-03-19           MS                    Montserrat       AMRO   \n",
              "27866    2020-03-23           NP                         Nepal      SEARO   \n",
              "30144    2020-02-26           OM                          Oman       EMRO   \n",
              "32264    2020-03-05           PT                      Portugal       EURO   \n",
              "32265    2020-03-06           PT                      Portugal       EURO   \n",
              "32466    2020-03-15           PR                   Puerto Rico       AMRO   \n",
              "32507    2020-04-25           PR                   Puerto Rico       AMRO   \n",
              "34951    2020-03-04           MF                  Saint Martin       AMRO   \n",
              "37463    2020-03-20           SX                  Sint Maarten       AMRO   \n",
              "37541    2020-06-06           SX                  Sint Maarten       AMRO   \n",
              "38990    2020-03-11           LK                     Sri Lanka      SEARO   \n",
              "38993    2020-03-14           LK                     Sri Lanka      SEARO   \n",
              "40322    2020-02-28           TH                      Thailand      SEARO   \n",
              "40325    2020-03-02           TH                      Thailand      SEARO   \n",
              "40333    2020-03-10           TH                      Thailand      SEARO   \n",
              "41489    2020-03-14           TT           Trinidad and Tobago       AMRO   \n",
              "43605    2020-03-18           VI  United States Virgin Islands       AMRO   \n",
              "43825    2020-04-15           UY                       Uruguay       AMRO   \n",
              "\n",
              "       New_cases  Cumulative_cases  New_deaths  Cumulative_deaths  \n",
              "20            -1                24           0                  0  \n",
              "1942          -4                 4           0                  0  \n",
              "4247          -4                 2           0                  0  \n",
              "4439          -1                 1           0                  0  \n",
              "7313          -4                 1           0                  0  \n",
              "8290         -90               702           4                 10  \n",
              "9810          -4                 1           0                  0  \n",
              "9914          -1                23           0                  1  \n",
              "11591      -2461             29420          49               1618  \n",
              "11593      -1480             28818          50               1704  \n",
              "11596        -50             29509          18               2145  \n",
              "16146         -4                 1           0                  0  \n",
              "16546        -43                36           0                  1  \n",
              "17934        -20              2080           5                121  \n",
              "18437         -2                 5           0                  0  \n",
              "18636         -4                 6           0                  0  \n",
              "23254        -26                 1           0                  0  \n",
              "24203         -4                 2           0                  0  \n",
              "24209         -3                 9           0                  0  \n",
              "24224         -1                16           0                  0  \n",
              "24971         -4                 2           0                  0  \n",
              "26518         -6                 2           0                  0  \n",
              "26710         -4                 1           0                  0  \n",
              "27866         -3                 2           0                  0  \n",
              "30144         -4                 4           0                  0  \n",
              "32264         -2                 2           0                  0  \n",
              "32265         -1                 1           0                  0  \n",
              "32466         -4                 3           0                  0  \n",
              "32507       -140              1276           8                 77  \n",
              "34951         -4                 2           0                  0  \n",
              "37463         -4                 1           0                  0  \n",
              "37541         -1                77           0                 15  \n",
              "38990         -3                 2           0                  0  \n",
              "38993         -1                 6           0                  0  \n",
              "40322         -3                41           0                  0  \n",
              "40325         -3                43           0                  1  \n",
              "40333         -1                53           0                  1  \n",
              "41489         -4                 1           0                  0  \n",
              "43605         -4                 2           0                  0  \n",
              "43825        -29               483           1                  8  "
            ]
          },
          "execution_count": 13,
          "metadata": {},
          "output_type": "execute_result"
        }
      ],
      "source": [
        "covid_mundial.loc[covid_mundial.New_cases < 0, :]"
      ]
    },
    {
      "cell_type": "code",
      "execution_count": 14,
      "metadata": {
        "id": "vBntm6zeV2Nf"
      },
      "outputs": [
        {
          "data": {
            "text/plain": [
              "Date_reported        40\n",
              "Country_code         40\n",
              "Country              40\n",
              "WHO_region           40\n",
              "New_cases            40\n",
              "Cumulative_cases     40\n",
              "New_deaths           40\n",
              "Cumulative_deaths    40\n",
              "dtype: int64"
            ]
          },
          "execution_count": 14,
          "metadata": {},
          "output_type": "execute_result"
        }
      ],
      "source": [
        "# Contagem para cada variável:\n",
        "\n",
        "covid_mundial.loc[covid_mundial.New_cases < 0, :].count()"
      ]
    },
    {
      "cell_type": "code",
      "execution_count": 15,
      "metadata": {
        "id": "vIknPXmZWAF_"
      },
      "outputs": [
        {
          "data": {
            "text/plain": [
              "Date_reported        8\n",
              "Country_code         8\n",
              "Country              8\n",
              "WHO_region           8\n",
              "New_cases            8\n",
              "Cumulative_cases     8\n",
              "New_deaths           8\n",
              "Cumulative_deaths    8\n",
              "dtype: int64"
            ]
          },
          "execution_count": 15,
          "metadata": {},
          "output_type": "execute_result"
        }
      ],
      "source": [
        "covid_mundial.loc[covid_mundial.New_deaths < 0, :].count()"
      ]
    },
    {
      "cell_type": "code",
      "execution_count": 16,
      "metadata": {
        "id": "B2umKAWGWKj-"
      },
      "outputs": [
        {
          "data": {
            "text/plain": [
              "Date_reported        0\n",
              "Country_code         0\n",
              "Country              0\n",
              "WHO_region           0\n",
              "New_cases            0\n",
              "Cumulative_cases     0\n",
              "New_deaths           0\n",
              "Cumulative_deaths    0\n",
              "dtype: int64"
            ]
          },
          "execution_count": 16,
          "metadata": {},
          "output_type": "execute_result"
        }
      ],
      "source": [
        "covid_brasil.loc[covid_brasil.New_cases < 0, :].count()"
      ]
    },
    {
      "cell_type": "code",
      "execution_count": 17,
      "metadata": {
        "id": "XHsIppo5WO7G"
      },
      "outputs": [
        {
          "data": {
            "text/plain": [
              "Date_reported        0\n",
              "Country_code         0\n",
              "Country              0\n",
              "WHO_region           0\n",
              "New_cases            0\n",
              "Cumulative_cases     0\n",
              "New_deaths           0\n",
              "Cumulative_deaths    0\n",
              "dtype: int64"
            ]
          },
          "execution_count": 17,
          "metadata": {},
          "output_type": "execute_result"
        }
      ],
      "source": [
        "covid_brasil.loc[covid_brasil.New_deaths < 0, :].count()"
      ]
    },
    {
      "cell_type": "code",
      "execution_count": 18,
      "metadata": {
        "id": "Y6TNZiDTWTo2"
      },
      "outputs": [],
      "source": [
        "# Criação de um DataFrame com a soma de todos os países por data:\n",
        "\n",
        "covid_mundial_sum = covid_mundial.groupby('Date_reported').agg({'New_cases': 'sum', \n",
        "                                                                'Cumulative_cases': 'sum', \n",
        "                                                                'New_deaths': 'sum', \n",
        "                                                                'Cumulative_deaths': 'sum'})\n",
        "\n",
        "# Soma todos os new_cases de cada país na data x e coloca na variável new_cases da nova tabela; o mesmo com as outras variáveis"
      ]
    },
    {
      "cell_type": "code",
      "execution_count": 19,
      "metadata": {
        "id": "LLdeQQuQW-Lc"
      },
      "outputs": [
        {
          "data": {
            "text/html": [
              "<div>\n",
              "<style scoped>\n",
              "    .dataframe tbody tr th:only-of-type {\n",
              "        vertical-align: middle;\n",
              "    }\n",
              "\n",
              "    .dataframe tbody tr th {\n",
              "        vertical-align: top;\n",
              "    }\n",
              "\n",
              "    .dataframe thead th {\n",
              "        text-align: right;\n",
              "    }\n",
              "</style>\n",
              "<table border=\"1\" class=\"dataframe\">\n",
              "  <thead>\n",
              "    <tr style=\"text-align: right;\">\n",
              "      <th></th>\n",
              "      <th>New_cases</th>\n",
              "      <th>Cumulative_cases</th>\n",
              "      <th>New_deaths</th>\n",
              "      <th>Cumulative_deaths</th>\n",
              "    </tr>\n",
              "    <tr>\n",
              "      <th>Date_reported</th>\n",
              "      <th></th>\n",
              "      <th></th>\n",
              "      <th></th>\n",
              "      <th></th>\n",
              "    </tr>\n",
              "  </thead>\n",
              "  <tbody>\n",
              "    <tr>\n",
              "      <th>2020-02-26</th>\n",
              "      <td>861</td>\n",
              "      <td>81175</td>\n",
              "      <td>62</td>\n",
              "      <td>2913</td>\n",
              "    </tr>\n",
              "    <tr>\n",
              "      <th>2020-02-27</th>\n",
              "      <td>1078</td>\n",
              "      <td>82253</td>\n",
              "      <td>42</td>\n",
              "      <td>2955</td>\n",
              "    </tr>\n",
              "    <tr>\n",
              "      <th>2020-02-28</th>\n",
              "      <td>1382</td>\n",
              "      <td>83635</td>\n",
              "      <td>63</td>\n",
              "      <td>3018</td>\n",
              "    </tr>\n",
              "    <tr>\n",
              "      <th>2020-02-29</th>\n",
              "      <td>1757</td>\n",
              "      <td>85392</td>\n",
              "      <td>66</td>\n",
              "      <td>3084</td>\n",
              "    </tr>\n",
              "    <tr>\n",
              "      <th>2020-03-01</th>\n",
              "      <td>1800</td>\n",
              "      <td>87192</td>\n",
              "      <td>47</td>\n",
              "      <td>3131</td>\n",
              "    </tr>\n",
              "    <tr>\n",
              "      <th>...</th>\n",
              "      <td>...</td>\n",
              "      <td>...</td>\n",
              "      <td>...</td>\n",
              "      <td>...</td>\n",
              "    </tr>\n",
              "    <tr>\n",
              "      <th>2020-08-31</th>\n",
              "      <td>276488</td>\n",
              "      <td>25689141</td>\n",
              "      <td>5835</td>\n",
              "      <td>930397</td>\n",
              "    </tr>\n",
              "    <tr>\n",
              "      <th>2020-09-01</th>\n",
              "      <td>229180</td>\n",
              "      <td>25918321</td>\n",
              "      <td>4960</td>\n",
              "      <td>935357</td>\n",
              "    </tr>\n",
              "    <tr>\n",
              "      <th>2020-09-02</th>\n",
              "      <td>276881</td>\n",
              "      <td>26195202</td>\n",
              "      <td>5255</td>\n",
              "      <td>940612</td>\n",
              "    </tr>\n",
              "    <tr>\n",
              "      <th>2020-09-03</th>\n",
              "      <td>292568</td>\n",
              "      <td>26487770</td>\n",
              "      <td>6298</td>\n",
              "      <td>946910</td>\n",
              "    </tr>\n",
              "    <tr>\n",
              "      <th>2020-09-04</th>\n",
              "      <td>298977</td>\n",
              "      <td>26786747</td>\n",
              "      <td>6310</td>\n",
              "      <td>953220</td>\n",
              "    </tr>\n",
              "  </tbody>\n",
              "</table>\n",
              "<p>192 rows × 4 columns</p>\n",
              "</div>"
            ],
            "text/plain": [
              "               New_cases  Cumulative_cases  New_deaths  Cumulative_deaths\n",
              "Date_reported                                                            \n",
              "2020-02-26           861             81175          62               2913\n",
              "2020-02-27          1078             82253          42               2955\n",
              "2020-02-28          1382             83635          63               3018\n",
              "2020-02-29          1757             85392          66               3084\n",
              "2020-03-01          1800             87192          47               3131\n",
              "...                  ...               ...         ...                ...\n",
              "2020-08-31        276488          25689141        5835             930397\n",
              "2020-09-01        229180          25918321        4960             935357\n",
              "2020-09-02        276881          26195202        5255             940612\n",
              "2020-09-03        292568          26487770        6298             946910\n",
              "2020-09-04        298977          26786747        6310             953220\n",
              "\n",
              "[192 rows x 4 columns]"
            ]
          },
          "execution_count": 19,
          "metadata": {},
          "output_type": "execute_result"
        }
      ],
      "source": [
        "covid_mundial_sum"
      ]
    },
    {
      "cell_type": "markdown",
      "metadata": {
        "id": "NLw8sKztXdXT"
      },
      "source": [
        "## **Análises Estatísticas**"
      ]
    },
    {
      "cell_type": "code",
      "execution_count": 20,
      "metadata": {
        "id": "6gqjPefIXsjr"
      },
      "outputs": [
        {
          "data": {
            "text/html": [
              "<div>\n",
              "<style scoped>\n",
              "    .dataframe tbody tr th:only-of-type {\n",
              "        vertical-align: middle;\n",
              "    }\n",
              "\n",
              "    .dataframe tbody tr th {\n",
              "        vertical-align: top;\n",
              "    }\n",
              "\n",
              "    .dataframe thead th {\n",
              "        text-align: right;\n",
              "    }\n",
              "</style>\n",
              "<table border=\"1\" class=\"dataframe\">\n",
              "  <thead>\n",
              "    <tr style=\"text-align: right;\">\n",
              "      <th></th>\n",
              "      <th>Date_reported</th>\n",
              "      <th>New_cases</th>\n",
              "      <th>Cumulative_cases</th>\n",
              "      <th>New_deaths</th>\n",
              "      <th>Cumulative_deaths</th>\n",
              "    </tr>\n",
              "  </thead>\n",
              "  <tbody>\n",
              "    <tr>\n",
              "      <th>count</th>\n",
              "      <td>192</td>\n",
              "      <td>192.000000</td>\n",
              "      <td>1.920000e+02</td>\n",
              "      <td>192.000000</td>\n",
              "      <td>192.000000</td>\n",
              "    </tr>\n",
              "    <tr>\n",
              "      <th>mean</th>\n",
              "      <td>2020-05-31 12:00:00</td>\n",
              "      <td>20822.213542</td>\n",
              "      <td>1.097198e+06</td>\n",
              "      <td>644.687500</td>\n",
              "      <td>41098.510417</td>\n",
              "    </tr>\n",
              "    <tr>\n",
              "      <th>min</th>\n",
              "      <td>2020-02-26 00:00:00</td>\n",
              "      <td>0.000000</td>\n",
              "      <td>0.000000e+00</td>\n",
              "      <td>0.000000</td>\n",
              "      <td>0.000000</td>\n",
              "    </tr>\n",
              "    <tr>\n",
              "      <th>25%</th>\n",
              "      <td>2020-04-13 18:00:00</td>\n",
              "      <td>1819.250000</td>\n",
              "      <td>2.180850e+04</td>\n",
              "      <td>114.750000</td>\n",
              "      <td>1198.250000</td>\n",
              "    </tr>\n",
              "    <tr>\n",
              "      <th>50%</th>\n",
              "      <td>2020-05-31 12:00:00</td>\n",
              "      <td>17259.000000</td>\n",
              "      <td>4.818030e+05</td>\n",
              "      <td>631.500000</td>\n",
              "      <td>28356.000000</td>\n",
              "    </tr>\n",
              "    <tr>\n",
              "      <th>75%</th>\n",
              "      <td>2020-07-18 06:00:00</td>\n",
              "      <td>38775.500000</td>\n",
              "      <td>2.020695e+06</td>\n",
              "      <td>1112.750000</td>\n",
              "      <td>76978.750000</td>\n",
              "    </tr>\n",
              "    <tr>\n",
              "      <th>max</th>\n",
              "      <td>2020-09-04 00:00:00</td>\n",
              "      <td>69074.000000</td>\n",
              "      <td>3.997865e+06</td>\n",
              "      <td>1595.000000</td>\n",
              "      <td>123780.000000</td>\n",
              "    </tr>\n",
              "    <tr>\n",
              "      <th>std</th>\n",
              "      <td>NaN</td>\n",
              "      <td>19158.072249</td>\n",
              "      <td>1.268925e+06</td>\n",
              "      <td>482.604242</td>\n",
              "      <td>41371.067623</td>\n",
              "    </tr>\n",
              "  </tbody>\n",
              "</table>\n",
              "</div>"
            ],
            "text/plain": [
              "             Date_reported     New_cases  Cumulative_cases   New_deaths  \\\n",
              "count                  192    192.000000      1.920000e+02   192.000000   \n",
              "mean   2020-05-31 12:00:00  20822.213542      1.097198e+06   644.687500   \n",
              "min    2020-02-26 00:00:00      0.000000      0.000000e+00     0.000000   \n",
              "25%    2020-04-13 18:00:00   1819.250000      2.180850e+04   114.750000   \n",
              "50%    2020-05-31 12:00:00  17259.000000      4.818030e+05   631.500000   \n",
              "75%    2020-07-18 06:00:00  38775.500000      2.020695e+06  1112.750000   \n",
              "max    2020-09-04 00:00:00  69074.000000      3.997865e+06  1595.000000   \n",
              "std                    NaN  19158.072249      1.268925e+06   482.604242   \n",
              "\n",
              "       Cumulative_deaths  \n",
              "count         192.000000  \n",
              "mean        41098.510417  \n",
              "min             0.000000  \n",
              "25%          1198.250000  \n",
              "50%         28356.000000  \n",
              "75%         76978.750000  \n",
              "max        123780.000000  \n",
              "std         41371.067623  "
            ]
          },
          "execution_count": 20,
          "metadata": {},
          "output_type": "execute_result"
        }
      ],
      "source": [
        "covid_brasil.describe()"
      ]
    },
    {
      "cell_type": "code",
      "execution_count": 21,
      "metadata": {
        "id": "S_npO5sBXxQg"
      },
      "outputs": [
        {
          "data": {
            "text/plain": [
              "0    0\n",
              "Name: New_cases, dtype: int64"
            ]
          },
          "execution_count": 21,
          "metadata": {},
          "output_type": "execute_result"
        }
      ],
      "source": [
        "covid_brasil.New_cases.mode()"
      ]
    },
    {
      "cell_type": "code",
      "execution_count": 22,
      "metadata": {
        "id": "Mj3D6jCiYji6"
      },
      "outputs": [
        {
          "data": {
            "text/plain": [
              "0    0\n",
              "Name: New_deaths, dtype: int64"
            ]
          },
          "execution_count": 22,
          "metadata": {},
          "output_type": "execute_result"
        }
      ],
      "source": [
        "covid_brasil.New_deaths.mode()"
      ]
    },
    {
      "cell_type": "markdown",
      "metadata": {
        "id": "WioJXiI7Yl8x"
      },
      "source": [
        "### **Análise dos Outliers**"
      ]
    },
    {
      "cell_type": "code",
      "execution_count": 23,
      "metadata": {
        "id": "tKxs31a4X1k7"
      },
      "outputs": [],
      "source": [
        "import seaborn as sns"
      ]
    },
    {
      "cell_type": "code",
      "execution_count": 24,
      "metadata": {
        "id": "D4HEeFKJY2PR"
      },
      "outputs": [
        {
          "data": {
            "image/png": "[encoded data removed]",
            "text/plain": [
              "<Figure size 640x480 with 1 Axes>"
            ]
          },
          "metadata": {},
          "output_type": "display_data"
        }
      ],
      "source": [
        "sns.boxplot(covid_brasil, y='Cumulative_cases');"
      ]
    },
    {
      "cell_type": "code",
      "execution_count": 25,
      "metadata": {
        "id": "gsdkcFOZZAM4"
      },
      "outputs": [
        {
          "data": {
            "image/png": "[encoded data removed]",
            "text/plain": [
              "<Figure size 640x480 with 1 Axes>"
            ]
          },
          "metadata": {},
          "output_type": "display_data"
        }
      ],
      "source": [
        "sns.boxplot(covid_brasil, y='Cumulative_deaths');"
      ]
    },
    {
      "cell_type": "markdown",
      "metadata": {
        "id": "Hs8KJFYTZKT3"
      },
      "source": [
        "### **Análise de Normalidade**"
      ]
    },
    {
      "cell_type": "code",
      "execution_count": 26,
      "metadata": {
        "id": "hWAfFrohZPxv"
      },
      "outputs": [
        {
          "data": {
            "image/png": "[encoded data removed]",
            "text/plain": [
              "<Figure size 640x480 with 1 Axes>"
            ]
          },
          "metadata": {},
          "output_type": "display_data"
        }
      ],
      "source": [
        "sns.histplot(covid_brasil, x='Cumulative_cases', bins=20, color='brown', kde=True, stat='count',);"
      ]
    },
    {
      "cell_type": "code",
      "execution_count": 27,
      "metadata": {
        "id": "cnMHs2_rZlgn"
      },
      "outputs": [
        {
          "data": {
            "image/png": "[encoded data removed]",
            "text/plain": [
              "<Figure size 640x480 with 1 Axes>"
            ]
          },
          "metadata": {},
          "output_type": "display_data"
        }
      ],
      "source": [
        "sns.histplot(covid_brasil, x='Cumulative_deaths', bins=20, color='brown', kde=True, stat='count',);"
      ]
    },
    {
      "cell_type": "code",
      "execution_count": 28,
      "metadata": {
        "id": "i8UahaBYZrRX"
      },
      "outputs": [],
      "source": [
        "import scipy.stats as stats\n",
        "import matplotlib.pyplot as plt"
      ]
    },
    {
      "cell_type": "code",
      "execution_count": 29,
      "metadata": {
        "id": "4cDb782ZZwr2"
      },
      "outputs": [
        {
          "data": {
            "image/png": "[encoded data removed]",
            "text/plain": [
              "<Figure size 640x480 with 1 Axes>"
            ]
          },
          "metadata": {},
          "output_type": "display_data"
        }
      ],
      "source": [
        "stats.probplot(covid_brasil['Cumulative_cases'], dist='norm', plot=plt)\n",
        "plt.title('Análise Normalidade')\n",
        "plt.show()"
      ]
    },
    {
      "cell_type": "code",
      "execution_count": 30,
      "metadata": {
        "id": "uwXRqWi2aAMl"
      },
      "outputs": [
        {
          "data": {
            "image/png": "[encoded data removed]",
            "text/plain": [
              "<Figure size 640x480 with 1 Axes>"
            ]
          },
          "metadata": {},
          "output_type": "display_data"
        }
      ],
      "source": [
        "stats.probplot(covid_brasil['Cumulative_deaths'], dist='norm', plot=plt)\n",
        "plt.title('Análise Normalidade')\n",
        "plt.show()"
      ]
    },
    {
      "cell_type": "code",
      "execution_count": 31,
      "metadata": {},
      "outputs": [
        {
          "name": "stdout",
          "output_type": "stream",
          "text": [
            "Estatística de teste (W) = 0.81\n",
            "p_valor = 2.0104847081310433e-14\n"
          ]
        }
      ],
      "source": [
        "estatistica, p = stats.shapiro(covid_brasil.Cumulative_cases)\n",
        "print(f'Estatística de teste (W) = {round(estatistica, 2)}')\n",
        "print(f'p_valor = {p}')"
      ]
    },
    {
      "cell_type": "code",
      "execution_count": 32,
      "metadata": {
        "id": "8Gk0XqRBblGE"
      },
      "outputs": [
        {
          "name": "stdout",
          "output_type": "stream",
          "text": [
            "Estatística de teste (W) = 0.85\n",
            "p_valor = 1.4818680137140827e-12\n"
          ]
        }
      ],
      "source": [
        "estatistica, p = stats.shapiro(covid_brasil.Cumulative_deaths)\n",
        "print(f'Estatística de teste (W) = {round(estatistica, 2)}')\n",
        "print(f'p_valor = {p}')"
      ]
    },
    {
      "cell_type": "markdown",
      "metadata": {
        "id": "_ls3JdjFb4Lq"
      },
      "source": [
        "### **Gráfico de dispersão em função das datas**"
      ]
    },
    {
      "cell_type": "code",
      "execution_count": 33,
      "metadata": {},
      "outputs": [
        {
          "data": {
            "image/png": "[encoded data removed]",
            "text/plain": [
              "<Figure size 640x480 with 1 Axes>"
            ]
          },
          "metadata": {},
          "output_type": "display_data"
        }
      ],
      "source": [
        "plt.scatter(covid_brasil.Date_reported, covid_brasil.Cumulative_cases)\n",
        "plt.title('Número de Casos Acumulados no Brasil')\n",
        "plt.xlabel('Data')\n",
        "plt.ylabel('Casos')\n",
        "plt.grid(False)\n",
        "\n",
        "# Escala do eixo x a cada 60 dias\n",
        "plt.xticks(covid_brasil.Date_reported[::60], rotation=45)  # A rotação é opcional para melhorar a legibilidade\n",
        "plt.show()"
      ]
    },
    {
      "cell_type": "code",
      "execution_count": 34,
      "metadata": {},
      "outputs": [
        {
          "data": {
            "image/png": "[encoded data removed]",
            "text/plain": [
              "<Figure size 640x480 with 1 Axes>"
            ]
          },
          "metadata": {},
          "output_type": "display_data"
        }
      ],
      "source": [
        "plt.scatter(covid_brasil.Date_reported, covid_brasil.Cumulative_deaths)\n",
        "plt.title('Número de Mortes Acumuladas no Brasil')\n",
        "plt.xlabel('Data')\n",
        "plt.ylabel('Mortes')\n",
        "plt.grid(False)\n",
        "\n",
        "plt.xticks(covid_brasil.Date_reported[::60], rotation=45)\n",
        "plt.show()"
      ]
    },
    {
      "cell_type": "code",
      "execution_count": 35,
      "metadata": {
        "id": "Q3xDwLdwdiUG"
      },
      "outputs": [
        {
          "data": {
            "image/png": "[encoded data removed]",
            "text/plain": [
              "<Figure size 1000x500 with 1 Axes>"
            ]
          },
          "metadata": {},
          "output_type": "display_data"
        }
      ],
      "source": [
        "plt.subplots(figsize=(10,5))\n",
        "plt.stackplot(covid_brasil['Date_reported'], covid_brasil['Cumulative_cases'], covid_brasil['Cumulative_deaths'],\n",
        "              labels=['Cumulative_cases', 'Cumulatives_deaths'])\n",
        "plt.legend(loc = 'upper left')  # Adiciona legenda no gráfico na posição especificada\n",
        "plt.title('Comparação da evolução dos casos e das mortes no Brasil');"
      ]
    },
    {
      "cell_type": "markdown",
      "metadata": {
        "id": "i8E-su9Veei8"
      },
      "source": [
        "### **Correlação Linear**"
      ]
    },
    {
      "cell_type": "code",
      "execution_count": 36,
      "metadata": {},
      "outputs": [
        {
          "data": {
            "text/html": [
              "<div>\n",
              "<style scoped>\n",
              "    .dataframe tbody tr th:only-of-type {\n",
              "        vertical-align: middle;\n",
              "    }\n",
              "\n",
              "    .dataframe tbody tr th {\n",
              "        vertical-align: top;\n",
              "    }\n",
              "\n",
              "    .dataframe thead th {\n",
              "        text-align: right;\n",
              "    }\n",
              "</style>\n",
              "<table border=\"1\" class=\"dataframe\">\n",
              "  <thead>\n",
              "    <tr style=\"text-align: right;\">\n",
              "      <th></th>\n",
              "      <th>Date_reported</th>\n",
              "      <th>Country_code</th>\n",
              "      <th>Country</th>\n",
              "      <th>WHO_region</th>\n",
              "      <th>New_cases</th>\n",
              "      <th>Cumulative_cases</th>\n",
              "      <th>New_deaths</th>\n",
              "      <th>Cumulative_deaths</th>\n",
              "    </tr>\n",
              "  </thead>\n",
              "  <tbody>\n",
              "    <tr>\n",
              "      <th>5376</th>\n",
              "      <td>2020-02-26</td>\n",
              "      <td>BR</td>\n",
              "      <td>Brazil</td>\n",
              "      <td>AMRO</td>\n",
              "      <td>0</td>\n",
              "      <td>0</td>\n",
              "      <td>0</td>\n",
              "      <td>0</td>\n",
              "    </tr>\n",
              "    <tr>\n",
              "      <th>5377</th>\n",
              "      <td>2020-02-27</td>\n",
              "      <td>BR</td>\n",
              "      <td>Brazil</td>\n",
              "      <td>AMRO</td>\n",
              "      <td>1</td>\n",
              "      <td>1</td>\n",
              "      <td>0</td>\n",
              "      <td>0</td>\n",
              "    </tr>\n",
              "    <tr>\n",
              "      <th>5378</th>\n",
              "      <td>2020-02-28</td>\n",
              "      <td>BR</td>\n",
              "      <td>Brazil</td>\n",
              "      <td>AMRO</td>\n",
              "      <td>0</td>\n",
              "      <td>1</td>\n",
              "      <td>0</td>\n",
              "      <td>0</td>\n",
              "    </tr>\n",
              "    <tr>\n",
              "      <th>5379</th>\n",
              "      <td>2020-02-29</td>\n",
              "      <td>BR</td>\n",
              "      <td>Brazil</td>\n",
              "      <td>AMRO</td>\n",
              "      <td>0</td>\n",
              "      <td>1</td>\n",
              "      <td>0</td>\n",
              "      <td>0</td>\n",
              "    </tr>\n",
              "    <tr>\n",
              "      <th>5380</th>\n",
              "      <td>2020-03-01</td>\n",
              "      <td>BR</td>\n",
              "      <td>Brazil</td>\n",
              "      <td>AMRO</td>\n",
              "      <td>0</td>\n",
              "      <td>1</td>\n",
              "      <td>0</td>\n",
              "      <td>0</td>\n",
              "    </tr>\n",
              "    <tr>\n",
              "      <th>...</th>\n",
              "      <td>...</td>\n",
              "      <td>...</td>\n",
              "      <td>...</td>\n",
              "      <td>...</td>\n",
              "      <td>...</td>\n",
              "      <td>...</td>\n",
              "      <td>...</td>\n",
              "      <td>...</td>\n",
              "    </tr>\n",
              "    <tr>\n",
              "      <th>5563</th>\n",
              "      <td>2020-08-31</td>\n",
              "      <td>BR</td>\n",
              "      <td>Brazil</td>\n",
              "      <td>AMRO</td>\n",
              "      <td>41350</td>\n",
              "      <td>3846153</td>\n",
              "      <td>958</td>\n",
              "      <td>120462</td>\n",
              "    </tr>\n",
              "    <tr>\n",
              "      <th>5564</th>\n",
              "      <td>2020-09-01</td>\n",
              "      <td>BR</td>\n",
              "      <td>Brazil</td>\n",
              "      <td>AMRO</td>\n",
              "      <td>16158</td>\n",
              "      <td>3862311</td>\n",
              "      <td>366</td>\n",
              "      <td>120828</td>\n",
              "    </tr>\n",
              "    <tr>\n",
              "      <th>5565</th>\n",
              "      <td>2020-09-02</td>\n",
              "      <td>BR</td>\n",
              "      <td>Brazil</td>\n",
              "      <td>AMRO</td>\n",
              "      <td>45961</td>\n",
              "      <td>3908272</td>\n",
              "      <td>553</td>\n",
              "      <td>121381</td>\n",
              "    </tr>\n",
              "    <tr>\n",
              "      <th>5566</th>\n",
              "      <td>2020-09-03</td>\n",
              "      <td>BR</td>\n",
              "      <td>Brazil</td>\n",
              "      <td>AMRO</td>\n",
              "      <td>42659</td>\n",
              "      <td>3950931</td>\n",
              "      <td>1215</td>\n",
              "      <td>122596</td>\n",
              "    </tr>\n",
              "    <tr>\n",
              "      <th>5567</th>\n",
              "      <td>2020-09-04</td>\n",
              "      <td>BR</td>\n",
              "      <td>Brazil</td>\n",
              "      <td>AMRO</td>\n",
              "      <td>46934</td>\n",
              "      <td>3997865</td>\n",
              "      <td>1184</td>\n",
              "      <td>123780</td>\n",
              "    </tr>\n",
              "  </tbody>\n",
              "</table>\n",
              "<p>192 rows × 8 columns</p>\n",
              "</div>"
            ],
            "text/plain": [
              "     Date_reported Country_code Country WHO_region  New_cases  \\\n",
              "5376    2020-02-26           BR  Brazil       AMRO          0   \n",
              "5377    2020-02-27           BR  Brazil       AMRO          1   \n",
              "5378    2020-02-28           BR  Brazil       AMRO          0   \n",
              "5379    2020-02-29           BR  Brazil       AMRO          0   \n",
              "5380    2020-03-01           BR  Brazil       AMRO          0   \n",
              "...            ...          ...     ...        ...        ...   \n",
              "5563    2020-08-31           BR  Brazil       AMRO      41350   \n",
              "5564    2020-09-01           BR  Brazil       AMRO      16158   \n",
              "5565    2020-09-02           BR  Brazil       AMRO      45961   \n",
              "5566    2020-09-03           BR  Brazil       AMRO      42659   \n",
              "5567    2020-09-04           BR  Brazil       AMRO      46934   \n",
              "\n",
              "      Cumulative_cases  New_deaths  Cumulative_deaths  \n",
              "5376                 0           0                  0  \n",
              "5377                 1           0                  0  \n",
              "5378                 1           0                  0  \n",
              "5379                 1           0                  0  \n",
              "5380                 1           0                  0  \n",
              "...                ...         ...                ...  \n",
              "5563           3846153         958             120462  \n",
              "5564           3862311         366             120828  \n",
              "5565           3908272         553             121381  \n",
              "5566           3950931        1215             122596  \n",
              "5567           3997865        1184             123780  \n",
              "\n",
              "[192 rows x 8 columns]"
            ]
          },
          "execution_count": 36,
          "metadata": {},
          "output_type": "execute_result"
        }
      ],
      "source": [
        "covid_brasil"
      ]
    },
    {
      "cell_type": "code",
      "execution_count": 37,
      "metadata": {
        "id": "D0R1iAouehn-"
      },
      "outputs": [
        {
          "data": {
            "text/html": [
              "<div>\n",
              "<style scoped>\n",
              "    .dataframe tbody tr th:only-of-type {\n",
              "        vertical-align: middle;\n",
              "    }\n",
              "\n",
              "    .dataframe tbody tr th {\n",
              "        vertical-align: top;\n",
              "    }\n",
              "\n",
              "    .dataframe thead th {\n",
              "        text-align: right;\n",
              "    }\n",
              "</style>\n",
              "<table border=\"1\" class=\"dataframe\">\n",
              "  <thead>\n",
              "    <tr style=\"text-align: right;\">\n",
              "      <th></th>\n",
              "      <th>New_cases</th>\n",
              "      <th>Cumulative_cases</th>\n",
              "      <th>New_deaths</th>\n",
              "      <th>Cumulative_deaths</th>\n",
              "    </tr>\n",
              "  </thead>\n",
              "  <tbody>\n",
              "    <tr>\n",
              "      <th>New_cases</th>\n",
              "      <td>1.000000</td>\n",
              "      <td>0.912069</td>\n",
              "      <td>0.916453</td>\n",
              "      <td>0.911384</td>\n",
              "    </tr>\n",
              "    <tr>\n",
              "      <th>Cumulative_cases</th>\n",
              "      <td>0.912069</td>\n",
              "      <td>1.000000</td>\n",
              "      <td>0.784992</td>\n",
              "      <td>0.999258</td>\n",
              "    </tr>\n",
              "    <tr>\n",
              "      <th>New_deaths</th>\n",
              "      <td>0.916453</td>\n",
              "      <td>0.784992</td>\n",
              "      <td>1.000000</td>\n",
              "      <td>0.785575</td>\n",
              "    </tr>\n",
              "    <tr>\n",
              "      <th>Cumulative_deaths</th>\n",
              "      <td>0.911384</td>\n",
              "      <td>0.999258</td>\n",
              "      <td>0.785575</td>\n",
              "      <td>1.000000</td>\n",
              "    </tr>\n",
              "  </tbody>\n",
              "</table>\n",
              "</div>"
            ],
            "text/plain": [
              "                   New_cases  Cumulative_cases  New_deaths  Cumulative_deaths\n",
              "New_cases           1.000000          0.912069    0.916453           0.911384\n",
              "Cumulative_cases    0.912069          1.000000    0.784992           0.999258\n",
              "New_deaths          0.916453          0.784992    1.000000           0.785575\n",
              "Cumulative_deaths   0.911384          0.999258    0.785575           1.000000"
            ]
          },
          "execution_count": 37,
          "metadata": {},
          "output_type": "execute_result"
        }
      ],
      "source": [
        "correlacoes = covid_brasil.corr(method='spearman', numeric_only=True)\n",
        "correlacoes"
      ]
    },
    {
      "cell_type": "code",
      "execution_count": 38,
      "metadata": {
        "id": "M125BXEKe0Wc"
      },
      "outputs": [
        {
          "data": {
            "image/png": "[encoded data removed]",
            "text/plain": [
              "<Figure size 640x480 with 2 Axes>"
            ]
          },
          "metadata": {},
          "output_type": "display_data"
        }
      ],
      "source": [
        "plt.figure()\n",
        "sns.heatmap(correlacoes, annot=True);"
      ]
    },
    {
      "cell_type": "markdown",
      "metadata": {
        "id": "538TkHWRfTyD"
      },
      "source": [
        "# **Machine Learning**"
      ]
    },
    {
      "cell_type": "markdown",
      "metadata": {
        "id": "79MJR1kDff8T"
      },
      "source": [
        "## **Regressão Linear Simples**"
      ]
    },
    {
      "cell_type": "code",
      "execution_count": 39,
      "metadata": {},
      "outputs": [
        {
          "data": {
            "text/html": [
              "<div>\n",
              "<style scoped>\n",
              "    .dataframe tbody tr th:only-of-type {\n",
              "        vertical-align: middle;\n",
              "    }\n",
              "\n",
              "    .dataframe tbody tr th {\n",
              "        vertical-align: top;\n",
              "    }\n",
              "\n",
              "    .dataframe thead th {\n",
              "        text-align: right;\n",
              "    }\n",
              "</style>\n",
              "<table border=\"1\" class=\"dataframe\">\n",
              "  <thead>\n",
              "    <tr style=\"text-align: right;\">\n",
              "      <th></th>\n",
              "      <th>Date_reported</th>\n",
              "      <th>Country_code</th>\n",
              "      <th>Country</th>\n",
              "      <th>WHO_region</th>\n",
              "      <th>New_cases</th>\n",
              "      <th>Cumulative_cases</th>\n",
              "      <th>New_deaths</th>\n",
              "      <th>Cumulative_deaths</th>\n",
              "    </tr>\n",
              "  </thead>\n",
              "  <tbody>\n",
              "    <tr>\n",
              "      <th>5376</th>\n",
              "      <td>2020-02-26</td>\n",
              "      <td>BR</td>\n",
              "      <td>Brazil</td>\n",
              "      <td>AMRO</td>\n",
              "      <td>0</td>\n",
              "      <td>0</td>\n",
              "      <td>0</td>\n",
              "      <td>0</td>\n",
              "    </tr>\n",
              "    <tr>\n",
              "      <th>5377</th>\n",
              "      <td>2020-02-27</td>\n",
              "      <td>BR</td>\n",
              "      <td>Brazil</td>\n",
              "      <td>AMRO</td>\n",
              "      <td>1</td>\n",
              "      <td>1</td>\n",
              "      <td>0</td>\n",
              "      <td>0</td>\n",
              "    </tr>\n",
              "    <tr>\n",
              "      <th>5378</th>\n",
              "      <td>2020-02-28</td>\n",
              "      <td>BR</td>\n",
              "      <td>Brazil</td>\n",
              "      <td>AMRO</td>\n",
              "      <td>0</td>\n",
              "      <td>1</td>\n",
              "      <td>0</td>\n",
              "      <td>0</td>\n",
              "    </tr>\n",
              "    <tr>\n",
              "      <th>5379</th>\n",
              "      <td>2020-02-29</td>\n",
              "      <td>BR</td>\n",
              "      <td>Brazil</td>\n",
              "      <td>AMRO</td>\n",
              "      <td>0</td>\n",
              "      <td>1</td>\n",
              "      <td>0</td>\n",
              "      <td>0</td>\n",
              "    </tr>\n",
              "    <tr>\n",
              "      <th>5380</th>\n",
              "      <td>2020-03-01</td>\n",
              "      <td>BR</td>\n",
              "      <td>Brazil</td>\n",
              "      <td>AMRO</td>\n",
              "      <td>0</td>\n",
              "      <td>1</td>\n",
              "      <td>0</td>\n",
              "      <td>0</td>\n",
              "    </tr>\n",
              "    <tr>\n",
              "      <th>...</th>\n",
              "      <td>...</td>\n",
              "      <td>...</td>\n",
              "      <td>...</td>\n",
              "      <td>...</td>\n",
              "      <td>...</td>\n",
              "      <td>...</td>\n",
              "      <td>...</td>\n",
              "      <td>...</td>\n",
              "    </tr>\n",
              "    <tr>\n",
              "      <th>5563</th>\n",
              "      <td>2020-08-31</td>\n",
              "      <td>BR</td>\n",
              "      <td>Brazil</td>\n",
              "      <td>AMRO</td>\n",
              "      <td>41350</td>\n",
              "      <td>3846153</td>\n",
              "      <td>958</td>\n",
              "      <td>120462</td>\n",
              "    </tr>\n",
              "    <tr>\n",
              "      <th>5564</th>\n",
              "      <td>2020-09-01</td>\n",
              "      <td>BR</td>\n",
              "      <td>Brazil</td>\n",
              "      <td>AMRO</td>\n",
              "      <td>16158</td>\n",
              "      <td>3862311</td>\n",
              "      <td>366</td>\n",
              "      <td>120828</td>\n",
              "    </tr>\n",
              "    <tr>\n",
              "      <th>5565</th>\n",
              "      <td>2020-09-02</td>\n",
              "      <td>BR</td>\n",
              "      <td>Brazil</td>\n",
              "      <td>AMRO</td>\n",
              "      <td>45961</td>\n",
              "      <td>3908272</td>\n",
              "      <td>553</td>\n",
              "      <td>121381</td>\n",
              "    </tr>\n",
              "    <tr>\n",
              "      <th>5566</th>\n",
              "      <td>2020-09-03</td>\n",
              "      <td>BR</td>\n",
              "      <td>Brazil</td>\n",
              "      <td>AMRO</td>\n",
              "      <td>42659</td>\n",
              "      <td>3950931</td>\n",
              "      <td>1215</td>\n",
              "      <td>122596</td>\n",
              "    </tr>\n",
              "    <tr>\n",
              "      <th>5567</th>\n",
              "      <td>2020-09-04</td>\n",
              "      <td>BR</td>\n",
              "      <td>Brazil</td>\n",
              "      <td>AMRO</td>\n",
              "      <td>46934</td>\n",
              "      <td>3997865</td>\n",
              "      <td>1184</td>\n",
              "      <td>123780</td>\n",
              "    </tr>\n",
              "  </tbody>\n",
              "</table>\n",
              "<p>192 rows × 8 columns</p>\n",
              "</div>"
            ],
            "text/plain": [
              "     Date_reported Country_code Country WHO_region  New_cases  \\\n",
              "5376    2020-02-26           BR  Brazil       AMRO          0   \n",
              "5377    2020-02-27           BR  Brazil       AMRO          1   \n",
              "5378    2020-02-28           BR  Brazil       AMRO          0   \n",
              "5379    2020-02-29           BR  Brazil       AMRO          0   \n",
              "5380    2020-03-01           BR  Brazil       AMRO          0   \n",
              "...            ...          ...     ...        ...        ...   \n",
              "5563    2020-08-31           BR  Brazil       AMRO      41350   \n",
              "5564    2020-09-01           BR  Brazil       AMRO      16158   \n",
              "5565    2020-09-02           BR  Brazil       AMRO      45961   \n",
              "5566    2020-09-03           BR  Brazil       AMRO      42659   \n",
              "5567    2020-09-04           BR  Brazil       AMRO      46934   \n",
              "\n",
              "      Cumulative_cases  New_deaths  Cumulative_deaths  \n",
              "5376                 0           0                  0  \n",
              "5377                 1           0                  0  \n",
              "5378                 1           0                  0  \n",
              "5379                 1           0                  0  \n",
              "5380                 1           0                  0  \n",
              "...                ...         ...                ...  \n",
              "5563           3846153         958             120462  \n",
              "5564           3862311         366             120828  \n",
              "5565           3908272         553             121381  \n",
              "5566           3950931        1215             122596  \n",
              "5567           3997865        1184             123780  \n",
              "\n",
              "[192 rows x 8 columns]"
            ]
          },
          "execution_count": 39,
          "metadata": {},
          "output_type": "execute_result"
        }
      ],
      "source": [
        "covid_brasil"
      ]
    },
    {
      "cell_type": "code",
      "execution_count": 40,
      "metadata": {},
      "outputs": [
        {
          "data": {
            "image/png": "[encoded data removed]",
            "text/plain": [
              "<Figure size 640x480 with 1 Axes>"
            ]
          },
          "metadata": {},
          "output_type": "display_data"
        }
      ],
      "source": [
        "plt.scatter(covid_brasil.New_cases, covid_brasil.New_deaths)\n",
        "plt.title('Número de mortes em função do número de casos')\n",
        "plt.xlabel('Novos Casos')\n",
        "plt.ylabel('Novas Mortes')\n",
        "plt.grid(False)"
      ]
    },
    {
      "cell_type": "code",
      "execution_count": 41,
      "metadata": {
        "id": "lHD5BfjkuCtj"
      },
      "outputs": [],
      "source": [
        "# variavel_x_y = nome_tabela.iloc[:, indice_coluna].values\n",
        "\n",
        "x = covid_brasil.iloc[:, 4].values  # Novos casos  (índice 4)\n",
        "y = covid_brasil.iloc[:, 6].values  # Novas mortes (índice 6)"
      ]
    },
    {
      "cell_type": "code",
      "execution_count": 42,
      "metadata": {
        "id": "nix9X2F4ubxa"
      },
      "outputs": [
        {
          "data": {
            "text/plain": [
              "array([    0,     1,     0,     0,     0,     1,     0,     0,     0,\n",
              "           1,     5,     5,     6,     6,     0,     9,    26,    17,\n",
              "           7,    37,    79,    34,    57,   137,     0,   476,     0,\n",
              "         642,   345,   310,   232,   482,   502,   486,   353,   323,\n",
              "        1138,  1119,  1074,  1146,  1222,   852,   926,  1661,  2210,\n",
              "        1930,  1781,  1089,  1442,  1261,  1832,  3058,  2105,  3257,\n",
              "        2917,  2055,  1927,  2498,  2678,  3735,  3503,  5514,  3379,\n",
              "        4613,  5385,  6276,  7218,  6209,  4970,  4588,  6633,  6935,\n",
              "       10503,  9888, 10222, 10611,  6760,  5632,  9258, 11385, 13944,\n",
              "       15305, 14919,  7938, 13140, 17408, 19951, 18508, 20803, 16508,\n",
              "       15813, 11687, 16324, 20599, 26417, 26928, 33274, 16409, 11598,\n",
              "       28936, 28633, 30925, 30830, 27075, 18912, 15654, 32091, 32913,\n",
              "       30412, 25982, 21704, 17110, 20647, 34918, 32188, 22765, 54771,\n",
              "       34666, 17459, 21432, 39436, 42725, 39483, 46860, 38693, 30476,\n",
              "       24052, 33846, 46712, 48105, 42223, 37923, 26051, 20229, 45305,\n",
              "       44571, 42619, 45048, 39023, 24831, 20286, 41857, 39924, 45403,\n",
              "       34177, 28532, 23529, 20257, 41008, 67860, 59961, 55891, 51147,\n",
              "       24578, 23284, 40816, 69074, 57837, 52383, 45392, 25800, 16641,\n",
              "       51603, 57152, 53139, 50230, 49970, 23010, 22048, 52160, 55155,\n",
              "       60091, 50644, 41576, 23101, 19373, 47784, 49298, 45323, 30355,\n",
              "       50032, 23421, 17078, 47134, 47161, 44235, 43412, 41350, 16158,\n",
              "       45961, 42659, 46934], dtype=int64)"
            ]
          },
          "execution_count": 42,
          "metadata": {},
          "output_type": "execute_result"
        }
      ],
      "source": [
        "x"
      ]
    },
    {
      "cell_type": "code",
      "execution_count": 43,
      "metadata": {
        "id": "412fjXcgucPD"
      },
      "outputs": [
        {
          "data": {
            "text/plain": [
              "array([   0,    0,    0,    0,    0,    0,    0,    0,    0,    0,    0,\n",
              "          0,    0,    0,    0,    0,    0,    0,    0,    0,    0,    0,\n",
              "          1,    3,    0,    7,    0,   14,    9,   12,   11,   20,   15,\n",
              "         22,   22,   23,   42,   40,   58,   60,   73,   54,   67,  114,\n",
              "        133,  141,  115,   68,   99,  105,  204,  204,  188,  217,  206,\n",
              "        115,  113,  166,  165,  407,  357,  346,  189,  338,  474,  449,\n",
              "        435,  428,  421,  275,  296,  600,  615,  610,  751,  730,  496,\n",
              "        396,  881,  749,  844,  824,  816,  485,  674, 1179,  888, 1188,\n",
              "       1001,  965,  653,  807, 1039, 1086, 1156, 1124,  956,  480,  623,\n",
              "       1262, 1349, 1473, 1005,  904,  525,  679, 1272, 1274, 1239,  909,\n",
              "        892,  612,  627, 1282, 1269, 1238, 1206, 1022,  641,  654, 1374,\n",
              "       1185, 1141,  990, 1109,  552,  692, 1280, 1038, 1252, 1290, 1091,\n",
              "        602,  620, 1254, 1223, 1220, 1214, 1071,  631,  733, 1300, 1233,\n",
              "       1322, 1163,  921,  716,  632, 1367, 1284, 1311, 1156, 1211,  555,\n",
              "        614,  921, 1595, 1129, 1212, 1088,  541,  561, 1154, 1437, 1237,\n",
              "       1079,  905,  572,  703, 1274, 1175, 1262, 1060,  709,  620,  684,\n",
              "       1352, 1212, 1204, 1054,  892,  494,  565, 1271, 1085,  984,  855,\n",
              "        958,  366,  553, 1215, 1184], dtype=int64)"
            ]
          },
          "execution_count": 43,
          "metadata": {},
          "output_type": "execute_result"
        }
      ],
      "source": [
        "y"
      ]
    },
    {
      "cell_type": "code",
      "execution_count": 44,
      "metadata": {
        "id": "OL3pGgI2uhUI"
      },
      "outputs": [
        {
          "data": {
            "text/plain": [
              "array([[    0],\n",
              "       [    1],\n",
              "       [    0],\n",
              "       [    0],\n",
              "       [    0],\n",
              "       [    1],\n",
              "       [    0],\n",
              "       [    0],\n",
              "       [    0],\n",
              "       [    1],\n",
              "       [    5],\n",
              "       [    5],\n",
              "       [    6],\n",
              "       [    6],\n",
              "       [    0],\n",
              "       [    9],\n",
              "       [   26],\n",
              "       [   17],\n",
              "       [    7],\n",
              "       [   37],\n",
              "       [   79],\n",
              "       [   34],\n",
              "       [   57],\n",
              "       [  137],\n",
              "       [    0],\n",
              "       [  476],\n",
              "       [    0],\n",
              "       [  642],\n",
              "       [  345],\n",
              "       [  310],\n",
              "       [  232],\n",
              "       [  482],\n",
              "       [  502],\n",
              "       [  486],\n",
              "       [  353],\n",
              "       [  323],\n",
              "       [ 1138],\n",
              "       [ 1119],\n",
              "       [ 1074],\n",
              "       [ 1146],\n",
              "       [ 1222],\n",
              "       [  852],\n",
              "       [  926],\n",
              "       [ 1661],\n",
              "       [ 2210],\n",
              "       [ 1930],\n",
              "       [ 1781],\n",
              "       [ 1089],\n",
              "       [ 1442],\n",
              "       [ 1261],\n",
              "       [ 1832],\n",
              "       [ 3058],\n",
              "       [ 2105],\n",
              "       [ 3257],\n",
              "       [ 2917],\n",
              "       [ 2055],\n",
              "       [ 1927],\n",
              "       [ 2498],\n",
              "       [ 2678],\n",
              "       [ 3735],\n",
              "       [ 3503],\n",
              "       [ 5514],\n",
              "       [ 3379],\n",
              "       [ 4613],\n",
              "       [ 5385],\n",
              "       [ 6276],\n",
              "       [ 7218],\n",
              "       [ 6209],\n",
              "       [ 4970],\n",
              "       [ 4588],\n",
              "       [ 6633],\n",
              "       [ 6935],\n",
              "       [10503],\n",
              "       [ 9888],\n",
              "       [10222],\n",
              "       [10611],\n",
              "       [ 6760],\n",
              "       [ 5632],\n",
              "       [ 9258],\n",
              "       [11385],\n",
              "       [13944],\n",
              "       [15305],\n",
              "       [14919],\n",
              "       [ 7938],\n",
              "       [13140],\n",
              "       [17408],\n",
              "       [19951],\n",
              "       [18508],\n",
              "       [20803],\n",
              "       [16508],\n",
              "       [15813],\n",
              "       [11687],\n",
              "       [16324],\n",
              "       [20599],\n",
              "       [26417],\n",
              "       [26928],\n",
              "       [33274],\n",
              "       [16409],\n",
              "       [11598],\n",
              "       [28936],\n",
              "       [28633],\n",
              "       [30925],\n",
              "       [30830],\n",
              "       [27075],\n",
              "       [18912],\n",
              "       [15654],\n",
              "       [32091],\n",
              "       [32913],\n",
              "       [30412],\n",
              "       [25982],\n",
              "       [21704],\n",
              "       [17110],\n",
              "       [20647],\n",
              "       [34918],\n",
              "       [32188],\n",
              "       [22765],\n",
              "       [54771],\n",
              "       [34666],\n",
              "       [17459],\n",
              "       [21432],\n",
              "       [39436],\n",
              "       [42725],\n",
              "       [39483],\n",
              "       [46860],\n",
              "       [38693],\n",
              "       [30476],\n",
              "       [24052],\n",
              "       [33846],\n",
              "       [46712],\n",
              "       [48105],\n",
              "       [42223],\n",
              "       [37923],\n",
              "       [26051],\n",
              "       [20229],\n",
              "       [45305],\n",
              "       [44571],\n",
              "       [42619],\n",
              "       [45048],\n",
              "       [39023],\n",
              "       [24831],\n",
              "       [20286],\n",
              "       [41857],\n",
              "       [39924],\n",
              "       [45403],\n",
              "       [34177],\n",
              "       [28532],\n",
              "       [23529],\n",
              "       [20257],\n",
              "       [41008],\n",
              "       [67860],\n",
              "       [59961],\n",
              "       [55891],\n",
              "       [51147],\n",
              "       [24578],\n",
              "       [23284],\n",
              "       [40816],\n",
              "       [69074],\n",
              "       [57837],\n",
              "       [52383],\n",
              "       [45392],\n",
              "       [25800],\n",
              "       [16641],\n",
              "       [51603],\n",
              "       [57152],\n",
              "       [53139],\n",
              "       [50230],\n",
              "       [49970],\n",
              "       [23010],\n",
              "       [22048],\n",
              "       [52160],\n",
              "       [55155],\n",
              "       [60091],\n",
              "       [50644],\n",
              "       [41576],\n",
              "       [23101],\n",
              "       [19373],\n",
              "       [47784],\n",
              "       [49298],\n",
              "       [45323],\n",
              "       [30355],\n",
              "       [50032],\n",
              "       [23421],\n",
              "       [17078],\n",
              "       [47134],\n",
              "       [47161],\n",
              "       [44235],\n",
              "       [43412],\n",
              "       [41350],\n",
              "       [16158],\n",
              "       [45961],\n",
              "       [42659],\n",
              "       [46934]], dtype=int64)"
            ]
          },
          "execution_count": 44,
          "metadata": {},
          "output_type": "execute_result"
        }
      ],
      "source": [
        "# Transoformar em matriz:\n",
        "x = x.reshape(-1, 1)\n",
        "x"
      ]
    },
    {
      "cell_type": "markdown",
      "metadata": {
        "id": "4VNbh2lZu220"
      },
      "source": [
        "### **Separando base de dados em teste e treinamento**"
      ]
    },
    {
      "cell_type": "code",
      "execution_count": 45,
      "metadata": {
        "id": "IpUg8-2Vuz34"
      },
      "outputs": [],
      "source": [
        "from sklearn.model_selection import train_test_split\n",
        "\n",
        "# x_treinamento, x_teste, y_treinamento, y_teste = train_test_split(variavel_x, variavel_y, \n",
        "#                                                                  test_size = tamanho_teste,\n",
        "#                                                                  random_state = semente_aleatória)\n",
        "\n",
        "# Sem o random_state, o resultado não se repetirá\n",
        "\n",
        "x_train, x_test, y_train, y_test = train_test_split(x, y, \n",
        "                                                    test_size = 0.25,  # 25% para teste e 75% para treinamento\n",
        "                                                    random_state = 42)"
      ]
    },
    {
      "cell_type": "code",
      "execution_count": 46,
      "metadata": {
        "id": "x1EC6SVrvTQo"
      },
      "outputs": [
        {
          "data": {
            "text/plain": [
              "array([[10611],\n",
              "       [24052],\n",
              "       [  310],\n",
              "       [69074],\n",
              "       [ 1927],\n",
              "       [ 3058],\n",
              "       [57152],\n",
              "       [ 1074],\n",
              "       [  482],\n",
              "       [40816],\n",
              "       [    6],\n",
              "       [  852],\n",
              "       [45392],\n",
              "       [45961],\n",
              "       [47161],\n",
              "       [16409],\n",
              "       [    0],\n",
              "       [46860],\n",
              "       [17408],\n",
              "       [26928],\n",
              "       [    0],\n",
              "       [ 1781],\n",
              "       [28633],\n",
              "       [20599],\n",
              "       [46712],\n",
              "       [ 1138],\n",
              "       [50032],\n",
              "       [   57],\n",
              "       [47134],\n",
              "       [34666],\n",
              "       [33846],\n",
              "       [    5],\n",
              "       [21432],\n",
              "       [51147],\n",
              "       [    0],\n",
              "       [  642],\n",
              "       [18912],\n",
              "       [    0],\n",
              "       [  502],\n",
              "       [38693],\n",
              "       [39023],\n",
              "       [39483],\n",
              "       [45048],\n",
              "       [    5],\n",
              "       [ 3379],\n",
              "       [33274],\n",
              "       [24831],\n",
              "       [    0],\n",
              "       [50644],\n",
              "       [23529],\n",
              "       [ 6633],\n",
              "       [41350],\n",
              "       [ 5385],\n",
              "       [ 2210],\n",
              "       [39436],\n",
              "       [  345],\n",
              "       [ 1222],\n",
              "       [41008],\n",
              "       [19373],\n",
              "       [  476],\n",
              "       [  137],\n",
              "       [34177],\n",
              "       [20286],\n",
              "       [15305],\n",
              "       [30412],\n",
              "       [11385],\n",
              "       [13140],\n",
              "       [ 1146],\n",
              "       [30476],\n",
              "       [19951],\n",
              "       [ 5632],\n",
              "       [43412],\n",
              "       [16641],\n",
              "       [ 1089],\n",
              "       [26417],\n",
              "       [20257],\n",
              "       [42659],\n",
              "       [ 5514],\n",
              "       [ 9888],\n",
              "       [  486],\n",
              "       [ 1661],\n",
              "       [26051],\n",
              "       [    0],\n",
              "       [15654],\n",
              "       [ 3257],\n",
              "       [41576],\n",
              "       [59961],\n",
              "       [45323],\n",
              "       [ 1261],\n",
              "       [13944],\n",
              "       [  353],\n",
              "       [    0],\n",
              "       [21704],\n",
              "       [11687],\n",
              "       [ 7938],\n",
              "       [52160],\n",
              "       [23101],\n",
              "       [16508],\n",
              "       [    0],\n",
              "       [    6],\n",
              "       [ 3735],\n",
              "       [53139],\n",
              "       [37923],\n",
              "       [   17],\n",
              "       [10503],\n",
              "       [22048],\n",
              "       [45305],\n",
              "       [23010],\n",
              "       [47784],\n",
              "       [ 4613],\n",
              "       [ 2917],\n",
              "       [32913],\n",
              "       [ 1832],\n",
              "       [16158],\n",
              "       [ 2678],\n",
              "       [ 1442],\n",
              "       [20803],\n",
              "       [   34],\n",
              "       [ 2498],\n",
              "       [25800],\n",
              "       [44235],\n",
              "       [48105],\n",
              "       [ 1119],\n",
              "       [57837],\n",
              "       [23421],\n",
              "       [    1],\n",
              "       [ 2105],\n",
              "       [67860],\n",
              "       [42223],\n",
              "       [55891],\n",
              "       [27075],\n",
              "       [28936],\n",
              "       [54771],\n",
              "       [18508],\n",
              "       [10222],\n",
              "       [42725],\n",
              "       [46934],\n",
              "       [   79],\n",
              "       [ 6935],\n",
              "       [32091],\n",
              "       [    0],\n",
              "       [16324],\n",
              "       [30355],\n",
              "       [30830]], dtype=int64)"
            ]
          },
          "execution_count": 46,
          "metadata": {},
          "output_type": "execute_result"
        }
      ],
      "source": [
        "x_train"
      ]
    },
    {
      "cell_type": "code",
      "execution_count": 47,
      "metadata": {
        "id": "abEyf9IYwlyk"
      },
      "outputs": [
        {
          "data": {
            "text/plain": [
              "144"
            ]
          },
          "execution_count": 47,
          "metadata": {},
          "output_type": "execute_result"
        }
      ],
      "source": [
        "x_train.size"
      ]
    },
    {
      "cell_type": "code",
      "execution_count": 48,
      "metadata": {
        "id": "gJr7GoufvUzy"
      },
      "outputs": [
        {
          "data": {
            "text/plain": [
              "array([[ 1930],\n",
              "       [42619],\n",
              "       [ 6760],\n",
              "       [45403],\n",
              "       [34918],\n",
              "       [49298],\n",
              "       [    9],\n",
              "       [    7],\n",
              "       [   26],\n",
              "       [    1],\n",
              "       [ 9258],\n",
              "       [20647],\n",
              "       [ 7218],\n",
              "       [ 6276],\n",
              "       [24578],\n",
              "       [  232],\n",
              "       [28532],\n",
              "       [ 4588],\n",
              "       [17110],\n",
              "       [ 4970],\n",
              "       [60091],\n",
              "       [23284],\n",
              "       [17459],\n",
              "       [11598],\n",
              "       [ 6209],\n",
              "       [22765],\n",
              "       [    0],\n",
              "       [52383],\n",
              "       [ 3503],\n",
              "       [41857],\n",
              "       [32188],\n",
              "       [49970],\n",
              "       [   37],\n",
              "       [15813],\n",
              "       [55155],\n",
              "       [    1],\n",
              "       [20229],\n",
              "       [39924],\n",
              "       [50230],\n",
              "       [14919],\n",
              "       [25982],\n",
              "       [51603],\n",
              "       [  323],\n",
              "       [44571],\n",
              "       [  926],\n",
              "       [17078],\n",
              "       [30925],\n",
              "       [ 2055]], dtype=int64)"
            ]
          },
          "execution_count": 48,
          "metadata": {},
          "output_type": "execute_result"
        }
      ],
      "source": [
        "x_test"
      ]
    },
    {
      "cell_type": "code",
      "execution_count": 49,
      "metadata": {
        "id": "nDZS99nxwrlE"
      },
      "outputs": [
        {
          "data": {
            "text/plain": [
              "48"
            ]
          },
          "execution_count": 49,
          "metadata": {},
          "output_type": "execute_result"
        }
      ],
      "source": [
        "x_test.size"
      ]
    },
    {
      "cell_type": "code",
      "execution_count": 50,
      "metadata": {
        "id": "IkJrwfkIvWCe"
      },
      "outputs": [
        {
          "data": {
            "text/plain": [
              "array([ 730,  692,   12, 1595,  113,  204, 1437,   58,   20,  921,    0,\n",
              "         54, 1088,  553, 1085,  480,    0,  990, 1179, 1124,    0,  115,\n",
              "       1349, 1086, 1038,   42,  892,    1, 1271, 1022, 1280,    0,  654,\n",
              "       1211,    0,   14,  525,    0,   15, 1109, 1071, 1141, 1214,    0,\n",
              "        189,  956,  631,    0, 1060,  716,  296,  958,  474,  133, 1374,\n",
              "          9,   73, 1367,  684,    7,    3, 1163,  733,  824, 1239,  749,\n",
              "        674,   60,  552,  888,  396,  855,  561,   68, 1156,  632, 1215,\n",
              "        346,  610,   22,  114,  602,    0,  679,  217,  709, 1311, 1204,\n",
              "        105,  844,   22,    0,  892,  807,  485, 1274,  620,  965,    0,\n",
              "          0,  407, 1237, 1091,    0,  615,  703, 1254,  572, 1352,  338,\n",
              "        206, 1274,  204,  366,  165,   99, 1001,    0,  166,  541,  984,\n",
              "       1252,   40, 1129,  494,    0,  188, 1284, 1290, 1156,  904, 1262,\n",
              "       1206, 1188,  751, 1185, 1184,    0,  600, 1272,    0, 1039, 1054,\n",
              "       1005], dtype=int64)"
            ]
          },
          "execution_count": 50,
          "metadata": {},
          "output_type": "execute_result"
        }
      ],
      "source": [
        "y_train"
      ]
    },
    {
      "cell_type": "code",
      "execution_count": 51,
      "metadata": {
        "id": "9jiecchJwpZk"
      },
      "outputs": [
        {
          "data": {
            "text/plain": [
              "144"
            ]
          },
          "execution_count": 51,
          "metadata": {},
          "output_type": "execute_result"
        }
      ],
      "source": [
        "y_train.size"
      ]
    },
    {
      "cell_type": "code",
      "execution_count": 52,
      "metadata": {
        "id": "1F6Rnj-IvWye"
      },
      "outputs": [
        {
          "data": {
            "text/plain": [
              "array([ 141, 1220,  496, 1322, 1282, 1212,    0,    0,    0,    0,  881,\n",
              "        627,  435,  449,  555,   11,  921,  275,  612,  421, 1262,  614,\n",
              "        641,  623,  428, 1238,    0, 1212,  357, 1300, 1269,  905,    0,\n",
              "        653, 1175,    0,  620, 1233, 1079,  816,  909, 1154,   23, 1223,\n",
              "         67,  565, 1473,  115], dtype=int64)"
            ]
          },
          "execution_count": 52,
          "metadata": {},
          "output_type": "execute_result"
        }
      ],
      "source": [
        "y_test"
      ]
    },
    {
      "cell_type": "code",
      "execution_count": 53,
      "metadata": {
        "id": "aR3ylxiswjEG"
      },
      "outputs": [
        {
          "data": {
            "text/plain": [
              "48"
            ]
          },
          "execution_count": 53,
          "metadata": {},
          "output_type": "execute_result"
        }
      ],
      "source": [
        "y_test.size"
      ]
    },
    {
      "cell_type": "markdown",
      "metadata": {
        "id": "ykRgWvxAwy_z"
      },
      "source": [
        "### **Criação do modelo de regressão linear**"
      ]
    },
    {
      "cell_type": "code",
      "execution_count": 54,
      "metadata": {
        "id": "sRnt02XGw2gy"
      },
      "outputs": [],
      "source": [
        "from sklearn.linear_model import LinearRegression\n",
        "\n",
        "regressor = LinearRegression()\n",
        "regressor.fit(x_train, y_train)\n",
        "score = regressor.score(x_train, y_train)\n",
        "\n",
        "# Score --> Coeficiente de determinação"
      ]
    },
    {
      "cell_type": "code",
      "execution_count": 55,
      "metadata": {
        "id": "4pT5pak3w2m8"
      },
      "outputs": [
        {
          "data": {
            "image/png": "[encoded data removed]",
            "text/plain": [
              "<Figure size 640x480 with 1 Axes>"
            ]
          },
          "metadata": {},
          "output_type": "display_data"
        }
      ],
      "source": [
        "# Gráfico com dados de treinamento:\n",
        "\n",
        "plt.scatter(x_train, y_train)\n",
        "plt.plot(x_train, regressor.predict(x_train), color='red');"
      ]
    },
    {
      "cell_type": "code",
      "execution_count": 56,
      "metadata": {
        "id": "SN335kUTx1xy"
      },
      "outputs": [
        {
          "data": {
            "text/plain": [
              "0.7866150884506931"
            ]
          },
          "execution_count": 56,
          "metadata": {},
          "output_type": "execute_result"
        }
      ],
      "source": [
        "score"
      ]
    },
    {
      "cell_type": "code",
      "execution_count": 57,
      "metadata": {
        "id": "EegmGEDmyFU5"
      },
      "outputs": [],
      "source": [
        "previsoes = regressor.predict(x_test)"
      ]
    },
    {
      "cell_type": "code",
      "execution_count": 58,
      "metadata": {
        "id": "-Evg8wIAyI_A"
      },
      "outputs": [
        {
          "data": {
            "image/png": "[encoded data removed]",
            "text/plain": [
              "<Figure size 640x480 with 1 Axes>"
            ]
          },
          "metadata": {},
          "output_type": "display_data"
        }
      ],
      "source": [
        "# Gráfico com os dados de teste:\n",
        "\n",
        "plt.scatter(x_test, y_test)\n",
        "plt.plot(x_test, regressor.predict(x_test), color='red');"
      ]
    },
    {
      "cell_type": "code",
      "execution_count": 59,
      "metadata": {
        "id": "PSI7ZHvGyXuw"
      },
      "outputs": [
        {
          "data": {
            "text/plain": [
              "array([1961.27882714])"
            ]
          },
          "execution_count": 59,
          "metadata": {},
          "output_type": "execute_result"
        }
      ],
      "source": [
        "previsao = regressor.predict(np.array(80000).reshape(-1,1))\n",
        "previsao\n",
        "\n",
        "# Tendo 80000 casos, a previsão é ter 1756 mortes."
      ]
    },
    {
      "cell_type": "code",
      "execution_count": 60,
      "metadata": {
        "id": "iVKW_IrWytQ3"
      },
      "outputs": [
        {
          "data": {
            "text/plain": [
              "172.4340104568322"
            ]
          },
          "execution_count": 60,
          "metadata": {},
          "output_type": "execute_result"
        }
      ],
      "source": [
        "# Coeficiente linear:\n",
        "\n",
        "regressor.intercept_"
      ]
    },
    {
      "cell_type": "code",
      "execution_count": 61,
      "metadata": {
        "id": "TY0fOn5CyzFP"
      },
      "outputs": [
        {
          "data": {
            "text/plain": [
              "array([0.02236056])"
            ]
          },
          "execution_count": 61,
          "metadata": {},
          "output_type": "execute_result"
        }
      ],
      "source": [
        "# Coeficiente angular:\n",
        "\n",
        "regressor.coef_"
      ]
    },
    {
      "cell_type": "markdown",
      "metadata": {
        "id": "HhlngGpNy3v5"
      },
      "source": [
        "#### **Equação:**\n",
        "\n",
        "mortes = 0.022 * casos + 172.434"
      ]
    },
    {
      "cell_type": "markdown",
      "metadata": {
        "id": "M7d-ocFbzGxD"
      },
      "source": [
        "#### **Métricas de Desempenho**"
      ]
    },
    {
      "cell_type": "code",
      "execution_count": 62,
      "metadata": {
        "id": "SPLunh_QzFa-"
      },
      "outputs": [
        {
          "data": {
            "text/plain": [
              "0.7897657846590623"
            ]
          },
          "execution_count": 62,
          "metadata": {},
          "output_type": "execute_result"
        }
      ],
      "source": [
        "# Coeficiente de Determinação (R^2):\n",
        "\n",
        "regressor.score(x_test, y_test)"
      ]
    },
    {
      "cell_type": "code",
      "execution_count": 63,
      "metadata": {
        "id": "V8EHQJ6czeLG"
      },
      "outputs": [
        {
          "name": "stdout",
          "output_type": "stream",
          "text": [
            "Erro Médio Absoluto (MAE): 174.43190679815734\n",
            "Erro Quadrático Médio (MSE): 47194.550102446054\n",
            "Raiz do Erro Quadrático Médio (RMSE): 217.24306686853336\n"
          ]
        }
      ],
      "source": [
        "from sklearn.metrics import mean_absolute_error, mean_squared_error\n",
        "\n",
        "print(f'Erro Médio Absoluto (MAE): {mean_absolute_error(y_test, previsoes)}')\n",
        "print(f'Erro Quadrático Médio (MSE): {mean_squared_error(y_test, previsoes)}')\n",
        "print(f'Raiz do Erro Quadrático Médio (RMSE): {np.sqrt(mean_squared_error(y_test, previsoes))}')\n",
        "\n",
        "# Quanto menores os resultados, melhor o algoritmo"
      ]
    },
    {
      "cell_type": "markdown",
      "metadata": {
        "id": "zfDfKQsd0Hbc"
      },
      "source": [
        "### **Regressão Polinomial**"
      ]
    },
    {
      "cell_type": "code",
      "execution_count": 64,
      "metadata": {},
      "outputs": [
        {
          "data": {
            "text/html": [
              "<div>\n",
              "<style scoped>\n",
              "    .dataframe tbody tr th:only-of-type {\n",
              "        vertical-align: middle;\n",
              "    }\n",
              "\n",
              "    .dataframe tbody tr th {\n",
              "        vertical-align: top;\n",
              "    }\n",
              "\n",
              "    .dataframe thead th {\n",
              "        text-align: right;\n",
              "    }\n",
              "</style>\n",
              "<table border=\"1\" class=\"dataframe\">\n",
              "  <thead>\n",
              "    <tr style=\"text-align: right;\">\n",
              "      <th></th>\n",
              "      <th>Date_reported</th>\n",
              "      <th>Country_code</th>\n",
              "      <th>Country</th>\n",
              "      <th>WHO_region</th>\n",
              "      <th>New_cases</th>\n",
              "      <th>Cumulative_cases</th>\n",
              "      <th>New_deaths</th>\n",
              "      <th>Cumulative_deaths</th>\n",
              "    </tr>\n",
              "  </thead>\n",
              "  <tbody>\n",
              "    <tr>\n",
              "      <th>5376</th>\n",
              "      <td>2020-02-26</td>\n",
              "      <td>BR</td>\n",
              "      <td>Brazil</td>\n",
              "      <td>AMRO</td>\n",
              "      <td>0</td>\n",
              "      <td>0</td>\n",
              "      <td>0</td>\n",
              "      <td>0</td>\n",
              "    </tr>\n",
              "    <tr>\n",
              "      <th>5377</th>\n",
              "      <td>2020-02-27</td>\n",
              "      <td>BR</td>\n",
              "      <td>Brazil</td>\n",
              "      <td>AMRO</td>\n",
              "      <td>1</td>\n",
              "      <td>1</td>\n",
              "      <td>0</td>\n",
              "      <td>0</td>\n",
              "    </tr>\n",
              "    <tr>\n",
              "      <th>5378</th>\n",
              "      <td>2020-02-28</td>\n",
              "      <td>BR</td>\n",
              "      <td>Brazil</td>\n",
              "      <td>AMRO</td>\n",
              "      <td>0</td>\n",
              "      <td>1</td>\n",
              "      <td>0</td>\n",
              "      <td>0</td>\n",
              "    </tr>\n",
              "    <tr>\n",
              "      <th>5379</th>\n",
              "      <td>2020-02-29</td>\n",
              "      <td>BR</td>\n",
              "      <td>Brazil</td>\n",
              "      <td>AMRO</td>\n",
              "      <td>0</td>\n",
              "      <td>1</td>\n",
              "      <td>0</td>\n",
              "      <td>0</td>\n",
              "    </tr>\n",
              "    <tr>\n",
              "      <th>5380</th>\n",
              "      <td>2020-03-01</td>\n",
              "      <td>BR</td>\n",
              "      <td>Brazil</td>\n",
              "      <td>AMRO</td>\n",
              "      <td>0</td>\n",
              "      <td>1</td>\n",
              "      <td>0</td>\n",
              "      <td>0</td>\n",
              "    </tr>\n",
              "    <tr>\n",
              "      <th>...</th>\n",
              "      <td>...</td>\n",
              "      <td>...</td>\n",
              "      <td>...</td>\n",
              "      <td>...</td>\n",
              "      <td>...</td>\n",
              "      <td>...</td>\n",
              "      <td>...</td>\n",
              "      <td>...</td>\n",
              "    </tr>\n",
              "    <tr>\n",
              "      <th>5563</th>\n",
              "      <td>2020-08-31</td>\n",
              "      <td>BR</td>\n",
              "      <td>Brazil</td>\n",
              "      <td>AMRO</td>\n",
              "      <td>41350</td>\n",
              "      <td>3846153</td>\n",
              "      <td>958</td>\n",
              "      <td>120462</td>\n",
              "    </tr>\n",
              "    <tr>\n",
              "      <th>5564</th>\n",
              "      <td>2020-09-01</td>\n",
              "      <td>BR</td>\n",
              "      <td>Brazil</td>\n",
              "      <td>AMRO</td>\n",
              "      <td>16158</td>\n",
              "      <td>3862311</td>\n",
              "      <td>366</td>\n",
              "      <td>120828</td>\n",
              "    </tr>\n",
              "    <tr>\n",
              "      <th>5565</th>\n",
              "      <td>2020-09-02</td>\n",
              "      <td>BR</td>\n",
              "      <td>Brazil</td>\n",
              "      <td>AMRO</td>\n",
              "      <td>45961</td>\n",
              "      <td>3908272</td>\n",
              "      <td>553</td>\n",
              "      <td>121381</td>\n",
              "    </tr>\n",
              "    <tr>\n",
              "      <th>5566</th>\n",
              "      <td>2020-09-03</td>\n",
              "      <td>BR</td>\n",
              "      <td>Brazil</td>\n",
              "      <td>AMRO</td>\n",
              "      <td>42659</td>\n",
              "      <td>3950931</td>\n",
              "      <td>1215</td>\n",
              "      <td>122596</td>\n",
              "    </tr>\n",
              "    <tr>\n",
              "      <th>5567</th>\n",
              "      <td>2020-09-04</td>\n",
              "      <td>BR</td>\n",
              "      <td>Brazil</td>\n",
              "      <td>AMRO</td>\n",
              "      <td>46934</td>\n",
              "      <td>3997865</td>\n",
              "      <td>1184</td>\n",
              "      <td>123780</td>\n",
              "    </tr>\n",
              "  </tbody>\n",
              "</table>\n",
              "<p>192 rows × 8 columns</p>\n",
              "</div>"
            ],
            "text/plain": [
              "     Date_reported Country_code Country WHO_region  New_cases  \\\n",
              "5376    2020-02-26           BR  Brazil       AMRO          0   \n",
              "5377    2020-02-27           BR  Brazil       AMRO          1   \n",
              "5378    2020-02-28           BR  Brazil       AMRO          0   \n",
              "5379    2020-02-29           BR  Brazil       AMRO          0   \n",
              "5380    2020-03-01           BR  Brazil       AMRO          0   \n",
              "...            ...          ...     ...        ...        ...   \n",
              "5563    2020-08-31           BR  Brazil       AMRO      41350   \n",
              "5564    2020-09-01           BR  Brazil       AMRO      16158   \n",
              "5565    2020-09-02           BR  Brazil       AMRO      45961   \n",
              "5566    2020-09-03           BR  Brazil       AMRO      42659   \n",
              "5567    2020-09-04           BR  Brazil       AMRO      46934   \n",
              "\n",
              "      Cumulative_cases  New_deaths  Cumulative_deaths  \n",
              "5376                 0           0                  0  \n",
              "5377                 1           0                  0  \n",
              "5378                 1           0                  0  \n",
              "5379                 1           0                  0  \n",
              "5380                 1           0                  0  \n",
              "...                ...         ...                ...  \n",
              "5563           3846153         958             120462  \n",
              "5564           3862311         366             120828  \n",
              "5565           3908272         553             121381  \n",
              "5566           3950931        1215             122596  \n",
              "5567           3997865        1184             123780  \n",
              "\n",
              "[192 rows x 8 columns]"
            ]
          },
          "execution_count": 64,
          "metadata": {},
          "output_type": "execute_result"
        }
      ],
      "source": [
        "covid_brasil"
      ]
    },
    {
      "cell_type": "code",
      "execution_count": 65,
      "metadata": {},
      "outputs": [
        {
          "data": {
            "image/png": "[encoded data removed]",
            "text/plain": [
              "<Figure size 640x480 with 1 Axes>"
            ]
          },
          "metadata": {},
          "output_type": "display_data"
        }
      ],
      "source": [
        "plt.scatter(covid_brasil.Date_reported, covid_brasil.Cumulative_cases)\n",
        "plt.title('Número de Casos Acumulados no Brasil')\n",
        "plt.xlabel('Datas')\n",
        "plt.ylabel('Casos')\n",
        "plt.grid(False)\n",
        "\n",
        "plt.xticks(covid_brasil.Date_reported[::60], rotation=45)\n",
        "plt.show()"
      ]
    },
    {
      "cell_type": "code",
      "execution_count": 66,
      "metadata": {
        "id": "p16aNqrS0dID"
      },
      "outputs": [],
      "source": [
        "x = covid_brasil.iloc[:, 0].values  #     Datas        (índice 0)\n",
        "y = covid_brasil.iloc[:, 5].values  # Casos Acumulados (índice 5)"
      ]
    },
    {
      "cell_type": "code",
      "execution_count": 67,
      "metadata": {
        "id": "21RjsbfT0h2c"
      },
      "outputs": [
        {
          "data": {
            "text/plain": [
              "array(['2020-02-26T00:00:00.000000000', '2020-02-27T00:00:00.000000000',\n",
              "       '2020-02-28T00:00:00.000000000', '2020-02-29T00:00:00.000000000',\n",
              "       '2020-03-01T00:00:00.000000000', '2020-03-02T00:00:00.000000000',\n",
              "       '2020-03-03T00:00:00.000000000', '2020-03-04T00:00:00.000000000',\n",
              "       '2020-03-05T00:00:00.000000000', '2020-03-06T00:00:00.000000000',\n",
              "       '2020-03-07T00:00:00.000000000', '2020-03-08T00:00:00.000000000',\n",
              "       '2020-03-09T00:00:00.000000000', '2020-03-10T00:00:00.000000000',\n",
              "       '2020-03-11T00:00:00.000000000', '2020-03-12T00:00:00.000000000',\n",
              "       '2020-03-13T00:00:00.000000000', '2020-03-14T00:00:00.000000000',\n",
              "       '2020-03-15T00:00:00.000000000', '2020-03-16T00:00:00.000000000',\n",
              "       '2020-03-17T00:00:00.000000000', '2020-03-18T00:00:00.000000000',\n",
              "       '2020-03-19T00:00:00.000000000', '2020-03-20T00:00:00.000000000',\n",
              "       '2020-03-21T00:00:00.000000000', '2020-03-22T00:00:00.000000000',\n",
              "       '2020-03-23T00:00:00.000000000', '2020-03-24T00:00:00.000000000',\n",
              "       '2020-03-25T00:00:00.000000000', '2020-03-26T00:00:00.000000000',\n",
              "       '2020-03-27T00:00:00.000000000', '2020-03-28T00:00:00.000000000',\n",
              "       '2020-03-29T00:00:00.000000000', '2020-03-30T00:00:00.000000000',\n",
              "       '2020-03-31T00:00:00.000000000', '2020-04-01T00:00:00.000000000',\n",
              "       '2020-04-02T00:00:00.000000000', '2020-04-03T00:00:00.000000000',\n",
              "       '2020-04-04T00:00:00.000000000', '2020-04-05T00:00:00.000000000',\n",
              "       '2020-04-06T00:00:00.000000000', '2020-04-07T00:00:00.000000000',\n",
              "       '2020-04-08T00:00:00.000000000', '2020-04-09T00:00:00.000000000',\n",
              "       '2020-04-10T00:00:00.000000000', '2020-04-11T00:00:00.000000000',\n",
              "       '2020-04-12T00:00:00.000000000', '2020-04-13T00:00:00.000000000',\n",
              "       '2020-04-14T00:00:00.000000000', '2020-04-15T00:00:00.000000000',\n",
              "       '2020-04-16T00:00:00.000000000', '2020-04-17T00:00:00.000000000',\n",
              "       '2020-04-18T00:00:00.000000000', '2020-04-19T00:00:00.000000000',\n",
              "       '2020-04-20T00:00:00.000000000', '2020-04-21T00:00:00.000000000',\n",
              "       '2020-04-22T00:00:00.000000000', '2020-04-23T00:00:00.000000000',\n",
              "       '2020-04-24T00:00:00.000000000', '2020-04-25T00:00:00.000000000',\n",
              "       '2020-04-26T00:00:00.000000000', '2020-04-27T00:00:00.000000000',\n",
              "       '2020-04-28T00:00:00.000000000', '2020-04-29T00:00:00.000000000',\n",
              "       '2020-04-30T00:00:00.000000000', '2020-05-01T00:00:00.000000000',\n",
              "       '2020-05-02T00:00:00.000000000', '2020-05-03T00:00:00.000000000',\n",
              "       '2020-05-04T00:00:00.000000000', '2020-05-05T00:00:00.000000000',\n",
              "       '2020-05-06T00:00:00.000000000', '2020-05-07T00:00:00.000000000',\n",
              "       '2020-05-08T00:00:00.000000000', '2020-05-09T00:00:00.000000000',\n",
              "       '2020-05-10T00:00:00.000000000', '2020-05-11T00:00:00.000000000',\n",
              "       '2020-05-12T00:00:00.000000000', '2020-05-13T00:00:00.000000000',\n",
              "       '2020-05-14T00:00:00.000000000', '2020-05-15T00:00:00.000000000',\n",
              "       '2020-05-16T00:00:00.000000000', '2020-05-17T00:00:00.000000000',\n",
              "       '2020-05-18T00:00:00.000000000', '2020-05-19T00:00:00.000000000',\n",
              "       '2020-05-20T00:00:00.000000000', '2020-05-21T00:00:00.000000000',\n",
              "       '2020-05-22T00:00:00.000000000', '2020-05-23T00:00:00.000000000',\n",
              "       '2020-05-24T00:00:00.000000000', '2020-05-25T00:00:00.000000000',\n",
              "       '2020-05-26T00:00:00.000000000', '2020-05-27T00:00:00.000000000',\n",
              "       '2020-05-28T00:00:00.000000000', '2020-05-29T00:00:00.000000000',\n",
              "       '2020-05-30T00:00:00.000000000', '2020-05-31T00:00:00.000000000',\n",
              "       '2020-06-01T00:00:00.000000000', '2020-06-02T00:00:00.000000000',\n",
              "       '2020-06-03T00:00:00.000000000', '2020-06-04T00:00:00.000000000',\n",
              "       '2020-06-05T00:00:00.000000000', '2020-06-06T00:00:00.000000000',\n",
              "       '2020-06-07T00:00:00.000000000', '2020-06-08T00:00:00.000000000',\n",
              "       '2020-06-09T00:00:00.000000000', '2020-06-10T00:00:00.000000000',\n",
              "       '2020-06-11T00:00:00.000000000', '2020-06-12T00:00:00.000000000',\n",
              "       '2020-06-13T00:00:00.000000000', '2020-06-14T00:00:00.000000000',\n",
              "       '2020-06-15T00:00:00.000000000', '2020-06-16T00:00:00.000000000',\n",
              "       '2020-06-17T00:00:00.000000000', '2020-06-18T00:00:00.000000000',\n",
              "       '2020-06-19T00:00:00.000000000', '2020-06-20T00:00:00.000000000',\n",
              "       '2020-06-21T00:00:00.000000000', '2020-06-22T00:00:00.000000000',\n",
              "       '2020-06-23T00:00:00.000000000', '2020-06-24T00:00:00.000000000',\n",
              "       '2020-06-25T00:00:00.000000000', '2020-06-26T00:00:00.000000000',\n",
              "       '2020-06-27T00:00:00.000000000', '2020-06-28T00:00:00.000000000',\n",
              "       '2020-06-29T00:00:00.000000000', '2020-06-30T00:00:00.000000000',\n",
              "       '2020-07-01T00:00:00.000000000', '2020-07-02T00:00:00.000000000',\n",
              "       '2020-07-03T00:00:00.000000000', '2020-07-04T00:00:00.000000000',\n",
              "       '2020-07-05T00:00:00.000000000', '2020-07-06T00:00:00.000000000',\n",
              "       '2020-07-07T00:00:00.000000000', '2020-07-08T00:00:00.000000000',\n",
              "       '2020-07-09T00:00:00.000000000', '2020-07-10T00:00:00.000000000',\n",
              "       '2020-07-11T00:00:00.000000000', '2020-07-12T00:00:00.000000000',\n",
              "       '2020-07-13T00:00:00.000000000', '2020-07-14T00:00:00.000000000',\n",
              "       '2020-07-15T00:00:00.000000000', '2020-07-16T00:00:00.000000000',\n",
              "       '2020-07-17T00:00:00.000000000', '2020-07-18T00:00:00.000000000',\n",
              "       '2020-07-19T00:00:00.000000000', '2020-07-20T00:00:00.000000000',\n",
              "       '2020-07-21T00:00:00.000000000', '2020-07-22T00:00:00.000000000',\n",
              "       '2020-07-23T00:00:00.000000000', '2020-07-24T00:00:00.000000000',\n",
              "       '2020-07-25T00:00:00.000000000', '2020-07-26T00:00:00.000000000',\n",
              "       '2020-07-27T00:00:00.000000000', '2020-07-28T00:00:00.000000000',\n",
              "       '2020-07-29T00:00:00.000000000', '2020-07-30T00:00:00.000000000',\n",
              "       '2020-07-31T00:00:00.000000000', '2020-08-01T00:00:00.000000000',\n",
              "       '2020-08-02T00:00:00.000000000', '2020-08-03T00:00:00.000000000',\n",
              "       '2020-08-04T00:00:00.000000000', '2020-08-05T00:00:00.000000000',\n",
              "       '2020-08-06T00:00:00.000000000', '2020-08-07T00:00:00.000000000',\n",
              "       '2020-08-08T00:00:00.000000000', '2020-08-09T00:00:00.000000000',\n",
              "       '2020-08-10T00:00:00.000000000', '2020-08-11T00:00:00.000000000',\n",
              "       '2020-08-12T00:00:00.000000000', '2020-08-13T00:00:00.000000000',\n",
              "       '2020-08-14T00:00:00.000000000', '2020-08-15T00:00:00.000000000',\n",
              "       '2020-08-16T00:00:00.000000000', '2020-08-17T00:00:00.000000000',\n",
              "       '2020-08-18T00:00:00.000000000', '2020-08-19T00:00:00.000000000',\n",
              "       '2020-08-20T00:00:00.000000000', '2020-08-21T00:00:00.000000000',\n",
              "       '2020-08-22T00:00:00.000000000', '2020-08-23T00:00:00.000000000',\n",
              "       '2020-08-24T00:00:00.000000000', '2020-08-25T00:00:00.000000000',\n",
              "       '2020-08-26T00:00:00.000000000', '2020-08-27T00:00:00.000000000',\n",
              "       '2020-08-28T00:00:00.000000000', '2020-08-29T00:00:00.000000000',\n",
              "       '2020-08-30T00:00:00.000000000', '2020-08-31T00:00:00.000000000',\n",
              "       '2020-09-01T00:00:00.000000000', '2020-09-02T00:00:00.000000000',\n",
              "       '2020-09-03T00:00:00.000000000', '2020-09-04T00:00:00.000000000'],\n",
              "      dtype='datetime64[ns]')"
            ]
          },
          "execution_count": 67,
          "metadata": {},
          "output_type": "execute_result"
        }
      ],
      "source": [
        "x"
      ]
    },
    {
      "cell_type": "code",
      "execution_count": 68,
      "metadata": {
        "id": "S-X9hDI60il8"
      },
      "outputs": [
        {
          "data": {
            "text/plain": [
              "array([[  1],\n",
              "       [  2],\n",
              "       [  3],\n",
              "       [  4],\n",
              "       [  5],\n",
              "       [  6],\n",
              "       [  7],\n",
              "       [  8],\n",
              "       [  9],\n",
              "       [ 10],\n",
              "       [ 11],\n",
              "       [ 12],\n",
              "       [ 13],\n",
              "       [ 14],\n",
              "       [ 15],\n",
              "       [ 16],\n",
              "       [ 17],\n",
              "       [ 18],\n",
              "       [ 19],\n",
              "       [ 20],\n",
              "       [ 21],\n",
              "       [ 22],\n",
              "       [ 23],\n",
              "       [ 24],\n",
              "       [ 25],\n",
              "       [ 26],\n",
              "       [ 27],\n",
              "       [ 28],\n",
              "       [ 29],\n",
              "       [ 30],\n",
              "       [ 31],\n",
              "       [ 32],\n",
              "       [ 33],\n",
              "       [ 34],\n",
              "       [ 35],\n",
              "       [ 36],\n",
              "       [ 37],\n",
              "       [ 38],\n",
              "       [ 39],\n",
              "       [ 40],\n",
              "       [ 41],\n",
              "       [ 42],\n",
              "       [ 43],\n",
              "       [ 44],\n",
              "       [ 45],\n",
              "       [ 46],\n",
              "       [ 47],\n",
              "       [ 48],\n",
              "       [ 49],\n",
              "       [ 50],\n",
              "       [ 51],\n",
              "       [ 52],\n",
              "       [ 53],\n",
              "       [ 54],\n",
              "       [ 55],\n",
              "       [ 56],\n",
              "       [ 57],\n",
              "       [ 58],\n",
              "       [ 59],\n",
              "       [ 60],\n",
              "       [ 61],\n",
              "       [ 62],\n",
              "       [ 63],\n",
              "       [ 64],\n",
              "       [ 65],\n",
              "       [ 66],\n",
              "       [ 67],\n",
              "       [ 68],\n",
              "       [ 69],\n",
              "       [ 70],\n",
              "       [ 71],\n",
              "       [ 72],\n",
              "       [ 73],\n",
              "       [ 74],\n",
              "       [ 75],\n",
              "       [ 76],\n",
              "       [ 77],\n",
              "       [ 78],\n",
              "       [ 79],\n",
              "       [ 80],\n",
              "       [ 81],\n",
              "       [ 82],\n",
              "       [ 83],\n",
              "       [ 84],\n",
              "       [ 85],\n",
              "       [ 86],\n",
              "       [ 87],\n",
              "       [ 88],\n",
              "       [ 89],\n",
              "       [ 90],\n",
              "       [ 91],\n",
              "       [ 92],\n",
              "       [ 93],\n",
              "       [ 94],\n",
              "       [ 95],\n",
              "       [ 96],\n",
              "       [ 97],\n",
              "       [ 98],\n",
              "       [ 99],\n",
              "       [100],\n",
              "       [101],\n",
              "       [102],\n",
              "       [103],\n",
              "       [104],\n",
              "       [105],\n",
              "       [106],\n",
              "       [107],\n",
              "       [108],\n",
              "       [109],\n",
              "       [110],\n",
              "       [111],\n",
              "       [112],\n",
              "       [113],\n",
              "       [114],\n",
              "       [115],\n",
              "       [116],\n",
              "       [117],\n",
              "       [118],\n",
              "       [119],\n",
              "       [120],\n",
              "       [121],\n",
              "       [122],\n",
              "       [123],\n",
              "       [124],\n",
              "       [125],\n",
              "       [126],\n",
              "       [127],\n",
              "       [128],\n",
              "       [129],\n",
              "       [130],\n",
              "       [131],\n",
              "       [132],\n",
              "       [133],\n",
              "       [134],\n",
              "       [135],\n",
              "       [136],\n",
              "       [137],\n",
              "       [138],\n",
              "       [139],\n",
              "       [140],\n",
              "       [141],\n",
              "       [142],\n",
              "       [143],\n",
              "       [144],\n",
              "       [145],\n",
              "       [146],\n",
              "       [147],\n",
              "       [148],\n",
              "       [149],\n",
              "       [150],\n",
              "       [151],\n",
              "       [152],\n",
              "       [153],\n",
              "       [154],\n",
              "       [155],\n",
              "       [156],\n",
              "       [157],\n",
              "       [158],\n",
              "       [159],\n",
              "       [160],\n",
              "       [161],\n",
              "       [162],\n",
              "       [163],\n",
              "       [164],\n",
              "       [165],\n",
              "       [166],\n",
              "       [167],\n",
              "       [168],\n",
              "       [169],\n",
              "       [170],\n",
              "       [171],\n",
              "       [172],\n",
              "       [173],\n",
              "       [174],\n",
              "       [175],\n",
              "       [176],\n",
              "       [177],\n",
              "       [178],\n",
              "       [179],\n",
              "       [180],\n",
              "       [181],\n",
              "       [182],\n",
              "       [183],\n",
              "       [184],\n",
              "       [185],\n",
              "       [186],\n",
              "       [187],\n",
              "       [188],\n",
              "       [189],\n",
              "       [190],\n",
              "       [191],\n",
              "       [192]])"
            ]
          },
          "execution_count": 68,
          "metadata": {},
          "output_type": "execute_result"
        }
      ],
      "source": [
        "# Transformar as datas em sequência numérica (1,2,3,4,...) e em matriz:\n",
        "\n",
        "x = np.arange(1, len(x) + 1).reshape(-1,1)\n",
        "x"
      ]
    },
    {
      "cell_type": "code",
      "execution_count": 69,
      "metadata": {
        "id": "dsWGsHec1B8i"
      },
      "outputs": [
        {
          "data": {
            "text/plain": [
              "array([      0,       1,       1,       1,       1,       2,       2,\n",
              "             2,       2,       3,       8,      13,      19,      25,\n",
              "            25,      34,      60,      77,      84,     121,     200,\n",
              "           234,     291,     428,     428,     904,     904,    1546,\n",
              "          1891,    2201,    2433,    2915,    3417,    3903,    4256,\n",
              "          4579,    5717,    6836,    7910,    9056,   10278,   11130,\n",
              "         12056,   13717,   15927,   17857,   19638,   20727,   22169,\n",
              "         23430,   25262,   28320,   30425,   33682,   36599,   38654,\n",
              "         40581,   43079,   45757,   49492,   52995,   58509,   61888,\n",
              "         66501,   71886,   78162,   85380,   91589,   96559,  101147,\n",
              "        107780,  114715,  125218,  135106,  145328,  155939,  162699,\n",
              "        168331,  177589,  188974,  202918,  218223,  233142,  241080,\n",
              "        254220,  271628,  291579,  310087,  330890,  347398,  363211,\n",
              "        374898,  391222,  411821,  438238,  465166,  498440,  514849,\n",
              "        526447,  555383,  584016,  614941,  645771,  672846,  691758,\n",
              "        707412,  739503,  772416,  802828,  828810,  850514,  867624,\n",
              "        888271,  923189,  955377,  978142, 1032913, 1067579, 1085038,\n",
              "       1106470, 1145906, 1188631, 1228114, 1274974, 1313667, 1344143,\n",
              "       1368195, 1402041, 1448753, 1496858, 1539081, 1577004, 1603055,\n",
              "       1623284, 1668589, 1713160, 1755779, 1800827, 1839850, 1864681,\n",
              "       1884967, 1926824, 1966748, 2012151, 2046328, 2074860, 2098389,\n",
              "       2118646, 2159654, 2227514, 2287475, 2343366, 2394513, 2419091,\n",
              "       2442375, 2483191, 2552265, 2610102, 2662485, 2707877, 2733677,\n",
              "       2750318, 2801921, 2859073, 2912212, 2962442, 3012412, 3035422,\n",
              "       3057470, 3109630, 3164785, 3224876, 3275520, 3317096, 3340197,\n",
              "       3359570, 3407354, 3456652, 3501975, 3532330, 3582362, 3605783,\n",
              "       3622861, 3669995, 3717156, 3761391, 3804803, 3846153, 3862311,\n",
              "       3908272, 3950931, 3997865], dtype=int64)"
            ]
          },
          "execution_count": 69,
          "metadata": {},
          "output_type": "execute_result"
        }
      ],
      "source": [
        "y"
      ]
    },
    {
      "cell_type": "markdown",
      "metadata": {
        "id": "aFl_vFTK2PZh"
      },
      "source": [
        "**Separando base de dados em teste e treinamento**"
      ]
    },
    {
      "cell_type": "code",
      "execution_count": 70,
      "metadata": {
        "id": "BXRwQo2S2PZw"
      },
      "outputs": [],
      "source": [
        "from sklearn.model_selection import train_test_split\n",
        "\n",
        "x_train, x_test, y_train, y_test = train_test_split(x, y, \n",
        "                                                    test_size = 0.25,\n",
        "                                                    shuffle = True,\n",
        "                                                    random_state = 42)"
      ]
    },
    {
      "cell_type": "code",
      "execution_count": 71,
      "metadata": {
        "id": "8cleINQy2s_e"
      },
      "outputs": [
        {
          "data": {
            "text/plain": [
              "144"
            ]
          },
          "execution_count": 71,
          "metadata": {},
          "output_type": "execute_result"
        }
      ],
      "source": [
        "x_train.size"
      ]
    },
    {
      "cell_type": "code",
      "execution_count": 72,
      "metadata": {
        "id": "xYLCanNt2vW2"
      },
      "outputs": [
        {
          "data": {
            "text/plain": [
              "48"
            ]
          },
          "execution_count": 72,
          "metadata": {},
          "output_type": "execute_result"
        }
      ],
      "source": [
        "x_test.size"
      ]
    },
    {
      "cell_type": "code",
      "execution_count": 73,
      "metadata": {
        "id": "CqOcAPn_2yc4"
      },
      "outputs": [
        {
          "data": {
            "text/plain": [
              "144"
            ]
          },
          "execution_count": 73,
          "metadata": {},
          "output_type": "execute_result"
        }
      ],
      "source": [
        "y_train.size"
      ]
    },
    {
      "cell_type": "code",
      "execution_count": 74,
      "metadata": {
        "id": "wzTq_8dj2zlW"
      },
      "outputs": [
        {
          "data": {
            "text/plain": [
              "48"
            ]
          },
          "execution_count": 74,
          "metadata": {},
          "output_type": "execute_result"
        }
      ],
      "source": [
        "y_test.size"
      ]
    },
    {
      "cell_type": "code",
      "execution_count": 75,
      "metadata": {
        "id": "1eNDi0SZ21fW"
      },
      "outputs": [],
      "source": [
        "from sklearn.preprocessing import PolynomialFeatures\n",
        "\n",
        "poly = PolynomialFeatures(degree=2)  # De grau 2\n",
        "x_train_poly = poly.fit_transform(x_train)\n",
        "x_test_poly = poly.transform(x_test)"
      ]
    },
    {
      "cell_type": "code",
      "execution_count": 76,
      "metadata": {
        "id": "0-AZqvHZ3Kyd"
      },
      "outputs": [],
      "source": [
        "regressor = LinearRegression()\n",
        "regressor.fit(x_train_poly, y_train)\n",
        "score = regressor.score(x_train_poly, y_train)"
      ]
    },
    {
      "cell_type": "code",
      "execution_count": 77,
      "metadata": {
        "id": "Q_FD5yAH3iC0"
      },
      "outputs": [
        {
          "data": {
            "text/plain": [
              "144"
            ]
          },
          "execution_count": 77,
          "metadata": {},
          "output_type": "execute_result"
        }
      ],
      "source": [
        "y_train.size"
      ]
    },
    {
      "cell_type": "code",
      "execution_count": 78,
      "metadata": {
        "id": "NR5YFT1G3kVd"
      },
      "outputs": [],
      "source": [
        "previsoes = regressor.predict(x_test_poly)"
      ]
    },
    {
      "cell_type": "code",
      "execution_count": 79,
      "metadata": {
        "id": "Ly3MrjCK3nxG"
      },
      "outputs": [
        {
          "data": {
            "text/plain": [
              "48"
            ]
          },
          "execution_count": 79,
          "metadata": {},
          "output_type": "execute_result"
        }
      ],
      "source": [
        "previsoes.size"
      ]
    },
    {
      "cell_type": "code",
      "execution_count": 80,
      "metadata": {
        "id": "Ux0vP4Ly3q8t"
      },
      "outputs": [],
      "source": [
        "# Criação de uma sequência para previsão:\n",
        "\n",
        "forecast = np.arange(len(x) + 20).reshape(-1,1)  # + 20 é uma previsão de 20 dias a mais"
      ]
    },
    {
      "cell_type": "code",
      "execution_count": 81,
      "metadata": {
        "id": "lGxjeC2j3917"
      },
      "outputs": [
        {
          "data": {
            "text/plain": [
              "(212, 1)"
            ]
          },
          "execution_count": 81,
          "metadata": {},
          "output_type": "execute_result"
        }
      ],
      "source": [
        "forecast.shape"
      ]
    },
    {
      "cell_type": "code",
      "execution_count": 82,
      "metadata": {
        "id": "bFpaxQqx4CmT"
      },
      "outputs": [
        {
          "data": {
            "text/plain": [
              "(212, 3)"
            ]
          },
          "execution_count": 82,
          "metadata": {},
          "output_type": "execute_result"
        }
      ],
      "source": [
        "x_train_total = poly.transform(forecast)\n",
        "x_train_total.shape"
      ]
    },
    {
      "cell_type": "code",
      "execution_count": 83,
      "metadata": {
        "id": "upMNLqec4Oib"
      },
      "outputs": [
        {
          "data": {
            "text/plain": [
              "array([[1.0000e+00, 0.0000e+00, 0.0000e+00],\n",
              "       [1.0000e+00, 1.0000e+00, 1.0000e+00],\n",
              "       [1.0000e+00, 2.0000e+00, 4.0000e+00],\n",
              "       [1.0000e+00, 3.0000e+00, 9.0000e+00],\n",
              "       [1.0000e+00, 4.0000e+00, 1.6000e+01],\n",
              "       [1.0000e+00, 5.0000e+00, 2.5000e+01],\n",
              "       [1.0000e+00, 6.0000e+00, 3.6000e+01],\n",
              "       [1.0000e+00, 7.0000e+00, 4.9000e+01],\n",
              "       [1.0000e+00, 8.0000e+00, 6.4000e+01],\n",
              "       [1.0000e+00, 9.0000e+00, 8.1000e+01],\n",
              "       [1.0000e+00, 1.0000e+01, 1.0000e+02],\n",
              "       [1.0000e+00, 1.1000e+01, 1.2100e+02],\n",
              "       [1.0000e+00, 1.2000e+01, 1.4400e+02],\n",
              "       [1.0000e+00, 1.3000e+01, 1.6900e+02],\n",
              "       [1.0000e+00, 1.4000e+01, 1.9600e+02],\n",
              "       [1.0000e+00, 1.5000e+01, 2.2500e+02],\n",
              "       [1.0000e+00, 1.6000e+01, 2.5600e+02],\n",
              "       [1.0000e+00, 1.7000e+01, 2.8900e+02],\n",
              "       [1.0000e+00, 1.8000e+01, 3.2400e+02],\n",
              "       [1.0000e+00, 1.9000e+01, 3.6100e+02],\n",
              "       [1.0000e+00, 2.0000e+01, 4.0000e+02],\n",
              "       [1.0000e+00, 2.1000e+01, 4.4100e+02],\n",
              "       [1.0000e+00, 2.2000e+01, 4.8400e+02],\n",
              "       [1.0000e+00, 2.3000e+01, 5.2900e+02],\n",
              "       [1.0000e+00, 2.4000e+01, 5.7600e+02],\n",
              "       [1.0000e+00, 2.5000e+01, 6.2500e+02],\n",
              "       [1.0000e+00, 2.6000e+01, 6.7600e+02],\n",
              "       [1.0000e+00, 2.7000e+01, 7.2900e+02],\n",
              "       [1.0000e+00, 2.8000e+01, 7.8400e+02],\n",
              "       [1.0000e+00, 2.9000e+01, 8.4100e+02],\n",
              "       [1.0000e+00, 3.0000e+01, 9.0000e+02],\n",
              "       [1.0000e+00, 3.1000e+01, 9.6100e+02],\n",
              "       [1.0000e+00, 3.2000e+01, 1.0240e+03],\n",
              "       [1.0000e+00, 3.3000e+01, 1.0890e+03],\n",
              "       [1.0000e+00, 3.4000e+01, 1.1560e+03],\n",
              "       [1.0000e+00, 3.5000e+01, 1.2250e+03],\n",
              "       [1.0000e+00, 3.6000e+01, 1.2960e+03],\n",
              "       [1.0000e+00, 3.7000e+01, 1.3690e+03],\n",
              "       [1.0000e+00, 3.8000e+01, 1.4440e+03],\n",
              "       [1.0000e+00, 3.9000e+01, 1.5210e+03],\n",
              "       [1.0000e+00, 4.0000e+01, 1.6000e+03],\n",
              "       [1.0000e+00, 4.1000e+01, 1.6810e+03],\n",
              "       [1.0000e+00, 4.2000e+01, 1.7640e+03],\n",
              "       [1.0000e+00, 4.3000e+01, 1.8490e+03],\n",
              "       [1.0000e+00, 4.4000e+01, 1.9360e+03],\n",
              "       [1.0000e+00, 4.5000e+01, 2.0250e+03],\n",
              "       [1.0000e+00, 4.6000e+01, 2.1160e+03],\n",
              "       [1.0000e+00, 4.7000e+01, 2.2090e+03],\n",
              "       [1.0000e+00, 4.8000e+01, 2.3040e+03],\n",
              "       [1.0000e+00, 4.9000e+01, 2.4010e+03],\n",
              "       [1.0000e+00, 5.0000e+01, 2.5000e+03],\n",
              "       [1.0000e+00, 5.1000e+01, 2.6010e+03],\n",
              "       [1.0000e+00, 5.2000e+01, 2.7040e+03],\n",
              "       [1.0000e+00, 5.3000e+01, 2.8090e+03],\n",
              "       [1.0000e+00, 5.4000e+01, 2.9160e+03],\n",
              "       [1.0000e+00, 5.5000e+01, 3.0250e+03],\n",
              "       [1.0000e+00, 5.6000e+01, 3.1360e+03],\n",
              "       [1.0000e+00, 5.7000e+01, 3.2490e+03],\n",
              "       [1.0000e+00, 5.8000e+01, 3.3640e+03],\n",
              "       [1.0000e+00, 5.9000e+01, 3.4810e+03],\n",
              "       [1.0000e+00, 6.0000e+01, 3.6000e+03],\n",
              "       [1.0000e+00, 6.1000e+01, 3.7210e+03],\n",
              "       [1.0000e+00, 6.2000e+01, 3.8440e+03],\n",
              "       [1.0000e+00, 6.3000e+01, 3.9690e+03],\n",
              "       [1.0000e+00, 6.4000e+01, 4.0960e+03],\n",
              "       [1.0000e+00, 6.5000e+01, 4.2250e+03],\n",
              "       [1.0000e+00, 6.6000e+01, 4.3560e+03],\n",
              "       [1.0000e+00, 6.7000e+01, 4.4890e+03],\n",
              "       [1.0000e+00, 6.8000e+01, 4.6240e+03],\n",
              "       [1.0000e+00, 6.9000e+01, 4.7610e+03],\n",
              "       [1.0000e+00, 7.0000e+01, 4.9000e+03],\n",
              "       [1.0000e+00, 7.1000e+01, 5.0410e+03],\n",
              "       [1.0000e+00, 7.2000e+01, 5.1840e+03],\n",
              "       [1.0000e+00, 7.3000e+01, 5.3290e+03],\n",
              "       [1.0000e+00, 7.4000e+01, 5.4760e+03],\n",
              "       [1.0000e+00, 7.5000e+01, 5.6250e+03],\n",
              "       [1.0000e+00, 7.6000e+01, 5.7760e+03],\n",
              "       [1.0000e+00, 7.7000e+01, 5.9290e+03],\n",
              "       [1.0000e+00, 7.8000e+01, 6.0840e+03],\n",
              "       [1.0000e+00, 7.9000e+01, 6.2410e+03],\n",
              "       [1.0000e+00, 8.0000e+01, 6.4000e+03],\n",
              "       [1.0000e+00, 8.1000e+01, 6.5610e+03],\n",
              "       [1.0000e+00, 8.2000e+01, 6.7240e+03],\n",
              "       [1.0000e+00, 8.3000e+01, 6.8890e+03],\n",
              "       [1.0000e+00, 8.4000e+01, 7.0560e+03],\n",
              "       [1.0000e+00, 8.5000e+01, 7.2250e+03],\n",
              "       [1.0000e+00, 8.6000e+01, 7.3960e+03],\n",
              "       [1.0000e+00, 8.7000e+01, 7.5690e+03],\n",
              "       [1.0000e+00, 8.8000e+01, 7.7440e+03],\n",
              "       [1.0000e+00, 8.9000e+01, 7.9210e+03],\n",
              "       [1.0000e+00, 9.0000e+01, 8.1000e+03],\n",
              "       [1.0000e+00, 9.1000e+01, 8.2810e+03],\n",
              "       [1.0000e+00, 9.2000e+01, 8.4640e+03],\n",
              "       [1.0000e+00, 9.3000e+01, 8.6490e+03],\n",
              "       [1.0000e+00, 9.4000e+01, 8.8360e+03],\n",
              "       [1.0000e+00, 9.5000e+01, 9.0250e+03],\n",
              "       [1.0000e+00, 9.6000e+01, 9.2160e+03],\n",
              "       [1.0000e+00, 9.7000e+01, 9.4090e+03],\n",
              "       [1.0000e+00, 9.8000e+01, 9.6040e+03],\n",
              "       [1.0000e+00, 9.9000e+01, 9.8010e+03],\n",
              "       [1.0000e+00, 1.0000e+02, 1.0000e+04],\n",
              "       [1.0000e+00, 1.0100e+02, 1.0201e+04],\n",
              "       [1.0000e+00, 1.0200e+02, 1.0404e+04],\n",
              "       [1.0000e+00, 1.0300e+02, 1.0609e+04],\n",
              "       [1.0000e+00, 1.0400e+02, 1.0816e+04],\n",
              "       [1.0000e+00, 1.0500e+02, 1.1025e+04],\n",
              "       [1.0000e+00, 1.0600e+02, 1.1236e+04],\n",
              "       [1.0000e+00, 1.0700e+02, 1.1449e+04],\n",
              "       [1.0000e+00, 1.0800e+02, 1.1664e+04],\n",
              "       [1.0000e+00, 1.0900e+02, 1.1881e+04],\n",
              "       [1.0000e+00, 1.1000e+02, 1.2100e+04],\n",
              "       [1.0000e+00, 1.1100e+02, 1.2321e+04],\n",
              "       [1.0000e+00, 1.1200e+02, 1.2544e+04],\n",
              "       [1.0000e+00, 1.1300e+02, 1.2769e+04],\n",
              "       [1.0000e+00, 1.1400e+02, 1.2996e+04],\n",
              "       [1.0000e+00, 1.1500e+02, 1.3225e+04],\n",
              "       [1.0000e+00, 1.1600e+02, 1.3456e+04],\n",
              "       [1.0000e+00, 1.1700e+02, 1.3689e+04],\n",
              "       [1.0000e+00, 1.1800e+02, 1.3924e+04],\n",
              "       [1.0000e+00, 1.1900e+02, 1.4161e+04],\n",
              "       [1.0000e+00, 1.2000e+02, 1.4400e+04],\n",
              "       [1.0000e+00, 1.2100e+02, 1.4641e+04],\n",
              "       [1.0000e+00, 1.2200e+02, 1.4884e+04],\n",
              "       [1.0000e+00, 1.2300e+02, 1.5129e+04],\n",
              "       [1.0000e+00, 1.2400e+02, 1.5376e+04],\n",
              "       [1.0000e+00, 1.2500e+02, 1.5625e+04],\n",
              "       [1.0000e+00, 1.2600e+02, 1.5876e+04],\n",
              "       [1.0000e+00, 1.2700e+02, 1.6129e+04],\n",
              "       [1.0000e+00, 1.2800e+02, 1.6384e+04],\n",
              "       [1.0000e+00, 1.2900e+02, 1.6641e+04],\n",
              "       [1.0000e+00, 1.3000e+02, 1.6900e+04],\n",
              "       [1.0000e+00, 1.3100e+02, 1.7161e+04],\n",
              "       [1.0000e+00, 1.3200e+02, 1.7424e+04],\n",
              "       [1.0000e+00, 1.3300e+02, 1.7689e+04],\n",
              "       [1.0000e+00, 1.3400e+02, 1.7956e+04],\n",
              "       [1.0000e+00, 1.3500e+02, 1.8225e+04],\n",
              "       [1.0000e+00, 1.3600e+02, 1.8496e+04],\n",
              "       [1.0000e+00, 1.3700e+02, 1.8769e+04],\n",
              "       [1.0000e+00, 1.3800e+02, 1.9044e+04],\n",
              "       [1.0000e+00, 1.3900e+02, 1.9321e+04],\n",
              "       [1.0000e+00, 1.4000e+02, 1.9600e+04],\n",
              "       [1.0000e+00, 1.4100e+02, 1.9881e+04],\n",
              "       [1.0000e+00, 1.4200e+02, 2.0164e+04],\n",
              "       [1.0000e+00, 1.4300e+02, 2.0449e+04],\n",
              "       [1.0000e+00, 1.4400e+02, 2.0736e+04],\n",
              "       [1.0000e+00, 1.4500e+02, 2.1025e+04],\n",
              "       [1.0000e+00, 1.4600e+02, 2.1316e+04],\n",
              "       [1.0000e+00, 1.4700e+02, 2.1609e+04],\n",
              "       [1.0000e+00, 1.4800e+02, 2.1904e+04],\n",
              "       [1.0000e+00, 1.4900e+02, 2.2201e+04],\n",
              "       [1.0000e+00, 1.5000e+02, 2.2500e+04],\n",
              "       [1.0000e+00, 1.5100e+02, 2.2801e+04],\n",
              "       [1.0000e+00, 1.5200e+02, 2.3104e+04],\n",
              "       [1.0000e+00, 1.5300e+02, 2.3409e+04],\n",
              "       [1.0000e+00, 1.5400e+02, 2.3716e+04],\n",
              "       [1.0000e+00, 1.5500e+02, 2.4025e+04],\n",
              "       [1.0000e+00, 1.5600e+02, 2.4336e+04],\n",
              "       [1.0000e+00, 1.5700e+02, 2.4649e+04],\n",
              "       [1.0000e+00, 1.5800e+02, 2.4964e+04],\n",
              "       [1.0000e+00, 1.5900e+02, 2.5281e+04],\n",
              "       [1.0000e+00, 1.6000e+02, 2.5600e+04],\n",
              "       [1.0000e+00, 1.6100e+02, 2.5921e+04],\n",
              "       [1.0000e+00, 1.6200e+02, 2.6244e+04],\n",
              "       [1.0000e+00, 1.6300e+02, 2.6569e+04],\n",
              "       [1.0000e+00, 1.6400e+02, 2.6896e+04],\n",
              "       [1.0000e+00, 1.6500e+02, 2.7225e+04],\n",
              "       [1.0000e+00, 1.6600e+02, 2.7556e+04],\n",
              "       [1.0000e+00, 1.6700e+02, 2.7889e+04],\n",
              "       [1.0000e+00, 1.6800e+02, 2.8224e+04],\n",
              "       [1.0000e+00, 1.6900e+02, 2.8561e+04],\n",
              "       [1.0000e+00, 1.7000e+02, 2.8900e+04],\n",
              "       [1.0000e+00, 1.7100e+02, 2.9241e+04],\n",
              "       [1.0000e+00, 1.7200e+02, 2.9584e+04],\n",
              "       [1.0000e+00, 1.7300e+02, 2.9929e+04],\n",
              "       [1.0000e+00, 1.7400e+02, 3.0276e+04],\n",
              "       [1.0000e+00, 1.7500e+02, 3.0625e+04],\n",
              "       [1.0000e+00, 1.7600e+02, 3.0976e+04],\n",
              "       [1.0000e+00, 1.7700e+02, 3.1329e+04],\n",
              "       [1.0000e+00, 1.7800e+02, 3.1684e+04],\n",
              "       [1.0000e+00, 1.7900e+02, 3.2041e+04],\n",
              "       [1.0000e+00, 1.8000e+02, 3.2400e+04],\n",
              "       [1.0000e+00, 1.8100e+02, 3.2761e+04],\n",
              "       [1.0000e+00, 1.8200e+02, 3.3124e+04],\n",
              "       [1.0000e+00, 1.8300e+02, 3.3489e+04],\n",
              "       [1.0000e+00, 1.8400e+02, 3.3856e+04],\n",
              "       [1.0000e+00, 1.8500e+02, 3.4225e+04],\n",
              "       [1.0000e+00, 1.8600e+02, 3.4596e+04],\n",
              "       [1.0000e+00, 1.8700e+02, 3.4969e+04],\n",
              "       [1.0000e+00, 1.8800e+02, 3.5344e+04],\n",
              "       [1.0000e+00, 1.8900e+02, 3.5721e+04],\n",
              "       [1.0000e+00, 1.9000e+02, 3.6100e+04],\n",
              "       [1.0000e+00, 1.9100e+02, 3.6481e+04],\n",
              "       [1.0000e+00, 1.9200e+02, 3.6864e+04],\n",
              "       [1.0000e+00, 1.9300e+02, 3.7249e+04],\n",
              "       [1.0000e+00, 1.9400e+02, 3.7636e+04],\n",
              "       [1.0000e+00, 1.9500e+02, 3.8025e+04],\n",
              "       [1.0000e+00, 1.9600e+02, 3.8416e+04],\n",
              "       [1.0000e+00, 1.9700e+02, 3.8809e+04],\n",
              "       [1.0000e+00, 1.9800e+02, 3.9204e+04],\n",
              "       [1.0000e+00, 1.9900e+02, 3.9601e+04],\n",
              "       [1.0000e+00, 2.0000e+02, 4.0000e+04],\n",
              "       [1.0000e+00, 2.0100e+02, 4.0401e+04],\n",
              "       [1.0000e+00, 2.0200e+02, 4.0804e+04],\n",
              "       [1.0000e+00, 2.0300e+02, 4.1209e+04],\n",
              "       [1.0000e+00, 2.0400e+02, 4.1616e+04],\n",
              "       [1.0000e+00, 2.0500e+02, 4.2025e+04],\n",
              "       [1.0000e+00, 2.0600e+02, 4.2436e+04],\n",
              "       [1.0000e+00, 2.0700e+02, 4.2849e+04],\n",
              "       [1.0000e+00, 2.0800e+02, 4.3264e+04],\n",
              "       [1.0000e+00, 2.0900e+02, 4.3681e+04],\n",
              "       [1.0000e+00, 2.1000e+02, 4.4100e+04],\n",
              "       [1.0000e+00, 2.1100e+02, 4.4521e+04]])"
            ]
          },
          "execution_count": 83,
          "metadata": {},
          "output_type": "execute_result"
        }
      ],
      "source": [
        "x_train_total"
      ]
    },
    {
      "cell_type": "code",
      "execution_count": 84,
      "metadata": {
        "id": "4LKEC4Y24TXT"
      },
      "outputs": [
        {
          "data": {
            "text/plain": [
              "212"
            ]
          },
          "execution_count": 84,
          "metadata": {},
          "output_type": "execute_result"
        }
      ],
      "source": [
        "previsao_total = regressor.predict(x_train_total)\n",
        "len(previsao_total)"
      ]
    },
    {
      "cell_type": "code",
      "execution_count": 85,
      "metadata": {
        "id": "HbCuFcK14Znj"
      },
      "outputs": [
        {
          "data": {
            "text/plain": [
              "array([ 1.46856484e+05,  1.34626539e+05,  1.22742963e+05,  1.11205756e+05,\n",
              "        1.00014919e+05,  8.91704521e+04,  7.86723545e+04,  6.85206264e+04,\n",
              "        5.87152680e+04,  4.92562791e+04,  4.01436598e+04,  3.13774101e+04,\n",
              "        2.29575301e+04,  1.48840196e+04,  7.15687865e+03, -2.23892665e+02,\n",
              "       -7.25829439e+03, -1.39463265e+04, -2.02879891e+04, -2.62832820e+04,\n",
              "       -3.19322054e+04, -3.72347591e+04, -4.21909433e+04, -4.68007579e+04,\n",
              "       -5.10642029e+04, -5.49812783e+04, -5.85519841e+04, -6.17763203e+04,\n",
              "       -6.46542870e+04, -6.71858840e+04, -6.93711115e+04, -7.12099693e+04,\n",
              "       -7.27024576e+04, -7.38485763e+04, -7.46483253e+04, -7.51017048e+04,\n",
              "       -7.52087147e+04, -7.49693550e+04, -7.43836258e+04, -7.34515269e+04,\n",
              "       -7.21730584e+04, -7.05482204e+04, -6.85770127e+04, -6.62594355e+04,\n",
              "       -6.35954886e+04, -6.05851722e+04, -5.72284862e+04, -5.35254306e+04,\n",
              "       -4.94760054e+04, -4.50802106e+04, -4.03380462e+04, -3.52495123e+04,\n",
              "       -2.98146087e+04, -2.40333356e+04, -1.79056928e+04, -1.14316805e+04,\n",
              "       -4.61129856e+03,  2.55545296e+03,  1.00685741e+04,  1.79280648e+04,\n",
              "        2.61339251e+04,  3.46861549e+04,  4.35847544e+04,  5.28297235e+04,\n",
              "        6.24210621e+04,  7.23587704e+04,  8.26428482e+04,  9.32732956e+04,\n",
              "        1.04250113e+05,  1.15573299e+05,  1.27242855e+05,  1.39258781e+05,\n",
              "        1.51621077e+05,  1.64329742e+05,  1.77384776e+05,  1.90786180e+05,\n",
              "        2.04533954e+05,  2.18628097e+05,  2.33068610e+05,  2.47855493e+05,\n",
              "        2.62988745e+05,  2.78468367e+05,  2.94294358e+05,  3.10466719e+05,\n",
              "        3.26985449e+05,  3.43850549e+05,  3.61062019e+05,  3.78619858e+05,\n",
              "        3.96524067e+05,  4.14774646e+05,  4.33371594e+05,  4.52314911e+05,\n",
              "        4.71604599e+05,  4.91240655e+05,  5.11223082e+05,  5.31551878e+05,\n",
              "        5.52227043e+05,  5.73248578e+05,  5.94616483e+05,  6.16330758e+05,\n",
              "        6.38391401e+05,  6.60798415e+05,  6.83551798e+05,  7.06651551e+05,\n",
              "        7.30097673e+05,  7.53890165e+05,  7.78029027e+05,  8.02514258e+05,\n",
              "        8.27345858e+05,  8.52523829e+05,  8.78048168e+05,  9.03918878e+05,\n",
              "        9.30135957e+05,  9.56699406e+05,  9.83609224e+05,  1.01086541e+06,\n",
              "        1.03846797e+06,  1.06641690e+06,  1.09471219e+06,  1.12335386e+06,\n",
              "        1.15234189e+06,  1.18167630e+06,  1.21135707e+06,  1.24138422e+06,\n",
              "        1.27175773e+06,  1.30247762e+06,  1.33354387e+06,  1.36495649e+06,\n",
              "        1.39671549e+06,  1.42882085e+06,  1.46127258e+06,  1.49407068e+06,\n",
              "        1.52721515e+06,  1.56070599e+06,  1.59454320e+06,  1.62872678e+06,\n",
              "        1.66325673e+06,  1.69813305e+06,  1.73335574e+06,  1.76892480e+06,\n",
              "        1.80484022e+06,  1.84110202e+06,  1.87771019e+06,  1.91466472e+06,\n",
              "        1.95196563e+06,  1.98961291e+06,  2.02760655e+06,  2.06594657e+06,\n",
              "        2.10463295e+06,  2.14366570e+06,  2.18304483e+06,  2.22277032e+06,\n",
              "        2.26284218e+06,  2.30326042e+06,  2.34402502e+06,  2.38513599e+06,\n",
              "        2.42659333e+06,  2.46839704e+06,  2.51054712e+06,  2.55304357e+06,\n",
              "        2.59588639e+06,  2.63907558e+06,  2.68261114e+06,  2.72649307e+06,\n",
              "        2.77072136e+06,  2.81529603e+06,  2.86021707e+06,  2.90548447e+06,\n",
              "        2.95109825e+06,  2.99705840e+06,  3.04336491e+06,  3.09001780e+06,\n",
              "        3.13701705e+06,  3.18436268e+06,  3.23205467e+06,  3.28009303e+06,\n",
              "        3.32847776e+06,  3.37720887e+06,  3.42628634e+06,  3.47571018e+06,\n",
              "        3.52548039e+06,  3.57559697e+06,  3.62605992e+06,  3.67686924e+06,\n",
              "        3.72802493e+06,  3.77952699e+06,  3.83137542e+06,  3.88357022e+06,\n",
              "        3.93611139e+06,  3.98899893e+06,  4.04223283e+06,  4.09581311e+06,\n",
              "        4.14973976e+06,  4.20401277e+06,  4.25863216e+06,  4.31359791e+06,\n",
              "        4.36891004e+06,  4.42456853e+06,  4.48057339e+06,  4.53692463e+06,\n",
              "        4.59362223e+06,  4.65066620e+06,  4.70805655e+06,  4.76579326e+06,\n",
              "        4.82387634e+06,  4.88230579e+06,  4.94108161e+06,  5.00020380e+06,\n",
              "        5.05967236e+06,  5.11948729e+06,  5.17964859e+06,  5.24015626e+06])"
            ]
          },
          "execution_count": 85,
          "metadata": {},
          "output_type": "execute_result"
        }
      ],
      "source": [
        "previsao_total"
      ]
    },
    {
      "cell_type": "code",
      "execution_count": 86,
      "metadata": {
        "id": "zRhthpVT4b37"
      },
      "outputs": [
        {
          "data": {
            "image/png": "[encoded data removed]",
            "text/plain": [
              "<Figure size 1000x500 with 1 Axes>"
            ]
          },
          "metadata": {},
          "output_type": "display_data"
        }
      ],
      "source": [
        "plt.subplots(figsize=(10,5))\n",
        "plt.plot(forecast[:-20], y, color='red')\n",
        "plt.plot(forecast, previsao_total, linestyle='dashed')\n",
        "plt.title('Casos de COVID-19 no Brasil')\n",
        "plt.xlabel('A partir de 03/01/2020')\n",
        "plt.ylabel('Número de Casos')\n",
        "plt.legend(['Casos Acumulados', 'Previsão']);"
      ]
    },
    {
      "cell_type": "markdown",
      "metadata": {
        "id": "mY4ki9O75nNQ"
      },
      "source": [
        "#### **Métricas de Desempenho**"
      ]
    },
    {
      "cell_type": "code",
      "execution_count": 87,
      "metadata": {
        "id": "gygmIiZ56d2e"
      },
      "outputs": [
        {
          "data": {
            "text/plain": [
              "0.9972592722790166"
            ]
          },
          "execution_count": 87,
          "metadata": {},
          "output_type": "execute_result"
        }
      ],
      "source": [
        "# Coeficiente de Determinação (R^2)\n",
        "\n",
        "score"
      ]
    },
    {
      "cell_type": "code",
      "execution_count": 88,
      "metadata": {
        "id": "jHX_leX05qDZ"
      },
      "outputs": [],
      "source": [
        "poly_teste_pred = regressor.predict(x_test_poly)"
      ]
    },
    {
      "cell_type": "code",
      "execution_count": 89,
      "metadata": {
        "id": "91_InuMs6W1v"
      },
      "outputs": [
        {
          "name": "stdout",
          "output_type": "stream",
          "text": [
            "Erro Médio Absoluto (MAE): 55345.64849186848\n",
            "Erro Quadrático Médio (MSE): 3765553025.47529\n",
            "Raiz do Erro Quadrático Médio (RMSE): 61364.10209133097\n"
          ]
        }
      ],
      "source": [
        "from sklearn.metrics import mean_absolute_error, mean_squared_error\n",
        "\n",
        "print(f'Erro Médio Absoluto (MAE): {mean_absolute_error(poly_teste_pred, y_test)}')\n",
        "print(f'Erro Quadrático Médio (MSE): {mean_squared_error(poly_teste_pred, y_test)}')\n",
        "print(f'Raiz do Erro Quadrático Médio (RMSE): {np.sqrt(mean_squared_error(poly_teste_pred, y_test))}')"
      ]
    }
  ],
  "metadata": {
    "colab": {
      "collapsed_sections": [],
      "name": "Seção 6 - COVID-19 Mundial - Projeto 3",
      "provenance": []
    },
    "kernelspec": {
      "display_name": "Python 3",
      "name": "python3"
    },
    "language_info": {
      "codemirror_mode": {
        "name": "ipython",
        "version": 3
      },
      "file_extension": ".py",
      "mimetype": "text/x-python",
      "name": "python",
      "nbconvert_exporter": "python",
      "pygments_lexer": "ipython3",
      "version": "3.10.7"
    }
  },
  "nbformat": 4,
  "nbformat_minor": 0
}
